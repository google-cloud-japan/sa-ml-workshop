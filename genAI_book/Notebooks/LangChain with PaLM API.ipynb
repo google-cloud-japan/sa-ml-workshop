{
 "cells": [
  {
   "cell_type": "markdown",
   "id": "62b96822-95e0-44c0-9824-63a43bbfdf35",
   "metadata": {},
   "source": [
    "# LangChain と Gemini API を組み合わせて利用する例"
   ]
  },
  {
   "cell_type": "markdown",
   "id": "9a2b73b9-1dd6-4c1d-95ea-5ff200cde0f4",
   "metadata": {},
   "source": [
    "LangChain のパッケージをインストールします。"
   ]
  },
  {
   "cell_type": "code",
   "execution_count": null,
   "id": "b5f34131-bd6e-4ec1-9ce7-9e4812648df6",
   "metadata": {
    "tags": []
   },
   "outputs": [],
   "source": [
    "!pip install --user \\\n",
    "  langchain==0.3.27 langchain-google-vertexai==2.0.28 \\\n",
    "  google-cloud-aiplatform==1.111.0"
   ]
  },
  {
   "cell_type": "markdown",
   "id": "0fc05b1f-f1b7-411e-99c5-f17c4ec53517",
   "metadata": {},
   "source": [
    "**注意：次のセルを実行する前にカーネルをリスタートしてください。**"
   ]
  },
  {
   "cell_type": "markdown",
   "id": "fa10fb52-1932-4c3d-b1c8-6d13edafd676",
   "metadata": {},
   "source": [
    "## LangChain を用いて、基本的なパイプラインを実行する例"
   ]
  },
  {
   "cell_type": "markdown",
   "id": "37b5c186-5773-4337-a387-1893af6bea5e",
   "metadata": {},
   "source": [
    "新製品の説明文から商品名のアイデアを3つ出してもらうためのプロンプトを定義します。"
   ]
  },
  {
   "cell_type": "code",
   "execution_count": 1,
   "id": "58eb51c9-b721-4f09-a174-ee6f56be6e26",
   "metadata": {
    "tags": []
   },
   "outputs": [],
   "source": [
    "from langchain import PromptTemplate\n",
    "\n",
    "template = \"\"\"\\\n",
    "あなたは新製品の名前を考えるのが専門のコピーライターです。\n",
    "新製品の印象的な名前の案を３つ考えてください。\n",
    "３つの名前をカンマ（,）区切りのリストで出力してください。\n",
    "既存の特定の商品名は含めないでください。\n",
    "\n",
    "次は製品の説明と出力の例です。\n",
    "製品の説明: 子供向けの可愛いクレヨンセット\n",
    "クレヨンキッズ, クレヨンファン, クレヨンワールド\n",
    "\n",
    "次の製品名を考えてください。\n",
    "製品の説明：{description}\n",
    "\"\"\"\n",
    "\n",
    "prompt = PromptTemplate(template=template, input_variables=['description'])"
   ]
  },
  {
   "cell_type": "markdown",
   "id": "afcf3109-47db-4a21-833d-4dc3ea76dfa7",
   "metadata": {},
   "source": [
    "テンプレートに対して、動的に文字列を埋め込むことができます。"
   ]
  },
  {
   "cell_type": "code",
   "execution_count": 2,
   "id": "16eb8bc2-537c-49f8-a21f-977b5bb92622",
   "metadata": {
    "tags": []
   },
   "outputs": [
    {
     "name": "stdout",
     "output_type": "stream",
     "text": [
      "あなたは新製品の名前を考えるのが専門のコピーライターです。\n",
      "新製品の印象的な名前の案を３つ考えてください。\n",
      "３つの名前をカンマ（,）区切りのリストで出力してください。\n",
      "既存の特定の商品名は含めないでください。\n",
      "\n",
      "次は製品の説明と出力の例です。\n",
      "製品の説明: 子供向けの可愛いクレヨンセット\n",
      "クレヨンキッズ, クレヨンファン, クレヨンワールド\n",
      "\n",
      "次の製品名を考えてください。\n",
      "製品の説明：若者向けのスマホケース\n",
      "\n"
     ]
    }
   ],
   "source": [
    "print(prompt.format(description='若者向けのスマホケース'))"
   ]
  },
  {
   "cell_type": "markdown",
   "id": "34dbf69a-c098-4d34-addb-6a3af8ae86e2",
   "metadata": {},
   "source": [
    "LangChain のパイプラインから PaLM API を呼び出すクライアントオブジェクトを取得します。"
   ]
  },
  {
   "cell_type": "code",
   "execution_count": 3,
   "id": "ea8bb4ee-c148-464e-ab71-b77f1c4e3acb",
   "metadata": {
    "tags": []
   },
   "outputs": [],
   "source": [
    "from langchain_google_vertexai import VertexAI\n",
    "llm = VertexAI(model_name='gemini-2.5-flash-lite', location='us-central1',\n",
    "               temperature=0.4, max_output_tokens=128)"
   ]
  },
  {
   "cell_type": "markdown",
   "id": "946ca43e-5384-4f7d-8f2a-72f5872351ea",
   "metadata": {},
   "source": [
    "パイプラインを定義して実行します。"
   ]
  },
  {
   "cell_type": "code",
   "execution_count": 4,
   "id": "df6ac014-e0fc-4276-b2af-a063c9faaa78",
   "metadata": {
    "tags": []
   },
   "outputs": [
    {
     "name": "stderr",
     "output_type": "stream",
     "text": [
      "/var/tmp/ipykernel_36167/823977804.py:2: LangChainDeprecationWarning: The class `LLMChain` was deprecated in LangChain 0.1.17 and will be removed in 1.0. Use :meth:`~RunnableSequence, e.g., `prompt | llm`` instead.\n",
      "  llm_chain = LLMChain(prompt=prompt, llm=llm)\n"
     ]
    }
   ],
   "source": [
    "from langchain import LLMChain\n",
    "llm_chain = LLMChain(prompt=prompt, llm=llm)"
   ]
  },
  {
   "cell_type": "code",
   "execution_count": 5,
   "id": "0a0b1c63-d732-48c8-8569-078f08ec62ba",
   "metadata": {
    "tags": []
   },
   "outputs": [
    {
     "name": "stdout",
     "output_type": "stream",
     "text": [
      "{'description': '若者向けの軽くてカラフルなスマホケース', 'text': 'カラフルポップ, スマホブライト, カラースナップ'}\n"
     ]
    }
   ],
   "source": [
    "description = '若者向けの軽くてカラフルなスマホケース'\n",
    "output = llm_chain.invoke({'description': description})\n",
    "print(output)"
   ]
  },
  {
   "cell_type": "markdown",
   "id": "4c7ef2c5-5c64-42fa-b8ae-2c80509a9ec4",
   "metadata": {},
   "source": [
    "得られた結果を Python のリストに変換します。"
   ]
  },
  {
   "cell_type": "code",
   "execution_count": 6,
   "id": "8cffb834-9244-48ae-8c64-d351e7ab8095",
   "metadata": {
    "tags": []
   },
   "outputs": [],
   "source": [
    "from langchain.output_parsers import CommaSeparatedListOutputParser\n",
    "output_parser = CommaSeparatedListOutputParser()"
   ]
  },
  {
   "cell_type": "code",
   "execution_count": 7,
   "id": "c64b40f9-fabf-415d-ad9d-e72b5725c8f0",
   "metadata": {
    "tags": []
   },
   "outputs": [
    {
     "data": {
      "text/plain": [
       "['カラフルポップ', 'スマホブライト', 'カラースナップ']"
      ]
     },
     "execution_count": 7,
     "metadata": {},
     "output_type": "execute_result"
    }
   ],
   "source": [
    "output_parser.parse(output['text'])"
   ]
  },
  {
   "cell_type": "markdown",
   "id": "815f2267-d146-452b-b848-cf7e3d916ad4",
   "metadata": {},
   "source": [
    "## pydantic を利用して、LLM からの応答をオブジェクトに変換する例"
   ]
  },
  {
   "cell_type": "markdown",
   "id": "446ec808-0f4c-49db-ae8d-5431407c812b",
   "metadata": {},
   "source": [
    "言語モデルからの応答を格納するオブジェクトを定義して、対応するパーサーを生成します。"
   ]
  },
  {
   "cell_type": "code",
   "execution_count": 8,
   "id": "f88b0237-1741-43d4-bba6-35031ae48261",
   "metadata": {
    "tags": []
   },
   "outputs": [],
   "source": [
    "from pydantic import BaseModel, Field\n",
    "\n",
    "class ProductNames(BaseModel):\n",
    "    setup: str = Field(description='product description')\n",
    "    product_name1: str = Field(description='product name 1')\n",
    "    product_name2: str = Field(description='product name 2')\n",
    "    product_name3: str = Field(description='product name 3')"
   ]
  },
  {
   "cell_type": "code",
   "execution_count": 9,
   "id": "96630fd8-000b-4302-8884-645bb3a344f3",
   "metadata": {
    "tags": []
   },
   "outputs": [],
   "source": [
    "from langchain.output_parsers import PydanticOutputParser\n",
    "parser = PydanticOutputParser(pydantic_object=ProductNames)"
   ]
  },
  {
   "cell_type": "markdown",
   "id": "bedbd984-396a-4974-9433-792cfff1044a",
   "metadata": {},
   "source": [
    "このパーサーは、指定のオブジェクトに対応した JSON 形式で応答を得るためのインストラクションが生成できます。"
   ]
  },
  {
   "cell_type": "code",
   "execution_count": 10,
   "id": "4c7dd877-f461-450e-b81c-c45bf66db058",
   "metadata": {
    "tags": []
   },
   "outputs": [
    {
     "name": "stdout",
     "output_type": "stream",
     "text": [
      "The output should be formatted as a JSON instance that conforms to the JSON schema below.\n",
      "\n",
      "As an example, for the schema {\"properties\": {\"foo\": {\"title\": \"Foo\", \"description\": \"a list of strings\", \"type\": \"array\", \"items\": {\"type\": \"string\"}}}, \"required\": [\"foo\"]}\n",
      "the object {\"foo\": [\"bar\", \"baz\"]} is a well-formatted instance of the schema. The object {\"properties\": {\"foo\": [\"bar\", \"baz\"]}} is not well-formatted.\n",
      "\n",
      "Here is the output schema:\n",
      "```\n",
      "{\"properties\": {\"setup\": {\"description\": \"product description\", \"title\": \"Setup\", \"type\": \"string\"}, \"product_name1\": {\"description\": \"product name 1\", \"title\": \"Product Name1\", \"type\": \"string\"}, \"product_name2\": {\"description\": \"product name 2\", \"title\": \"Product Name2\", \"type\": \"string\"}, \"product_name3\": {\"description\": \"product name 3\", \"title\": \"Product Name3\", \"type\": \"string\"}}, \"required\": [\"setup\", \"product_name1\", \"product_name2\", \"product_name3\"]}\n",
      "```\n"
     ]
    }
   ],
   "source": [
    "print(parser.get_format_instructions())"
   ]
  },
  {
   "cell_type": "markdown",
   "id": "59769f8d-1b1b-443b-8569-d609c2410f28",
   "metadata": {},
   "source": [
    "パーサーが生成するインストラクションを含んだプロンプトを定義した後、パイプラインを再構成します。"
   ]
  },
  {
   "cell_type": "code",
   "execution_count": 11,
   "id": "988eaea3-4d95-45f1-ba1a-5baa8abe3778",
   "metadata": {
    "tags": []
   },
   "outputs": [],
   "source": [
    "template=\"\"\"\\\n",
    "あなたは新製品の名前を考えるのが専門のコピーライターです。\n",
    "新製品の印象的な名前の案を３つ考えてください。\n",
    "既存の特定の商品名は含めないでください。\n",
    "\n",
    "出力形式: {format_instructions}\n",
    "\n",
    "製品の説明: {description}\n",
    "\"\"\"\n",
    "\n",
    "prompt = PromptTemplate(\n",
    "    template=template,\n",
    "    input_variables=['description'],\n",
    "    partial_variables={\n",
    "        'format_instructions': parser.get_format_instructions()}\n",
    ")\n",
    "\n",
    "llm_chain = LLMChain(prompt=prompt, llm=llm)"
   ]
  },
  {
   "cell_type": "markdown",
   "id": "0427f3c5-714c-4238-96cf-9bd03d5bdca8",
   "metadata": {},
   "source": [
    "パイプラインを実行して、得られた結果を ProductNames オブジェクトに変換します。"
   ]
  },
  {
   "cell_type": "code",
   "execution_count": 12,
   "id": "1404ed32-4c2d-4961-87c8-acaec2d3f400",
   "metadata": {
    "tags": []
   },
   "outputs": [
    {
     "data": {
      "text/plain": [
       "ProductNames(setup='象が踏んでも壊れないスマホケース', product_name1='エレファントシールド', product_name2='タイタンガード', product_name3='フォートレスシェル')"
      ]
     },
     "execution_count": 12,
     "metadata": {},
     "output_type": "execute_result"
    }
   ],
   "source": [
    "description = '象が踏んでも壊れないスマホケース'\n",
    "output = llm_chain.invoke({'description': description})\n",
    "parser.parse(output['text'])"
   ]
  },
  {
   "cell_type": "markdown",
   "id": "5b86d4db-824b-4a22-8ba7-df702fe90bda",
   "metadata": {},
   "source": [
    "## パーサーを含んだパイプラインを定義する例"
   ]
  },
  {
   "cell_type": "markdown",
   "id": "3bb2e8c2-27f8-45e9-8f28-2e5e1fb4f24b",
   "metadata": {},
   "source": [
    "TransformChain と SequentialChain を使用すると、パーサーを含んだ一連の処理をまとめてパイプラインとして定義できます。"
   ]
  },
  {
   "cell_type": "code",
   "execution_count": 13,
   "id": "d295b947-e794-4899-b772-e3cec4434a73",
   "metadata": {
    "tags": []
   },
   "outputs": [],
   "source": [
    "from langchain.chains import TransformChain, SequentialChain\n",
    "\n",
    "llm_chain = LLMChain(prompt=prompt, llm=llm, output_key='json_string')\n",
    "\n",
    "def parse_output(inputs):\n",
    "    text = inputs['json_string']\n",
    "    return {'result': parser.parse(text)}\n",
    "\n",
    "transform_chain = TransformChain(\n",
    "    input_variables=['json_string'],\n",
    "    output_variables=['result'],\n",
    "    transform=parse_output\n",
    ")\n",
    "\n",
    "chain = SequentialChain(\n",
    "    input_variables=['description'],\n",
    "    output_variables=['result'],\n",
    "    chains=[llm_chain, transform_chain],\n",
    ")"
   ]
  },
  {
   "cell_type": "code",
   "execution_count": 14,
   "id": "e22408f0-bbf3-4bc2-9b36-6f58a3b88539",
   "metadata": {
    "tags": []
   },
   "outputs": [
    {
     "data": {
      "text/plain": [
       "ProductNames(setup='象が踏んでも壊れないスマホケース', product_name1='タイタンシールド', product_name2='エレファントプルーフ', product_name3='インビンシブルシェル')"
      ]
     },
     "execution_count": 14,
     "metadata": {},
     "output_type": "execute_result"
    }
   ],
   "source": [
    "description = '象が踏んでも壊れないスマホケース'\n",
    "output = chain.invoke({'description': description})\n",
    "output['result']"
   ]
  }
 ],
 "metadata": {
  "environment": {
   "kernel": "conda-base-py",
   "name": "workbench-notebooks.m132",
   "type": "gcloud",
   "uri": "us-docker.pkg.dev/deeplearning-platform-release/gcr.io/workbench-notebooks:m132"
  },
  "kernelspec": {
   "display_name": "Python 3 (ipykernel) (Local)",
   "language": "python",
   "name": "conda-base-py"
  },
  "language_info": {
   "codemirror_mode": {
    "name": "ipython",
    "version": 3
   },
   "file_extension": ".py",
   "mimetype": "text/x-python",
   "name": "python",
   "nbconvert_exporter": "python",
   "pygments_lexer": "ipython3",
   "version": "3.10.18"
  }
 },
 "nbformat": 4,
 "nbformat_minor": 5
}
