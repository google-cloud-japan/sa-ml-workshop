{
 "cells": [
  {
   "cell_type": "markdown",
   "id": "bd53f603-9fe1-404a-86be-1b5071811af2",
   "metadata": {},
   "source": [
    "# Gemini API を英語の学習に役立てる例"
   ]
  },
  {
   "cell_type": "markdown",
   "id": "f8436131-7335-457d-9a92-8ff352137687",
   "metadata": {},
   "source": [
    "言語モデルの応答を得る関数 `get_response()` を定義します。"
   ]
  },
  {
   "cell_type": "code",
   "execution_count": 1,
   "id": "fa562e9a-460b-47ef-a0b7-fed5d52d84ae",
   "metadata": {
    "tags": []
   },
   "outputs": [],
   "source": [
    "import vertexai\n",
    "from google import genai\n",
    "\n",
    "vertexai.init(location='asia-northeast1')\n",
    "[PROJECT_ID] = !gcloud config list --format 'value(core.project)'\n",
    "client = genai.Client(vertexai=True, project=PROJECT_ID, location='us-central1')\n",
    "\n",
    "def get_response(prompt, temperature=0.2):\n",
    "    response = client.models.generate_content(\n",
    "        model='gemini-2.5-flash-lite',\n",
    "        contents=prompt,\n",
    "        config=genai.types.GenerateContentConfig(\n",
    "            temperature=temperature, max_output_tokens=65535\n",
    "        )\n",
    "    )\n",
    "    return response.candidates[0].content.parts[-1].text"
   ]
  },
  {
   "cell_type": "markdown",
   "id": "df7cc655-3104-4878-b7ef-5d3c23c2aff8",
   "metadata": {},
   "source": [
    "英文の誤りを訂正して、正しい文法で書き直します。"
   ]
  },
  {
   "cell_type": "code",
   "execution_count": 2,
   "id": "22db5c6a-b695-4e61-80b4-54642a785fce",
   "metadata": {
    "tags": []
   },
   "outputs": [
    {
     "name": "stdout",
     "output_type": "stream",
     "text": [
      "I went to school yesterday. I ate an apple for lunch. I like eating apples.\n"
     ]
    }
   ],
   "source": [
    "prompt = '''\\\n",
    "「text:」以下の英文を正しい英文法の文章に書き直してください。\n",
    "書き直した文章のみを出力すること。\n",
    "\n",
    "text: I go to school yesterday. I eat apple lunch. I like eat apple.\n",
    "'''\n",
    "print(get_response(prompt))"
   ]
  },
  {
   "cell_type": "markdown",
   "id": "c7be097f-7fe1-45d5-803b-37b90d85fcdf",
   "metadata": {},
   "source": [
    "より洗練された表現の例を教えてもらいます。"
   ]
  },
  {
   "cell_type": "code",
   "execution_count": 3,
   "id": "f24dc158-ca23-474e-8009-2444ba94e278",
   "metadata": {
    "tags": []
   },
   "outputs": [
    {
     "name": "stdout",
     "output_type": "stream",
     "text": [
      "はい、承知いたしました。「text:」以下の英文をより自然で洗練された英文に書き直した例を３つ示します。\n",
      "\n",
      "**元の英文:**\n",
      "I go to school yesterday. I eat apple lunch. I like eat apple.\n",
      "\n",
      "---\n",
      "\n",
      "**書き直し例 1 (シンプルで自然な表現):**\n",
      "\n",
      "> Yesterday, I went to school. For lunch, I ate an apple. I really like apples.\n",
      "\n",
      "**ポイント:**\n",
      "*   \"go to school yesterday\" を過去形 \"went to school\" に修正。\n",
      "*   \"I eat apple lunch\" をより自然な \"For lunch, I ate an apple.\" に修正。\n",
      "*   \"I like eat apple\" を \"I really like apples.\" に修正し、複数形にすることで一般的な好みを表現。\n",
      "\n",
      "---\n",
      "\n",
      "**書き直し例 2 (少し丁寧で詳細な表現):**\n",
      "\n",
      "> I attended school yesterday. My lunch consisted of an apple, which I enjoyed very much. I have a fondness for apples.\n",
      "\n",
      "**ポイント:**\n",
      "*   \"go to school\" をよりフォーマルな \"attended school\" に変更。\n",
      "*   \"I eat apple lunch\" を \"My lunch consisted of an apple\" と表現し、より詳細に。\n",
      "*   \"I like eat apple\" を \"which I enjoyed very much\" と「食べたリンゴ」に言及し、さらに \"I have a fondness for apples.\" とすることで、リンゴ全般への好みを洗練された表現で示唆。\n",
      "\n",
      "---\n",
      "\n",
      "**書き直し例 3 (より簡潔でリズムの良い表現):**\n",
      "\n",
      "> I was at school yesterday. I had an apple for lunch, and I love apples.\n",
      "\n",
      "**ポイント:**\n",
      "*   \"I go to school yesterday\" を \"I was at school yesterday\" とすることで、過去の状況を簡潔に表現。\n",
      "*   \"I eat apple lunch\" を \"I had an apple for lunch\" と自然な表現に。\n",
      "*   \"I like eat apple\" を \"and I love apples.\" と、より強い好みを簡潔に表現。\n",
      "\n",
      "---\n",
      "\n",
      "これらの例は、文脈や伝えたいニュアンスによって使い分けることができます。\n"
     ]
    }
   ],
   "source": [
    "prompt = '''\\\n",
    "「text:」以下の英文をより自然で洗練された英文に書き直した例を３つ示してください。\n",
    "\n",
    "text: I go to school yesterday. I eat apple lunch. I like eat apple.\n",
    "'''\n",
    "print(get_response(prompt))"
   ]
  },
  {
   "cell_type": "markdown",
   "id": "f80b2829-1f39-4d67-a004-0455200e8088",
   "metadata": {},
   "source": [
    "回答例を示すことで、回答のフォーマットを固定します。"
   ]
  },
  {
   "cell_type": "code",
   "execution_count": 4,
   "id": "b5ed7a2b-af1a-4427-b780-e87c81d671f0",
   "metadata": {
    "tags": []
   },
   "outputs": [
    {
     "name": "stdout",
     "output_type": "stream",
     "text": [
      "- How are you? I sent you a picture yesterday. It's funny, and I think you'll like it.\n",
      "- How are you doing? I sent a picture yesterday. It’s hilarious, and I’m sure you’ll enjoy it.\n",
      "- How are you? I sent you a picture yesterday that I think you'll find quite amusing.\n"
     ]
    }
   ],
   "source": [
    "prompt = '''\\\n",
    "「text:」以下の英文をより自然で洗練された英文に書き直した例を３つ示してください。書き直した文章のみを出力すること。\n",
    "\n",
    "text: I went to school yesterday. I ate an apple for lunch. I like eat apple.\n",
    "answer:\n",
    "- I went to school yesterday. I had an apple for lunch. I love apples.\n",
    "- Yesterday, I went to school. I had an apple for lunch. I really enjoy eating apples.\n",
    "- Yesterday, I went to school. I had an apple for lunch. Apples are my favorite fruit.\n",
    "\n",
    "次が本当の質問です。これに回答してください。\n",
    "text: How are you? I send picture yesterday. It's funny and you like it.\n",
    "answer:\n",
    "'''\n",
    "print(get_response(prompt, temperature=0.4))"
   ]
  }
 ],
 "metadata": {
  "environment": {
   "kernel": "conda-base-py",
   "name": "workbench-notebooks.m132",
   "type": "gcloud",
   "uri": "us-docker.pkg.dev/deeplearning-platform-release/gcr.io/workbench-notebooks:m132"
  },
  "kernelspec": {
   "display_name": "Python 3 (ipykernel) (Local)",
   "language": "python",
   "name": "conda-base-py"
  },
  "language_info": {
   "codemirror_mode": {
    "name": "ipython",
    "version": 3
   },
   "file_extension": ".py",
   "mimetype": "text/x-python",
   "name": "python",
   "nbconvert_exporter": "python",
   "pygments_lexer": "ipython3",
   "version": "3.10.18"
  }
 },
 "nbformat": 4,
 "nbformat_minor": 5
}
