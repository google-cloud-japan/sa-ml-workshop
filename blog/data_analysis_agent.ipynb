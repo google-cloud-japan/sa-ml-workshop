{
 "cells": [
  {
   "cell_type": "markdown",
   "id": "fc524ffe-664c-442c-841b-b8c4bc877a37",
   "metadata": {
    "tags": []
   },
   "source": [
    "# テーブルスキーマを検索して、BQ からデータを取得するエージェントの例"
   ]
  },
  {
   "cell_type": "markdown",
   "id": "0776fa6e-c012-4519-acdf-134e0c97be99",
   "metadata": {
    "tags": []
   },
   "source": [
    "## 事前準備"
   ]
  },
  {
   "cell_type": "code",
   "execution_count": 1,
   "id": "fd9eb61b-d175-4aa0-8023-65e1c1a99c8a",
   "metadata": {
    "tags": []
   },
   "outputs": [],
   "source": [
    "import copy, datetime, json, os, pprint, time, uuid\n",
    "import vertexai\n",
    "from google.genai.types import Part, Content\n",
    "from google.adk.agents.llm_agent import LlmAgent\n",
    "from google.adk.artifacts import InMemoryArtifactService\n",
    "from google.adk.memory.in_memory_memory_service import InMemoryMemoryService\n",
    "from google.adk.sessions import InMemorySessionService\n",
    "from google.adk.runners import Runner\n",
    "from google import genai\n",
    "from google.genai.types import (\n",
    "    HttpOptions, GenerateContentConfig, Part, Content\n",
    ")\n",
    "from google.cloud import bigquery\n",
    "\n",
    "[PROJECT_ID] = !gcloud config list --format 'value(core.project)'\n",
    "LOCATION = 'us-central1'\n",
    "vertexai.init(\n",
    "    project=PROJECT_ID, location=LOCATION,\n",
    "    staging_bucket=f'gs://{PROJECT_ID}'\n",
    ")\n",
    "os.environ['GOOGLE_CLOUD_PROJECT'] = PROJECT_ID\n",
    "os.environ['GOOGLE_CLOUD_LOCATION'] = LOCATION\n",
    "os.environ['GOOGLE_GENAI_USE_VERTEXAI'] = 'True'"
   ]
  },
  {
   "cell_type": "code",
   "execution_count": 2,
   "id": "bffb5b39-2039-4e33-846e-928a6f057b48",
   "metadata": {
    "tags": []
   },
   "outputs": [],
   "source": [
    "def generate_response(system_instruction, contents,\n",
    "                      model='gemini-2.5-flash'):\n",
    "    client = genai.Client(vertexai=True,\n",
    "                          project=PROJECT_ID, location=LOCATION,\n",
    "                          http_options=HttpOptions(api_version='v1'))\n",
    "    response = client.models.generate_content(\n",
    "        model=model,\n",
    "        contents=contents,\n",
    "        config=GenerateContentConfig(\n",
    "            system_instruction=system_instruction,\n",
    "            temperature=0.1,\n",
    "            top_p=0.5,\n",
    "            #response_mime_type='application/json',\n",
    "            #response_schema=response_schema,\n",
    "        )\n",
    "    )\n",
    "    return '\\n'.join(\n",
    "        [p.text for p in response.candidates[0].content.parts if p.text]\n",
    "    )"
   ]
  },
  {
   "cell_type": "code",
   "execution_count": 3,
   "id": "fb232ba1-8460-46cb-86af-0484636713e2",
   "metadata": {
    "tags": []
   },
   "outputs": [],
   "source": [
    "class LocalApp:\n",
    "    def __init__(self, agent, app_name='default_all', user_id='default_user'):\n",
    "        self._agent = agent\n",
    "        self._app_name = app_name\n",
    "        self._user_id = user_id\n",
    "        self._runner = Runner(\n",
    "            app_name=self._app_name,\n",
    "            agent=self._agent,\n",
    "            artifact_service=InMemoryArtifactService(),\n",
    "            session_service=InMemorySessionService(),\n",
    "            memory_service=InMemoryMemoryService(),\n",
    "        )\n",
    "        self._session = None\n",
    "        \n",
    "    async def stream(self, query):\n",
    "        if not self._session:\n",
    "            self._session = await self._runner.session_service.create_session(\n",
    "                app_name=self._app_name,\n",
    "                user_id=self._user_id,\n",
    "                session_id=uuid.uuid4().hex,\n",
    "            )\n",
    "        content = Content(role='user', parts=[Part.from_text(text=query)])\n",
    "        async_events = self._runner.run_async(\n",
    "            user_id=self._user_id,\n",
    "            session_id=self._session.id,\n",
    "            new_message=content,\n",
    "        )\n",
    "        result = []\n",
    "        async for event in async_events:\n",
    "            if DEBUG:\n",
    "                print(f'===\\n{event}\\n===')\n",
    "            if (event.content and event.content.parts):\n",
    "                response = '\\n'.join([p.text for p in event.content.parts if p.text])\n",
    "                if response:\n",
    "                    print(response)\n",
    "                    result.append(response)\n",
    "        return result"
   ]
  },
  {
   "cell_type": "markdown",
   "id": "bb7a277b-cae5-4c58-87e7-68890b3b0ea6",
   "metadata": {
    "tags": []
   },
   "source": [
    "## スキーマデータの準備"
   ]
  },
  {
   "cell_type": "markdown",
   "id": "0c5d99fd-5778-4bb3-b963-0a4fc764f967",
   "metadata": {
    "tags": []
   },
   "source": [
    "### スキーマデータの例\n",
    "\n",
    "本来は Cloud Datastore などの NoSQL DB に保存されている想定ですが、ここでは簡単のために変数 `scheme_data` に辞書形式で保存します。"
   ]
  },
  {
   "cell_type": "code",
   "execution_count": 4,
   "id": "44b9b2a0-4301-4d48-9ab5-8e5950e83a86",
   "metadata": {
    "tags": []
   },
   "outputs": [],
   "source": [
    "schema_data = {\n",
    "    'bigquery-public-data.new_york_taxi_trips.taxi_zone_geom':\n",
    "'''\n",
    "- zone_id : Unique ID number of each taxi zone. Corresponds with the pickup_location_id and dropoff_location_id in each of the trips tables\n",
    "- zone_name : Full text name of the taxi zone\n",
    "''',\n",
    "    'bigquery-public-data.new_york_taxi_trips.tlc_yellow_trips_2022':\n",
    "'''\n",
    "- pickup_datetime : The date and time when the meter was engaged\n",
    "- dropoff_datetime : The date and time when the meter was disengaged\n",
    "- passenger_count : The number of passengers in the vehicle. This is a driver-entered value.\n",
    "- trip_distance : The elapsed trip distance in miles reported by the taximeter.\n",
    "- fare_amount : The time-and-distance fare calculated by the meter\n",
    "- tip_amount : Tip amount. This field is automatically populated for credit card tips. Cash tips are not included.\n",
    "- tolls_amount : Total amount of all tolls paid in trip.\n",
    "- total_amount : The total amount charged to passengers. Does not include cash tips.\n",
    "- pickup_location_id : TLC Taxi Zone in which the taximeter was engaged\n",
    "- dropoff_location_id : TLC Taxi Zone in which the taximeter was disengaged\n",
    "'''\n",
    "}"
   ]
  },
  {
   "cell_type": "markdown",
   "id": "8d372a37-f6f3-494f-928f-b3239bb99ffb",
   "metadata": {},
   "source": [
    "スキーマデータを元に各テーブルの1行サマリーを生成しておきます。これを Agent のプロンプトに与えて、情報を取得するテーブルを選択する参考にさせます。"
   ]
  },
  {
   "cell_type": "code",
   "execution_count": 5,
   "id": "57babd0c-fad0-4432-9ee2-f4a8fb8b171d",
   "metadata": {
    "tags": []
   },
   "outputs": [
    {
     "name": "stdout",
     "output_type": "stream",
     "text": [
      "bigquery-public-data.new_york_taxi_trips.taxi_zone_geom: This table provides a mapping between unique IDs and the full text names of New York City taxi zones, which are referenced in taxi trip data.\n",
      "bigquery-public-data.new_york_taxi_trips.tlc_yellow_trips_2022: This table contains detailed records of New York City yellow taxi trips from 2022, including pickup and dropoff times and locations, trip distance, passenger count, and various fare components like fare, tip, tolls, and total amount.\n",
      "\n"
     ]
    }
   ],
   "source": [
    "system_instruction = '''\n",
    "Given table name and table schema, generate a one-sentence sammary of the table.\n",
    "'''\n",
    "\n",
    "table_info = ''\n",
    "for table_name, table_schema in schema_data.items():\n",
    "    contents = f'''\n",
    "[table name]\n",
    "{table_name}\n",
    "\n",
    "[table schema]\n",
    "{table_schema}\n",
    "'''\n",
    "    summary = generate_response(system_instruction, contents)\n",
    "    table_info += f'{table_name}: {summary}\\n'\n",
    "    \n",
    "print(table_info)"
   ]
  },
  {
   "cell_type": "markdown",
   "id": "f8e291c0-ef8c-4466-994f-98060032f6f8",
   "metadata": {},
   "source": [
    "### ツール関数の定義"
   ]
  },
  {
   "cell_type": "markdown",
   "id": "0732aa81-d036-4ae1-8760-604807ac5e49",
   "metadata": {},
   "source": [
    "NoSQL DB（ここでは先に用意した変数）からテーブルスキーマを取得して返却するツールを定義します。"
   ]
  },
  {
   "cell_type": "code",
   "execution_count": 6,
   "id": "1c9e623e-b90a-4e26-a2f9-ebfaf84dcec5",
   "metadata": {
    "tags": []
   },
   "outputs": [],
   "source": [
    "def table_schema_tool(table_name:str) -> str:\n",
    "    \"\"\"\n",
    "    Return a table schema describing the data stored in table columns.\n",
    "\n",
    "    Args:\n",
    "        table_name: Table name\n",
    "\n",
    "    Returns:\n",
    "        Table schema string\n",
    "    \"\"\"    \n",
    "    if table_name in schema_data.keys():\n",
    "        return schema_data[table_name]\n",
    "    else:\n",
    "        return ''"
   ]
  },
  {
   "cell_type": "markdown",
   "id": "25f957c2-6119-4b1d-9c8d-4c1672c3988c",
   "metadata": {
    "tags": []
   },
   "source": [
    "SQL を用いて BQ からデータを取得するツールを定義します。"
   ]
  },
  {
   "cell_type": "code",
   "execution_count": 7,
   "id": "0cbc14d3-4a6c-4a82-84d5-c5ebe0fd10fb",
   "metadata": {
    "tags": []
   },
   "outputs": [],
   "source": [
    "def bq_tool(query:str) -> str:\n",
    "    \"\"\"\n",
    "    Get factual information from BigQuery using SQL queries.\n",
    "\n",
    "    Args:\n",
    "        query: SQL query in a single line for BigQuery.\n",
    "\n",
    "    Returns:\n",
    "        query result\n",
    "    \"\"\"\n",
    "    \n",
    "    if DEBUG:\n",
    "        print(f'=== query ===\\n{query}\\n=============')\n",
    "    client = bigquery.Client()\n",
    "    query_job = client.query(query)\n",
    "    result = query_job.result()\n",
    "    result = [dict(row) for row in result]\n",
    "    result = [{key: str(value) for key, value in raw.items()} for raw in result]\n",
    "    return json.dumps(result)"
   ]
  },
  {
   "cell_type": "markdown",
   "id": "3fc92a6d-8214-457d-9785-11e8914ab6a9",
   "metadata": {
    "tags": []
   },
   "source": [
    "## エージェント定義"
   ]
  },
  {
   "cell_type": "code",
   "execution_count": 8,
   "id": "27cb6533-7bd7-4abb-8c71-c112ee6915df",
   "metadata": {
    "tags": []
   },
   "outputs": [],
   "source": [
    "instruction = f'''\n",
    "You are a data analytics expert. Work on the following tasks.\n",
    "    \n",
    "[task]\n",
    "Answer the question with the reason based on the data you get from BigQuery.\n",
    "\n",
    "[condition]\n",
    "- Base on the information in [table information], select BQ tables to get factual data.\n",
    "- Use table_schema_tool to get table schema including column definitions to construct SQL query.\n",
    "- Use bq_tool to get factual data from BigQuery using a SQL query.\n",
    "- The answer and the reason must be based on the quantitative information in tables.\n",
    "- Use concrete area names in the answer instead of zone_id or location_id.\n",
    "\n",
    "[format instruction]\n",
    "In Japanese. In plain text, no markdowns.\n",
    "The output format is:\n",
    "[回答]\n",
    "<Your answer>\n",
    "\n",
    "[理由]\n",
    "<reason>\n",
    "\n",
    "\n",
    "[table information]\n",
    "{table_info}\n",
    "'''\n",
    "\n",
    "data_analytics_agent = LlmAgent(\n",
    "    name='data_analytics_agent',\n",
    "    model='gemini-2.5-flash',\n",
    "    description='Agent to answer questions using BigQuery.',\n",
    "    instruction=instruction,\n",
    "    tools=[table_schema_tool, bq_tool],\n",
    ")"
   ]
  },
  {
   "cell_type": "markdown",
   "id": "e9b2037f-dd8e-4f7e-8844-1d1858b24cc9",
   "metadata": {},
   "source": [
    "### 実行例"
   ]
  },
  {
   "cell_type": "markdown",
   "id": "6e2769e3-5fb0-49fa-9063-98beca13580c",
   "metadata": {},
   "source": [
    "`DEBUG = True` を指定して、処理中のイベントと使用する SQL query を表示します。"
   ]
  },
  {
   "cell_type": "code",
   "execution_count": 9,
   "id": "ec2eebde-68cd-421c-a10b-2fd109825815",
   "metadata": {
    "tags": []
   },
   "outputs": [
    {
     "name": "stderr",
     "output_type": "stream",
     "text": [
      "Warning: there are non-text parts in the response: ['function_call'], returning concatenated text result from text parts. Check the full candidates.content.parts accessor to get the full model response.\n"
     ]
    },
    {
     "name": "stdout",
     "output_type": "stream",
     "text": [
      "===\n",
      "content=Content(parts=[Part(video_metadata=None, thought=None, inline_data=None, file_data=None, thought_signature=None, code_execution_result=None, executable_code=None, function_call=FunctionCall(id='adk-4018b4ea-e4ac-49d4-bd55-86edbeaaa98d', args={'table_name': 'bigquery-public-data.new_york_taxi_trips.tlc_yellow_trips_2022'}, name='table_schema_tool'), function_response=None, text=None)], role='model') grounding_metadata=None partial=None turn_complete=None error_code=None error_message=None interrupted=None custom_metadata=None usage_metadata=GenerateContentResponseUsageMetadata(cache_tokens_details=None, cached_content_token_count=None, candidates_token_count=34, candidates_tokens_details=[ModalityTokenCount(modality=<MediaModality.TEXT: 'TEXT'>, token_count=34)], prompt_token_count=448, prompt_tokens_details=[ModalityTokenCount(modality=<MediaModality.TEXT: 'TEXT'>, token_count=448)], thoughts_token_count=277, tool_use_prompt_token_count=None, tool_use_prompt_tokens_details=None, total_token_count=759, traffic_type=<TrafficType.ON_DEMAND: 'ON_DEMAND'>) invocation_id='e-68033838-5239-40b3-83d4-2c150f109f1e' author='data_analytics_agent' actions=EventActions(skip_summarization=None, state_delta={}, artifact_delta={}, transfer_to_agent=None, escalate=None, requested_auth_configs={}) long_running_tool_ids=set() branch=None id='sJlDrmld' timestamp=1751921082.899337\n",
      "===\n",
      "===\n",
      "content=Content(parts=[Part(video_metadata=None, thought=None, inline_data=None, file_data=None, thought_signature=None, code_execution_result=None, executable_code=None, function_call=None, function_response=FunctionResponse(will_continue=None, scheduling=None, id='adk-4018b4ea-e4ac-49d4-bd55-86edbeaaa98d', name='table_schema_tool', response={'result': '\\n- pickup_datetime : The date and time when the meter was engaged\\n- dropoff_datetime : The date and time when the meter was disengaged\\n- passenger_count : The number of passengers in the vehicle. This is a driver-entered value.\\n- trip_distance : The elapsed trip distance in miles reported by the taximeter.\\n- fare_amount : The time-and-distance fare calculated by the meter\\n- tip_amount : Tip amount. This field is automatically populated for credit card tips. Cash tips are not included.\\n- tolls_amount : Total amount of all tolls paid in trip.\\n- total_amount : The total amount charged to passengers. Does not include cash tips.\\n- pickup_location_id : TLC Taxi Zone in which the taximeter was engaged\\n- dropoff_location_id : TLC Taxi Zone in which the taximeter was disengaged\\n'}), text=None)], role='user') grounding_metadata=None partial=None turn_complete=None error_code=None error_message=None interrupted=None custom_metadata=None usage_metadata=None invocation_id='e-68033838-5239-40b3-83d4-2c150f109f1e' author='data_analytics_agent' actions=EventActions(skip_summarization=None, state_delta={}, artifact_delta={}, transfer_to_agent=None, escalate=None, requested_auth_configs={}) long_running_tool_ids=None branch=None id='4IA7ZjhH' timestamp=1751921085.262578\n",
      "===\n"
     ]
    },
    {
     "name": "stderr",
     "output_type": "stream",
     "text": [
      "Warning: there are non-text parts in the response: ['function_call'], returning concatenated text result from text parts. Check the full candidates.content.parts accessor to get the full model response.\n"
     ]
    },
    {
     "name": "stdout",
     "output_type": "stream",
     "text": [
      "===\n",
      "content=Content(parts=[Part(video_metadata=None, thought=None, inline_data=None, file_data=None, thought_signature=None, code_execution_result=None, executable_code=None, function_call=FunctionCall(id='adk-66a2a60c-2277-483a-8077-cef8a353a27c', args={'table_name': 'bigquery-public-data.new_york_taxi_trips.taxi_zone_geom'}, name='table_schema_tool'), function_response=None, text=None)], role='model') grounding_metadata=None partial=None turn_complete=None error_code=None error_message=None interrupted=None custom_metadata=None usage_metadata=GenerateContentResponseUsageMetadata(cache_tokens_details=None, cached_content_token_count=None, candidates_token_count=28, candidates_tokens_details=[ModalityTokenCount(modality=<MediaModality.TEXT: 'TEXT'>, token_count=28)], prompt_token_count=675, prompt_tokens_details=[ModalityTokenCount(modality=<MediaModality.TEXT: 'TEXT'>, token_count=675)], thoughts_token_count=105, tool_use_prompt_token_count=None, tool_use_prompt_tokens_details=None, total_token_count=808, traffic_type=<TrafficType.ON_DEMAND: 'ON_DEMAND'>) invocation_id='e-68033838-5239-40b3-83d4-2c150f109f1e' author='data_analytics_agent' actions=EventActions(skip_summarization=None, state_delta={}, artifact_delta={}, transfer_to_agent=None, escalate=None, requested_auth_configs={}) long_running_tool_ids=set() branch=None id='e3gVn6OI' timestamp=1751921085.263525\n",
      "===\n",
      "===\n",
      "content=Content(parts=[Part(video_metadata=None, thought=None, inline_data=None, file_data=None, thought_signature=None, code_execution_result=None, executable_code=None, function_call=None, function_response=FunctionResponse(will_continue=None, scheduling=None, id='adk-66a2a60c-2277-483a-8077-cef8a353a27c', name='table_schema_tool', response={'result': '\\n- zone_id : Unique ID number of each taxi zone. Corresponds with the pickup_location_id and dropoff_location_id in each of the trips tables\\n- zone_name : Full text name of the taxi zone\\n'}), text=None)], role='user') grounding_metadata=None partial=None turn_complete=None error_code=None error_message=None interrupted=None custom_metadata=None usage_metadata=None invocation_id='e-68033838-5239-40b3-83d4-2c150f109f1e' author='data_analytics_agent' actions=EventActions(skip_summarization=None, state_delta={}, artifact_delta={}, transfer_to_agent=None, escalate=None, requested_auth_configs={}) long_running_tool_ids=None branch=None id='LidK2oNk' timestamp=1751921086.605655\n",
      "===\n"
     ]
    },
    {
     "name": "stderr",
     "output_type": "stream",
     "text": [
      "Warning: there are non-text parts in the response: ['function_call'], returning concatenated text result from text parts. Check the full candidates.content.parts accessor to get the full model response.\n"
     ]
    },
    {
     "name": "stdout",
     "output_type": "stream",
     "text": [
      "===\n",
      "content=Content(parts=[Part(video_metadata=None, thought=None, inline_data=None, file_data=None, thought_signature=None, code_execution_result=None, executable_code=None, function_call=FunctionCall(id='adk-91dccde9-e7b9-4d1f-b9ac-c7a0ca253ac2', args={'query': 'SELECT tzg.zone_name, AVG(t.tip_amount) AS avg_tip_amount FROM `bigquery-public-data.new_york_taxi_trips.tlc_yellow_trips_2022` AS t JOIN `bigquery-public-data.new_york_taxi_trips.taxi_zone_geom` AS tzg ON t.pickup_location_id = tzg.zone_id GROUP BY tzg.zone_name ORDER BY avg_tip_amount DESC LIMIT 5'}, name='bq_tool'), function_response=None, text=None)], role='model') grounding_metadata=None partial=None turn_complete=None error_code=None error_message=None interrupted=None custom_metadata=None usage_metadata=GenerateContentResponseUsageMetadata(cache_tokens_details=None, cached_content_token_count=None, candidates_token_count=117, candidates_tokens_details=[ModalityTokenCount(modality=<MediaModality.TEXT: 'TEXT'>, token_count=117)], prompt_token_count=759, prompt_tokens_details=[ModalityTokenCount(modality=<MediaModality.TEXT: 'TEXT'>, token_count=759)], thoughts_token_count=266, tool_use_prompt_token_count=None, tool_use_prompt_tokens_details=None, total_token_count=1142, traffic_type=<TrafficType.ON_DEMAND: 'ON_DEMAND'>) invocation_id='e-68033838-5239-40b3-83d4-2c150f109f1e' author='data_analytics_agent' actions=EventActions(skip_summarization=None, state_delta={}, artifact_delta={}, transfer_to_agent=None, escalate=None, requested_auth_configs={}) long_running_tool_ids=set() branch=None id='vXbyC2zl' timestamp=1751921086.607006\n",
      "===\n",
      "=== query ===\n",
      "SELECT tzg.zone_name, AVG(t.tip_amount) AS avg_tip_amount FROM `bigquery-public-data.new_york_taxi_trips.tlc_yellow_trips_2022` AS t JOIN `bigquery-public-data.new_york_taxi_trips.taxi_zone_geom` AS tzg ON t.pickup_location_id = tzg.zone_id GROUP BY tzg.zone_name ORDER BY avg_tip_amount DESC LIMIT 5\n",
      "=============\n",
      "===\n",
      "content=Content(parts=[Part(video_metadata=None, thought=None, inline_data=None, file_data=None, thought_signature=None, code_execution_result=None, executable_code=None, function_call=None, function_response=FunctionResponse(will_continue=None, scheduling=None, id='adk-91dccde9-e7b9-4d1f-b9ac-c7a0ca253ac2', name='bq_tool', response={'result': '[{\"zone_name\": \"Newark Airport\", \"avg_tip_amount\": \"11.954689339\"}, {\"zone_name\": \"Jamaica Bay\", \"avg_tip_amount\": \"9.047857143\"}, {\"zone_name\": \"Oakwood\", \"avg_tip_amount\": \"8.416666667\"}, {\"zone_name\": \"Flushing Meadows-Corona Park\", \"avg_tip_amount\": \"8.075202364\"}, {\"zone_name\": \"South Ozone Park\", \"avg_tip_amount\": \"7.281883048\"}]'}), text=None)], role='user') grounding_metadata=None partial=None turn_complete=None error_code=None error_message=None interrupted=None custom_metadata=None usage_metadata=None invocation_id='e-68033838-5239-40b3-83d4-2c150f109f1e' author='data_analytics_agent' actions=EventActions(skip_summarization=None, state_delta={}, artifact_delta={}, transfer_to_agent=None, escalate=None, requested_auth_configs={}) long_running_tool_ids=None branch=None id='jmB2g6D3' timestamp=1751921091.141191\n",
      "===\n",
      "===\n",
      "content=Content(parts=[Part(video_metadata=None, thought=None, inline_data=None, file_data=None, thought_signature=None, code_execution_result=None, executable_code=None, function_call=None, function_response=None, text='[回答]\\nチップがたくさんもらえる乗車場所は「ニューアーク空港」です。\\n\\n[理由]\\nBigQueryのデータによると、ニューアーク空港での乗車時の平均チップ額は11.95ドルであり、他のどの場所よりも高額でした。例えば、2番目に平均チップ額が高いジャマイカ湾は9.05ドルでした。')], role='model') grounding_metadata=None partial=None turn_complete=None error_code=None error_message=None interrupted=None custom_metadata=None usage_metadata=GenerateContentResponseUsageMetadata(cache_tokens_details=None, cached_content_token_count=None, candidates_token_count=77, candidates_tokens_details=[ModalityTokenCount(modality=<MediaModality.TEXT: 'TEXT'>, token_count=77)], prompt_token_count=1033, prompt_tokens_details=[ModalityTokenCount(modality=<MediaModality.TEXT: 'TEXT'>, token_count=1033)], thoughts_token_count=406, tool_use_prompt_token_count=None, tool_use_prompt_tokens_details=None, total_token_count=1516, traffic_type=<TrafficType.ON_DEMAND: 'ON_DEMAND'>) invocation_id='e-68033838-5239-40b3-83d4-2c150f109f1e' author='data_analytics_agent' actions=EventActions(skip_summarization=None, state_delta={}, artifact_delta={}, transfer_to_agent=None, escalate=None, requested_auth_configs={}) long_running_tool_ids=None branch=None id='gICR79y5' timestamp=1751921091.142561\n",
      "===\n",
      "[回答]\n",
      "チップがたくさんもらえる乗車場所は「ニューアーク空港」です。\n",
      "\n",
      "[理由]\n",
      "BigQueryのデータによると、ニューアーク空港での乗車時の平均チップ額は11.95ドルであり、他のどの場所よりも高額でした。例えば、2番目に平均チップ額が高いジャマイカ湾は9.05ドルでした。\n"
     ]
    }
   ],
   "source": [
    "client = LocalApp(data_analytics_agent, 'Search Agent App', 'user00')\n",
    "\n",
    "DEBUG = True\n",
    "query = '''\n",
    "チップがたくさんもらえる乗車場所を調べて。\n",
    "'''\n",
    "_ = await client.stream(query)"
   ]
  },
  {
   "cell_type": "code",
   "execution_count": 10,
   "id": "1e6b9a67-0858-44bd-b72e-197a2044ba1e",
   "metadata": {
    "tags": []
   },
   "outputs": [
    {
     "name": "stderr",
     "output_type": "stream",
     "text": [
      "Warning: there are non-text parts in the response: ['function_call'], returning concatenated text result from text parts. Check the full candidates.content.parts accessor to get the full model response.\n"
     ]
    },
    {
     "name": "stdout",
     "output_type": "stream",
     "text": [
      "===\n",
      "content=Content(parts=[Part(video_metadata=None, thought=None, inline_data=None, file_data=None, thought_signature=None, code_execution_result=None, executable_code=None, function_call=FunctionCall(id='adk-6fd5625a-6430-4129-b160-39d9587e2394', args={'query': 'SELECT passenger_count, AVG(tip_amount) AS avg_tip_amount FROM `bigquery-public-data.new_york_taxi_trips.tlc_yellow_trips_2022` WHERE passenger_count IS NOT NULL AND passenger_count > 0 GROUP BY passenger_count ORDER BY passenger_count'}, name='bq_tool'), function_response=None, text=None)], role='model') grounding_metadata=None partial=None turn_complete=None error_code=None error_message=None interrupted=None custom_metadata=None usage_metadata=GenerateContentResponseUsageMetadata(cache_tokens_details=None, cached_content_token_count=None, candidates_token_count=74, candidates_tokens_details=[ModalityTokenCount(modality=<MediaModality.TEXT: 'TEXT'>, token_count=74)], prompt_token_count=1137, prompt_tokens_details=[ModalityTokenCount(modality=<MediaModality.TEXT: 'TEXT'>, token_count=1137)], thoughts_token_count=196, tool_use_prompt_token_count=None, tool_use_prompt_tokens_details=None, total_token_count=1407, traffic_type=<TrafficType.ON_DEMAND: 'ON_DEMAND'>) invocation_id='e-58410500-0471-4f1c-80d2-fba6666817d1' author='data_analytics_agent' actions=EventActions(skip_summarization=None, state_delta={}, artifact_delta={}, transfer_to_agent=None, escalate=None, requested_auth_configs={}) long_running_tool_ids=set() branch=None id='4bQvyb5m' timestamp=1751921094.716784\n",
      "===\n",
      "=== query ===\n",
      "SELECT passenger_count, AVG(tip_amount) AS avg_tip_amount FROM `bigquery-public-data.new_york_taxi_trips.tlc_yellow_trips_2022` WHERE passenger_count IS NOT NULL AND passenger_count > 0 GROUP BY passenger_count ORDER BY passenger_count\n",
      "=============\n",
      "===\n",
      "content=Content(parts=[Part(video_metadata=None, thought=None, inline_data=None, file_data=None, thought_signature=None, code_execution_result=None, executable_code=None, function_call=None, function_response=FunctionResponse(will_continue=None, scheduling=None, id='adk-6fd5625a-6430-4129-b160-39d9587e2394', name='bq_tool', response={'result': '[{\"passenger_count\": \"1\", \"avg_tip_amount\": \"2.64627696\"}, {\"passenger_count\": \"2\", \"avg_tip_amount\": \"2.878064225\"}, {\"passenger_count\": \"3\", \"avg_tip_amount\": \"2.732784987\"}, {\"passenger_count\": \"4\", \"avg_tip_amount\": \"2.749474037\"}, {\"passenger_count\": \"5\", \"avg_tip_amount\": \"2.682891441\"}, {\"passenger_count\": \"6\", \"avg_tip_amount\": \"2.702456693\"}, {\"passenger_count\": \"7\", \"avg_tip_amount\": \"7.887932692\"}, {\"passenger_count\": \"8\", \"avg_tip_amount\": \"8.517593985\"}, {\"passenger_count\": \"9\", \"avg_tip_amount\": \"9.481282051\"}]'}), text=None)], role='user') grounding_metadata=None partial=None turn_complete=None error_code=None error_message=None interrupted=None custom_metadata=None usage_metadata=None invocation_id='e-58410500-0471-4f1c-80d2-fba6666817d1' author='data_analytics_agent' actions=EventActions(skip_summarization=None, state_delta={}, artifact_delta={}, transfer_to_agent=None, escalate=None, requested_auth_configs={}) long_running_tool_ids=None branch=None id='WjWpJ824' timestamp=1751921098.035567\n",
      "===\n",
      "===\n",
      "content=Content(parts=[Part(video_metadata=None, thought=None, inline_data=None, file_data=None, thought_signature=None, code_execution_result=None, executable_code=None, function_call=None, function_response=None, text='[回答]\\n乗客数とチップの平均額の関連性は以下の通りです。\\n\\n乗客数 | チップの平均額\\n---|---\\n1人 | 2.65ドル\\n2人 | 2.88ドル\\n3人 | 2.73ドル\\n4人 | 2.75ドル\\n5人 | 2.68ドル\\n6人 | 2.70ドル\\n7人 | 7.89ドル\\n8人 | 8.52ドル\\n9人 | 9.48ドル\\n\\n[理由]\\nBigQueryのデータによると、乗客数が1人から6人までの場合、チップの平均額は約2.6ドルから2.9ドルの間で推移しており、乗客数が増えてもチップの平均額に大きな変動は見られませんでした。しかし、乗客数が7人、8人、9人になると、チップの平均額はそれぞれ7.89ドル、8.52ドル、9.48ドルと大幅に増加しています。このことから、乗客数が7人以上の場合にチップの平均額が高くなるという関連性があると考えられます。')], role='model') grounding_metadata=None partial=None turn_complete=None error_code=None error_message=None interrupted=None custom_metadata=None usage_metadata=GenerateContentResponseUsageMetadata(cache_tokens_details=None, cached_content_token_count=None, candidates_token_count=248, candidates_tokens_details=[ModalityTokenCount(modality=<MediaModality.TEXT: 'TEXT'>, token_count=248)], prompt_token_count=1468, prompt_tokens_details=[ModalityTokenCount(modality=<MediaModality.TEXT: 'TEXT'>, token_count=1468)], thoughts_token_count=489, tool_use_prompt_token_count=None, tool_use_prompt_tokens_details=None, total_token_count=2205, traffic_type=<TrafficType.ON_DEMAND: 'ON_DEMAND'>) invocation_id='e-58410500-0471-4f1c-80d2-fba6666817d1' author='data_analytics_agent' actions=EventActions(skip_summarization=None, state_delta={}, artifact_delta={}, transfer_to_agent=None, escalate=None, requested_auth_configs={}) long_running_tool_ids=None branch=None id='qoeTep1n' timestamp=1751921098.037541\n",
      "===\n",
      "[回答]\n",
      "乗客数とチップの平均額の関連性は以下の通りです。\n",
      "\n",
      "乗客数 | チップの平均額\n",
      "---|---\n",
      "1人 | 2.65ドル\n",
      "2人 | 2.88ドル\n",
      "3人 | 2.73ドル\n",
      "4人 | 2.75ドル\n",
      "5人 | 2.68ドル\n",
      "6人 | 2.70ドル\n",
      "7人 | 7.89ドル\n",
      "8人 | 8.52ドル\n",
      "9人 | 9.48ドル\n",
      "\n",
      "[理由]\n",
      "BigQueryのデータによると、乗客数が1人から6人までの場合、チップの平均額は約2.6ドルから2.9ドルの間で推移しており、乗客数が増えてもチップの平均額に大きな変動は見られませんでした。しかし、乗客数が7人、8人、9人になると、チップの平均額はそれぞれ7.89ドル、8.52ドル、9.48ドルと大幅に増加しています。このことから、乗客数が7人以上の場合にチップの平均額が高くなるという関連性があると考えられます。\n"
     ]
    }
   ],
   "source": [
    "query = '''\n",
    "乗客数とチップの平均額を表にして、乗客数とチップの額に関連性があるか調べて。\n",
    "'''\n",
    "_ = await client.stream(query)"
   ]
  },
  {
   "cell_type": "code",
   "execution_count": 12,
   "id": "12357404-48aa-4db6-a3b7-47f49d0467e7",
   "metadata": {
    "tags": []
   },
   "outputs": [
    {
     "name": "stderr",
     "output_type": "stream",
     "text": [
      "Warning: there are non-text parts in the response: ['function_call'], returning concatenated text result from text parts. Check the full candidates.content.parts accessor to get the full model response.\n"
     ]
    },
    {
     "name": "stdout",
     "output_type": "stream",
     "text": [
      "===\n",
      "content=Content(parts=[Part(video_metadata=None, thought=None, inline_data=None, file_data=None, thought_signature=None, code_execution_result=None, executable_code=None, function_call=FunctionCall(id='adk-7e4c47cf-b26d-4104-b0e3-4718eb6f064a', args={'query': 'SELECT tzg.zone_name, EXTRACT(HOUR FROM t.pickup_datetime) AS pickup_hour, AVG(t.passenger_count) AS avg_passenger_count FROM `bigquery-public-data.new_york_taxi_trips.tlc_yellow_trips_2022` AS t JOIN `bigquery-public-data.new_york_taxi_trips.taxi_zone_geom` AS tzg ON t.pickup_location_id = tzg.zone_id GROUP BY tzg.zone_name, pickup_hour ORDER BY avg_passenger_count DESC LIMIT 10'}, name='bq_tool'), function_response=None, text=None)], role='model') grounding_metadata=None partial=None turn_complete=None error_code=None error_message=None interrupted=None custom_metadata=None usage_metadata=GenerateContentResponseUsageMetadata(cache_tokens_details=None, cached_content_token_count=None, candidates_token_count=137, candidates_tokens_details=[ModalityTokenCount(modality=<MediaModality.TEXT: 'TEXT'>, token_count=137)], prompt_token_count=2533, prompt_tokens_details=[ModalityTokenCount(modality=<MediaModality.TEXT: 'TEXT'>, token_count=2533)], thoughts_token_count=158, tool_use_prompt_token_count=None, tool_use_prompt_tokens_details=None, total_token_count=2828, traffic_type=<TrafficType.ON_DEMAND: 'ON_DEMAND'>) invocation_id='e-614fa8a5-a61a-4eb6-a3bb-75ebeaf0643d' author='data_analytics_agent' actions=EventActions(skip_summarization=None, state_delta={}, artifact_delta={}, transfer_to_agent=None, escalate=None, requested_auth_configs={}) long_running_tool_ids=set() branch=None id='28InWVMt' timestamp=1751921139.864204\n",
      "===\n",
      "=== query ===\n",
      "SELECT tzg.zone_name, EXTRACT(HOUR FROM t.pickup_datetime) AS pickup_hour, AVG(t.passenger_count) AS avg_passenger_count FROM `bigquery-public-data.new_york_taxi_trips.tlc_yellow_trips_2022` AS t JOIN `bigquery-public-data.new_york_taxi_trips.taxi_zone_geom` AS tzg ON t.pickup_location_id = tzg.zone_id GROUP BY tzg.zone_name, pickup_hour ORDER BY avg_passenger_count DESC LIMIT 10\n",
      "=============\n",
      "===\n",
      "content=Content(parts=[Part(video_metadata=None, thought=None, inline_data=None, file_data=None, thought_signature=None, code_execution_result=None, executable_code=None, function_call=None, function_response=FunctionResponse(will_continue=None, scheduling=None, id='adk-7e4c47cf-b26d-4104-b0e3-4718eb6f064a', name='bq_tool', response={'result': '[{\"zone_name\": \"South Beach/Dongan Hills\", \"pickup_hour\": \"3\", \"avg_passenger_count\": \"5.0\"}, {\"zone_name\": \"Country Club\", \"pickup_hour\": \"4\", \"avg_passenger_count\": \"4.0\"}, {\"zone_name\": \"New Dorp/Midland Beach\", \"pickup_hour\": \"20\", \"avg_passenger_count\": \"4.0\"}, {\"zone_name\": \"Rikers Island\", \"pickup_hour\": \"15\", \"avg_passenger_count\": \"4.0\"}, {\"zone_name\": \"Ocean Parkway South\", \"pickup_hour\": \"2\", \"avg_passenger_count\": \"3.8571428571428568\"}, {\"zone_name\": \"Green-Wood Cemetery\", \"pickup_hour\": \"14\", \"avg_passenger_count\": \"3.5\"}, {\"zone_name\": \"Ocean Parkway South\", \"pickup_hour\": \"4\", \"avg_passenger_count\": \"3.5\"}, {\"zone_name\": \"Ocean Parkway South\", \"pickup_hour\": \"1\", \"avg_passenger_count\": \"3.3333333333333335\"}, {\"zone_name\": \"East Flushing\", \"pickup_hour\": \"18\", \"avg_passenger_count\": \"3.333333333333333\"}, {\"zone_name\": \"Green-Wood Cemetery\", \"pickup_hour\": \"16\", \"avg_passenger_count\": \"3.0\"}]'}), text=None)], role='user') grounding_metadata=None partial=None turn_complete=None error_code=None error_message=None interrupted=None custom_metadata=None usage_metadata=None invocation_id='e-614fa8a5-a61a-4eb6-a3bb-75ebeaf0643d' author='data_analytics_agent' actions=EventActions(skip_summarization=None, state_delta={}, artifact_delta={}, transfer_to_agent=None, escalate=None, requested_auth_configs={}) long_running_tool_ids=None branch=None id='RbgBpLwE' timestamp=1751921142.692493\n",
      "===\n",
      "===\n",
      "content=Content(parts=[Part(video_metadata=None, thought=None, inline_data=None, file_data=None, thought_signature=None, code_execution_result=None, executable_code=None, function_call=None, function_response=None, text='[回答]\\n平均乗客数が多い乗車地域と時間帯の組み合わせトップ10は以下の通りです。\\n\\n地域名 | 時間帯 (24時間表記) | 平均乗客数\\n---|---|---\\nサウスビーチ/ドンガンヒルズ | 3時 | 5.0人\\nカントリークラブ | 4時 | 4.0人\\nニュー・ドープ/ミッドランドビーチ | 20時 | 4.0人\\nライカーズ・アイランド | 15時 | 4.0人\\nオーシャンパークウェイ南 | 2時 | 3.86人\\nグリーンウッド墓地 | 14時 | 3.5人\\nオーシャンパークウェイ南 | 4時 | 3.5人\\nオーシャンパークウェイ南 | 1時 | 3.33人\\nイーストフラッシング | 18時 | 3.33人\\nグリーンウッド墓地 | 16時 | 3.0人\\n\\n[理由]\\nBigQueryのデータによると、上記に挙げた地域と時間帯の組み合わせが、平均乗客数において最も高かった上位10件です。最も平均乗客数が多かったのは、サウスビーチ/ドンガンヒルズの午前3時で、平均5.0人でした。')], role='model') grounding_metadata=None partial=None turn_complete=None error_code=None error_message=None interrupted=None custom_metadata=None usage_metadata=GenerateContentResponseUsageMetadata(cache_tokens_details=None, cached_content_token_count=None, candidates_token_count=280, candidates_tokens_details=[ModalityTokenCount(modality=<MediaModality.TEXT: 'TEXT'>, token_count=280)], prompt_token_count=3032, prompt_tokens_details=[ModalityTokenCount(modality=<MediaModality.TEXT: 'TEXT'>, token_count=3032)], thoughts_token_count=2300, tool_use_prompt_token_count=None, tool_use_prompt_tokens_details=None, total_token_count=5612, traffic_type=<TrafficType.ON_DEMAND: 'ON_DEMAND'>) invocation_id='e-614fa8a5-a61a-4eb6-a3bb-75ebeaf0643d' author='data_analytics_agent' actions=EventActions(skip_summarization=None, state_delta={}, artifact_delta={}, transfer_to_agent=None, escalate=None, requested_auth_configs={}) long_running_tool_ids=None branch=None id='x3MlK8wI' timestamp=1751921142.694313\n",
      "===\n",
      "[回答]\n",
      "平均乗客数が多い乗車地域と時間帯の組み合わせトップ10は以下の通りです。\n",
      "\n",
      "地域名 | 時間帯 (24時間表記) | 平均乗客数\n",
      "---|---|---\n",
      "サウスビーチ/ドンガンヒルズ | 3時 | 5.0人\n",
      "カントリークラブ | 4時 | 4.0人\n",
      "ニュー・ドープ/ミッドランドビーチ | 20時 | 4.0人\n",
      "ライカーズ・アイランド | 15時 | 4.0人\n",
      "オーシャンパークウェイ南 | 2時 | 3.86人\n",
      "グリーンウッド墓地 | 14時 | 3.5人\n",
      "オーシャンパークウェイ南 | 4時 | 3.5人\n",
      "オーシャンパークウェイ南 | 1時 | 3.33人\n",
      "イーストフラッシング | 18時 | 3.33人\n",
      "グリーンウッド墓地 | 16時 | 3.0人\n",
      "\n",
      "[理由]\n",
      "BigQueryのデータによると、上記に挙げた地域と時間帯の組み合わせが、平均乗客数において最も高かった上位10件です。最も平均乗客数が多かったのは、サウスビーチ/ドンガンヒルズの午前3時で、平均5.0人でした。\n"
     ]
    }
   ],
   "source": [
    "query = '''\n",
    "平均乗客数が多い乗車地域と時間帯の組み合わせについてトップ１０を教えて。\n",
    "'''\n",
    "_ = await client.stream(query)"
   ]
  }
 ],
 "metadata": {
  "environment": {
   "kernel": "conda-base-py",
   "name": "workbench-notebooks.m129",
   "type": "gcloud",
   "uri": "us-docker.pkg.dev/deeplearning-platform-release/gcr.io/workbench-notebooks:m129"
  },
  "kernelspec": {
   "display_name": "Python 3 (ipykernel)",
   "language": "python",
   "name": "conda-base-py"
  },
  "language_info": {
   "codemirror_mode": {
    "name": "ipython",
    "version": 3
   },
   "file_extension": ".py",
   "mimetype": "text/x-python",
   "name": "python",
   "nbconvert_exporter": "python",
   "pygments_lexer": "ipython3",
   "version": "3.10.16"
  }
 },
 "nbformat": 4,
 "nbformat_minor": 5
}
