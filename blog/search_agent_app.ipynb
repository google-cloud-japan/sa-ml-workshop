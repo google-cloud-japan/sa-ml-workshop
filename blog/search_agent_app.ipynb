{
 "cells": [
  {
   "cell_type": "markdown",
   "id": "9c3cc4d8-742b-4421-b450-5f06e8f2a0c7",
   "metadata": {
    "jp-MarkdownHeadingCollapsed": true,
    "tags": []
   },
   "source": [
    "## 事前準備"
   ]
  },
  {
   "cell_type": "markdown",
   "id": "c93ad445-56c7-4505-ae5a-4d5306efd689",
   "metadata": {},
   "source": [
    "1. Google Cloud の新しいプロジェクトを作成します。\n",
    "2. Cloud Shell を開いて、次のコマンドで API を有効化します。\n",
    "```\n",
    "gcloud services enable \\\n",
    "  aiplatform.googleapis.com \\\n",
    "  notebooks.googleapis.com \\\n",
    "  cloudresourcemanager.googleapis.com\n",
    "\n",
    "```\n",
    "3. 次のコマンドで Vertex AI Workbench のインスタンスを作成します。\n",
    "```\n",
    "PROJECT_ID=$(gcloud config list --format 'value(core.project)')\n",
    "gcloud workbench instances create agent-development \\\n",
    "  --project=$PROJECT_ID \\\n",
    "  --location=us-central1-a \\\n",
    "  --machine-type=e2-standard-2\n",
    "```\n",
    "\n",
    "4. クラウドコンソールのナビゲーションメニューから「Vertex AI」→「Workbench」を選択すると、作成したインスタンス agent-develpment があります。インスタンスの起動が完了するのを待って、「JUPYTERLAB を開く」をクリックしたら、「Python 3(ipykernel)」の新規ノートブックを作成します。\n",
    "\n",
    "5. この後は、ノートブック上で以下のコマンドを実行していきます。"
   ]
  },
  {
   "cell_type": "markdown",
   "id": "70ed77f6-8bb7-406f-8f91-e79370b32394",
   "metadata": {
    "jp-MarkdownHeadingCollapsed": true,
    "tags": []
   },
   "source": [
    "## ADK パッケージのインストール"
   ]
  },
  {
   "cell_type": "code",
   "execution_count": null,
   "id": "c2a46ff3-934b-4d5d-bb0a-c887f296c01a",
   "metadata": {},
   "outputs": [],
   "source": [
    "%pip install --upgrade --user \\\n",
    "    google-adk==0.5.0 \\\n",
    "    google-cloud-aiplatform==1.93.0"
   ]
  },
  {
   "cell_type": "markdown",
   "id": "ec254a63-03f5-4973-aa23-03f2f8521f4a",
   "metadata": {},
   "source": [
    "インストールしたパッケージを利用可能にするために、次のコマンドでカーネルを再起動します。\n",
    "\n",
    "再起動を確認するポップアップが表示されるので [Ok] をクリックします。"
   ]
  },
  {
   "cell_type": "code",
   "execution_count": 9,
   "id": "915482d8-cff4-46e2-a826-94bf6cb8277d",
   "metadata": {},
   "outputs": [],
   "source": [
    "import IPython\n",
    "app = IPython.Application.instance()\n",
    "_ = app.kernel.do_shutdown(True)"
   ]
  },
  {
   "cell_type": "markdown",
   "id": "419007fb-f199-41e0-8410-d4d988179248",
   "metadata": {
    "jp-MarkdownHeadingCollapsed": true,
    "tags": []
   },
   "source": [
    "## Search Agent App の作成"
   ]
  },
  {
   "cell_type": "code",
   "execution_count": 1,
   "id": "8722e641-cd9a-4e73-9622-427ea35c8bde",
   "metadata": {
    "tags": []
   },
   "outputs": [],
   "source": [
    "import copy, datetime, json, os, pprint, time, uuid\n",
    "import vertexai\n",
    "from google.genai.types import Part, UserContent, ModelContent\n",
    "from google.adk.agents.llm_agent import LlmAgent\n",
    "from google.adk.artifacts import InMemoryArtifactService\n",
    "from google.adk.memory.in_memory_memory_service import InMemoryMemoryService\n",
    "from google.adk.sessions import InMemorySessionService\n",
    "from google.adk.runners import Runner\n",
    "from google.adk.tools import google_search\n",
    "\n",
    "[PROJECT_ID] = !gcloud config list --format 'value(core.project)'\n",
    "LOCATION = 'us-central1'\n",
    "\n",
    "vertexai.init(project=PROJECT_ID, location=LOCATION,\n",
    "              staging_bucket=f'gs://{PROJECT_ID}')\n",
    "\n",
    "os.environ['GOOGLE_CLOUD_PROJECT'] = PROJECT_ID\n",
    "os.environ['GOOGLE_CLOUD_LOCATION'] = LOCATION\n",
    "os.environ['GOOGLE_GENAI_USE_VERTEXAI'] = 'True'"
   ]
  },
  {
   "cell_type": "code",
   "execution_count": 2,
   "id": "1bd94203-da07-413e-9d85-94cfcfbaa8bc",
   "metadata": {
    "tags": []
   },
   "outputs": [],
   "source": [
    "instruction = '''\n",
    "You are a friendly AI assistant that answers user's queries.\n",
    "Use google_search to give answers based on the latest and objective information.\n",
    "\n",
    "[Format instruction]\n",
    "Output in Japanese, in plain text only.\n",
    "Avoid adding citation marks such as [1][2].\n",
    "'''\n",
    "\n",
    "search_agent = LlmAgent(\n",
    "    name='search_agent',\n",
    "    model='gemini-2.0-flash-001',\n",
    "    description='Agent to answer questions using Google Search.',\n",
    "    instruction=instruction,\n",
    "    tools=[google_search]\n",
    ")"
   ]
  },
  {
   "cell_type": "code",
   "execution_count": 3,
   "id": "d94ab67e-99e0-498d-8095-81ca07156c9e",
   "metadata": {
    "tags": []
   },
   "outputs": [],
   "source": [
    "class LocalApp:\n",
    "    def __init__(self, agent, app_name, user_id):\n",
    "        self._agent = agent\n",
    "        self._app_name = app_name\n",
    "        self._user_id = user_id\n",
    "        self._runner = Runner(\n",
    "            app_name=self._app_name,\n",
    "            agent=self._agent,\n",
    "            artifact_service=InMemoryArtifactService(),\n",
    "            session_service=InMemorySessionService(),\n",
    "            memory_service=InMemoryMemoryService(),\n",
    "        )\n",
    "        self._session = self._runner.session_service.create_session(\n",
    "            app_name=self._app_name,\n",
    "            user_id=self._user_id,\n",
    "            state={},\n",
    "            session_id=uuid.uuid4().hex,\n",
    "        )\n",
    "        \n",
    "    async def stream(self, query):\n",
    "        content = UserContent(parts=[Part.from_text(text=query)])\n",
    "        async_events = self._runner.run_async(\n",
    "            user_id=self._user_id,\n",
    "            session_id=self._session.id,\n",
    "            new_message=content,\n",
    "        )\n",
    "        result = []\n",
    "        async for event in async_events:\n",
    "            if (event.content and event.content.parts):\n",
    "                response = '\\n'.join([p.text for p in event.content.parts if p.text])\n",
    "                if response:\n",
    "                    print(response)\n",
    "                    result.append(response)\n",
    "        return result"
   ]
  },
  {
   "cell_type": "markdown",
   "id": "0fc6b082-b4ec-49e4-9e27-7292607ee741",
   "metadata": {
    "jp-MarkdownHeadingCollapsed": true,
    "tags": []
   },
   "source": [
    "## 実行例"
   ]
  },
  {
   "cell_type": "code",
   "execution_count": 24,
   "id": "8fe01b19-76b3-4eac-a2a3-5796386d06cb",
   "metadata": {
    "tags": []
   },
   "outputs": [
    {
     "name": "stdout",
     "output_type": "stream",
     "text": [
      " 高田馬場でおすすめのカレー屋さんについて調べてみました。\n",
      "\n",
      " \n",
      " 高田馬場にはたくさんのカレー屋さんがありますね。おすすめのお店としては、以下のようなところが挙げられます。\n",
      "\n",
      "*   **カレーライス専門店ブラザー:** 鯖キーマカレーが人気のお店です。\n",
      "*   **エチオピアカリーキッチン 高田馬場店:** 長時間煮込んだ野菜が美味しいトロトロカレーが楽しめます。\n",
      "*   **プネウマカレー:** コスパが良いと評判のお店です。\n",
      "*   **横浜ボンベイ 高田馬場店:** サラッとしたルーが特徴で、カシミールカレーが人気です。\n",
      "*   **白カレーの店 1/f ゆらぎ:** 珍しい白カレーが味わえます。\n",
      "\n",
      "この他にもたくさんのお店があるので、食べログやRettyなどのグルメサイトで調べてみるのもおすすめです。\n",
      "\n"
     ]
    }
   ],
   "source": [
    "client = LocalApp(search_agent, 'Search Agent App', 'user00')\n",
    "\n",
    "query = '''\n",
    "高田馬場のおすすめのカレー屋は？\n",
    "'''\n",
    "_ = await client.stream(query)"
   ]
  },
  {
   "cell_type": "markdown",
   "id": "938d0efc-b889-4ee4-bfc8-b0b6518af3ec",
   "metadata": {
    "tags": []
   },
   "source": [
    "SessionService が管理するセッション情報を確認します。\n",
    "\n",
    "セッションを特定するのに必要な、`app_name`、`user_id`、`session_id` を確認します。"
   ]
  },
  {
   "cell_type": "code",
   "execution_count": 25,
   "id": "a4ef5e8c-cc52-4dd6-8c5d-e9ceb054b31e",
   "metadata": {
    "tags": []
   },
   "outputs": [
    {
     "data": {
      "text/plain": [
       "('Search Agent App', 'user00', 'e3d95fc4772f4992bf3ed35cfa209c80')"
      ]
     },
     "execution_count": 25,
     "metadata": {},
     "output_type": "execute_result"
    }
   ],
   "source": [
    "app_name = client._session.app_name\n",
    "user_id = client._session.user_id\n",
    "session_id = client._session.id\n",
    "\n",
    "app_name, user_id, session_id"
   ]
  },
  {
   "cell_type": "markdown",
   "id": "d49b47f0-70e7-4447-bc59-b693a8a73491",
   "metadata": {},
   "source": [
    "確認した情報を使って、セッションに保存された情報を確認します。\n",
    "\n",
    "2 つのイベント（ユーザーの質問とエージェントの回答）が記録されています。\n",
    "\n",
    "エージェントの回答を生成する際に用いた Google Serch の情報なども確認できます。"
   ]
  },
  {
   "cell_type": "code",
   "execution_count": 26,
   "id": "df2c86b9-1a1e-43b2-9968-0f44f2d44831",
   "metadata": {
    "tags": []
   },
   "outputs": [
    {
     "data": {
      "text/plain": [
       "Session(id='e3d95fc4772f4992bf3ed35cfa209c80', app_name='Search Agent App', user_id='user00', state={}, events=[Event(content=UserContent(parts=[Part(video_metadata=None, thought=None, inline_data=None, code_execution_result=None, executable_code=None, file_data=None, function_call=None, function_response=None, text='\\n高田馬場のおすすめのカレー屋は？\\n')], role='user'), grounding_metadata=None, partial=None, turn_complete=None, error_code=None, error_message=None, interrupted=None, custom_metadata=None, invocation_id='e-5085e36c-66b0-4aac-b8c2-c2a3fee4d837', author='user', actions=EventActions(skip_summarization=None, state_delta={}, artifact_delta={}, transfer_to_agent=None, escalate=None, requested_auth_configs={}), long_running_tool_ids=None, branch=None, id='3on5aeKM', timestamp=1747603381.99736), Event(content=Content(parts=[Part(video_metadata=None, thought=None, inline_data=None, code_execution_result=None, executable_code=None, file_data=None, function_call=None, function_response=None, text=' 高田馬場でおすすめのカレー屋さんについて調べてみました。\\n\\n '), Part(video_metadata=None, thought=None, inline_data=None, code_execution_result=None, executable_code=None, file_data=None, function_call=None, function_response=None, text=' 高田馬場にはたくさんのカレー屋さんがありますね。おすすめのお店としては、以下のようなところが挙げられます。\\n\\n*   **カレーライス専門店ブラザー:** 鯖キーマカレーが人気のお店です。\\n*   **エチオピアカリーキッチン 高田馬場店:** 長時間煮込んだ野菜が美味しいトロトロカレーが楽しめます。\\n*   **プネウマカレー:** コスパが良いと評判のお店です。\\n*   **横浜ボンベイ 高田馬場店:** サラッとしたルーが特徴で、カシミールカレーが人気です。\\n*   **白カレーの店 1/f ゆらぎ:** 珍しい白カレーが味わえます。\\n\\nこの他にもたくさんのお店があるので、食べログやRettyなどのグルメサイトで調べてみるのもおすすめです。\\n')], role='model'), grounding_metadata=GroundingMetadata(grounding_chunks=[GroundingChunk(retrieved_context=None, web=GroundingChunkWeb(domain='macaro-ni.jp', title='macaro-ni.jp', uri='https://vertexaisearch.cloud.google.com/grounding-api-redirect/AbF9wXGd482Cosb_dsjgRYQ8DrzTnEFMw1JT676EUodrjDpbl7yTLSPMx2BRYCIvcImvBbu9uaK79xhQ_2SDUXos4kEhbxREi2F28KwMeNSifhJwQ_tD1il5')), GroundingChunk(retrieved_context=None, web=GroundingChunkWeb(domain='aumo.jp', title='aumo.jp', uri='https://vertexaisearch.cloud.google.com/grounding-api-redirect/AbF9wXEatYWx9qncAqHJWYMrhTDW4v6EK5D-mFxbo5s4RwWjr4jydupJ4M9DRjZzzwfsFwsZlFLzTUlkFVfldSvtADkENAZBsk5wmmVelWjqM1-k_utzP482WVJ50w=='))], grounding_supports=[GroundingSupport(confidence_scores=[0.7403668], grounding_chunk_indices=[0], segment=Segment(end_index=347, part_index=None, start_index=250, text='*   **カレーライス専門店ブラザー:** 鯖キーマカレーが人気のお店です。')), GroundingSupport(confidence_scores=[0.84949917], grounding_chunk_indices=[1], segment=Segment(end_index=494, part_index=None, start_index=348, text='*   **エチオピアカリーキッチン 高田馬場店:** 長時間煮込んだ野菜が美味しいトロトロカレーが楽しめます。')), GroundingSupport(confidence_scores=[0.89903224], grounding_chunk_indices=[0], segment=Segment(end_index=571, part_index=None, start_index=495, text='*   **プネウマカレー:** コスパが良いと評判のお店です。')), GroundingSupport(confidence_scores=[0.916145], grounding_chunk_indices=[1], segment=Segment(end_index=697, part_index=None, start_index=572, text='*   **横浜ボンベイ 高田馬場店:** サラッとしたルーが特徴で、カシミールカレーが人気です。'))], retrieval_metadata=RetrievalMetadata(google_search_dynamic_retrieval_score=None), retrieval_queries=None, search_entry_point=SearchEntryPoint(rendered_content='<style>\\n.container {\\n  align-items: center;\\n  border-radius: 8px;\\n  display: flex;\\n  font-family: Google Sans, Roboto, sans-serif;\\n  font-size: 14px;\\n  line-height: 20px;\\n  padding: 8px 12px;\\n}\\n.chip {\\n  display: inline-block;\\n  border: solid 1px;\\n  border-radius: 16px;\\n  min-width: 14px;\\n  padding: 5px 16px;\\n  text-align: center;\\n  user-select: none;\\n  margin: 0 8px;\\n  -webkit-tap-highlight-color: transparent;\\n}\\n.carousel {\\n  overflow: auto;\\n  scrollbar-width: none;\\n  white-space: nowrap;\\n  margin-right: -12px;\\n}\\n.headline {\\n  display: flex;\\n  margin-right: 4px;\\n}\\n.gradient-container {\\n  position: relative;\\n}\\n.gradient {\\n  position: absolute;\\n  transform: translate(3px, -9px);\\n  height: 36px;\\n  width: 9px;\\n}\\n@media (prefers-color-scheme: light) {\\n  .container {\\n    background-color: #fafafa;\\n    box-shadow: 0 0 0 1px #0000000f;\\n  }\\n  .headline-label {\\n    color: #1f1f1f;\\n  }\\n  .chip {\\n    background-color: #ffffff;\\n    border-color: #d2d2d2;\\n    color: #5e5e5e;\\n    text-decoration: none;\\n  }\\n  .chip:hover {\\n    background-color: #f2f2f2;\\n  }\\n  .chip:focus {\\n    background-color: #f2f2f2;\\n  }\\n  .chip:active {\\n    background-color: #d8d8d8;\\n    border-color: #b6b6b6;\\n  }\\n  .logo-dark {\\n    display: none;\\n  }\\n  .gradient {\\n    background: linear-gradient(90deg, #fafafa 15%, #fafafa00 100%);\\n  }\\n}\\n@media (prefers-color-scheme: dark) {\\n  .container {\\n    background-color: #1f1f1f;\\n    box-shadow: 0 0 0 1px #ffffff26;\\n  }\\n  .headline-label {\\n    color: #fff;\\n  }\\n  .chip {\\n    background-color: #2c2c2c;\\n    border-color: #3c4043;\\n    color: #fff;\\n    text-decoration: none;\\n  }\\n  .chip:hover {\\n    background-color: #353536;\\n  }\\n  .chip:focus {\\n    background-color: #353536;\\n  }\\n  .chip:active {\\n    background-color: #464849;\\n    border-color: #53575b;\\n  }\\n  .logo-light {\\n    display: none;\\n  }\\n  .gradient {\\n    background: linear-gradient(90deg, #1f1f1f 15%, #1f1f1f00 100%);\\n  }\\n}\\n</style>\\n<div class=\"container\">\\n  <div class=\"headline\">\\n    <svg class=\"logo-light\" width=\"18\" height=\"18\" viewBox=\"9 9 35 35\" fill=\"none\" xmlns=\"http://www.w3.org/2000/svg\">\\n      <path fill-rule=\"evenodd\" clip-rule=\"evenodd\" d=\"M42.8622 27.0064C42.8622 25.7839 42.7525 24.6084 42.5487 23.4799H26.3109V30.1568H35.5897C35.1821 32.3041 33.9596 34.1222 32.1258 35.3448V39.6864H37.7213C40.9814 36.677 42.8622 32.2571 42.8622 27.0064V27.0064Z\" fill=\"#4285F4\"/>\\n      <path fill-rule=\"evenodd\" clip-rule=\"evenodd\" d=\"M26.3109 43.8555C30.9659 43.8555 34.8687 42.3195 37.7213 39.6863L32.1258 35.3447C30.5898 36.3792 28.6306 37.0061 26.3109 37.0061C21.8282 37.0061 18.0195 33.9811 16.6559 29.906H10.9194V34.3573C13.7563 39.9841 19.5712 43.8555 26.3109 43.8555V43.8555Z\" fill=\"#34A853\"/>\\n      <path fill-rule=\"evenodd\" clip-rule=\"evenodd\" d=\"M16.6559 29.8904C16.3111 28.8559 16.1074 27.7588 16.1074 26.6146C16.1074 25.4704 16.3111 24.3733 16.6559 23.3388V18.8875H10.9194C9.74388 21.2072 9.06992 23.8247 9.06992 26.6146C9.06992 29.4045 9.74388 32.022 10.9194 34.3417L15.3864 30.8621L16.6559 29.8904V29.8904Z\" fill=\"#FBBC05\"/>\\n      <path fill-rule=\"evenodd\" clip-rule=\"evenodd\" d=\"M26.3109 16.2386C28.85 16.2386 31.107 17.1164 32.9095 18.8091L37.8466 13.8719C34.853 11.082 30.9659 9.3736 26.3109 9.3736C19.5712 9.3736 13.7563 13.245 10.9194 18.8875L16.6559 23.3388C18.0195 19.2636 21.8282 16.2386 26.3109 16.2386V16.2386Z\" fill=\"#EA4335\"/>\\n    </svg>\\n    <svg class=\"logo-dark\" width=\"18\" height=\"18\" viewBox=\"0 0 48 48\" xmlns=\"http://www.w3.org/2000/svg\">\\n      <circle cx=\"24\" cy=\"23\" fill=\"#FFF\" r=\"22\"/>\\n      <path d=\"M33.76 34.26c2.75-2.56 4.49-6.37 4.49-11.26 0-.89-.08-1.84-.29-3H24.01v5.99h8.03c-.4 2.02-1.5 3.56-3.07 4.56v.75l3.91 2.97h.88z\" fill=\"#4285F4\"/>\\n      <path d=\"M15.58 25.77A8.845 8.845 0 0 0 24 31.86c1.92 0 3.62-.46 4.97-1.31l4.79 3.71C31.14 36.7 27.65 38 24 38c-5.93 0-11.01-3.4-13.45-8.36l.17-1.01 4.06-2.85h.8z\" fill=\"#34A853\"/>\\n      <path d=\"M15.59 20.21a8.864 8.864 0 0 0 0 5.58l-5.03 3.86c-.98-2-1.53-4.25-1.53-6.64 0-2.39.55-4.64 1.53-6.64l1-.22 3.81 2.98.22 1.08z\" fill=\"#FBBC05\"/>\\n      <path d=\"M24 14.14c2.11 0 4.02.75 5.52 1.98l4.36-4.36C31.22 9.43 27.81 8 24 8c-5.93 0-11.01 3.4-13.45 8.36l5.03 3.85A8.86 8.86 0 0 1 24 14.14z\" fill=\"#EA4335\"/>\\n    </svg>\\n    <div class=\"gradient-container\"><div class=\"gradient\"></div></div>\\n  </div>\\n  <div class=\"carousel\">\\n    <a class=\"chip\" href=\"https://vertexaisearch.cloud.google.com/grounding-api-redirect/AbF9wXGtw_Olb-tNFBNAYFgktELnuZrMubngsY1eXLwM_b9usSnAU259h2USPC6Vp6SuKu5c-qnEnwTbbfYeZz2aH__YwozFTWkpy83fa_fHQr1QWR6RSv5ttdh1tnSVB0D8nuHjDsDXL5lb6em51Uz3U5VHXwrbbX9KhW-RekTKlltWdpuIRU0rBEDUwZppm9UKvfP3Awz6b34sDzKckzjNa7Sl0LeTg8gsFX_nKU1gqp_yT6PWdGZuS6gQidZ2oKuoBnBOzqSPTA62sWdy5Xl5FZZ30gx4qGpJWa_EknISyIMv-HuoWw983WRlCA==\">高田馬場 おすすめ カレー</a>\\n  </div>\\n</div>\\n', sdk_blob=None), web_search_queries=['高田馬場 おすすめ カレー']), partial=None, turn_complete=None, error_code=None, error_message=None, interrupted=None, custom_metadata=None, invocation_id='e-5085e36c-66b0-4aac-b8c2-c2a3fee4d837', author='search_agent', actions=EventActions(skip_summarization=None, state_delta={}, artifact_delta={}, transfer_to_agent=None, escalate=None, requested_auth_configs={}), long_running_tool_ids=None, branch=None, id='UvN69uYs', timestamp=1747603381.998311)], last_update_time=1747603381.998311)"
      ]
     },
     "execution_count": 26,
     "metadata": {},
     "output_type": "execute_result"
    }
   ],
   "source": [
    "session = client._runner.session_service.get_session(\n",
    "    app_name = app_name,\n",
    "    user_id = user_id,\n",
    "    session_id = session_id,\n",
    ")\n",
    "\n",
    "session"
   ]
  },
  {
   "cell_type": "markdown",
   "id": "9055aef3-0586-48cc-9a90-373c879c0171",
   "metadata": {},
   "source": [
    "次のように、これまでのやり取りが「イベント」として記録されています。"
   ]
  },
  {
   "cell_type": "code",
   "execution_count": 27,
   "id": "fec8f046-e2d0-4b02-ac0d-a4f848bf1f00",
   "metadata": {
    "tags": []
   },
   "outputs": [
    {
     "name": "stdout",
     "output_type": "stream",
     "text": [
      "2025-05-18 21:23:01.997360 user\n",
      "2025-05-18 21:23:01.998311 search_agent\n"
     ]
    }
   ],
   "source": [
    "def format_timestamp(ts):\n",
    "    return datetime.datetime.fromtimestamp(ts).strftime('%Y-%m-%d %H:%M:%S.%f')\n",
    "\n",
    "for event in session.events:\n",
    "    print(format_timestamp(event.timestamp), event.author)"
   ]
  },
  {
   "cell_type": "markdown",
   "id": "d4323802-3435-463e-af43-80df7c59b889",
   "metadata": {},
   "source": [
    "特に、下記の要素から Google 検索に使ったキーワードが確認できます。"
   ]
  },
  {
   "cell_type": "code",
   "execution_count": 28,
   "id": "03e19a60-8034-485e-a23b-683ca1a14295",
   "metadata": {
    "tags": []
   },
   "outputs": [
    {
     "name": "stdout",
     "output_type": "stream",
     "text": [
      "['高田馬場 おすすめ カレー']\n"
     ]
    },
    {
     "data": {
      "text/html": [
       "<style>\n",
       ".container {\n",
       "  align-items: center;\n",
       "  border-radius: 8px;\n",
       "  display: flex;\n",
       "  font-family: Google Sans, Roboto, sans-serif;\n",
       "  font-size: 14px;\n",
       "  line-height: 20px;\n",
       "  padding: 8px 12px;\n",
       "}\n",
       ".chip {\n",
       "  display: inline-block;\n",
       "  border: solid 1px;\n",
       "  border-radius: 16px;\n",
       "  min-width: 14px;\n",
       "  padding: 5px 16px;\n",
       "  text-align: center;\n",
       "  user-select: none;\n",
       "  margin: 0 8px;\n",
       "  -webkit-tap-highlight-color: transparent;\n",
       "}\n",
       ".carousel {\n",
       "  overflow: auto;\n",
       "  scrollbar-width: none;\n",
       "  white-space: nowrap;\n",
       "  margin-right: -12px;\n",
       "}\n",
       ".headline {\n",
       "  display: flex;\n",
       "  margin-right: 4px;\n",
       "}\n",
       ".gradient-container {\n",
       "  position: relative;\n",
       "}\n",
       ".gradient {\n",
       "  position: absolute;\n",
       "  transform: translate(3px, -9px);\n",
       "  height: 36px;\n",
       "  width: 9px;\n",
       "}\n",
       "@media (prefers-color-scheme: light) {\n",
       "  .container {\n",
       "    background-color: #fafafa;\n",
       "    box-shadow: 0 0 0 1px #0000000f;\n",
       "  }\n",
       "  .headline-label {\n",
       "    color: #1f1f1f;\n",
       "  }\n",
       "  .chip {\n",
       "    background-color: #ffffff;\n",
       "    border-color: #d2d2d2;\n",
       "    color: #5e5e5e;\n",
       "    text-decoration: none;\n",
       "  }\n",
       "  .chip:hover {\n",
       "    background-color: #f2f2f2;\n",
       "  }\n",
       "  .chip:focus {\n",
       "    background-color: #f2f2f2;\n",
       "  }\n",
       "  .chip:active {\n",
       "    background-color: #d8d8d8;\n",
       "    border-color: #b6b6b6;\n",
       "  }\n",
       "  .logo-dark {\n",
       "    display: none;\n",
       "  }\n",
       "  .gradient {\n",
       "    background: linear-gradient(90deg, #fafafa 15%, #fafafa00 100%);\n",
       "  }\n",
       "}\n",
       "@media (prefers-color-scheme: dark) {\n",
       "  .container {\n",
       "    background-color: #1f1f1f;\n",
       "    box-shadow: 0 0 0 1px #ffffff26;\n",
       "  }\n",
       "  .headline-label {\n",
       "    color: #fff;\n",
       "  }\n",
       "  .chip {\n",
       "    background-color: #2c2c2c;\n",
       "    border-color: #3c4043;\n",
       "    color: #fff;\n",
       "    text-decoration: none;\n",
       "  }\n",
       "  .chip:hover {\n",
       "    background-color: #353536;\n",
       "  }\n",
       "  .chip:focus {\n",
       "    background-color: #353536;\n",
       "  }\n",
       "  .chip:active {\n",
       "    background-color: #464849;\n",
       "    border-color: #53575b;\n",
       "  }\n",
       "  .logo-light {\n",
       "    display: none;\n",
       "  }\n",
       "  .gradient {\n",
       "    background: linear-gradient(90deg, #1f1f1f 15%, #1f1f1f00 100%);\n",
       "  }\n",
       "}\n",
       "</style>\n",
       "<div class=\"container\">\n",
       "  <div class=\"headline\">\n",
       "    <svg class=\"logo-light\" width=\"18\" height=\"18\" viewBox=\"9 9 35 35\" fill=\"none\" xmlns=\"http://www.w3.org/2000/svg\">\n",
       "      <path fill-rule=\"evenodd\" clip-rule=\"evenodd\" d=\"M42.8622 27.0064C42.8622 25.7839 42.7525 24.6084 42.5487 23.4799H26.3109V30.1568H35.5897C35.1821 32.3041 33.9596 34.1222 32.1258 35.3448V39.6864H37.7213C40.9814 36.677 42.8622 32.2571 42.8622 27.0064V27.0064Z\" fill=\"#4285F4\"/>\n",
       "      <path fill-rule=\"evenodd\" clip-rule=\"evenodd\" d=\"M26.3109 43.8555C30.9659 43.8555 34.8687 42.3195 37.7213 39.6863L32.1258 35.3447C30.5898 36.3792 28.6306 37.0061 26.3109 37.0061C21.8282 37.0061 18.0195 33.9811 16.6559 29.906H10.9194V34.3573C13.7563 39.9841 19.5712 43.8555 26.3109 43.8555V43.8555Z\" fill=\"#34A853\"/>\n",
       "      <path fill-rule=\"evenodd\" clip-rule=\"evenodd\" d=\"M16.6559 29.8904C16.3111 28.8559 16.1074 27.7588 16.1074 26.6146C16.1074 25.4704 16.3111 24.3733 16.6559 23.3388V18.8875H10.9194C9.74388 21.2072 9.06992 23.8247 9.06992 26.6146C9.06992 29.4045 9.74388 32.022 10.9194 34.3417L15.3864 30.8621L16.6559 29.8904V29.8904Z\" fill=\"#FBBC05\"/>\n",
       "      <path fill-rule=\"evenodd\" clip-rule=\"evenodd\" d=\"M26.3109 16.2386C28.85 16.2386 31.107 17.1164 32.9095 18.8091L37.8466 13.8719C34.853 11.082 30.9659 9.3736 26.3109 9.3736C19.5712 9.3736 13.7563 13.245 10.9194 18.8875L16.6559 23.3388C18.0195 19.2636 21.8282 16.2386 26.3109 16.2386V16.2386Z\" fill=\"#EA4335\"/>\n",
       "    </svg>\n",
       "    <svg class=\"logo-dark\" width=\"18\" height=\"18\" viewBox=\"0 0 48 48\" xmlns=\"http://www.w3.org/2000/svg\">\n",
       "      <circle cx=\"24\" cy=\"23\" fill=\"#FFF\" r=\"22\"/>\n",
       "      <path d=\"M33.76 34.26c2.75-2.56 4.49-6.37 4.49-11.26 0-.89-.08-1.84-.29-3H24.01v5.99h8.03c-.4 2.02-1.5 3.56-3.07 4.56v.75l3.91 2.97h.88z\" fill=\"#4285F4\"/>\n",
       "      <path d=\"M15.58 25.77A8.845 8.845 0 0 0 24 31.86c1.92 0 3.62-.46 4.97-1.31l4.79 3.71C31.14 36.7 27.65 38 24 38c-5.93 0-11.01-3.4-13.45-8.36l.17-1.01 4.06-2.85h.8z\" fill=\"#34A853\"/>\n",
       "      <path d=\"M15.59 20.21a8.864 8.864 0 0 0 0 5.58l-5.03 3.86c-.98-2-1.53-4.25-1.53-6.64 0-2.39.55-4.64 1.53-6.64l1-.22 3.81 2.98.22 1.08z\" fill=\"#FBBC05\"/>\n",
       "      <path d=\"M24 14.14c2.11 0 4.02.75 5.52 1.98l4.36-4.36C31.22 9.43 27.81 8 24 8c-5.93 0-11.01 3.4-13.45 8.36l5.03 3.85A8.86 8.86 0 0 1 24 14.14z\" fill=\"#EA4335\"/>\n",
       "    </svg>\n",
       "    <div class=\"gradient-container\"><div class=\"gradient\"></div></div>\n",
       "  </div>\n",
       "  <div class=\"carousel\">\n",
       "    <a class=\"chip\" href=\"https://vertexaisearch.cloud.google.com/grounding-api-redirect/AbF9wXGtw_Olb-tNFBNAYFgktELnuZrMubngsY1eXLwM_b9usSnAU259h2USPC6Vp6SuKu5c-qnEnwTbbfYeZz2aH__YwozFTWkpy83fa_fHQr1QWR6RSv5ttdh1tnSVB0D8nuHjDsDXL5lb6em51Uz3U5VHXwrbbX9KhW-RekTKlltWdpuIRU0rBEDUwZppm9UKvfP3Awz6b34sDzKckzjNa7Sl0LeTg8gsFX_nKU1gqp_yT6PWdGZuS6gQidZ2oKuoBnBOzqSPTA62sWdy5Xl5FZZ30gx4qGpJWa_EknISyIMv-HuoWw983WRlCA==\">高田馬場 おすすめ カレー</a>\n",
       "  </div>\n",
       "</div>\n"
      ],
      "text/plain": [
       "<IPython.core.display.HTML object>"
      ]
     },
     "metadata": {},
     "output_type": "display_data"
    }
   ],
   "source": [
    "from IPython.display import display, HTML\n",
    "\n",
    "search_queries = session.events[-1].grounding_metadata.web_search_queries\n",
    "entry_point_html = session.events[-1].grounding_metadata.search_entry_point.rendered_content\n",
    "\n",
    "print(search_queries)\n",
    "display(HTML(entry_point_html))"
   ]
  },
  {
   "cell_type": "markdown",
   "id": "1ee87ca8-6cbe-4aad-a0ec-8bae7a2405ba",
   "metadata": {},
   "source": [
    "続けて質問すると、セッション情報を踏まえた回答が得られます。"
   ]
  },
  {
   "cell_type": "code",
   "execution_count": 29,
   "id": "490a39f2-3da9-49a6-bba2-530de530919b",
   "metadata": {
    "tags": []
   },
   "outputs": [
    {
     "name": "stdout",
     "output_type": "stream",
     "text": [
      " 家族連れにおすすめの高田馬場のカレー屋さんについて調べてみます。\n",
      "\n",
      "\n",
      " 家族連れにおすすめとなると、いくつかポイントがありますね。\n",
      "\n",
      "*   **子供向けメニューやサービス:** 子供用のメニューがあるか、子供用椅子があるか、離乳食の持ち込みが可能かなどが重要です。\n",
      "*   **お店の雰囲気:** 子連れでも気兼ねなく入れる雰囲気かどうかも大切です。\n",
      "*   **座席:** ベビーカーを置けるスペースがあるか、子供が動きやすい座敷席があるかなども考慮したい点です。\n",
      "\n",
      "これらの点を踏まえて、高田馬場でおすすめのカレー屋さんをいくつかご紹介します。\n",
      "\n",
      "*   **プネウマカレー:** こちらのお店は、mamacoという子連れママ向けのグルメナビサイトで紹介されています。小さなお子様連れでもテイクアウトができるので、自宅でゆっくり味わうのも良いでしょう。\n",
      "* **インド料理＆ファミリーレストラン ナマステヒマール:** 楽天ぐるなびによると、早稲田にありますが、子供連れOKとのことです。\n",
      "\n",
      "食べログなどのグルメサイトでは、子連れで利用しやすいお店を検索できる機能があります。「高田馬場」と「子連れ」をキーワードに検索して、口コミやお店の情報を確認してみるのがおすすめです。\n",
      "\n"
     ]
    }
   ],
   "source": [
    "query = '''\n",
    "特に家族連れにおすすめなのは？\n",
    "'''\n",
    "_ = await client.stream(query)"
   ]
  },
  {
   "cell_type": "markdown",
   "id": "adb7736d-f47d-4f07-bd3a-9a14e938213f",
   "metadata": {},
   "source": [
    "先ほどと同様にセッションに記録されたイベントを確認すると、新しい質問と回答のイベントが追加されています。"
   ]
  },
  {
   "cell_type": "code",
   "execution_count": 30,
   "id": "d0152f2c-6ae9-42fa-a637-bcc0031d213d",
   "metadata": {
    "tags": []
   },
   "outputs": [
    {
     "name": "stdout",
     "output_type": "stream",
     "text": [
      "2025-05-18 21:23:01.997360 user\n",
      "2025-05-18 21:23:01.998311 search_agent\n",
      "2025-05-18 21:23:17.199571 user\n",
      "2025-05-18 21:23:17.200245 search_agent\n"
     ]
    }
   ],
   "source": [
    "session = client._runner.session_service.get_session(\n",
    "    app_name = app_name,\n",
    "    user_id = user_id,\n",
    "    session_id = session_id,\n",
    ")\n",
    "\n",
    "for event in session.events:\n",
    "    print(format_timestamp(event.timestamp), event.author)"
   ]
  },
  {
   "cell_type": "code",
   "execution_count": 31,
   "id": "d2a30735-909d-4ce0-8f69-59d1894ef24c",
   "metadata": {
    "tags": []
   },
   "outputs": [
    {
     "name": "stdout",
     "output_type": "stream",
     "text": [
      "['高田馬場 カレー ファミリー', '高田馬場 カレー 子連れ', '高田馬場 レストラン 子連れ', '高田馬場 ディナー 子連れ', '高田馬場 カレー おすすめ']\n"
     ]
    },
    {
     "data": {
      "text/html": [
       "<style>\n",
       ".container {\n",
       "  align-items: center;\n",
       "  border-radius: 8px;\n",
       "  display: flex;\n",
       "  font-family: Google Sans, Roboto, sans-serif;\n",
       "  font-size: 14px;\n",
       "  line-height: 20px;\n",
       "  padding: 8px 12px;\n",
       "}\n",
       ".chip {\n",
       "  display: inline-block;\n",
       "  border: solid 1px;\n",
       "  border-radius: 16px;\n",
       "  min-width: 14px;\n",
       "  padding: 5px 16px;\n",
       "  text-align: center;\n",
       "  user-select: none;\n",
       "  margin: 0 8px;\n",
       "  -webkit-tap-highlight-color: transparent;\n",
       "}\n",
       ".carousel {\n",
       "  overflow: auto;\n",
       "  scrollbar-width: none;\n",
       "  white-space: nowrap;\n",
       "  margin-right: -12px;\n",
       "}\n",
       ".headline {\n",
       "  display: flex;\n",
       "  margin-right: 4px;\n",
       "}\n",
       ".gradient-container {\n",
       "  position: relative;\n",
       "}\n",
       ".gradient {\n",
       "  position: absolute;\n",
       "  transform: translate(3px, -9px);\n",
       "  height: 36px;\n",
       "  width: 9px;\n",
       "}\n",
       "@media (prefers-color-scheme: light) {\n",
       "  .container {\n",
       "    background-color: #fafafa;\n",
       "    box-shadow: 0 0 0 1px #0000000f;\n",
       "  }\n",
       "  .headline-label {\n",
       "    color: #1f1f1f;\n",
       "  }\n",
       "  .chip {\n",
       "    background-color: #ffffff;\n",
       "    border-color: #d2d2d2;\n",
       "    color: #5e5e5e;\n",
       "    text-decoration: none;\n",
       "  }\n",
       "  .chip:hover {\n",
       "    background-color: #f2f2f2;\n",
       "  }\n",
       "  .chip:focus {\n",
       "    background-color: #f2f2f2;\n",
       "  }\n",
       "  .chip:active {\n",
       "    background-color: #d8d8d8;\n",
       "    border-color: #b6b6b6;\n",
       "  }\n",
       "  .logo-dark {\n",
       "    display: none;\n",
       "  }\n",
       "  .gradient {\n",
       "    background: linear-gradient(90deg, #fafafa 15%, #fafafa00 100%);\n",
       "  }\n",
       "}\n",
       "@media (prefers-color-scheme: dark) {\n",
       "  .container {\n",
       "    background-color: #1f1f1f;\n",
       "    box-shadow: 0 0 0 1px #ffffff26;\n",
       "  }\n",
       "  .headline-label {\n",
       "    color: #fff;\n",
       "  }\n",
       "  .chip {\n",
       "    background-color: #2c2c2c;\n",
       "    border-color: #3c4043;\n",
       "    color: #fff;\n",
       "    text-decoration: none;\n",
       "  }\n",
       "  .chip:hover {\n",
       "    background-color: #353536;\n",
       "  }\n",
       "  .chip:focus {\n",
       "    background-color: #353536;\n",
       "  }\n",
       "  .chip:active {\n",
       "    background-color: #464849;\n",
       "    border-color: #53575b;\n",
       "  }\n",
       "  .logo-light {\n",
       "    display: none;\n",
       "  }\n",
       "  .gradient {\n",
       "    background: linear-gradient(90deg, #1f1f1f 15%, #1f1f1f00 100%);\n",
       "  }\n",
       "}\n",
       "</style>\n",
       "<div class=\"container\">\n",
       "  <div class=\"headline\">\n",
       "    <svg class=\"logo-light\" width=\"18\" height=\"18\" viewBox=\"9 9 35 35\" fill=\"none\" xmlns=\"http://www.w3.org/2000/svg\">\n",
       "      <path fill-rule=\"evenodd\" clip-rule=\"evenodd\" d=\"M42.8622 27.0064C42.8622 25.7839 42.7525 24.6084 42.5487 23.4799H26.3109V30.1568H35.5897C35.1821 32.3041 33.9596 34.1222 32.1258 35.3448V39.6864H37.7213C40.9814 36.677 42.8622 32.2571 42.8622 27.0064V27.0064Z\" fill=\"#4285F4\"/>\n",
       "      <path fill-rule=\"evenodd\" clip-rule=\"evenodd\" d=\"M26.3109 43.8555C30.9659 43.8555 34.8687 42.3195 37.7213 39.6863L32.1258 35.3447C30.5898 36.3792 28.6306 37.0061 26.3109 37.0061C21.8282 37.0061 18.0195 33.9811 16.6559 29.906H10.9194V34.3573C13.7563 39.9841 19.5712 43.8555 26.3109 43.8555V43.8555Z\" fill=\"#34A853\"/>\n",
       "      <path fill-rule=\"evenodd\" clip-rule=\"evenodd\" d=\"M16.6559 29.8904C16.3111 28.8559 16.1074 27.7588 16.1074 26.6146C16.1074 25.4704 16.3111 24.3733 16.6559 23.3388V18.8875H10.9194C9.74388 21.2072 9.06992 23.8247 9.06992 26.6146C9.06992 29.4045 9.74388 32.022 10.9194 34.3417L15.3864 30.8621L16.6559 29.8904V29.8904Z\" fill=\"#FBBC05\"/>\n",
       "      <path fill-rule=\"evenodd\" clip-rule=\"evenodd\" d=\"M26.3109 16.2386C28.85 16.2386 31.107 17.1164 32.9095 18.8091L37.8466 13.8719C34.853 11.082 30.9659 9.3736 26.3109 9.3736C19.5712 9.3736 13.7563 13.245 10.9194 18.8875L16.6559 23.3388C18.0195 19.2636 21.8282 16.2386 26.3109 16.2386V16.2386Z\" fill=\"#EA4335\"/>\n",
       "    </svg>\n",
       "    <svg class=\"logo-dark\" width=\"18\" height=\"18\" viewBox=\"0 0 48 48\" xmlns=\"http://www.w3.org/2000/svg\">\n",
       "      <circle cx=\"24\" cy=\"23\" fill=\"#FFF\" r=\"22\"/>\n",
       "      <path d=\"M33.76 34.26c2.75-2.56 4.49-6.37 4.49-11.26 0-.89-.08-1.84-.29-3H24.01v5.99h8.03c-.4 2.02-1.5 3.56-3.07 4.56v.75l3.91 2.97h.88z\" fill=\"#4285F4\"/>\n",
       "      <path d=\"M15.58 25.77A8.845 8.845 0 0 0 24 31.86c1.92 0 3.62-.46 4.97-1.31l4.79 3.71C31.14 36.7 27.65 38 24 38c-5.93 0-11.01-3.4-13.45-8.36l.17-1.01 4.06-2.85h.8z\" fill=\"#34A853\"/>\n",
       "      <path d=\"M15.59 20.21a8.864 8.864 0 0 0 0 5.58l-5.03 3.86c-.98-2-1.53-4.25-1.53-6.64 0-2.39.55-4.64 1.53-6.64l1-.22 3.81 2.98.22 1.08z\" fill=\"#FBBC05\"/>\n",
       "      <path d=\"M24 14.14c2.11 0 4.02.75 5.52 1.98l4.36-4.36C31.22 9.43 27.81 8 24 8c-5.93 0-11.01 3.4-13.45 8.36l5.03 3.85A8.86 8.86 0 0 1 24 14.14z\" fill=\"#EA4335\"/>\n",
       "    </svg>\n",
       "    <div class=\"gradient-container\"><div class=\"gradient\"></div></div>\n",
       "  </div>\n",
       "  <div class=\"carousel\">\n",
       "    <a class=\"chip\" href=\"https://vertexaisearch.cloud.google.com/grounding-api-redirect/AbF9wXG6R4FReW1BxQMXMj6Juhf3SxXbLZN3lt677pdLhFCiuU5L8PHIwrBVDilvOt-zGmDi85GDY6u7Si-p0AQVrMKsOsOkKuFsMnXdgSp91GIoQ-9oEgVBP3N4aNhHOkQOwOXLeDqARRFlPdxQlkYpSRHneXQLA4MWCdYzFzr5yLxDMoF3Gx3NkF28ddU_YcSVKQxXSXYq93hXWjv4AxgCUEDta3Y4yzxxzwU2ZrMdrzpf5y47oNhiCRdKT774LbV130lXfc_H2ilXgZrnYnB0oM7_VVkhi5PcHb0R-_wsUbsamdPG3mqDbx7YSg==\">高田馬場 カレー おすすめ</a>\n",
       "    <a class=\"chip\" href=\"https://vertexaisearch.cloud.google.com/grounding-api-redirect/AbF9wXEtm4fCdJMKOaf9dFS_y30QDak4W5R8IY4UQgeZD5zUh8W_t8dqdmbYiowBonFk9Dv6c0GuCL0ldDRLyVbC0yIoYiLm5njwbZaaZ96KVTvk7fQtNQIomMoVqC4WwBIFBhqWOjeR29ZnopX6EbnM1WiLHqd5xPThmZYT23uKSMi1qk21nEJxBEAfpdeKfM67Xb6NQGgIia4mriIcyPmNzqgVIAkrsYt_AGHRoM6dXjczoi53THX_2UzAGzHxekskXvobVYwwy4PgK_5n4rdpwfcFNUjVCGWOHWgqqgUJtk-agA==\">高田馬場 カレー 子連れ</a>\n",
       "    <a class=\"chip\" href=\"https://vertexaisearch.cloud.google.com/grounding-api-redirect/AbF9wXH8Yhg8nqJK45Mtmmi0YiYCwbz2IgKKewfMDt6yNRGs9iFtp8zA3NuTWf6FkBJ6mxctGg58OspCRl8OLSJ1aowSGSChvv5vuNQ8VzlJ_7egA_tIgFDtj_LqM7rudale3Ka9HRBCjrMb8yvseeg_2H4PHhQQCpoYe1a7yzqnfqs-nkwnHFwyQqWF_TSvaUGRfjDXwB8v8BWDzeqGzXxTPuUVnLvGbqJP7mMCgywTazfdUE1paGx1LGojGoARXGB5An4HVDJ6SaiOOdhFJeRL6Jsii0PFJIV8bLQXPFrAayPiDhfqCYQAhjkeJ1MwFdvu25uptQ==\">高田馬場 カレー ファミリー</a>\n",
       "    <a class=\"chip\" href=\"https://vertexaisearch.cloud.google.com/grounding-api-redirect/AbF9wXExSfE6WEd6OUcuZLDjruT1-639NYrAP_6_uq0hgbrP7Xg8rtfgpDHQzK4vChpz6zPpE8IYLUyh4Y8ofklINNQBw5_C6br5ZpSWjvu1CLIUqrd_EHW2lG9K7XihjXP3YjfO-Ehn8LTywZE5U2uWbFqiSVducgb5Ye0EF9Z-_vda8XvT-DAasL5ecnqImzpGGocXVNgl2rEPvE54e8_lUC7lLrICIo-vo6-JG7ki8TO2RhGnQVUBE58EERkvLf63ZeO696FiME3hhOte43mpBzkCXpVRMDR0FVgfc_bWsX8DvVi_rBVS4fUobA==\">高田馬場 ディナー 子連れ</a>\n",
       "    <a class=\"chip\" href=\"https://vertexaisearch.cloud.google.com/grounding-api-redirect/AbF9wXEjNz7n8u_vwG289zTs7UGPYIHdfPli0zvxOIZPKchnenuBWGgtak02FUU0oJc6fX8BSw2svwI0tcTa7WUc0VcJd7ye_-zMqasGiwRz86NnTyW6JxWJAMy6wsAMVYXric9xaj9qM0rrLzHlgyz8ijOLOl4ZeOUs5bkOhIcRfthnIzgxTjxCNVoCiMYBKs2O1jL96rlSdVMkpq_7dsh5eQdzsa9ETOwUgzvrqm7SjxhCBnyL71CzyfC2yk99cfSKNTyWiPbrN8nGABmgfaCj7A2Jd-OGH8i1dgVICbiovRG1_gWBysRzpFoMdTpAhfaOB0FxEw==\">高田馬場 レストラン 子連れ</a>\n",
       "  </div>\n",
       "</div>\n"
      ],
      "text/plain": [
       "<IPython.core.display.HTML object>"
      ]
     },
     "metadata": {},
     "output_type": "display_data"
    }
   ],
   "source": [
    "search_queries = session.events[-1].grounding_metadata.web_search_queries\n",
    "entry_point_html = session.events[-1].grounding_metadata.search_entry_point.rendered_content\n",
    "\n",
    "print(search_queries)\n",
    "display(HTML(entry_point_html))"
   ]
  },
  {
   "cell_type": "markdown",
   "id": "e2a70f99-4d13-4b5d-b001-53feeefa9f80",
   "metadata": {
    "jp-MarkdownHeadingCollapsed": true,
    "tags": []
   },
   "source": [
    "## システムインストラクションの確認"
   ]
  },
  {
   "cell_type": "markdown",
   "id": "5bfac680-ef89-45e8-b2c1-33e7142a128b",
   "metadata": {},
   "source": [
    "ちょっとした裏技を使って、LlmAgent オブジェクトが Gemini API に送っている生の情報を覗いてみます。"
   ]
  },
  {
   "cell_type": "code",
   "execution_count": 32,
   "id": "be3cb571-7668-4e52-a391-f5fd566219c8",
   "metadata": {
    "tags": []
   },
   "outputs": [],
   "source": [
    "import pprint\n",
    "from google.adk.agents.invocation_context import InvocationContext\n",
    "from typing import AsyncGenerator\n",
    "from google.adk.events.event import Event\n",
    "from google.adk.models.llm_request import LlmRequest\n",
    "\n",
    "async def _run_one_step_async(\n",
    "      self,\n",
    "      invocation_context: InvocationContext,\n",
    "  ) -> AsyncGenerator[Event, None]:\n",
    "    \"\"\"One step means one LLM call.\"\"\"\n",
    "    llm_request = LlmRequest()\n",
    "\n",
    "    # Preprocess before calling the LLM.\n",
    "    async for event in self._preprocess_async(invocation_context, llm_request):\n",
    "        yield event\n",
    "    if invocation_context.end_invocation:\n",
    "        return\n",
    "\n",
    "    # Calls the LLM.\n",
    "    model_response_event = Event(\n",
    "        id=Event.new_id(),\n",
    "        invocation_id=invocation_context.invocation_id,\n",
    "        author=invocation_context.agent.name,\n",
    "        branch=invocation_context.branch,\n",
    "    )\n",
    "\n",
    "    ## DEBUG output\n",
    "    if DEBUG:\n",
    "        print('## Prompt contents ##')\n",
    "        pprint.pp(llm_request.contents)\n",
    "        print('----')\n",
    "        print('## System instruction ##')\n",
    "        print(llm_request.config.system_instruction)\n",
    "        print('----')\n",
    "        print('## Tools config ##')\n",
    "        pprint.pp(llm_request.config.tools)\n",
    "        print('----')\n",
    "    ####\n",
    "\n",
    "    async for llm_response in self._call_llm_async(\n",
    "        invocation_context, llm_request, model_response_event\n",
    "    ):\n",
    "        # Postprocess after calling the LLM.\n",
    "        async for event in self._postprocess_async(\n",
    "            invocation_context, llm_request, llm_response, model_response_event\n",
    "        ):\n",
    "            yield event\n",
    "\n",
    "from google.adk.flows.llm_flows.base_llm_flow import BaseLlmFlow\n",
    "_run_one_step_async_original = copy.deepcopy(BaseLlmFlow._run_one_step_async)\n",
    "BaseLlmFlow._run_one_step_async = _run_one_step_async"
   ]
  },
  {
   "cell_type": "code",
   "execution_count": 33,
   "id": "a8229c70-8171-4c92-81c4-04cc8ec0fb38",
   "metadata": {
    "tags": []
   },
   "outputs": [
    {
     "name": "stdout",
     "output_type": "stream",
     "text": [
      "## Prompt contents ##\n",
      "[UserContent(parts=[Part(video_metadata=None, thought=None, inline_data=None, code_execution_result=None, executable_code=None, file_data=None, function_call=None, function_response=None, text='\\n高田馬場のおすすめのカレー屋は？\\n')], role='user')]\n",
      "----\n",
      "## System instruction ##\n",
      "\n",
      "You are a friendly AI assistant that answers user's queries.\n",
      "Use google_search to give answers based on the latest and objective information.\n",
      "\n",
      "[Format instruction]\n",
      "Output in Japanese, in plain text only.\n",
      "Avoid adding citation marks such as [1][2].\n",
      "\n",
      "\n",
      "You are an agent. Your internal name is \"search_agent\".\n",
      "\n",
      " The description about you is \"Agent to answer questions using Google Search.\"\n",
      "----\n",
      "## Tools config ##\n",
      "[Tool(retrieval=None, google_search=GoogleSearch(), google_search_retrieval=None, enterprise_web_search=None, google_maps=None, code_execution=None, function_declarations=None)]\n",
      "----\n",
      " 高田馬場でおすすめのカレー屋について調べてみましょう。\n",
      "\n",
      " \n",
      " 高田馬場にはたくさんのカレー屋さんがありますね。おすすめのお店をいくつかご紹介します。\n",
      "\n",
      " *   **横浜ボンベイ**: サラッとしたルーが特徴で、特に「カシミールカレー」が人気です。辛口ですが、野菜の甘みとスパイスの爽快感が絶妙にマッチしています。\n",
      " *   **エチオピア**: 長時間煮込んだ野菜が美味しいカレーライス専門店です。\n",
      " *   **カレーライス専門店ブラザー**: 鯖キーマカレーが人気です。\n",
      " *   **プネウマカレー**: コスパの良いチキンカレーが人気です。\n",
      " *   **アプサラ**: スリランカカレーが楽しめます。\n",
      "\n",
      " 他にも、Rettyや食べログなどのサイトで多くのカレー店が紹介されていますので、参考にしてみてください。\n",
      "\n"
     ]
    }
   ],
   "source": [
    "client = LocalApp(search_agent, 'Search Agent App', 'user00')\n",
    "\n",
    "DEBUG = True\n",
    "query = '''\n",
    "高田馬場のおすすめのカレー屋は？\n",
    "'''\n",
    "_ = await client.stream(query)"
   ]
  },
  {
   "cell_type": "code",
   "execution_count": 34,
   "id": "36702715-d78d-42e5-a205-24a592265b6e",
   "metadata": {
    "tags": []
   },
   "outputs": [
    {
     "name": "stdout",
     "output_type": "stream",
     "text": [
      "## Prompt contents ##\n",
      "[UserContent(parts=[Part(video_metadata=None, thought=None, inline_data=None, code_execution_result=None, executable_code=None, file_data=None, function_call=None, function_response=None, text='\\n高田馬場のおすすめのカレー屋は？\\n')], role='user'),\n",
      " Content(parts=[Part(video_metadata=None, thought=None, inline_data=None, code_execution_result=None, executable_code=None, file_data=None, function_call=None, function_response=None, text=' 高田馬場でおすすめのカレー屋について調べてみましょう。\\n\\n '), Part(video_metadata=None, thought=None, inline_data=None, code_execution_result=None, executable_code=None, file_data=None, function_call=None, function_response=None, text=' 高田馬場にはたくさんのカレー屋さんがありますね。おすすめのお店をいくつかご紹介します。\\n\\n *   **横浜ボンベイ**: サラッとしたルーが特徴で、特に「カシミールカレー」が人気です。辛口ですが、野菜の甘みとスパイスの爽快感が絶妙にマッチしています。\\n *   **エチオピア**: 長時間煮込んだ野菜が美味しいカレーライス専門店です。\\n *   **カレーライス専門店ブラザー**: 鯖キーマカレーが人気です。\\n *   **プネウマカレー**: コスパの良いチキンカレーが人気です。\\n *   **アプサラ**: スリランカカレーが楽しめます。\\n\\n 他にも、Rettyや食べログなどのサイトで多くのカレー店が紹介されていますので、参考にしてみてください。\\n')], role='model'),\n",
      " UserContent(parts=[Part(video_metadata=None, thought=None, inline_data=None, code_execution_result=None, executable_code=None, file_data=None, function_call=None, function_response=None, text='\\n特に家族連れにおすすめなのは？\\n')], role='user')]\n",
      "----\n",
      "## System instruction ##\n",
      "\n",
      "You are a friendly AI assistant that answers user's queries.\n",
      "Use google_search to give answers based on the latest and objective information.\n",
      "\n",
      "[Format instruction]\n",
      "Output in Japanese, in plain text only.\n",
      "Avoid adding citation marks such as [1][2].\n",
      "\n",
      "\n",
      "You are an agent. Your internal name is \"search_agent\".\n",
      "\n",
      " The description about you is \"Agent to answer questions using Google Search.\"\n",
      "----\n",
      "## Tools config ##\n",
      "[Tool(retrieval=None, google_search=GoogleSearch(), google_search_retrieval=None, enterprise_web_search=None, google_maps=None, code_execution=None, function_declarations=None)]\n",
      "----\n",
      " 家族連れにおすすめの高田馬場のカレー屋さんを探してみます。\n",
      "\n",
      "\n",
      " 家族連れにおすすめのカレー屋さんはいくつかあります。\n",
      "\n",
      " *   **プネウマカレー**: こちらは、小さなお子様連れでも安心できるお店として紹介されています。店内はカウンター席のみですが、広々としているためベビーカーを置くこともできます。離乳食の持ち込みも可能で、土曜日にはお子様連れのお客さんも多いようです。サイズが4種類あるため、お子様とシェアしたり、お子様用に小盛を注文することもできます。\n",
      " *   **フードウェイ 高田馬場店**: こちらは、来店客の50%が家族連れで利用しており、子供連れでも入りやすいお店です。\n",
      "\n",
      " また、食べログでは高田馬場で「子連れ可」のカレー店が多数掲載されていますので、そちらも参考にしてみてください。\n",
      "\n"
     ]
    }
   ],
   "source": [
    "query = '''\n",
    "特に家族連れにおすすめなのは？\n",
    "'''\n",
    "_ = await client.stream(query)"
   ]
  },
  {
   "cell_type": "markdown",
   "id": "3da96ad4-1a1f-4a96-bf1c-006412202401",
   "metadata": {},
   "source": [
    "`## Prompt contents ##` の部分を見ると、セッションに記録されたイベントをすべてプロンプトに含めるのではなく、コンテキスト（これまでの会話の流れ）を把握するのに必要な情報が選択されていることがわかります。"
   ]
  },
  {
   "cell_type": "markdown",
   "id": "2dcf2f5a-01cc-48e7-b914-a5d2cfdd992f",
   "metadata": {},
   "source": [
    "裏技で変更した内部関数を元に戻しておきます。"
   ]
  },
  {
   "cell_type": "code",
   "execution_count": 35,
   "id": "4ec8b08e-6fd1-4b85-a71f-225ad93eddab",
   "metadata": {
    "tags": []
   },
   "outputs": [],
   "source": [
    "DEBUG = False\n",
    "BaseLlmFlow._run_one_step_async = _run_one_step_async_original"
   ]
  },
  {
   "cell_type": "markdown",
   "id": "1af5ce4f-ad07-4ff1-8b5a-a692c72136ad",
   "metadata": {
    "jp-MarkdownHeadingCollapsed": true,
    "tags": []
   },
   "source": [
    "## AgentEngine へのデプロイ"
   ]
  },
  {
   "cell_type": "code",
   "execution_count": 9,
   "id": "a70d1459-4afd-4d07-b25e-21b32c708396",
   "metadata": {
    "tags": []
   },
   "outputs": [
    {
     "name": "stdout",
     "output_type": "stream",
     "text": [
      "Deploying google.adk.agents.Agent as an application.\n",
      "Identified the following requirements: {'pydantic': '2.10.6', 'cloudpickle': '3.1.1', 'google-cloud-aiplatform': '1.93.0'}\n",
      "The following requirements are missing: {'pydantic', 'cloudpickle'}\n",
      "The following requirements are appended: {'pydantic==2.10.6', 'cloudpickle==3.1.1'}\n",
      "The final list of requirements: ['google-adk==0.5.0', 'google-cloud-aiplatform[agent_engines]==1.93.0', 'pydantic==2.10.6', 'cloudpickle==3.1.1']\n",
      "Using bucket etsuji-15pro-poc\n",
      "Wrote to gs://etsuji-15pro-poc/agent_engine/agent_engine.pkl\n",
      "Writing to gs://etsuji-15pro-poc/agent_engine/requirements.txt\n",
      "Creating in-memory tarfile of extra_packages\n",
      "Writing to gs://etsuji-15pro-poc/agent_engine/dependencies.tar.gz\n",
      "Creating AgentEngine\n",
      "Create AgentEngine backing LRO: projects/879055303739/locations/us-central1/reasoningEngines/2370520681205989376/operations/4368320492692570112\n",
      "View progress and logs at https://console.cloud.google.com/logs/query?project=etsuji-15pro-poc\n",
      "AgentEngine created. Resource name: projects/879055303739/locations/us-central1/reasoningEngines/2370520681205989376\n",
      "To use this AgentEngine in another session:\n",
      "agent_engine = vertexai.agent_engines.get('projects/879055303739/locations/us-central1/reasoningEngines/2370520681205989376')\n"
     ]
    }
   ],
   "source": [
    "from vertexai import agent_engines\n",
    "\n",
    "remote_agent = agent_engines.create(\n",
    "    agent_engine=search_agent,\n",
    "    requirements=[\n",
    "        'google-adk==0.5.0',\n",
    "        'google-cloud-aiplatform[agent_engines]==1.93.0',\n",
    "    ]\n",
    ")"
   ]
  },
  {
   "cell_type": "code",
   "execution_count": 10,
   "id": "932a6534-189a-467b-8fe0-b43572d3007c",
   "metadata": {
    "tags": []
   },
   "outputs": [],
   "source": [
    "class RemoteApp:\n",
    "    def __init__(self, remote_agent, user_id):\n",
    "        self._remote_agent = remote_agent\n",
    "        self._user_id = user_id\n",
    "        self._session = remote_agent.create_session(user_id=self._user_id)\n",
    "    \n",
    "    def _stream(self, query):\n",
    "        events = self._remote_agent.stream_query(\n",
    "            user_id=self._user_id,\n",
    "            session_id=self._session['id'],\n",
    "            message=query,\n",
    "        )\n",
    "        result = []\n",
    "        for event in events:\n",
    "            if ('content' in event and 'parts' in event['content']):\n",
    "                response = '\\n'.join(\n",
    "                    [p['text'] for p in event['content']['parts'] if 'text' in p]\n",
    "                )\n",
    "                if response:\n",
    "                    print(response)\n",
    "                    result.append(response)\n",
    "        return result\n",
    "\n",
    "    def stream(self, query):\n",
    "        # Retry 4 times in case of resource exhaustion \n",
    "        for c in range(4):\n",
    "            if c > 0:\n",
    "                time.sleep(2**(c-1))\n",
    "            result = self._stream(query)\n",
    "            if result:\n",
    "                return result\n",
    "            if DEBUG:\n",
    "                print('----\\nRetrying...\\n----')\n",
    "        return None # Permanent error"
   ]
  },
  {
   "cell_type": "code",
   "execution_count": 39,
   "id": "d614f2fb-2d9d-4e2b-9175-f603677aefbc",
   "metadata": {
    "tags": []
   },
   "outputs": [
    {
     "name": "stdout",
     "output_type": "stream",
     "text": [
      " 2025年のゴールデンウィークは、カレンダー通りに行くと、5月3日（土）から5月6日（火）までの4連休です。\n",
      "\n",
      "ただし、有給休暇をうまく利用すれば、もっと長くすることも可能です。例えば、4月28日（月）、4月30日（水）、5月1日（木）、5月2日（金）に有給休暇を取得すると、4月26日（土）から5月6日（火）までの12連休にすることができます。また、5月1日（木）と5月2日（金）に有給休暇を取得すると、4月29日（火）から5月6日（火）までの7連休にすることができます。\n",
      "\n"
     ]
    }
   ],
   "source": [
    "remote_client = RemoteApp(remote_agent, 'user00')\n",
    "\n",
    "query = '''\n",
    "今年のゴールデンウィークは、何連休でしょうか？\n",
    "'''\n",
    "_ = remote_client.stream(query)"
   ]
  },
  {
   "cell_type": "code",
   "execution_count": 40,
   "id": "c8856714-e948-4d0c-b7c5-47a41d1ecfe3",
   "metadata": {
    "tags": []
   },
   "outputs": [
    {
     "name": "stdout",
     "output_type": "stream",
     "text": [
      " 2026年のゴールデンウィークは、5月2日（土）から5月6日（水）までの5連休です。4月30日（木）と5月1日（金）に有給休暇を取得すると、4月29日（水）から5月6日（水）までの最大8連休にすることも可能です。\n",
      "\n"
     ]
    }
   ],
   "source": [
    "query = '''\n",
    "来年はどうなりますか？\n",
    "'''\n",
    "_ = remote_client.stream(query)"
   ]
  },
  {
   "cell_type": "markdown",
   "id": "100af7ef-31da-4685-9983-39586cd3c2cf",
   "metadata": {
    "tags": []
   },
   "source": [
    "セッション情報を参照する際は、`VertexAiSessionService` を使用します。"
   ]
  },
  {
   "cell_type": "code",
   "execution_count": 41,
   "id": "c2a7a06e-3c28-4962-8e0f-6068d895b897",
   "metadata": {
    "tags": []
   },
   "outputs": [
    {
     "data": {
      "text/plain": [
       "('100143519057838080', 'user00', '5906942052028907520')"
      ]
     },
     "execution_count": 41,
     "metadata": {},
     "output_type": "execute_result"
    }
   ],
   "source": [
    "app_name = remote_client._session['app_name']\n",
    "user_id = remote_client._session['user_id']\n",
    "session_id = remote_client._session['id']\n",
    "\n",
    "app_name, user_id, session_id"
   ]
  },
  {
   "cell_type": "code",
   "execution_count": 42,
   "id": "702e04e8-469d-409f-a3de-9847f624bd7a",
   "metadata": {
    "tags": []
   },
   "outputs": [
    {
     "data": {
      "text/plain": [
       "Session(id='5906942052028907520', app_name='100143519057838080', user_id='user00', state={}, events=[Event(content=Content(parts=[Part(video_metadata=None, thought=None, inline_data=None, code_execution_result=None, executable_code=None, file_data=None, function_call=None, function_response=None, text='\\n今年のゴールデンウィークは、何連休でしょうか？\\n')], role='user'), grounding_metadata=None, partial=None, turn_complete=None, error_code=None, error_message=None, interrupted=None, custom_metadata=None, invocation_id='e-536d602b-196c-494d-ae19-84e0692b5a77', author='user', actions=EventActions(skip_summarization=None, state_delta={}, artifact_delta={}, transfer_to_agent=None, escalate=None, requested_auth_configs={}), long_running_tool_ids=None, branch=None, id='9187233838428848128', timestamp=1747603552.023382), Event(content=Content(parts=[Part(video_metadata=None, thought=None, inline_data=None, code_execution_result=None, executable_code=None, file_data=None, function_call=None, function_response=None, text=' 2025年のゴールデンウィークは、カレンダー通りに行くと、5月3日（土）から5月6日（火）までの4連休です。\\n\\nただし、有給休暇をうまく利用すれば、もっと長くすることも可能です。例えば、4月28日（月）、4月30日（水）、5月1日（木）、5月2日（金）に有給休暇を取得すると、4月26日（土）から5月6日（火）までの12連休にすることができます。また、5月1日（木）と5月2日（金）に有給休暇を取得すると、4月29日（火）から5月6日（火）までの7連休にすることができます。\\n')], role='model'), grounding_metadata={'webSearchQueries': ['2025年ゴールデンウィークは何連休', '2025 ゴールデンウィーク 祝日'], 'searchEntryPoint': {'renderedContent': '<style>\\n.container {\\n  align-items: center;\\n  border-radius: 8px;\\n  display: flex;\\n  font-family: Google Sans, Roboto, sans-serif;\\n  font-size: 14px;\\n  line-height: 20px;\\n  padding: 8px 12px;\\n}\\n.chip {\\n  display: inline-block;\\n  border: solid 1px;\\n  border-radius: 16px;\\n  min-width: 14px;\\n  padding: 5px 16px;\\n  text-align: center;\\n  user-select: none;\\n  margin: 0 8px;\\n  -webkit-tap-highlight-color: transparent;\\n}\\n.carousel {\\n  overflow: auto;\\n  scrollbar-width: none;\\n  white-space: nowrap;\\n  margin-right: -12px;\\n}\\n.headline {\\n  display: flex;\\n  margin-right: 4px;\\n}\\n.gradient-container {\\n  position: relative;\\n}\\n.gradient {\\n  position: absolute;\\n  transform: translate(3px, -9px);\\n  height: 36px;\\n  width: 9px;\\n}\\n@media (prefers-color-scheme: light) {\\n  .container {\\n    background-color: #fafafa;\\n    box-shadow: 0 0 0 1px #0000000f;\\n  }\\n  .headline-label {\\n    color: #1f1f1f;\\n  }\\n  .chip {\\n    background-color: #ffffff;\\n    border-color: #d2d2d2;\\n    color: #5e5e5e;\\n    text-decoration: none;\\n  }\\n  .chip:hover {\\n    background-color: #f2f2f2;\\n  }\\n  .chip:focus {\\n    background-color: #f2f2f2;\\n  }\\n  .chip:active {\\n    background-color: #d8d8d8;\\n    border-color: #b6b6b6;\\n  }\\n  .logo-dark {\\n    display: none;\\n  }\\n  .gradient {\\n    background: linear-gradient(90deg, #fafafa 15%, #fafafa00 100%);\\n  }\\n}\\n@media (prefers-color-scheme: dark) {\\n  .container {\\n    background-color: #1f1f1f;\\n    box-shadow: 0 0 0 1px #ffffff26;\\n  }\\n  .headline-label {\\n    color: #fff;\\n  }\\n  .chip {\\n    background-color: #2c2c2c;\\n    border-color: #3c4043;\\n    color: #fff;\\n    text-decoration: none;\\n  }\\n  .chip:hover {\\n    background-color: #353536;\\n  }\\n  .chip:focus {\\n    background-color: #353536;\\n  }\\n  .chip:active {\\n    background-color: #464849;\\n    border-color: #53575b;\\n  }\\n  .logo-light {\\n    display: none;\\n  }\\n  .gradient {\\n    background: linear-gradient(90deg, #1f1f1f 15%, #1f1f1f00 100%);\\n  }\\n}\\n</style>\\n<div class=\"container\">\\n  <div class=\"headline\">\\n    <svg class=\"logo-light\" width=\"18\" height=\"18\" viewBox=\"9 9 35 35\" fill=\"none\" xmlns=\"http://www.w3.org/2000/svg\">\\n      <path fill-rule=\"evenodd\" clip-rule=\"evenodd\" d=\"M42.8622 27.0064C42.8622 25.7839 42.7525 24.6084 42.5487 23.4799H26.3109V30.1568H35.5897C35.1821 32.3041 33.9596 34.1222 32.1258 35.3448V39.6864H37.7213C40.9814 36.677 42.8622 32.2571 42.8622 27.0064V27.0064Z\" fill=\"#4285F4\"/>\\n      <path fill-rule=\"evenodd\" clip-rule=\"evenodd\" d=\"M26.3109 43.8555C30.9659 43.8555 34.8687 42.3195 37.7213 39.6863L32.1258 35.3447C30.5898 36.3792 28.6306 37.0061 26.3109 37.0061C21.8282 37.0061 18.0195 33.9811 16.6559 29.906H10.9194V34.3573C13.7563 39.9841 19.5712 43.8555 26.3109 43.8555V43.8555Z\" fill=\"#34A853\"/>\\n      <path fill-rule=\"evenodd\" clip-rule=\"evenodd\" d=\"M16.6559 29.8904C16.3111 28.8559 16.1074 27.7588 16.1074 26.6146C16.1074 25.4704 16.3111 24.3733 16.6559 23.3388V18.8875H10.9194C9.74388 21.2072 9.06992 23.8247 9.06992 26.6146C9.06992 29.4045 9.74388 32.022 10.9194 34.3417L15.3864 30.8621L16.6559 29.8904V29.8904Z\" fill=\"#FBBC05\"/>\\n      <path fill-rule=\"evenodd\" clip-rule=\"evenodd\" d=\"M26.3109 16.2386C28.85 16.2386 31.107 17.1164 32.9095 18.8091L37.8466 13.8719C34.853 11.082 30.9659 9.3736 26.3109 9.3736C19.5712 9.3736 13.7563 13.245 10.9194 18.8875L16.6559 23.3388C18.0195 19.2636 21.8282 16.2386 26.3109 16.2386V16.2386Z\" fill=\"#EA4335\"/>\\n    </svg>\\n    <svg class=\"logo-dark\" width=\"18\" height=\"18\" viewBox=\"0 0 48 48\" xmlns=\"http://www.w3.org/2000/svg\">\\n      <circle cx=\"24\" cy=\"23\" fill=\"#FFF\" r=\"22\"/>\\n      <path d=\"M33.76 34.26c2.75-2.56 4.49-6.37 4.49-11.26 0-.89-.08-1.84-.29-3H24.01v5.99h8.03c-.4 2.02-1.5 3.56-3.07 4.56v.75l3.91 2.97h.88z\" fill=\"#4285F4\"/>\\n      <path d=\"M15.58 25.77A8.845 8.845 0 0 0 24 31.86c1.92 0 3.62-.46 4.97-1.31l4.79 3.71C31.14 36.7 27.65 38 24 38c-5.93 0-11.01-3.4-13.45-8.36l.17-1.01 4.06-2.85h.8z\" fill=\"#34A853\"/>\\n      <path d=\"M15.59 20.21a8.864 8.864 0 0 0 0 5.58l-5.03 3.86c-.98-2-1.53-4.25-1.53-6.64 0-2.39.55-4.64 1.53-6.64l1-.22 3.81 2.98.22 1.08z\" fill=\"#FBBC05\"/>\\n      <path d=\"M24 14.14c2.11 0 4.02.75 5.52 1.98l4.36-4.36C31.22 9.43 27.81 8 24 8c-5.93 0-11.01 3.4-13.45 8.36l5.03 3.85A8.86 8.86 0 0 1 24 14.14z\" fill=\"#EA4335\"/>\\n    </svg>\\n    <div class=\"gradient-container\"><div class=\"gradient\"></div></div>\\n  </div>\\n  <div class=\"carousel\">\\n    <a class=\"chip\" href=\"https://vertexaisearch.cloud.google.com/grounding-api-redirect/AbF9wXEBgQfhVC5bEIaDwHQXw_h2LZf5DGFmPTGPNum0HtTr1ullSw7Tz3mHA3UO55GH7du60LGH749R-Ua91yhSV_O0savvYvCig8ZqRemejaSLUAcRP2beFofbUhmHfSU7iqslZsuuUANFglsXgMkpZQ2F4y25v1MCzmAutHVlBlE7-ULAZ_BP3U7H17v5E97oYOM1yG23mMtNXe1NuyAyR_yJUrY-yRg12C718rSNwcbV_7x7Md_atk_-hOCFNekznq13QZ31rLT7RsVWePRNksAi7id6XwA-30KHbRob_wTSnbffsg_pxBwiJOIJxbIRneZkm_tYiV6O8h3sgvCuxJF1nw7T55U=\">2025年ゴールデンウィークは何連休</a>\\n    <a class=\"chip\" href=\"https://vertexaisearch.cloud.google.com/grounding-api-redirect/AbF9wXGPS1uEMffNyqtN6JumRbnTwsHqeMx_cDAFBdPJaExK3UCBR6nUpj51433SNtchA4kzYB5U1WXvNIUchnGxr_HH6CB1dfgIoD4lQQiuZbOiy6riSQIqUdtC-q0TlAZYRM3OyRVwHJmZgl4qBttoK794wivnutNBNzw2CSMMq1rgwZ69wzosDG8YndeystElU2cukTz3MyBoozIqSMk156dczXwE4fVALP3HTya8LDLMT-pnGtY6DlrMmSZFbNkDKl-mZN2ouLdvmywO91t9eluNa0hq3GmotIVh5BXKuIPRTjhgJnr0QbIgZhZkjw==\">2025 ゴールデンウィーク 祝日</a>\\n  </div>\\n</div>\\n'}, 'groundingChunks': [{'web': {'uri': 'https://vertexaisearch.cloud.google.com/grounding-api-redirect/AbF9wXHRtOAH7454vasovbroPqz2iHLc6VxJY5OPdfosxCRfQsRZ4QScxn5rIGv4fcpPaEMJSQeWR5ROmBDRmbJTQQQlbf9mg6slm4EvHQxjhR0tOvMTqeNNpx91ufG1xBwyDqAnCWm6T94St8Gdz-o2FZNS0nVMhA==', 'title': 'shabell.co.jp', 'domain': 'shabell.co.jp'}}, {'web': {'uri': 'https://vertexaisearch.cloud.google.com/grounding-api-redirect/AbF9wXGAMVWtoG_W7SlbSfcPia9BI_oVD-QDEl2gqwRzaWJ2nQ3t0RxQ46uFBCWvag6EfY7hAAornhuM1Llc02b40BjQIPUxCjBB9fWfvmu3bM4v2FN7DQO_-EmZenJVclr3yfs=', 'title': 'shogakukan.co.jp', 'domain': 'shogakukan.co.jp'}}, {'web': {'uri': 'https://vertexaisearch.cloud.google.com/grounding-api-redirect/AbF9wXE2d8fFHA9k-wTBZY8kMjyda0IMzbhDCEIvOe5Ijvp9IVDFY2C7qSwEX11A1MV5x-iIcbj_UFdOwuFUQCtgOm3AWh6iwYtgaQdzgMJvsb4V-zIW-pV3vWI8rIDn7_utNan7HMueqel6tmzVxhIBXg==', 'title': 'hayamihyou.com', 'domain': 'hayamihyou.com'}}, {'web': {'uri': 'https://vertexaisearch.cloud.google.com/grounding-api-redirect/AbF9wXGxq_ajyaEuQiLURCca1fdNKqa_ADEQ4b8luVjrTinJQNLCRPFIiCMJ7jbuzlcehyt-DRw3MSnyFr9WjHle7Yf5MXmTswqbuETrbaMoichtSzVxzfbvMmhL5QkxED9w6-QdIYOCYxp-oY9iroxrJi_nuzs=', 'title': 'walkerplus.com', 'domain': 'walkerplus.com'}}, {'web': {'uri': 'https://vertexaisearch.cloud.google.com/grounding-api-redirect/AbF9wXHBUPVN946ChwXg0z1Z44jId7Od_ppguqZa922hFEgW3_t8QGFTN-B2MfRF2Ck9z6b4QY3eE_QHewqLUnVYzcNez5Rk2_SL8afVLLhLkiQDrmwiu6b3gzZ5ycnDlbvebwKb4TFQzggtbc-OJUI=', 'title': 'family-life.work', 'domain': 'family-life.work'}}, {'web': {'uri': 'https://vertexaisearch.cloud.google.com/grounding-api-redirect/AbF9wXFKrZcdE1j45etfUPBa1H-58NpTzaaFv-9GEk_rh-lrvoTvvCirhMSnnyNjS-FMziOjb9c2YDxcxDufmjfRmcBJbY9_Lwq9-tYM_YV93T-wSrxAdEFxNJtLDcJgSDOSvZTglQ==', 'title': 'iko-yo.net', 'domain': 'iko-yo.net'}}], 'groundingSupports': [{'segment': {'startIndex': 1, 'endIndex': 145, 'text': '2025年のゴールデンウィークは、カレンダー通りに行くと、5月3日（土）から5月6日（火）までの4連休です。'}, 'groundingChunkIndices': [0, 1, 2, 3, 4, 5], 'confidenceScores': [0.627279, 0.92122746, 0.9860523, 0.84657675, 0.8823271, 0.82316715]}, {'segment': {'startIndex': 147, 'endIndex': 636, 'text': 'ただし、有給休暇をうまく利用すれば、もっと長くすることも可能です。例えば、4月28日（月）、4月30日（水）、5月1日（木）、5月2日（金）に有給休暇を取得すると、4月26日（土）から5月6日（火）までの12連休にすることができます。また、5月1日（木）と5月2日（金）に有給休暇を取得すると、4月29日（火）から5月6日（火）までの7連休にすることができます。'}, 'groundingChunkIndices': [0], 'confidenceScores': [0.60012615]}], 'retrievalMetadata': {}}, partial=None, turn_complete=None, error_code=None, error_message=None, interrupted=None, custom_metadata=None, invocation_id='e-536d602b-196c-494d-ae19-84e0692b5a77', author='search_agent', actions=EventActions(skip_summarization=None, state_delta={}, artifact_delta={}, transfer_to_agent=None, escalate=None, requested_auth_configs={}), long_running_tool_ids=None, branch=None, id='6268901279892766720', timestamp=1747603552.100368), Event(content=Content(parts=[Part(video_metadata=None, thought=None, inline_data=None, code_execution_result=None, executable_code=None, file_data=None, function_call=None, function_response=None, text='\\n来年はどうなりますか？\\n')], role='user'), grounding_metadata=None, partial=None, turn_complete=None, error_code=None, error_message=None, interrupted=None, custom_metadata=None, invocation_id='e-f8b7bbf8-722a-471b-84e2-81be308e788b', author='user', actions=EventActions(skip_summarization=None, state_delta={}, artifact_delta={}, transfer_to_agent=None, escalate=None, requested_auth_configs={}), long_running_tool_ids=None, branch=None, id='3963058270679072768', timestamp=1747603581.147094), Event(content=Content(parts=[Part(video_metadata=None, thought=None, inline_data=None, code_execution_result=None, executable_code=None, file_data=None, function_call=None, function_response=None, text=' 2026年のゴールデンウィークは、5月2日（土）から5月6日（水）までの5連休です。4月30日（木）と5月1日（金）に有給休暇を取得すると、4月29日（水）から5月6日（水）までの最大8連休にすることも可能です。\\n')], role='model'), grounding_metadata={'webSearchQueries': ['2026 ゴールデンウィーク', 'ゴールデンウィーク 2026 何連休'], 'searchEntryPoint': {'renderedContent': '<style>\\n.container {\\n  align-items: center;\\n  border-radius: 8px;\\n  display: flex;\\n  font-family: Google Sans, Roboto, sans-serif;\\n  font-size: 14px;\\n  line-height: 20px;\\n  padding: 8px 12px;\\n}\\n.chip {\\n  display: inline-block;\\n  border: solid 1px;\\n  border-radius: 16px;\\n  min-width: 14px;\\n  padding: 5px 16px;\\n  text-align: center;\\n  user-select: none;\\n  margin: 0 8px;\\n  -webkit-tap-highlight-color: transparent;\\n}\\n.carousel {\\n  overflow: auto;\\n  scrollbar-width: none;\\n  white-space: nowrap;\\n  margin-right: -12px;\\n}\\n.headline {\\n  display: flex;\\n  margin-right: 4px;\\n}\\n.gradient-container {\\n  position: relative;\\n}\\n.gradient {\\n  position: absolute;\\n  transform: translate(3px, -9px);\\n  height: 36px;\\n  width: 9px;\\n}\\n@media (prefers-color-scheme: light) {\\n  .container {\\n    background-color: #fafafa;\\n    box-shadow: 0 0 0 1px #0000000f;\\n  }\\n  .headline-label {\\n    color: #1f1f1f;\\n  }\\n  .chip {\\n    background-color: #ffffff;\\n    border-color: #d2d2d2;\\n    color: #5e5e5e;\\n    text-decoration: none;\\n  }\\n  .chip:hover {\\n    background-color: #f2f2f2;\\n  }\\n  .chip:focus {\\n    background-color: #f2f2f2;\\n  }\\n  .chip:active {\\n    background-color: #d8d8d8;\\n    border-color: #b6b6b6;\\n  }\\n  .logo-dark {\\n    display: none;\\n  }\\n  .gradient {\\n    background: linear-gradient(90deg, #fafafa 15%, #fafafa00 100%);\\n  }\\n}\\n@media (prefers-color-scheme: dark) {\\n  .container {\\n    background-color: #1f1f1f;\\n    box-shadow: 0 0 0 1px #ffffff26;\\n  }\\n  .headline-label {\\n    color: #fff;\\n  }\\n  .chip {\\n    background-color: #2c2c2c;\\n    border-color: #3c4043;\\n    color: #fff;\\n    text-decoration: none;\\n  }\\n  .chip:hover {\\n    background-color: #353536;\\n  }\\n  .chip:focus {\\n    background-color: #353536;\\n  }\\n  .chip:active {\\n    background-color: #464849;\\n    border-color: #53575b;\\n  }\\n  .logo-light {\\n    display: none;\\n  }\\n  .gradient {\\n    background: linear-gradient(90deg, #1f1f1f 15%, #1f1f1f00 100%);\\n  }\\n}\\n</style>\\n<div class=\"container\">\\n  <div class=\"headline\">\\n    <svg class=\"logo-light\" width=\"18\" height=\"18\" viewBox=\"9 9 35 35\" fill=\"none\" xmlns=\"http://www.w3.org/2000/svg\">\\n      <path fill-rule=\"evenodd\" clip-rule=\"evenodd\" d=\"M42.8622 27.0064C42.8622 25.7839 42.7525 24.6084 42.5487 23.4799H26.3109V30.1568H35.5897C35.1821 32.3041 33.9596 34.1222 32.1258 35.3448V39.6864H37.7213C40.9814 36.677 42.8622 32.2571 42.8622 27.0064V27.0064Z\" fill=\"#4285F4\"/>\\n      <path fill-rule=\"evenodd\" clip-rule=\"evenodd\" d=\"M26.3109 43.8555C30.9659 43.8555 34.8687 42.3195 37.7213 39.6863L32.1258 35.3447C30.5898 36.3792 28.6306 37.0061 26.3109 37.0061C21.8282 37.0061 18.0195 33.9811 16.6559 29.906H10.9194V34.3573C13.7563 39.9841 19.5712 43.8555 26.3109 43.8555V43.8555Z\" fill=\"#34A853\"/>\\n      <path fill-rule=\"evenodd\" clip-rule=\"evenodd\" d=\"M16.6559 29.8904C16.3111 28.8559 16.1074 27.7588 16.1074 26.6146C16.1074 25.4704 16.3111 24.3733 16.6559 23.3388V18.8875H10.9194C9.74388 21.2072 9.06992 23.8247 9.06992 26.6146C9.06992 29.4045 9.74388 32.022 10.9194 34.3417L15.3864 30.8621L16.6559 29.8904V29.8904Z\" fill=\"#FBBC05\"/>\\n      <path fill-rule=\"evenodd\" clip-rule=\"evenodd\" d=\"M26.3109 16.2386C28.85 16.2386 31.107 17.1164 32.9095 18.8091L37.8466 13.8719C34.853 11.082 30.9659 9.3736 26.3109 9.3736C19.5712 9.3736 13.7563 13.245 10.9194 18.8875L16.6559 23.3388C18.0195 19.2636 21.8282 16.2386 26.3109 16.2386V16.2386Z\" fill=\"#EA4335\"/>\\n    </svg>\\n    <svg class=\"logo-dark\" width=\"18\" height=\"18\" viewBox=\"0 0 48 48\" xmlns=\"http://www.w3.org/2000/svg\">\\n      <circle cx=\"24\" cy=\"23\" fill=\"#FFF\" r=\"22\"/>\\n      <path d=\"M33.76 34.26c2.75-2.56 4.49-6.37 4.49-11.26 0-.89-.08-1.84-.29-3H24.01v5.99h8.03c-.4 2.02-1.5 3.56-3.07 4.56v.75l3.91 2.97h.88z\" fill=\"#4285F4\"/>\\n      <path d=\"M15.58 25.77A8.845 8.845 0 0 0 24 31.86c1.92 0 3.62-.46 4.97-1.31l4.79 3.71C31.14 36.7 27.65 38 24 38c-5.93 0-11.01-3.4-13.45-8.36l.17-1.01 4.06-2.85h.8z\" fill=\"#34A853\"/>\\n      <path d=\"M15.59 20.21a8.864 8.864 0 0 0 0 5.58l-5.03 3.86c-.98-2-1.53-4.25-1.53-6.64 0-2.39.55-4.64 1.53-6.64l1-.22 3.81 2.98.22 1.08z\" fill=\"#FBBC05\"/>\\n      <path d=\"M24 14.14c2.11 0 4.02.75 5.52 1.98l4.36-4.36C31.22 9.43 27.81 8 24 8c-5.93 0-11.01 3.4-13.45 8.36l5.03 3.85A8.86 8.86 0 0 1 24 14.14z\" fill=\"#EA4335\"/>\\n    </svg>\\n    <div class=\"gradient-container\"><div class=\"gradient\"></div></div>\\n  </div>\\n  <div class=\"carousel\">\\n    <a class=\"chip\" href=\"https://vertexaisearch.cloud.google.com/grounding-api-redirect/AbF9wXFEPS2Wk5CCXOHaGxS4Hk588TKenrHZlXjas7mmzCZAybX-09zcYkukjDeS8JjZHVHiaDbkjwaGrkKIIK0BPk1O-40NfpZf7yRyO2Lokk1uBi0SyxNe8OujYer93ZzzZUwMfHal3EJA0w2g30IcuLImHlZDC0pdrM8_-LZEsH7MeI5fRBJOu2r4YqLsLFHlNCZKiCKqDBeVVRkzjiOCtRsoGGXTlEiW6K_6WgBHbWPgsqk1TV5-_-gBtepaxLSUMfH4Eugeib4SqRAmIltMo87qm47a9qw720aNsxemKeMfxOgq0_Tr-lH_J_E4MyjK8kUCpdpeHQ==\">ゴールデンウィーク 2026 何連休</a>\\n    <a class=\"chip\" href=\"https://vertexaisearch.cloud.google.com/grounding-api-redirect/AbF9wXGBRjA53ZWYS9Li-phbLEzMS3w-YhrSRujs0LCtAD7OPfoH51kW-K6EjzBo7AAa4jAqqveREmVjpobfFfihINvz34nmF-8pbdhajhIbnKO3y_AEGVJnxB80_Xps7xaWYhxnsvOZGoI8FxWgnasx6IDelSYK5an34orj2IJmzLpXnePysxYQ6VfQzdTAsAM1M66XEhHL6p_-oyT_W_t2-tP51o_NpkBu4c-AKs9v_4g_p2FTTNH0xzlHTZ6g5O3eZFwAlRDx6-d8F91GwJ4X8bO8q9nloIzy8HVn\">2026 ゴールデンウィーク</a>\\n  </div>\\n</div>\\n'}, 'groundingChunks': [{'web': {'uri': 'https://vertexaisearch.cloud.google.com/grounding-api-redirect/AbF9wXG0_TcdHmv-zCdz3kqR5ABJS794q7AVypADBIEQi34U7aE2Dw3zSsLWP0HhuIrVfYfw7bcHyW-nP_orpPwYyTQ78g3vrCyQ8rSWeAQeyIjNWl4FDFmd-pugTMpJJGwos3nzWA==', 'title': 'youpouch.com', 'domain': 'youpouch.com'}}, {'web': {'uri': 'https://vertexaisearch.cloud.google.com/grounding-api-redirect/AbF9wXEmRMZjhxbz-vT3ZowtUKJw1a2Ba2NxJfuXObslYa-9FN2l0CE2Uaz_xCWljC1fDFZ3ObYXoy7_z6j5TthOPrWuWul8XQkDvOkg9-D2aC0-9hcuTlPMsbanGNPoerrPqyRj3M5R-F182Ik1aumb7pcO', 'title': 'impress.co.jp', 'domain': 'impress.co.jp'}}, {'web': {'uri': 'https://vertexaisearch.cloud.google.com/grounding-api-redirect/AbF9wXEiKU5D2XnDnJVuhVU42ypRj-B1UyaG3nN1lCCaVsiWbSymdCy8u-3GqYpA8DnIlErANd3-_NC_SG1PCx4T-zfqcX-wz6s9tlzo5eGJzASy18VTN40XuT_ZjPYb-H79o3g=', 'title': '9rando.info', 'domain': '9rando.info'}}], 'groundingSupports': [{'segment': {'startIndex': 1, 'endIndex': 279, 'text': '2026年のゴールデンウィークは、5月2日（土）から5月6日（水）までの5連休です。4月30日（木）と5月1日（金）に有給休暇を取得すると、4月29日（水）から5月6日（水）までの最大8連休にすることも可能です。'}, 'groundingChunkIndices': [0, 1, 2], 'confidenceScores': [0.855973, 0.71494824, 0.9760418]}], 'retrievalMetadata': {}}, partial=None, turn_complete=None, error_code=None, error_message=None, interrupted=None, custom_metadata=None, invocation_id='e-f8b7bbf8-722a-471b-84e2-81be308e788b', author='search_agent', actions=EventActions(skip_summarization=None, state_delta={}, artifact_delta={}, transfer_to_agent=None, escalate=None, requested_auth_configs={}), long_running_tool_ids=None, branch=None, id='2684035976505851904', timestamp=1747603581.188163)], last_update_time=1747603582.925065)"
      ]
     },
     "execution_count": 42,
     "metadata": {},
     "output_type": "execute_result"
    }
   ],
   "source": [
    "from google.adk.sessions import VertexAiSessionService\n",
    "\n",
    "session_service = VertexAiSessionService(\n",
    "    project = PROJECT_ID,\n",
    "    location = LOCATION,\n",
    ")\n",
    "\n",
    "session = session_service.get_session(\n",
    "    app_name=app_name,\n",
    "    user_id=user_id,\n",
    "    session_id=session_id,\n",
    ")\n",
    "\n",
    "session"
   ]
  },
  {
   "cell_type": "code",
   "execution_count": 43,
   "id": "f5ade0df-17fa-48a8-b705-b5ccea3295d4",
   "metadata": {
    "tags": []
   },
   "outputs": [
    {
     "name": "stdout",
     "output_type": "stream",
     "text": [
      "2025-05-18 21:25:52.023382 user\n",
      "2025-05-18 21:25:52.100368 search_agent\n",
      "2025-05-18 21:26:21.147094 user\n",
      "2025-05-18 21:26:21.188163 search_agent\n"
     ]
    }
   ],
   "source": [
    "for event in session.events:\n",
    "    print(format_timestamp(event.timestamp), event.author)"
   ]
  },
  {
   "cell_type": "markdown",
   "id": "08ff5646-8e46-4438-8f45-1a627d73d984",
   "metadata": {},
   "source": [
    "Event オブジェクトの構造がローカルで実行する場合と少し異なるので注意してください。"
   ]
  },
  {
   "cell_type": "code",
   "execution_count": 53,
   "id": "61851b85-34ec-49b1-9c52-3b600a0853de",
   "metadata": {
    "tags": []
   },
   "outputs": [
    {
     "name": "stdout",
     "output_type": "stream",
     "text": [
      "['2025年ゴールデンウィークは何連休', '2025 ゴールデンウィーク 祝日']\n"
     ]
    },
    {
     "data": {
      "text/html": [
       "<style>\n",
       ".container {\n",
       "  align-items: center;\n",
       "  border-radius: 8px;\n",
       "  display: flex;\n",
       "  font-family: Google Sans, Roboto, sans-serif;\n",
       "  font-size: 14px;\n",
       "  line-height: 20px;\n",
       "  padding: 8px 12px;\n",
       "}\n",
       ".chip {\n",
       "  display: inline-block;\n",
       "  border: solid 1px;\n",
       "  border-radius: 16px;\n",
       "  min-width: 14px;\n",
       "  padding: 5px 16px;\n",
       "  text-align: center;\n",
       "  user-select: none;\n",
       "  margin: 0 8px;\n",
       "  -webkit-tap-highlight-color: transparent;\n",
       "}\n",
       ".carousel {\n",
       "  overflow: auto;\n",
       "  scrollbar-width: none;\n",
       "  white-space: nowrap;\n",
       "  margin-right: -12px;\n",
       "}\n",
       ".headline {\n",
       "  display: flex;\n",
       "  margin-right: 4px;\n",
       "}\n",
       ".gradient-container {\n",
       "  position: relative;\n",
       "}\n",
       ".gradient {\n",
       "  position: absolute;\n",
       "  transform: translate(3px, -9px);\n",
       "  height: 36px;\n",
       "  width: 9px;\n",
       "}\n",
       "@media (prefers-color-scheme: light) {\n",
       "  .container {\n",
       "    background-color: #fafafa;\n",
       "    box-shadow: 0 0 0 1px #0000000f;\n",
       "  }\n",
       "  .headline-label {\n",
       "    color: #1f1f1f;\n",
       "  }\n",
       "  .chip {\n",
       "    background-color: #ffffff;\n",
       "    border-color: #d2d2d2;\n",
       "    color: #5e5e5e;\n",
       "    text-decoration: none;\n",
       "  }\n",
       "  .chip:hover {\n",
       "    background-color: #f2f2f2;\n",
       "  }\n",
       "  .chip:focus {\n",
       "    background-color: #f2f2f2;\n",
       "  }\n",
       "  .chip:active {\n",
       "    background-color: #d8d8d8;\n",
       "    border-color: #b6b6b6;\n",
       "  }\n",
       "  .logo-dark {\n",
       "    display: none;\n",
       "  }\n",
       "  .gradient {\n",
       "    background: linear-gradient(90deg, #fafafa 15%, #fafafa00 100%);\n",
       "  }\n",
       "}\n",
       "@media (prefers-color-scheme: dark) {\n",
       "  .container {\n",
       "    background-color: #1f1f1f;\n",
       "    box-shadow: 0 0 0 1px #ffffff26;\n",
       "  }\n",
       "  .headline-label {\n",
       "    color: #fff;\n",
       "  }\n",
       "  .chip {\n",
       "    background-color: #2c2c2c;\n",
       "    border-color: #3c4043;\n",
       "    color: #fff;\n",
       "    text-decoration: none;\n",
       "  }\n",
       "  .chip:hover {\n",
       "    background-color: #353536;\n",
       "  }\n",
       "  .chip:focus {\n",
       "    background-color: #353536;\n",
       "  }\n",
       "  .chip:active {\n",
       "    background-color: #464849;\n",
       "    border-color: #53575b;\n",
       "  }\n",
       "  .logo-light {\n",
       "    display: none;\n",
       "  }\n",
       "  .gradient {\n",
       "    background: linear-gradient(90deg, #1f1f1f 15%, #1f1f1f00 100%);\n",
       "  }\n",
       "}\n",
       "</style>\n",
       "<div class=\"container\">\n",
       "  <div class=\"headline\">\n",
       "    <svg class=\"logo-light\" width=\"18\" height=\"18\" viewBox=\"9 9 35 35\" fill=\"none\" xmlns=\"http://www.w3.org/2000/svg\">\n",
       "      <path fill-rule=\"evenodd\" clip-rule=\"evenodd\" d=\"M42.8622 27.0064C42.8622 25.7839 42.7525 24.6084 42.5487 23.4799H26.3109V30.1568H35.5897C35.1821 32.3041 33.9596 34.1222 32.1258 35.3448V39.6864H37.7213C40.9814 36.677 42.8622 32.2571 42.8622 27.0064V27.0064Z\" fill=\"#4285F4\"/>\n",
       "      <path fill-rule=\"evenodd\" clip-rule=\"evenodd\" d=\"M26.3109 43.8555C30.9659 43.8555 34.8687 42.3195 37.7213 39.6863L32.1258 35.3447C30.5898 36.3792 28.6306 37.0061 26.3109 37.0061C21.8282 37.0061 18.0195 33.9811 16.6559 29.906H10.9194V34.3573C13.7563 39.9841 19.5712 43.8555 26.3109 43.8555V43.8555Z\" fill=\"#34A853\"/>\n",
       "      <path fill-rule=\"evenodd\" clip-rule=\"evenodd\" d=\"M16.6559 29.8904C16.3111 28.8559 16.1074 27.7588 16.1074 26.6146C16.1074 25.4704 16.3111 24.3733 16.6559 23.3388V18.8875H10.9194C9.74388 21.2072 9.06992 23.8247 9.06992 26.6146C9.06992 29.4045 9.74388 32.022 10.9194 34.3417L15.3864 30.8621L16.6559 29.8904V29.8904Z\" fill=\"#FBBC05\"/>\n",
       "      <path fill-rule=\"evenodd\" clip-rule=\"evenodd\" d=\"M26.3109 16.2386C28.85 16.2386 31.107 17.1164 32.9095 18.8091L37.8466 13.8719C34.853 11.082 30.9659 9.3736 26.3109 9.3736C19.5712 9.3736 13.7563 13.245 10.9194 18.8875L16.6559 23.3388C18.0195 19.2636 21.8282 16.2386 26.3109 16.2386V16.2386Z\" fill=\"#EA4335\"/>\n",
       "    </svg>\n",
       "    <svg class=\"logo-dark\" width=\"18\" height=\"18\" viewBox=\"0 0 48 48\" xmlns=\"http://www.w3.org/2000/svg\">\n",
       "      <circle cx=\"24\" cy=\"23\" fill=\"#FFF\" r=\"22\"/>\n",
       "      <path d=\"M33.76 34.26c2.75-2.56 4.49-6.37 4.49-11.26 0-.89-.08-1.84-.29-3H24.01v5.99h8.03c-.4 2.02-1.5 3.56-3.07 4.56v.75l3.91 2.97h.88z\" fill=\"#4285F4\"/>\n",
       "      <path d=\"M15.58 25.77A8.845 8.845 0 0 0 24 31.86c1.92 0 3.62-.46 4.97-1.31l4.79 3.71C31.14 36.7 27.65 38 24 38c-5.93 0-11.01-3.4-13.45-8.36l.17-1.01 4.06-2.85h.8z\" fill=\"#34A853\"/>\n",
       "      <path d=\"M15.59 20.21a8.864 8.864 0 0 0 0 5.58l-5.03 3.86c-.98-2-1.53-4.25-1.53-6.64 0-2.39.55-4.64 1.53-6.64l1-.22 3.81 2.98.22 1.08z\" fill=\"#FBBC05\"/>\n",
       "      <path d=\"M24 14.14c2.11 0 4.02.75 5.52 1.98l4.36-4.36C31.22 9.43 27.81 8 24 8c-5.93 0-11.01 3.4-13.45 8.36l5.03 3.85A8.86 8.86 0 0 1 24 14.14z\" fill=\"#EA4335\"/>\n",
       "    </svg>\n",
       "    <div class=\"gradient-container\"><div class=\"gradient\"></div></div>\n",
       "  </div>\n",
       "  <div class=\"carousel\">\n",
       "    <a class=\"chip\" href=\"https://vertexaisearch.cloud.google.com/grounding-api-redirect/AbF9wXEBgQfhVC5bEIaDwHQXw_h2LZf5DGFmPTGPNum0HtTr1ullSw7Tz3mHA3UO55GH7du60LGH749R-Ua91yhSV_O0savvYvCig8ZqRemejaSLUAcRP2beFofbUhmHfSU7iqslZsuuUANFglsXgMkpZQ2F4y25v1MCzmAutHVlBlE7-ULAZ_BP3U7H17v5E97oYOM1yG23mMtNXe1NuyAyR_yJUrY-yRg12C718rSNwcbV_7x7Md_atk_-hOCFNekznq13QZ31rLT7RsVWePRNksAi7id6XwA-30KHbRob_wTSnbffsg_pxBwiJOIJxbIRneZkm_tYiV6O8h3sgvCuxJF1nw7T55U=\">2025年ゴールデンウィークは何連休</a>\n",
       "    <a class=\"chip\" href=\"https://vertexaisearch.cloud.google.com/grounding-api-redirect/AbF9wXGPS1uEMffNyqtN6JumRbnTwsHqeMx_cDAFBdPJaExK3UCBR6nUpj51433SNtchA4kzYB5U1WXvNIUchnGxr_HH6CB1dfgIoD4lQQiuZbOiy6riSQIqUdtC-q0TlAZYRM3OyRVwHJmZgl4qBttoK794wivnutNBNzw2CSMMq1rgwZ69wzosDG8YndeystElU2cukTz3MyBoozIqSMk156dczXwE4fVALP3HTya8LDLMT-pnGtY6DlrMmSZFbNkDKl-mZN2ouLdvmywO91t9eluNa0hq3GmotIVh5BXKuIPRTjhgJnr0QbIgZhZkjw==\">2025 ゴールデンウィーク 祝日</a>\n",
       "  </div>\n",
       "</div>\n"
      ],
      "text/plain": [
       "<IPython.core.display.HTML object>"
      ]
     },
     "metadata": {},
     "output_type": "display_data"
    }
   ],
   "source": [
    "search_queries = session.events[1].grounding_metadata['webSearchQueries']\n",
    "entry_point_html = session.events[1].grounding_metadata['searchEntryPoint']['renderedContent']\n",
    "\n",
    "print(search_queries)\n",
    "display(HTML(entry_point_html))"
   ]
  },
  {
   "cell_type": "code",
   "execution_count": 54,
   "id": "620f7d15-e27b-40b1-8dae-5e4005146468",
   "metadata": {
    "tags": []
   },
   "outputs": [
    {
     "name": "stdout",
     "output_type": "stream",
     "text": [
      "['2026 ゴールデンウィーク', 'ゴールデンウィーク 2026 何連休']\n"
     ]
    },
    {
     "data": {
      "text/html": [
       "<style>\n",
       ".container {\n",
       "  align-items: center;\n",
       "  border-radius: 8px;\n",
       "  display: flex;\n",
       "  font-family: Google Sans, Roboto, sans-serif;\n",
       "  font-size: 14px;\n",
       "  line-height: 20px;\n",
       "  padding: 8px 12px;\n",
       "}\n",
       ".chip {\n",
       "  display: inline-block;\n",
       "  border: solid 1px;\n",
       "  border-radius: 16px;\n",
       "  min-width: 14px;\n",
       "  padding: 5px 16px;\n",
       "  text-align: center;\n",
       "  user-select: none;\n",
       "  margin: 0 8px;\n",
       "  -webkit-tap-highlight-color: transparent;\n",
       "}\n",
       ".carousel {\n",
       "  overflow: auto;\n",
       "  scrollbar-width: none;\n",
       "  white-space: nowrap;\n",
       "  margin-right: -12px;\n",
       "}\n",
       ".headline {\n",
       "  display: flex;\n",
       "  margin-right: 4px;\n",
       "}\n",
       ".gradient-container {\n",
       "  position: relative;\n",
       "}\n",
       ".gradient {\n",
       "  position: absolute;\n",
       "  transform: translate(3px, -9px);\n",
       "  height: 36px;\n",
       "  width: 9px;\n",
       "}\n",
       "@media (prefers-color-scheme: light) {\n",
       "  .container {\n",
       "    background-color: #fafafa;\n",
       "    box-shadow: 0 0 0 1px #0000000f;\n",
       "  }\n",
       "  .headline-label {\n",
       "    color: #1f1f1f;\n",
       "  }\n",
       "  .chip {\n",
       "    background-color: #ffffff;\n",
       "    border-color: #d2d2d2;\n",
       "    color: #5e5e5e;\n",
       "    text-decoration: none;\n",
       "  }\n",
       "  .chip:hover {\n",
       "    background-color: #f2f2f2;\n",
       "  }\n",
       "  .chip:focus {\n",
       "    background-color: #f2f2f2;\n",
       "  }\n",
       "  .chip:active {\n",
       "    background-color: #d8d8d8;\n",
       "    border-color: #b6b6b6;\n",
       "  }\n",
       "  .logo-dark {\n",
       "    display: none;\n",
       "  }\n",
       "  .gradient {\n",
       "    background: linear-gradient(90deg, #fafafa 15%, #fafafa00 100%);\n",
       "  }\n",
       "}\n",
       "@media (prefers-color-scheme: dark) {\n",
       "  .container {\n",
       "    background-color: #1f1f1f;\n",
       "    box-shadow: 0 0 0 1px #ffffff26;\n",
       "  }\n",
       "  .headline-label {\n",
       "    color: #fff;\n",
       "  }\n",
       "  .chip {\n",
       "    background-color: #2c2c2c;\n",
       "    border-color: #3c4043;\n",
       "    color: #fff;\n",
       "    text-decoration: none;\n",
       "  }\n",
       "  .chip:hover {\n",
       "    background-color: #353536;\n",
       "  }\n",
       "  .chip:focus {\n",
       "    background-color: #353536;\n",
       "  }\n",
       "  .chip:active {\n",
       "    background-color: #464849;\n",
       "    border-color: #53575b;\n",
       "  }\n",
       "  .logo-light {\n",
       "    display: none;\n",
       "  }\n",
       "  .gradient {\n",
       "    background: linear-gradient(90deg, #1f1f1f 15%, #1f1f1f00 100%);\n",
       "  }\n",
       "}\n",
       "</style>\n",
       "<div class=\"container\">\n",
       "  <div class=\"headline\">\n",
       "    <svg class=\"logo-light\" width=\"18\" height=\"18\" viewBox=\"9 9 35 35\" fill=\"none\" xmlns=\"http://www.w3.org/2000/svg\">\n",
       "      <path fill-rule=\"evenodd\" clip-rule=\"evenodd\" d=\"M42.8622 27.0064C42.8622 25.7839 42.7525 24.6084 42.5487 23.4799H26.3109V30.1568H35.5897C35.1821 32.3041 33.9596 34.1222 32.1258 35.3448V39.6864H37.7213C40.9814 36.677 42.8622 32.2571 42.8622 27.0064V27.0064Z\" fill=\"#4285F4\"/>\n",
       "      <path fill-rule=\"evenodd\" clip-rule=\"evenodd\" d=\"M26.3109 43.8555C30.9659 43.8555 34.8687 42.3195 37.7213 39.6863L32.1258 35.3447C30.5898 36.3792 28.6306 37.0061 26.3109 37.0061C21.8282 37.0061 18.0195 33.9811 16.6559 29.906H10.9194V34.3573C13.7563 39.9841 19.5712 43.8555 26.3109 43.8555V43.8555Z\" fill=\"#34A853\"/>\n",
       "      <path fill-rule=\"evenodd\" clip-rule=\"evenodd\" d=\"M16.6559 29.8904C16.3111 28.8559 16.1074 27.7588 16.1074 26.6146C16.1074 25.4704 16.3111 24.3733 16.6559 23.3388V18.8875H10.9194C9.74388 21.2072 9.06992 23.8247 9.06992 26.6146C9.06992 29.4045 9.74388 32.022 10.9194 34.3417L15.3864 30.8621L16.6559 29.8904V29.8904Z\" fill=\"#FBBC05\"/>\n",
       "      <path fill-rule=\"evenodd\" clip-rule=\"evenodd\" d=\"M26.3109 16.2386C28.85 16.2386 31.107 17.1164 32.9095 18.8091L37.8466 13.8719C34.853 11.082 30.9659 9.3736 26.3109 9.3736C19.5712 9.3736 13.7563 13.245 10.9194 18.8875L16.6559 23.3388C18.0195 19.2636 21.8282 16.2386 26.3109 16.2386V16.2386Z\" fill=\"#EA4335\"/>\n",
       "    </svg>\n",
       "    <svg class=\"logo-dark\" width=\"18\" height=\"18\" viewBox=\"0 0 48 48\" xmlns=\"http://www.w3.org/2000/svg\">\n",
       "      <circle cx=\"24\" cy=\"23\" fill=\"#FFF\" r=\"22\"/>\n",
       "      <path d=\"M33.76 34.26c2.75-2.56 4.49-6.37 4.49-11.26 0-.89-.08-1.84-.29-3H24.01v5.99h8.03c-.4 2.02-1.5 3.56-3.07 4.56v.75l3.91 2.97h.88z\" fill=\"#4285F4\"/>\n",
       "      <path d=\"M15.58 25.77A8.845 8.845 0 0 0 24 31.86c1.92 0 3.62-.46 4.97-1.31l4.79 3.71C31.14 36.7 27.65 38 24 38c-5.93 0-11.01-3.4-13.45-8.36l.17-1.01 4.06-2.85h.8z\" fill=\"#34A853\"/>\n",
       "      <path d=\"M15.59 20.21a8.864 8.864 0 0 0 0 5.58l-5.03 3.86c-.98-2-1.53-4.25-1.53-6.64 0-2.39.55-4.64 1.53-6.64l1-.22 3.81 2.98.22 1.08z\" fill=\"#FBBC05\"/>\n",
       "      <path d=\"M24 14.14c2.11 0 4.02.75 5.52 1.98l4.36-4.36C31.22 9.43 27.81 8 24 8c-5.93 0-11.01 3.4-13.45 8.36l5.03 3.85A8.86 8.86 0 0 1 24 14.14z\" fill=\"#EA4335\"/>\n",
       "    </svg>\n",
       "    <div class=\"gradient-container\"><div class=\"gradient\"></div></div>\n",
       "  </div>\n",
       "  <div class=\"carousel\">\n",
       "    <a class=\"chip\" href=\"https://vertexaisearch.cloud.google.com/grounding-api-redirect/AbF9wXFEPS2Wk5CCXOHaGxS4Hk588TKenrHZlXjas7mmzCZAybX-09zcYkukjDeS8JjZHVHiaDbkjwaGrkKIIK0BPk1O-40NfpZf7yRyO2Lokk1uBi0SyxNe8OujYer93ZzzZUwMfHal3EJA0w2g30IcuLImHlZDC0pdrM8_-LZEsH7MeI5fRBJOu2r4YqLsLFHlNCZKiCKqDBeVVRkzjiOCtRsoGGXTlEiW6K_6WgBHbWPgsqk1TV5-_-gBtepaxLSUMfH4Eugeib4SqRAmIltMo87qm47a9qw720aNsxemKeMfxOgq0_Tr-lH_J_E4MyjK8kUCpdpeHQ==\">ゴールデンウィーク 2026 何連休</a>\n",
       "    <a class=\"chip\" href=\"https://vertexaisearch.cloud.google.com/grounding-api-redirect/AbF9wXGBRjA53ZWYS9Li-phbLEzMS3w-YhrSRujs0LCtAD7OPfoH51kW-K6EjzBo7AAa4jAqqveREmVjpobfFfihINvz34nmF-8pbdhajhIbnKO3y_AEGVJnxB80_Xps7xaWYhxnsvOZGoI8FxWgnasx6IDelSYK5an34orj2IJmzLpXnePysxYQ6VfQzdTAsAM1M66XEhHL6p_-oyT_W_t2-tP51o_NpkBu4c-AKs9v_4g_p2FTTNH0xzlHTZ6g5O3eZFwAlRDx6-d8F91GwJ4X8bO8q9nloIzy8HVn\">2026 ゴールデンウィーク</a>\n",
       "  </div>\n",
       "</div>\n"
      ],
      "text/plain": [
       "<IPython.core.display.HTML object>"
      ]
     },
     "metadata": {},
     "output_type": "display_data"
    }
   ],
   "source": [
    "search_queries = session.events[3].grounding_metadata['webSearchQueries']\n",
    "entry_point_html = session.events[3].grounding_metadata['searchEntryPoint']['renderedContent']\n",
    "\n",
    "print(search_queries)\n",
    "display(HTML(entry_point_html))"
   ]
  },
  {
   "cell_type": "markdown",
   "id": "a29d7333-a93c-4aa7-b1c5-c04e3b49dc12",
   "metadata": {
    "jp-MarkdownHeadingCollapsed": true,
    "tags": []
   },
   "source": [
    "## 後片付け"
   ]
  },
  {
   "cell_type": "markdown",
   "id": "f50a91bc-d0cd-4cc0-a112-26ab1ee10d14",
   "metadata": {
    "tags": []
   },
   "source": [
    "デプロイ済みのエージェントをまとめて削除します。"
   ]
  },
  {
   "cell_type": "code",
   "execution_count": 13,
   "id": "bea2da56-1078-4524-a439-39baf7f27b8a",
   "metadata": {
    "tags": []
   },
   "outputs": [
    {
     "name": "stdout",
     "output_type": "stream",
     "text": [
      "projects/879055303739/locations/us-central1/reasoningEngines/2370520681205989376\n",
      "Delete Agent Engine backing LRO: projects/879055303739/locations/us-central1/operations/7496070433901379584\n",
      "Agent Engine deleted. Resource name: projects/879055303739/locations/us-central1/reasoningEngines/2370520681205989376\n"
     ]
    }
   ],
   "source": [
    "for agent in agent_engines.list():\n",
    "    print(agent.gca_resource.name)\n",
    "    agent.delete(force=True)"
   ]
  }
 ],
 "metadata": {
  "environment": {
   "kernel": "conda-base-py",
   "name": "workbench-notebooks.m129",
   "type": "gcloud",
   "uri": "us-docker.pkg.dev/deeplearning-platform-release/gcr.io/workbench-notebooks:m129"
  },
  "kernelspec": {
   "display_name": "Python 3 (ipykernel)",
   "language": "python",
   "name": "conda-base-py"
  },
  "language_info": {
   "codemirror_mode": {
    "name": "ipython",
    "version": 3
   },
   "file_extension": ".py",
   "mimetype": "text/x-python",
   "name": "python",
   "nbconvert_exporter": "python",
   "pygments_lexer": "ipython3",
   "version": "3.10.16"
  }
 },
 "nbformat": 4,
 "nbformat_minor": 5
}
