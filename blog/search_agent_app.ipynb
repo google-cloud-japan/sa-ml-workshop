{
 "cells": [
  {
   "cell_type": "markdown",
   "id": "9c3cc4d8-742b-4421-b450-5f06e8f2a0c7",
   "metadata": {
    "jp-MarkdownHeadingCollapsed": true,
    "tags": []
   },
   "source": [
    "## 事前準備"
   ]
  },
  {
   "cell_type": "markdown",
   "id": "c93ad445-56c7-4505-ae5a-4d5306efd689",
   "metadata": {},
   "source": [
    "1. Google Cloud の新しいプロジェクトを作成します。\n",
    "2. Cloud Shell を開いて、次のコマンドで API を有効化します。\n",
    "```\n",
    "gcloud services enable \\\n",
    "  aiplatform.googleapis.com \\\n",
    "  notebooks.googleapis.com \\\n",
    "  cloudresourcemanager.googleapis.com\n",
    "\n",
    "```\n",
    "3. 次のコマンドで Vertex AI Workbench のインスタンスを作成します。\n",
    "```\n",
    "PROJECT_ID=$(gcloud config list --format 'value(core.project)')\n",
    "gcloud workbench instances create agent-development \\\n",
    "  --project=$PROJECT_ID \\\n",
    "  --location=us-central1-a \\\n",
    "  --machine-type=e2-standard-2\n",
    "```\n",
    "\n",
    "4. クラウドコンソールのナビゲーションメニューから「Vertex AI」→「Workbench」を選択すると、作成したインスタンス agent-develpment があります。インスタンスの起動が完了するのを待って、「JUPYTERLAB を開く」をクリックしたら、「Python 3(ipykernel)」の新規ノートブックを作成します。\n",
    "\n",
    "5. この後は、ノートブック上で以下のコマンドを実行していきます。"
   ]
  },
  {
   "cell_type": "markdown",
   "id": "70ed77f6-8bb7-406f-8f91-e79370b32394",
   "metadata": {
    "tags": []
   },
   "source": [
    "## ADK パッケージのインストール"
   ]
  },
  {
   "cell_type": "code",
   "execution_count": null,
   "id": "c2a46ff3-934b-4d5d-bb0a-c887f296c01a",
   "metadata": {},
   "outputs": [],
   "source": [
    "%pip install --upgrade --user \\\n",
    "    google-adk==1.4.1 \\\n",
    "    google-genai==1.20.0 \\\n",
    "    google-cloud-aiplatform==1.97.0"
   ]
  },
  {
   "cell_type": "markdown",
   "id": "ec254a63-03f5-4973-aa23-03f2f8521f4a",
   "metadata": {},
   "source": [
    "インストールしたパッケージを利用可能にするために、次のコマンドでカーネルを再起動します。\n",
    "\n",
    "再起動を確認するポップアップが表示されるので [Ok] をクリックします。"
   ]
  },
  {
   "cell_type": "code",
   "execution_count": 2,
   "id": "915482d8-cff4-46e2-a826-94bf6cb8277d",
   "metadata": {},
   "outputs": [],
   "source": [
    "import IPython\n",
    "app = IPython.Application.instance()\n",
    "_ = app.kernel.do_shutdown(True)"
   ]
  },
  {
   "cell_type": "markdown",
   "id": "419007fb-f199-41e0-8410-d4d988179248",
   "metadata": {
    "tags": []
   },
   "source": [
    "## Search Agent App の作成"
   ]
  },
  {
   "cell_type": "code",
   "execution_count": 1,
   "id": "8722e641-cd9a-4e73-9622-427ea35c8bde",
   "metadata": {
    "tags": []
   },
   "outputs": [],
   "source": [
    "import copy, datetime, json, os, pprint, time, uuid\n",
    "import vertexai\n",
    "from google.genai.types import Part, Content\n",
    "from google.adk.agents.llm_agent import LlmAgent\n",
    "from google.adk.artifacts import InMemoryArtifactService\n",
    "from google.adk.memory.in_memory_memory_service import InMemoryMemoryService\n",
    "from google.adk.sessions import InMemorySessionService\n",
    "from google.adk.runners import Runner\n",
    "from google.adk.tools import google_search\n",
    "\n",
    "[PROJECT_ID] = !gcloud config list --format 'value(core.project)'\n",
    "LOCATION = 'us-central1'\n",
    "\n",
    "vertexai.init(\n",
    "    project=PROJECT_ID, location=LOCATION,\n",
    "    staging_bucket=f'gs://{PROJECT_ID}'\n",
    ")\n",
    "os.environ['GOOGLE_CLOUD_PROJECT'] = PROJECT_ID\n",
    "os.environ['GOOGLE_CLOUD_LOCATION'] = LOCATION\n",
    "os.environ['GOOGLE_GENAI_USE_VERTEXAI'] = 'True'"
   ]
  },
  {
   "cell_type": "code",
   "execution_count": 2,
   "id": "1bd94203-da07-413e-9d85-94cfcfbaa8bc",
   "metadata": {
    "tags": []
   },
   "outputs": [],
   "source": [
    "instruction = '''\n",
    "You are a friendly AI assistant that answers user's queries.\n",
    "Use google_search to give answers based on the latest and objective information.\n",
    "\n",
    "[Format instruction]\n",
    "Output in Japanese, in plain text only.\n",
    "Avoid adding citation marks such as [1][2].\n",
    "'''\n",
    "\n",
    "search_agent = LlmAgent(\n",
    "    name='search_agent',\n",
    "    model='gemini-2.0-flash-001',\n",
    "    description='Agent to answer questions using Google Search.',\n",
    "    instruction=instruction,\n",
    "    tools=[google_search]\n",
    ")"
   ]
  },
  {
   "cell_type": "code",
   "execution_count": 3,
   "id": "d94ab67e-99e0-498d-8095-81ca07156c9e",
   "metadata": {
    "tags": []
   },
   "outputs": [],
   "source": [
    "class LocalApp:\n",
    "    def __init__(self, agent, app_name, user_id):\n",
    "        self._agent = agent\n",
    "        self._app_name = app_name\n",
    "        self._user_id = user_id\n",
    "        self._runner = Runner(\n",
    "            app_name=self._app_name,\n",
    "            agent=self._agent,\n",
    "            artifact_service=InMemoryArtifactService(),\n",
    "            session_service=InMemorySessionService(),\n",
    "            memory_service=InMemoryMemoryService(),\n",
    "        )\n",
    "        self._session = None\n",
    "        \n",
    "    async def stream(self, query):\n",
    "        if not self._session:\n",
    "            self._session = await self._runner.session_service.create_session(\n",
    "                app_name=self._app_name,\n",
    "                user_id=self._user_id,\n",
    "                session_id=uuid.uuid4().hex,\n",
    "            )\n",
    "        content = Content(role='user', parts=[Part.from_text(text=query)])\n",
    "        async_events = self._runner.run_async(\n",
    "            user_id=self._user_id,\n",
    "            session_id=self._session.id,\n",
    "            new_message=content,\n",
    "        )\n",
    "        result = []\n",
    "        async for event in async_events:\n",
    "            if (event.content and event.content.parts):\n",
    "                response = '\\n'.join([p.text for p in event.content.parts if p.text])\n",
    "                if response:\n",
    "                    print(response)\n",
    "                    result.append(response)\n",
    "        return result"
   ]
  },
  {
   "cell_type": "markdown",
   "id": "0fc6b082-b4ec-49e4-9e27-7292607ee741",
   "metadata": {
    "tags": []
   },
   "source": [
    "## 実行例"
   ]
  },
  {
   "cell_type": "code",
   "execution_count": 5,
   "id": "8fe01b19-76b3-4eac-a2a3-5796386d06cb",
   "metadata": {
    "tags": []
   },
   "outputs": [
    {
     "name": "stdout",
     "output_type": "stream",
     "text": [
      "高田馬場でおすすめのカレー屋さんについて調べてみます。\n",
      "\n",
      "\n",
      "高田馬場にはたくさんのカレー屋さんがあって迷いますよね。いくつかおすすめのお店を紹介します。\n",
      "\n",
      "*   **横浜ボンベイ:** サラッとしたルーが特徴で、特に「カシミールカレー」が長年愛されています。辛口ですが、野菜の甘みとスパイスの爽快感が絶妙です。\n",
      "*   **エチオピア:** こちらも有名店で、トロトロに煮込まれた野菜が美味しいカレーが楽しめます。\n",
      "*   **ブラザー:** 鯖キーマカレーが人気のお店です。\n",
      "*   **プネウマカレー:** コスパが良いと評判です。\n",
      "*   **白カレーの店 1/f ゆらぎ:** 珍しい白カレーが味わえます。\n",
      "\n",
      "食べログなどのランキングも参考にしてみてください。\n",
      "\n"
     ]
    }
   ],
   "source": [
    "client = LocalApp(search_agent, 'Search Agent App', 'user00')\n",
    "\n",
    "query = '''\n",
    "高田馬場のおすすめのカレー屋は？\n",
    "'''\n",
    "_ = await client.stream(query)"
   ]
  },
  {
   "cell_type": "markdown",
   "id": "938d0efc-b889-4ee4-bfc8-b0b6518af3ec",
   "metadata": {
    "tags": []
   },
   "source": [
    "SessionService が管理するセッション情報を確認します。\n",
    "\n",
    "セッションを特定するのに必要な、`app_name`、`user_id`、`session_id` を確認します。"
   ]
  },
  {
   "cell_type": "code",
   "execution_count": 6,
   "id": "a4ef5e8c-cc52-4dd6-8c5d-e9ceb054b31e",
   "metadata": {
    "tags": []
   },
   "outputs": [
    {
     "data": {
      "text/plain": [
       "('Search Agent App', 'user00', '7cece7e17955432e9b66383ce66a4b5b')"
      ]
     },
     "execution_count": 6,
     "metadata": {},
     "output_type": "execute_result"
    }
   ],
   "source": [
    "app_name = client._session.app_name\n",
    "user_id = client._session.user_id\n",
    "session_id = client._session.id\n",
    "\n",
    "app_name, user_id, session_id"
   ]
  },
  {
   "cell_type": "markdown",
   "id": "d49b47f0-70e7-4447-bc59-b693a8a73491",
   "metadata": {},
   "source": [
    "確認した情報を使って、セッションに保存された情報を確認します。\n",
    "\n",
    "2 つのイベント（ユーザーの質問とエージェントの回答）が記録されています。\n",
    "\n",
    "エージェントの回答を生成する際に用いた Google Serch の情報なども確認できます。"
   ]
  },
  {
   "cell_type": "code",
   "execution_count": 7,
   "id": "df2c86b9-1a1e-43b2-9968-0f44f2d44831",
   "metadata": {
    "tags": []
   },
   "outputs": [
    {
     "data": {
      "text/plain": [
       "Session(id='7cece7e17955432e9b66383ce66a4b5b', app_name='Search Agent App', user_id='user00', state={}, events=[Event(content=Content(parts=[Part(video_metadata=None, thought=None, inline_data=None, file_data=None, thought_signature=None, code_execution_result=None, executable_code=None, function_call=None, function_response=None, text='\\n高田馬場のおすすめのカレー屋は？\\n')], role='user'), grounding_metadata=None, partial=None, turn_complete=None, error_code=None, error_message=None, interrupted=None, custom_metadata=None, usage_metadata=None, invocation_id='e-742a61c4-b920-4f61-95e3-9923e58bd151', author='user', actions=EventActions(skip_summarization=None, state_delta={}, artifact_delta={}, transfer_to_agent=None, escalate=None, requested_auth_configs={}), long_running_tool_ids=None, branch=None, id='gwF9QeLt', timestamp=1749248008.635024), Event(content=Content(parts=[Part(video_metadata=None, thought=None, inline_data=None, file_data=None, thought_signature=None, code_execution_result=None, executable_code=None, function_call=None, function_response=None, text='高田馬場でおすすめのカレー屋さんについて調べてみます。\\n\\n'), Part(video_metadata=None, thought=None, inline_data=None, file_data=None, thought_signature=None, code_execution_result=None, executable_code=None, function_call=None, function_response=None, text='高田馬場にはたくさんのカレー屋さんがあって迷いますよね。いくつかおすすめのお店を紹介します。\\n\\n*   **横浜ボンベイ:** サラッとしたルーが特徴で、特に「カシミールカレー」が長年愛されています。辛口ですが、野菜の甘みとスパイスの爽快感が絶妙です。\\n*   **エチオピア:** こちらも有名店で、トロトロに煮込まれた野菜が美味しいカレーが楽しめます。\\n*   **ブラザー:** 鯖キーマカレーが人気のお店です。\\n*   **プネウマカレー:** コスパが良いと評判です。\\n*   **白カレーの店 1/f ゆらぎ:** 珍しい白カレーが味わえます。\\n\\n食べログなどのランキングも参考にしてみてください。\\n')], role='model'), grounding_metadata=GroundingMetadata(grounding_chunks=[GroundingChunk(retrieved_context=None, web=GroundingChunkWeb(domain='aumo.jp', title='aumo.jp', uri='https://vertexaisearch.cloud.google.com/grounding-api-redirect/AbF9wXEGCpM9yM-D17QuhJP5kMQKdNF26_C4AlIStB18T1I8121IBwgGXbsIbuJfU9BHl8Fo7eEf9t1wxRSC7puFfNA7qb5qhIsQ5dBuJ5HaI6ETdjbhFE5PguC9Qw==')), GroundingChunk(retrieved_context=None, web=GroundingChunkWeb(domain='macaro-ni.jp', title='macaro-ni.jp', uri='https://vertexaisearch.cloud.google.com/grounding-api-redirect/AbF9wXGnrGXoGaJKOz1Cvoc3rFqk6q9ZiXqWx70rG_1vhc0046kShEH0zjRE5z1bsCVJRXTLoMWlznvoJMuClPpVm4jsQivNMdRRgZ8mr2kcC4pRDt6Sou3b'))], grounding_supports=[GroundingSupport(confidence_scores=[0.98081654], grounding_chunk_indices=[0], segment=Segment(end_index=437, part_index=None, start_index=223, text='*   **横浜ボンベイ:** サラッとしたルーが特徴で、特に「カシミールカレー」が長年愛されています。辛口ですが、野菜の甘みとスパイスの爽快感が絶妙です。')), GroundingSupport(confidence_scores=[0.7058136], grounding_chunk_indices=[0], segment=Segment(end_index=571, part_index=None, start_index=438, text='*   **エチオピア:** こちらも有名店で、トロトロに煮込まれた野菜が美味しいカレーが楽しめます。')), GroundingSupport(confidence_scores=[0.80086017], grounding_chunk_indices=[1], segment=Segment(end_index=642, part_index=None, start_index=572, text='*   **ブラザー:** 鯖キーマカレーが人気のお店です。')), GroundingSupport(confidence_scores=[0.84190065], grounding_chunk_indices=[1], segment=Segment(end_index=710, part_index=None, start_index=643, text='*   **プネウマカレー:** コスパが良いと評判です。'))], retrieval_metadata=RetrievalMetadata(google_search_dynamic_retrieval_score=None), retrieval_queries=None, search_entry_point=SearchEntryPoint(rendered_content='<style>\\n.container {\\n  align-items: center;\\n  border-radius: 8px;\\n  display: flex;\\n  font-family: Google Sans, Roboto, sans-serif;\\n  font-size: 14px;\\n  line-height: 20px;\\n  padding: 8px 12px;\\n}\\n.chip {\\n  display: inline-block;\\n  border: solid 1px;\\n  border-radius: 16px;\\n  min-width: 14px;\\n  padding: 5px 16px;\\n  text-align: center;\\n  user-select: none;\\n  margin: 0 8px;\\n  -webkit-tap-highlight-color: transparent;\\n}\\n.carousel {\\n  overflow: auto;\\n  scrollbar-width: none;\\n  white-space: nowrap;\\n  margin-right: -12px;\\n}\\n.headline {\\n  display: flex;\\n  margin-right: 4px;\\n}\\n.gradient-container {\\n  position: relative;\\n}\\n.gradient {\\n  position: absolute;\\n  transform: translate(3px, -9px);\\n  height: 36px;\\n  width: 9px;\\n}\\n@media (prefers-color-scheme: light) {\\n  .container {\\n    background-color: #fafafa;\\n    box-shadow: 0 0 0 1px #0000000f;\\n  }\\n  .headline-label {\\n    color: #1f1f1f;\\n  }\\n  .chip {\\n    background-color: #ffffff;\\n    border-color: #d2d2d2;\\n    color: #5e5e5e;\\n    text-decoration: none;\\n  }\\n  .chip:hover {\\n    background-color: #f2f2f2;\\n  }\\n  .chip:focus {\\n    background-color: #f2f2f2;\\n  }\\n  .chip:active {\\n    background-color: #d8d8d8;\\n    border-color: #b6b6b6;\\n  }\\n  .logo-dark {\\n    display: none;\\n  }\\n  .gradient {\\n    background: linear-gradient(90deg, #fafafa 15%, #fafafa00 100%);\\n  }\\n}\\n@media (prefers-color-scheme: dark) {\\n  .container {\\n    background-color: #1f1f1f;\\n    box-shadow: 0 0 0 1px #ffffff26;\\n  }\\n  .headline-label {\\n    color: #fff;\\n  }\\n  .chip {\\n    background-color: #2c2c2c;\\n    border-color: #3c4043;\\n    color: #fff;\\n    text-decoration: none;\\n  }\\n  .chip:hover {\\n    background-color: #353536;\\n  }\\n  .chip:focus {\\n    background-color: #353536;\\n  }\\n  .chip:active {\\n    background-color: #464849;\\n    border-color: #53575b;\\n  }\\n  .logo-light {\\n    display: none;\\n  }\\n  .gradient {\\n    background: linear-gradient(90deg, #1f1f1f 15%, #1f1f1f00 100%);\\n  }\\n}\\n</style>\\n<div class=\"container\">\\n  <div class=\"headline\">\\n    <svg class=\"logo-light\" width=\"18\" height=\"18\" viewBox=\"9 9 35 35\" fill=\"none\" xmlns=\"http://www.w3.org/2000/svg\">\\n      <path fill-rule=\"evenodd\" clip-rule=\"evenodd\" d=\"M42.8622 27.0064C42.8622 25.7839 42.7525 24.6084 42.5487 23.4799H26.3109V30.1568H35.5897C35.1821 32.3041 33.9596 34.1222 32.1258 35.3448V39.6864H37.7213C40.9814 36.677 42.8622 32.2571 42.8622 27.0064V27.0064Z\" fill=\"#4285F4\"/>\\n      <path fill-rule=\"evenodd\" clip-rule=\"evenodd\" d=\"M26.3109 43.8555C30.9659 43.8555 34.8687 42.3195 37.7213 39.6863L32.1258 35.3447C30.5898 36.3792 28.6306 37.0061 26.3109 37.0061C21.8282 37.0061 18.0195 33.9811 16.6559 29.906H10.9194V34.3573C13.7563 39.9841 19.5712 43.8555 26.3109 43.8555V43.8555Z\" fill=\"#34A853\"/>\\n      <path fill-rule=\"evenodd\" clip-rule=\"evenodd\" d=\"M16.6559 29.8904C16.3111 28.8559 16.1074 27.7588 16.1074 26.6146C16.1074 25.4704 16.3111 24.3733 16.6559 23.3388V18.8875H10.9194C9.74388 21.2072 9.06992 23.8247 9.06992 26.6146C9.06992 29.4045 9.74388 32.022 10.9194 34.3417L15.3864 30.8621L16.6559 29.8904V29.8904Z\" fill=\"#FBBC05\"/>\\n      <path fill-rule=\"evenodd\" clip-rule=\"evenodd\" d=\"M26.3109 16.2386C28.85 16.2386 31.107 17.1164 32.9095 18.8091L37.8466 13.8719C34.853 11.082 30.9659 9.3736 26.3109 9.3736C19.5712 9.3736 13.7563 13.245 10.9194 18.8875L16.6559 23.3388C18.0195 19.2636 21.8282 16.2386 26.3109 16.2386V16.2386Z\" fill=\"#EA4335\"/>\\n    </svg>\\n    <svg class=\"logo-dark\" width=\"18\" height=\"18\" viewBox=\"0 0 48 48\" xmlns=\"http://www.w3.org/2000/svg\">\\n      <circle cx=\"24\" cy=\"23\" fill=\"#FFF\" r=\"22\"/>\\n      <path d=\"M33.76 34.26c2.75-2.56 4.49-6.37 4.49-11.26 0-.89-.08-1.84-.29-3H24.01v5.99h8.03c-.4 2.02-1.5 3.56-3.07 4.56v.75l3.91 2.97h.88z\" fill=\"#4285F4\"/>\\n      <path d=\"M15.58 25.77A8.845 8.845 0 0 0 24 31.86c1.92 0 3.62-.46 4.97-1.31l4.79 3.71C31.14 36.7 27.65 38 24 38c-5.93 0-11.01-3.4-13.45-8.36l.17-1.01 4.06-2.85h.8z\" fill=\"#34A853\"/>\\n      <path d=\"M15.59 20.21a8.864 8.864 0 0 0 0 5.58l-5.03 3.86c-.98-2-1.53-4.25-1.53-6.64 0-2.39.55-4.64 1.53-6.64l1-.22 3.81 2.98.22 1.08z\" fill=\"#FBBC05\"/>\\n      <path d=\"M24 14.14c2.11 0 4.02.75 5.52 1.98l4.36-4.36C31.22 9.43 27.81 8 24 8c-5.93 0-11.01 3.4-13.45 8.36l5.03 3.85A8.86 8.86 0 0 1 24 14.14z\" fill=\"#EA4335\"/>\\n    </svg>\\n    <div class=\"gradient-container\"><div class=\"gradient\"></div></div>\\n  </div>\\n  <div class=\"carousel\">\\n    <a class=\"chip\" href=\"https://vertexaisearch.cloud.google.com/grounding-api-redirect/AbF9wXFKZ0tQoA9L7cM-foU3x3-vAnT4-f29lexwGbTnGDjP9R3W491wUaDns8zzU8xaTtwTchO9mnBA8XxkYZHRWprPhB7c7aw9yxWBL4BDSnrukLgEH-YXI-IFjlObIX__uHmYNJmySaTjA1vqk3xcq3ZiwY160den_N_3rPAqeodCequTOC6yXZw1XOPrKP5s34bzJgOlRigs-KhPi0F5QVSLxR25omkCbpWpfecSxgeiUCMKxXsP_CiU0T4t3VRiy1rOrLNOb20p-RKaWhZSOdjFBio84UASFg==\">高田馬場 カレー 人気</a>\\n    <a class=\"chip\" href=\"https://vertexaisearch.cloud.google.com/grounding-api-redirect/AbF9wXHrUao8F_zIsvE8llL4QP56b9Iads-X9tmbGaoSG-1e07M0dH8xauOgtOpnVEOqDreDwbY5-DpKgOsqM9Pg2jC9IOuWLu29Zs-HNWqdg3CniBa4KzZeJPvJW1EpVbGjlbmQmTxyUV_XAGRwGD5iNsrZ4x9pV2pTEIdAJqzhvTSlVCoBOifNhm0JpcD9Ljj_e2LxCEnQ41442oVpuZKdKY26T7SaGi67ahilJEnQqzutoIo2kgib2w_pqR1pYQxIJcJajqxUYyDRlfwTrPaIev3G3iczlWpGA6AwDxzUgYGUJFdd7iIeN9LwVA==\">高田馬場 おすすめ カレー</a>\\n    <a class=\"chip\" href=\"https://vertexaisearch.cloud.google.com/grounding-api-redirect/AbF9wXFJH7W2j54gdqKrfLW9fRe85PuOMEZnubq24wPPE-GWCUCmqr_3dWtns69BduYYBmlnZRXZ3U7ApbWu-buCelo3YYoysmPsou7QwrSlqJsxZwOfeexpuDVARCGXCDju9pZFFKhsCjYc0J_L48nvbMwln4yD72oLu7ZRRuDL91URH3mZdYVHAIcKNZEYE2ryT5VmUk-fzSYXhALx6voypdGW-1gcRsYt5oqpbP7JoxfsaSo9h_y9FxtvDoJezgSUCGpfk144U1-cY5h8eMw-uzTX2cKFtQtekRaObsOePIJ7EMlpT2tm1ioKiAM3iazQy9XUxw==\">高田馬場 カレー ランキング</a>\\n  </div>\\n</div>\\n', sdk_blob=None), web_search_queries=['高田馬場 カレー 人気', '高田馬場 カレー ランキング', '高田馬場 おすすめ カレー']), partial=None, turn_complete=None, error_code=None, error_message=None, interrupted=None, custom_metadata=None, usage_metadata=GenerateContentResponseUsageMetadata(cache_tokens_details=None, cached_content_token_count=None, candidates_token_count=173, candidates_tokens_details=[ModalityTokenCount(modality=<MediaModality.TEXT: 'TEXT'>, token_count=173)], prompt_token_count=99, prompt_tokens_details=[ModalityTokenCount(modality=<MediaModality.TEXT: 'TEXT'>, token_count=99)], thoughts_token_count=None, tool_use_prompt_token_count=None, tool_use_prompt_tokens_details=None, total_token_count=272, traffic_type=<TrafficType.ON_DEMAND: 'ON_DEMAND'>), invocation_id='e-742a61c4-b920-4f61-95e3-9923e58bd151', author='search_agent', actions=EventActions(skip_summarization=None, state_delta={}, artifact_delta={}, transfer_to_agent=None, escalate=None, requested_auth_configs={}), long_running_tool_ids=None, branch=None, id='4L1XHEWW', timestamp=1749248008.635763)], last_update_time=1749248008.635763)"
      ]
     },
     "execution_count": 7,
     "metadata": {},
     "output_type": "execute_result"
    }
   ],
   "source": [
    "session = await client._runner.session_service.get_session(\n",
    "    app_name = app_name,\n",
    "    user_id = user_id,\n",
    "    session_id = session_id,\n",
    ")\n",
    "\n",
    "session"
   ]
  },
  {
   "cell_type": "markdown",
   "id": "9055aef3-0586-48cc-9a90-373c879c0171",
   "metadata": {},
   "source": [
    "次のように、これまでのやり取りが「イベント」として記録されています。"
   ]
  },
  {
   "cell_type": "code",
   "execution_count": 8,
   "id": "fec8f046-e2d0-4b02-ac0d-a4f848bf1f00",
   "metadata": {
    "tags": []
   },
   "outputs": [
    {
     "name": "stdout",
     "output_type": "stream",
     "text": [
      "2025-06-06 22:13:28.635024 user\n",
      "2025-06-06 22:13:28.635763 search_agent\n"
     ]
    }
   ],
   "source": [
    "def format_timestamp(ts):\n",
    "    return datetime.datetime.fromtimestamp(ts).strftime('%Y-%m-%d %H:%M:%S.%f')\n",
    "\n",
    "for event in session.events:\n",
    "    print(format_timestamp(event.timestamp), event.author)"
   ]
  },
  {
   "cell_type": "markdown",
   "id": "d4323802-3435-463e-af43-80df7c59b889",
   "metadata": {},
   "source": [
    "特に、下記の要素から Google 検索に使ったキーワードが確認できます。"
   ]
  },
  {
   "cell_type": "code",
   "execution_count": 9,
   "id": "03e19a60-8034-485e-a23b-683ca1a14295",
   "metadata": {
    "tags": []
   },
   "outputs": [
    {
     "name": "stdout",
     "output_type": "stream",
     "text": [
      "['高田馬場 カレー 人気', '高田馬場 カレー ランキング', '高田馬場 おすすめ カレー']\n"
     ]
    },
    {
     "data": {
      "text/html": [
       "<style>\n",
       ".container {\n",
       "  align-items: center;\n",
       "  border-radius: 8px;\n",
       "  display: flex;\n",
       "  font-family: Google Sans, Roboto, sans-serif;\n",
       "  font-size: 14px;\n",
       "  line-height: 20px;\n",
       "  padding: 8px 12px;\n",
       "}\n",
       ".chip {\n",
       "  display: inline-block;\n",
       "  border: solid 1px;\n",
       "  border-radius: 16px;\n",
       "  min-width: 14px;\n",
       "  padding: 5px 16px;\n",
       "  text-align: center;\n",
       "  user-select: none;\n",
       "  margin: 0 8px;\n",
       "  -webkit-tap-highlight-color: transparent;\n",
       "}\n",
       ".carousel {\n",
       "  overflow: auto;\n",
       "  scrollbar-width: none;\n",
       "  white-space: nowrap;\n",
       "  margin-right: -12px;\n",
       "}\n",
       ".headline {\n",
       "  display: flex;\n",
       "  margin-right: 4px;\n",
       "}\n",
       ".gradient-container {\n",
       "  position: relative;\n",
       "}\n",
       ".gradient {\n",
       "  position: absolute;\n",
       "  transform: translate(3px, -9px);\n",
       "  height: 36px;\n",
       "  width: 9px;\n",
       "}\n",
       "@media (prefers-color-scheme: light) {\n",
       "  .container {\n",
       "    background-color: #fafafa;\n",
       "    box-shadow: 0 0 0 1px #0000000f;\n",
       "  }\n",
       "  .headline-label {\n",
       "    color: #1f1f1f;\n",
       "  }\n",
       "  .chip {\n",
       "    background-color: #ffffff;\n",
       "    border-color: #d2d2d2;\n",
       "    color: #5e5e5e;\n",
       "    text-decoration: none;\n",
       "  }\n",
       "  .chip:hover {\n",
       "    background-color: #f2f2f2;\n",
       "  }\n",
       "  .chip:focus {\n",
       "    background-color: #f2f2f2;\n",
       "  }\n",
       "  .chip:active {\n",
       "    background-color: #d8d8d8;\n",
       "    border-color: #b6b6b6;\n",
       "  }\n",
       "  .logo-dark {\n",
       "    display: none;\n",
       "  }\n",
       "  .gradient {\n",
       "    background: linear-gradient(90deg, #fafafa 15%, #fafafa00 100%);\n",
       "  }\n",
       "}\n",
       "@media (prefers-color-scheme: dark) {\n",
       "  .container {\n",
       "    background-color: #1f1f1f;\n",
       "    box-shadow: 0 0 0 1px #ffffff26;\n",
       "  }\n",
       "  .headline-label {\n",
       "    color: #fff;\n",
       "  }\n",
       "  .chip {\n",
       "    background-color: #2c2c2c;\n",
       "    border-color: #3c4043;\n",
       "    color: #fff;\n",
       "    text-decoration: none;\n",
       "  }\n",
       "  .chip:hover {\n",
       "    background-color: #353536;\n",
       "  }\n",
       "  .chip:focus {\n",
       "    background-color: #353536;\n",
       "  }\n",
       "  .chip:active {\n",
       "    background-color: #464849;\n",
       "    border-color: #53575b;\n",
       "  }\n",
       "  .logo-light {\n",
       "    display: none;\n",
       "  }\n",
       "  .gradient {\n",
       "    background: linear-gradient(90deg, #1f1f1f 15%, #1f1f1f00 100%);\n",
       "  }\n",
       "}\n",
       "</style>\n",
       "<div class=\"container\">\n",
       "  <div class=\"headline\">\n",
       "    <svg class=\"logo-light\" width=\"18\" height=\"18\" viewBox=\"9 9 35 35\" fill=\"none\" xmlns=\"http://www.w3.org/2000/svg\">\n",
       "      <path fill-rule=\"evenodd\" clip-rule=\"evenodd\" d=\"M42.8622 27.0064C42.8622 25.7839 42.7525 24.6084 42.5487 23.4799H26.3109V30.1568H35.5897C35.1821 32.3041 33.9596 34.1222 32.1258 35.3448V39.6864H37.7213C40.9814 36.677 42.8622 32.2571 42.8622 27.0064V27.0064Z\" fill=\"#4285F4\"/>\n",
       "      <path fill-rule=\"evenodd\" clip-rule=\"evenodd\" d=\"M26.3109 43.8555C30.9659 43.8555 34.8687 42.3195 37.7213 39.6863L32.1258 35.3447C30.5898 36.3792 28.6306 37.0061 26.3109 37.0061C21.8282 37.0061 18.0195 33.9811 16.6559 29.906H10.9194V34.3573C13.7563 39.9841 19.5712 43.8555 26.3109 43.8555V43.8555Z\" fill=\"#34A853\"/>\n",
       "      <path fill-rule=\"evenodd\" clip-rule=\"evenodd\" d=\"M16.6559 29.8904C16.3111 28.8559 16.1074 27.7588 16.1074 26.6146C16.1074 25.4704 16.3111 24.3733 16.6559 23.3388V18.8875H10.9194C9.74388 21.2072 9.06992 23.8247 9.06992 26.6146C9.06992 29.4045 9.74388 32.022 10.9194 34.3417L15.3864 30.8621L16.6559 29.8904V29.8904Z\" fill=\"#FBBC05\"/>\n",
       "      <path fill-rule=\"evenodd\" clip-rule=\"evenodd\" d=\"M26.3109 16.2386C28.85 16.2386 31.107 17.1164 32.9095 18.8091L37.8466 13.8719C34.853 11.082 30.9659 9.3736 26.3109 9.3736C19.5712 9.3736 13.7563 13.245 10.9194 18.8875L16.6559 23.3388C18.0195 19.2636 21.8282 16.2386 26.3109 16.2386V16.2386Z\" fill=\"#EA4335\"/>\n",
       "    </svg>\n",
       "    <svg class=\"logo-dark\" width=\"18\" height=\"18\" viewBox=\"0 0 48 48\" xmlns=\"http://www.w3.org/2000/svg\">\n",
       "      <circle cx=\"24\" cy=\"23\" fill=\"#FFF\" r=\"22\"/>\n",
       "      <path d=\"M33.76 34.26c2.75-2.56 4.49-6.37 4.49-11.26 0-.89-.08-1.84-.29-3H24.01v5.99h8.03c-.4 2.02-1.5 3.56-3.07 4.56v.75l3.91 2.97h.88z\" fill=\"#4285F4\"/>\n",
       "      <path d=\"M15.58 25.77A8.845 8.845 0 0 0 24 31.86c1.92 0 3.62-.46 4.97-1.31l4.79 3.71C31.14 36.7 27.65 38 24 38c-5.93 0-11.01-3.4-13.45-8.36l.17-1.01 4.06-2.85h.8z\" fill=\"#34A853\"/>\n",
       "      <path d=\"M15.59 20.21a8.864 8.864 0 0 0 0 5.58l-5.03 3.86c-.98-2-1.53-4.25-1.53-6.64 0-2.39.55-4.64 1.53-6.64l1-.22 3.81 2.98.22 1.08z\" fill=\"#FBBC05\"/>\n",
       "      <path d=\"M24 14.14c2.11 0 4.02.75 5.52 1.98l4.36-4.36C31.22 9.43 27.81 8 24 8c-5.93 0-11.01 3.4-13.45 8.36l5.03 3.85A8.86 8.86 0 0 1 24 14.14z\" fill=\"#EA4335\"/>\n",
       "    </svg>\n",
       "    <div class=\"gradient-container\"><div class=\"gradient\"></div></div>\n",
       "  </div>\n",
       "  <div class=\"carousel\">\n",
       "    <a class=\"chip\" href=\"https://vertexaisearch.cloud.google.com/grounding-api-redirect/AbF9wXFKZ0tQoA9L7cM-foU3x3-vAnT4-f29lexwGbTnGDjP9R3W491wUaDns8zzU8xaTtwTchO9mnBA8XxkYZHRWprPhB7c7aw9yxWBL4BDSnrukLgEH-YXI-IFjlObIX__uHmYNJmySaTjA1vqk3xcq3ZiwY160den_N_3rPAqeodCequTOC6yXZw1XOPrKP5s34bzJgOlRigs-KhPi0F5QVSLxR25omkCbpWpfecSxgeiUCMKxXsP_CiU0T4t3VRiy1rOrLNOb20p-RKaWhZSOdjFBio84UASFg==\">高田馬場 カレー 人気</a>\n",
       "    <a class=\"chip\" href=\"https://vertexaisearch.cloud.google.com/grounding-api-redirect/AbF9wXHrUao8F_zIsvE8llL4QP56b9Iads-X9tmbGaoSG-1e07M0dH8xauOgtOpnVEOqDreDwbY5-DpKgOsqM9Pg2jC9IOuWLu29Zs-HNWqdg3CniBa4KzZeJPvJW1EpVbGjlbmQmTxyUV_XAGRwGD5iNsrZ4x9pV2pTEIdAJqzhvTSlVCoBOifNhm0JpcD9Ljj_e2LxCEnQ41442oVpuZKdKY26T7SaGi67ahilJEnQqzutoIo2kgib2w_pqR1pYQxIJcJajqxUYyDRlfwTrPaIev3G3iczlWpGA6AwDxzUgYGUJFdd7iIeN9LwVA==\">高田馬場 おすすめ カレー</a>\n",
       "    <a class=\"chip\" href=\"https://vertexaisearch.cloud.google.com/grounding-api-redirect/AbF9wXFJH7W2j54gdqKrfLW9fRe85PuOMEZnubq24wPPE-GWCUCmqr_3dWtns69BduYYBmlnZRXZ3U7ApbWu-buCelo3YYoysmPsou7QwrSlqJsxZwOfeexpuDVARCGXCDju9pZFFKhsCjYc0J_L48nvbMwln4yD72oLu7ZRRuDL91URH3mZdYVHAIcKNZEYE2ryT5VmUk-fzSYXhALx6voypdGW-1gcRsYt5oqpbP7JoxfsaSo9h_y9FxtvDoJezgSUCGpfk144U1-cY5h8eMw-uzTX2cKFtQtekRaObsOePIJ7EMlpT2tm1ioKiAM3iazQy9XUxw==\">高田馬場 カレー ランキング</a>\n",
       "  </div>\n",
       "</div>\n"
      ],
      "text/plain": [
       "<IPython.core.display.HTML object>"
      ]
     },
     "metadata": {},
     "output_type": "display_data"
    }
   ],
   "source": [
    "from IPython.display import display, HTML\n",
    "\n",
    "search_queries = session.events[-1].grounding_metadata.web_search_queries\n",
    "entry_point_html = session.events[-1].grounding_metadata.search_entry_point.rendered_content\n",
    "\n",
    "print(search_queries)\n",
    "display(HTML(entry_point_html))"
   ]
  },
  {
   "cell_type": "markdown",
   "id": "1ee87ca8-6cbe-4aad-a0ec-8bae7a2405ba",
   "metadata": {},
   "source": [
    "続けて質問すると、セッション情報を踏まえた回答が得られます。"
   ]
  },
  {
   "cell_type": "code",
   "execution_count": 10,
   "id": "490a39f2-3da9-49a6-bba2-530de530919b",
   "metadata": {
    "tags": []
   },
   "outputs": [
    {
     "name": "stdout",
     "output_type": "stream",
     "text": [
      "家族連れにおすすめの高田馬場のカレー屋さんについて調べてみます。\n",
      "\n",
      "\n",
      "家族連れにおすすめとなると、お店の雰囲気やメニューのバリエーション、子供向けメニューの有無などが重要になりますね。\n",
      "\n",
      "食べログなどの情報から、子連れで行きやすいとされているお店をいくつかピックアップします。\n",
      "\n",
      "*   **大戸屋ごはん処 高田馬場駅前店:** 定食屋さんですが、「お子様野菜カレー」があります。アレルギー情報も開示されているので安心です。\n",
      "*   **プネウマカレー:** コスパが良いという評判で、子供連れでも入りやすいかもしれません。\n",
      "*   **フードウェイ 高田馬場店:** こちらは本格的なインドカレーのお店で、家族連れの来店も多いようです。チーズナンなど、子供が喜びそうなメニューもあります。\n",
      "\n",
      "これらの情報を参考に、お店のウェブサイトや口コミなども確認して、お子さんと一緒に楽しめるカレー屋さんを選んでみてください。\n",
      "\n"
     ]
    }
   ],
   "source": [
    "query = '''\n",
    "特に家族連れにおすすめなのは？\n",
    "'''\n",
    "_ = await client.stream(query)"
   ]
  },
  {
   "cell_type": "markdown",
   "id": "adb7736d-f47d-4f07-bd3a-9a14e938213f",
   "metadata": {},
   "source": [
    "先ほどと同様にセッションに記録されたイベントを確認すると、新しい質問と回答のイベントが追加されています。"
   ]
  },
  {
   "cell_type": "code",
   "execution_count": 11,
   "id": "d0152f2c-6ae9-42fa-a637-bcc0031d213d",
   "metadata": {
    "tags": []
   },
   "outputs": [
    {
     "name": "stdout",
     "output_type": "stream",
     "text": [
      "2025-06-06 22:13:28.635024 user\n",
      "2025-06-06 22:13:28.635763 search_agent\n",
      "2025-06-06 22:13:47.995505 user\n",
      "2025-06-06 22:13:47.996168 search_agent\n"
     ]
    }
   ],
   "source": [
    "session = await client._runner.session_service.get_session(\n",
    "    app_name = app_name,\n",
    "    user_id = user_id,\n",
    "    session_id = session_id,\n",
    ")\n",
    "\n",
    "for event in session.events:\n",
    "    print(format_timestamp(event.timestamp), event.author)"
   ]
  },
  {
   "cell_type": "code",
   "execution_count": 12,
   "id": "d2a30735-909d-4ce0-8f69-59d1894ef24c",
   "metadata": {
    "tags": []
   },
   "outputs": [
    {
     "name": "stdout",
     "output_type": "stream",
     "text": [
      "['高田馬場 カレー 家族連れ', '高田馬場 カレー 子連れ', '高田馬場 カレー 子供 おすすめ']\n"
     ]
    },
    {
     "data": {
      "text/html": [
       "<style>\n",
       ".container {\n",
       "  align-items: center;\n",
       "  border-radius: 8px;\n",
       "  display: flex;\n",
       "  font-family: Google Sans, Roboto, sans-serif;\n",
       "  font-size: 14px;\n",
       "  line-height: 20px;\n",
       "  padding: 8px 12px;\n",
       "}\n",
       ".chip {\n",
       "  display: inline-block;\n",
       "  border: solid 1px;\n",
       "  border-radius: 16px;\n",
       "  min-width: 14px;\n",
       "  padding: 5px 16px;\n",
       "  text-align: center;\n",
       "  user-select: none;\n",
       "  margin: 0 8px;\n",
       "  -webkit-tap-highlight-color: transparent;\n",
       "}\n",
       ".carousel {\n",
       "  overflow: auto;\n",
       "  scrollbar-width: none;\n",
       "  white-space: nowrap;\n",
       "  margin-right: -12px;\n",
       "}\n",
       ".headline {\n",
       "  display: flex;\n",
       "  margin-right: 4px;\n",
       "}\n",
       ".gradient-container {\n",
       "  position: relative;\n",
       "}\n",
       ".gradient {\n",
       "  position: absolute;\n",
       "  transform: translate(3px, -9px);\n",
       "  height: 36px;\n",
       "  width: 9px;\n",
       "}\n",
       "@media (prefers-color-scheme: light) {\n",
       "  .container {\n",
       "    background-color: #fafafa;\n",
       "    box-shadow: 0 0 0 1px #0000000f;\n",
       "  }\n",
       "  .headline-label {\n",
       "    color: #1f1f1f;\n",
       "  }\n",
       "  .chip {\n",
       "    background-color: #ffffff;\n",
       "    border-color: #d2d2d2;\n",
       "    color: #5e5e5e;\n",
       "    text-decoration: none;\n",
       "  }\n",
       "  .chip:hover {\n",
       "    background-color: #f2f2f2;\n",
       "  }\n",
       "  .chip:focus {\n",
       "    background-color: #f2f2f2;\n",
       "  }\n",
       "  .chip:active {\n",
       "    background-color: #d8d8d8;\n",
       "    border-color: #b6b6b6;\n",
       "  }\n",
       "  .logo-dark {\n",
       "    display: none;\n",
       "  }\n",
       "  .gradient {\n",
       "    background: linear-gradient(90deg, #fafafa 15%, #fafafa00 100%);\n",
       "  }\n",
       "}\n",
       "@media (prefers-color-scheme: dark) {\n",
       "  .container {\n",
       "    background-color: #1f1f1f;\n",
       "    box-shadow: 0 0 0 1px #ffffff26;\n",
       "  }\n",
       "  .headline-label {\n",
       "    color: #fff;\n",
       "  }\n",
       "  .chip {\n",
       "    background-color: #2c2c2c;\n",
       "    border-color: #3c4043;\n",
       "    color: #fff;\n",
       "    text-decoration: none;\n",
       "  }\n",
       "  .chip:hover {\n",
       "    background-color: #353536;\n",
       "  }\n",
       "  .chip:focus {\n",
       "    background-color: #353536;\n",
       "  }\n",
       "  .chip:active {\n",
       "    background-color: #464849;\n",
       "    border-color: #53575b;\n",
       "  }\n",
       "  .logo-light {\n",
       "    display: none;\n",
       "  }\n",
       "  .gradient {\n",
       "    background: linear-gradient(90deg, #1f1f1f 15%, #1f1f1f00 100%);\n",
       "  }\n",
       "}\n",
       "</style>\n",
       "<div class=\"container\">\n",
       "  <div class=\"headline\">\n",
       "    <svg class=\"logo-light\" width=\"18\" height=\"18\" viewBox=\"9 9 35 35\" fill=\"none\" xmlns=\"http://www.w3.org/2000/svg\">\n",
       "      <path fill-rule=\"evenodd\" clip-rule=\"evenodd\" d=\"M42.8622 27.0064C42.8622 25.7839 42.7525 24.6084 42.5487 23.4799H26.3109V30.1568H35.5897C35.1821 32.3041 33.9596 34.1222 32.1258 35.3448V39.6864H37.7213C40.9814 36.677 42.8622 32.2571 42.8622 27.0064V27.0064Z\" fill=\"#4285F4\"/>\n",
       "      <path fill-rule=\"evenodd\" clip-rule=\"evenodd\" d=\"M26.3109 43.8555C30.9659 43.8555 34.8687 42.3195 37.7213 39.6863L32.1258 35.3447C30.5898 36.3792 28.6306 37.0061 26.3109 37.0061C21.8282 37.0061 18.0195 33.9811 16.6559 29.906H10.9194V34.3573C13.7563 39.9841 19.5712 43.8555 26.3109 43.8555V43.8555Z\" fill=\"#34A853\"/>\n",
       "      <path fill-rule=\"evenodd\" clip-rule=\"evenodd\" d=\"M16.6559 29.8904C16.3111 28.8559 16.1074 27.7588 16.1074 26.6146C16.1074 25.4704 16.3111 24.3733 16.6559 23.3388V18.8875H10.9194C9.74388 21.2072 9.06992 23.8247 9.06992 26.6146C9.06992 29.4045 9.74388 32.022 10.9194 34.3417L15.3864 30.8621L16.6559 29.8904V29.8904Z\" fill=\"#FBBC05\"/>\n",
       "      <path fill-rule=\"evenodd\" clip-rule=\"evenodd\" d=\"M26.3109 16.2386C28.85 16.2386 31.107 17.1164 32.9095 18.8091L37.8466 13.8719C34.853 11.082 30.9659 9.3736 26.3109 9.3736C19.5712 9.3736 13.7563 13.245 10.9194 18.8875L16.6559 23.3388C18.0195 19.2636 21.8282 16.2386 26.3109 16.2386V16.2386Z\" fill=\"#EA4335\"/>\n",
       "    </svg>\n",
       "    <svg class=\"logo-dark\" width=\"18\" height=\"18\" viewBox=\"0 0 48 48\" xmlns=\"http://www.w3.org/2000/svg\">\n",
       "      <circle cx=\"24\" cy=\"23\" fill=\"#FFF\" r=\"22\"/>\n",
       "      <path d=\"M33.76 34.26c2.75-2.56 4.49-6.37 4.49-11.26 0-.89-.08-1.84-.29-3H24.01v5.99h8.03c-.4 2.02-1.5 3.56-3.07 4.56v.75l3.91 2.97h.88z\" fill=\"#4285F4\"/>\n",
       "      <path d=\"M15.58 25.77A8.845 8.845 0 0 0 24 31.86c1.92 0 3.62-.46 4.97-1.31l4.79 3.71C31.14 36.7 27.65 38 24 38c-5.93 0-11.01-3.4-13.45-8.36l.17-1.01 4.06-2.85h.8z\" fill=\"#34A853\"/>\n",
       "      <path d=\"M15.59 20.21a8.864 8.864 0 0 0 0 5.58l-5.03 3.86c-.98-2-1.53-4.25-1.53-6.64 0-2.39.55-4.64 1.53-6.64l1-.22 3.81 2.98.22 1.08z\" fill=\"#FBBC05\"/>\n",
       "      <path d=\"M24 14.14c2.11 0 4.02.75 5.52 1.98l4.36-4.36C31.22 9.43 27.81 8 24 8c-5.93 0-11.01 3.4-13.45 8.36l5.03 3.85A8.86 8.86 0 0 1 24 14.14z\" fill=\"#EA4335\"/>\n",
       "    </svg>\n",
       "    <div class=\"gradient-container\"><div class=\"gradient\"></div></div>\n",
       "  </div>\n",
       "  <div class=\"carousel\">\n",
       "    <a class=\"chip\" href=\"https://vertexaisearch.cloud.google.com/grounding-api-redirect/AbF9wXF9fmhlgGCpj7zVe8Ln0F8jMg8MqI8mUaUO4xayRbgDzkg3AgsrE6yDryrmxOsk7aNW6HkxlJ3Pj1TeeOI5SmkMb-1STmoEvox-Xb8T0rqbLKNqnRP5kcoWIpBdue6aJzogSRdYZnjH9zyf6CuxxoOC38dLA4EXIZxr3i_ubW7H05f1a3TsncnLhnz9nYI4lcMAZF_2kvNVhZC78EECoHwg7WKDv2XI9eW9uFVMQEWteUZhtTpVRzRCRf5xgQF8Z_mtJO34JUL8tI5T29_sgt2C3kehq_IM4oFs3wPZTb60vTsskDxrLroDwwufXSHljlUlhBTxtcCslSZVtA==\">高田馬場 カレー 子供 おすすめ</a>\n",
       "    <a class=\"chip\" href=\"https://vertexaisearch.cloud.google.com/grounding-api-redirect/AbF9wXEXYzzkcA9OGQptgFKN2y3unaNI0OxiAUtjFdszhCaO5oEr5rz9mLMlH2TIRFkz88RAtr1mjxcSDOVg6gd493oExEhRjeY5pZrzoKeZnPrbVjURBuB04_XS0Qid5pRGUIuHKhKyV0H6UkjFZQX-t2_RIwGmWsef8AOGxo8a3ivbnpyjYK30ImWqRjDu52hiYzYOmFV11it7kkZpBr9Cj-eVxB9HqL719LQaqXv903wLbnrU54pr2Nkdzd4gvIGtXs7i9-QzVsj5g3k_aa3P6Xa1KCdD_CpAO6fzafVOCUegth2Oz6FtxdG9\">高田馬場 カレー 家族連れ</a>\n",
       "    <a class=\"chip\" href=\"https://vertexaisearch.cloud.google.com/grounding-api-redirect/AbF9wXHjEGRg0sKY_JqSnuhck-X28G9HH9dBJHgFZpufdtk6sk-dM_g8Up4ANMgWkkUtBbc2VrhsWpBFzc7BjI6P5VnzRQRJH91AZKrARpnKQBYXI94QhcCKN8cn4SuIUQ5mghz8LxNXjleGSOTfSpvpl04KIEkeIY6zdzZh_2-AQ7s239izKFJUB6uLdm7F6JGcudTk2Qq9KR3o46MxVWMeRLv3ydZEhfGUqSHsVQwPsOE2DmYlWkBPsLfK3i9--ivZJl5neoCg0td3D9h0P0A_2jydNWEVg-pcSaM3wefeFR2y\">高田馬場 カレー 子連れ</a>\n",
       "  </div>\n",
       "</div>\n"
      ],
      "text/plain": [
       "<IPython.core.display.HTML object>"
      ]
     },
     "metadata": {},
     "output_type": "display_data"
    }
   ],
   "source": [
    "search_queries = session.events[-1].grounding_metadata.web_search_queries\n",
    "entry_point_html = session.events[-1].grounding_metadata.search_entry_point.rendered_content\n",
    "\n",
    "print(search_queries)\n",
    "display(HTML(entry_point_html))"
   ]
  },
  {
   "cell_type": "markdown",
   "id": "e2a70f99-4d13-4b5d-b001-53feeefa9f80",
   "metadata": {
    "tags": []
   },
   "source": [
    "## システムインストラクションの確認"
   ]
  },
  {
   "cell_type": "markdown",
   "id": "5bfac680-ef89-45e8-b2c1-33e7142a128b",
   "metadata": {},
   "source": [
    "ちょっとした裏技を使って、LlmAgent オブジェクトが Gemini API に送っている生の情報を覗いてみます。"
   ]
  },
  {
   "cell_type": "code",
   "execution_count": 13,
   "id": "be3cb571-7668-4e52-a391-f5fd566219c8",
   "metadata": {
    "tags": []
   },
   "outputs": [],
   "source": [
    "import pprint\n",
    "from google.adk.agents.invocation_context import InvocationContext\n",
    "from typing import AsyncGenerator\n",
    "from google.adk.events.event import Event\n",
    "from google.adk.models.llm_request import LlmRequest\n",
    "\n",
    "async def _run_one_step_async(\n",
    "      self,\n",
    "      invocation_context: InvocationContext,\n",
    "  ) -> AsyncGenerator[Event, None]:\n",
    "    \"\"\"One step means one LLM call.\"\"\"\n",
    "    llm_request = LlmRequest()\n",
    "\n",
    "    # Preprocess before calling the LLM.\n",
    "    async for event in self._preprocess_async(invocation_context, llm_request):\n",
    "        yield event\n",
    "    if invocation_context.end_invocation:\n",
    "        return\n",
    "\n",
    "    # Calls the LLM.\n",
    "    model_response_event = Event(\n",
    "        id=Event.new_id(),\n",
    "        invocation_id=invocation_context.invocation_id,\n",
    "        author=invocation_context.agent.name,\n",
    "        branch=invocation_context.branch,\n",
    "    )\n",
    "\n",
    "    ## DEBUG output\n",
    "    if DEBUG:\n",
    "        print('## Prompt contents ##')\n",
    "        pprint.pp(llm_request.contents)\n",
    "        print('----')\n",
    "        print('## System instruction ##')\n",
    "        print(llm_request.config.system_instruction)\n",
    "        print('----')\n",
    "        print('## Tools config ##')\n",
    "        pprint.pp(llm_request.config.tools)\n",
    "        print('----')\n",
    "    ####\n",
    "\n",
    "    async for llm_response in self._call_llm_async(\n",
    "        invocation_context, llm_request, model_response_event\n",
    "    ):\n",
    "        # Postprocess after calling the LLM.\n",
    "        async for event in self._postprocess_async(\n",
    "            invocation_context, llm_request, llm_response, model_response_event\n",
    "        ):\n",
    "            yield event\n",
    "\n",
    "from google.adk.flows.llm_flows.base_llm_flow import BaseLlmFlow\n",
    "_run_one_step_async_original = copy.deepcopy(BaseLlmFlow._run_one_step_async)\n",
    "BaseLlmFlow._run_one_step_async = _run_one_step_async"
   ]
  },
  {
   "cell_type": "code",
   "execution_count": 14,
   "id": "a8229c70-8171-4c92-81c4-04cc8ec0fb38",
   "metadata": {
    "tags": []
   },
   "outputs": [
    {
     "name": "stdout",
     "output_type": "stream",
     "text": [
      "## Prompt contents ##\n",
      "[Content(parts=[Part(video_metadata=None, thought=None, inline_data=None, file_data=None, thought_signature=None, code_execution_result=None, executable_code=None, function_call=None, function_response=None, text='\\n高田馬場のおすすめのカレー屋は？\\n')], role='user')]\n",
      "----\n",
      "## System instruction ##\n",
      "\n",
      "You are a friendly AI assistant that answers user's queries.\n",
      "Use google_search to give answers based on the latest and objective information.\n",
      "\n",
      "[Format instruction]\n",
      "Output in Japanese, in plain text only.\n",
      "Avoid adding citation marks such as [1][2].\n",
      "\n",
      "\n",
      "You are an agent. Your internal name is \"search_agent\".\n",
      "\n",
      " The description about you is \"Agent to answer questions using Google Search.\"\n",
      "----\n",
      "## Tools config ##\n",
      "[Tool(function_declarations=None, retrieval=None, google_search=GoogleSearch(time_range_filter=None), google_search_retrieval=None, enterprise_web_search=None, google_maps=None, url_context=None, code_execution=None)]\n",
      "----\n",
      "高田馬場でおすすめのカレー屋さんについて調べてみます。\n",
      "\n",
      "\n",
      "高田馬場にはたくさんのカレー屋さんがあり、それぞれに特徴があります。おすすめのお店をいくつかご紹介します。\n",
      "\n",
      "*   **カレーライス専門店ブラザー:** 鯖キーマカレーが圧倒的な人気を誇ります。\n",
      "*   **横浜ボンベイ 高田馬場店:** サラッとしたルーが特徴で、特にカシミールカレーは長年愛される超有名カレーです。\n",
      "*   **カリーライス専門店エチオピア 高田馬場店:** 長時間煮込んだたっぷり野菜が美味しいカレーを提供しています。\n",
      "*   **プネウマカレー:** コスパ最強の人気店として知られています。\n",
      "*    **まっちゃんカレー:** ロックなキーマカレーが楽しめます。\n",
      "*   **白カレーの店 1/f ゆらぎ:** 珍しい白カレーが味わえます。\n",
      "\n",
      "その他にも、ゴーゴーカレー、マイカリー食堂、アプサラなど、様々なカレー屋さんがあります。また、東南アジア系のカレーが楽しめるお店も多いです。\n",
      "\n",
      "これらの情報を参考に、あなたの好みに合ったカレー屋さんを見つけてみてください。\n",
      "\n"
     ]
    }
   ],
   "source": [
    "client = LocalApp(search_agent, 'Search Agent App', 'user00')\n",
    "\n",
    "DEBUG = True\n",
    "query = '''\n",
    "高田馬場のおすすめのカレー屋は？\n",
    "'''\n",
    "_ = await client.stream(query)"
   ]
  },
  {
   "cell_type": "code",
   "execution_count": 15,
   "id": "36702715-d78d-42e5-a205-24a592265b6e",
   "metadata": {
    "tags": []
   },
   "outputs": [
    {
     "name": "stdout",
     "output_type": "stream",
     "text": [
      "## Prompt contents ##\n",
      "[Content(parts=[Part(video_metadata=None, thought=None, inline_data=None, file_data=None, thought_signature=None, code_execution_result=None, executable_code=None, function_call=None, function_response=None, text='\\n高田馬場のおすすめのカレー屋は？\\n')], role='user'),\n",
      " Content(parts=[Part(video_metadata=None, thought=None, inline_data=None, file_data=None, thought_signature=None, code_execution_result=None, executable_code=None, function_call=None, function_response=None, text='高田馬場でおすすめのカレー屋さんについて調べてみます。\\n\\n'), Part(video_metadata=None, thought=None, inline_data=None, file_data=None, thought_signature=None, code_execution_result=None, executable_code=None, function_call=None, function_response=None, text='高田馬場にはたくさんのカレー屋さんがあり、それぞれに特徴があります。おすすめのお店をいくつかご紹介します。\\n\\n*   **カレーライス専門店ブラザー:** 鯖キーマカレーが圧倒的な人気を誇ります。\\n*   **横浜ボンベイ 高田馬場店:** サラッとしたルーが特徴で、特にカシミールカレーは長年愛される超有名カレーです。\\n*   **カリーライス専門店エチオピア 高田馬場店:** 長時間煮込んだたっぷり野菜が美味しいカレーを提供しています。\\n*   **プネウマカレー:** コスパ最強の人気店として知られています。\\n*    **まっちゃんカレー:** ロックなキーマカレーが楽しめます。\\n*   **白カレーの店 1/f ゆらぎ:** 珍しい白カレーが味わえます。\\n\\nその他にも、ゴーゴーカレー、マイカリー食堂、アプサラなど、様々なカレー屋さんがあります。また、東南アジア系のカレーが楽しめるお店も多いです。\\n\\nこれらの情報を参考に、あなたの好みに合ったカレー屋さんを見つけてみてください。\\n')], role='model'),\n",
      " Content(parts=[Part(video_metadata=None, thought=None, inline_data=None, file_data=None, thought_signature=None, code_execution_result=None, executable_code=None, function_call=None, function_response=None, text='\\n特に家族連れにおすすめなのは？\\n')], role='user')]\n",
      "----\n",
      "## System instruction ##\n",
      "\n",
      "You are a friendly AI assistant that answers user's queries.\n",
      "Use google_search to give answers based on the latest and objective information.\n",
      "\n",
      "[Format instruction]\n",
      "Output in Japanese, in plain text only.\n",
      "Avoid adding citation marks such as [1][2].\n",
      "\n",
      "\n",
      "You are an agent. Your internal name is \"search_agent\".\n",
      "\n",
      " The description about you is \"Agent to answer questions using Google Search.\"\n",
      "----\n",
      "## Tools config ##\n",
      "[Tool(function_declarations=None, retrieval=None, google_search=GoogleSearch(time_range_filter=None), google_search_retrieval=None, enterprise_web_search=None, google_maps=None, url_context=None, code_execution=None)]\n",
      "----\n",
      "家族連れにおすすめの高田馬場のカレー屋さんについて調べてみます。\n",
      "\n",
      "\n",
      " 食べログによると、高田馬場で子連れで行けるカレー屋さんはいくつかあります。\n",
      "\n",
      "*   **プネウマカレー:** 子連れママ向けのグルメナビサイトmamacoによると、プネウマカレーは離乳食の持ち込みが可能で、土曜日にはお子様連れも来店するそうです。店内はカウンター席のみですが、空間が広々としているためベビーカーを置くことができます。ただし、背もたれのない椅子なので、一人でしっかりと座れるお子様に向いています。テイクアウトも可能です。\n",
      "*   **その他:** 食べログでは、他にもフィクションスパイス、Oriental Elephant 高田馬場店、mayaなどが子連れで行けるカレー屋さんとして掲載されています。\n",
      "\n",
      "お子様の年齢や好みに合わせて、お店を選んでみてください。\n",
      "\n"
     ]
    }
   ],
   "source": [
    "query = '''\n",
    "特に家族連れにおすすめなのは？\n",
    "'''\n",
    "_ = await client.stream(query)"
   ]
  },
  {
   "cell_type": "markdown",
   "id": "3da96ad4-1a1f-4a96-bf1c-006412202401",
   "metadata": {},
   "source": [
    "`## Prompt contents ##` の部分を見ると、セッションに記録されたイベントをすべてプロンプトに含めるのではなく、コンテキスト（これまでの会話の流れ）を把握するのに必要な情報が選択されていることがわかります。"
   ]
  },
  {
   "cell_type": "markdown",
   "id": "2dcf2f5a-01cc-48e7-b914-a5d2cfdd992f",
   "metadata": {},
   "source": [
    "裏技で変更した内部関数を元に戻しておきます。"
   ]
  },
  {
   "cell_type": "code",
   "execution_count": 16,
   "id": "4ec8b08e-6fd1-4b85-a71f-225ad93eddab",
   "metadata": {
    "tags": []
   },
   "outputs": [],
   "source": [
    "DEBUG = False\n",
    "BaseLlmFlow._run_one_step_async = _run_one_step_async_original"
   ]
  },
  {
   "cell_type": "markdown",
   "id": "1af5ce4f-ad07-4ff1-8b5a-a692c72136ad",
   "metadata": {
    "tags": []
   },
   "source": [
    "## AgentEngine へのデプロイ"
   ]
  },
  {
   "cell_type": "code",
   "execution_count": 17,
   "id": "a70d1459-4afd-4d07-b25e-21b32c708396",
   "metadata": {
    "tags": []
   },
   "outputs": [
    {
     "name": "stdout",
     "output_type": "stream",
     "text": [
      "Deploying google.adk.agents.Agent as an application.\n",
      "Identified the following requirements: {'pydantic': '2.11.5', 'cloudpickle': '3.1.1', 'google-cloud-aiplatform': '1.97.0'}\n",
      "The following requirements are missing: {'pydantic', 'cloudpickle'}\n",
      "The following requirements are appended: {'cloudpickle==3.1.1', 'pydantic==2.11.5'}\n",
      "The final list of requirements: ['google-adk==1.4.1', 'google-cloud-aiplatform==1.97.0', 'google-genai==1.20.0', 'cloudpickle==3.1.1', 'pydantic==2.11.5']\n",
      "Using bucket etsuji-15pro-poc\n",
      "Wrote to gs://etsuji-15pro-poc/agent_engine/agent_engine.pkl\n",
      "Writing to gs://etsuji-15pro-poc/agent_engine/requirements.txt\n",
      "Creating in-memory tarfile of extra_packages\n",
      "Writing to gs://etsuji-15pro-poc/agent_engine/dependencies.tar.gz\n",
      "Creating AgentEngine\n",
      "Create AgentEngine backing LRO: projects/879055303739/locations/us-central1/reasoningEngines/1643154157013565440/operations/7370126874497777664\n",
      "View progress and logs at https://console.cloud.google.com/logs/query?project=etsuji-15pro-poc\n",
      "AgentEngine created. Resource name: projects/879055303739/locations/us-central1/reasoningEngines/1643154157013565440\n",
      "To use this AgentEngine in another session:\n",
      "agent_engine = vertexai.agent_engines.get('projects/879055303739/locations/us-central1/reasoningEngines/1643154157013565440')\n"
     ]
    }
   ],
   "source": [
    "from vertexai import agent_engines\n",
    "\n",
    "remote_agent = agent_engines.create(\n",
    "    agent_engine=search_agent,\n",
    "    display_name='search_agent',\n",
    "    requirements=[\n",
    "        'google-adk==1.4.1',\n",
    "        'google-cloud-aiplatform==1.97.0',\n",
    "        'google-genai==1.20.0'\n",
    "    ]\n",
    ")"
   ]
  },
  {
   "cell_type": "code",
   "execution_count": 18,
   "id": "932a6534-189a-467b-8fe0-b43572d3007c",
   "metadata": {
    "tags": []
   },
   "outputs": [],
   "source": [
    "class RemoteApp:\n",
    "    def __init__(self, remote_agent, user_id):\n",
    "        self._remote_agent = remote_agent\n",
    "        self._user_id = user_id\n",
    "        self._session = remote_agent.create_session(user_id=self._user_id)\n",
    "    \n",
    "    def _stream(self, query):\n",
    "        events = self._remote_agent.stream_query(\n",
    "            user_id=self._user_id,\n",
    "            session_id=self._session['id'],\n",
    "            message=query,\n",
    "        )\n",
    "        result = []\n",
    "        for event in events:\n",
    "            if ('content' in event and 'parts' in event['content']):\n",
    "                response = '\\n'.join(\n",
    "                    [p['text'] for p in event['content']['parts'] if 'text' in p]\n",
    "                )\n",
    "                if response:\n",
    "                    print(response)\n",
    "                    result.append(response)\n",
    "        return result\n",
    "\n",
    "    def stream(self, query):\n",
    "        # Retry 4 times in case of resource exhaustion \n",
    "        for c in range(4):\n",
    "            if c > 0:\n",
    "                time.sleep(2**(c-1))\n",
    "            result = self._stream(query)\n",
    "            if result:\n",
    "                return result\n",
    "            if DEBUG:\n",
    "                print('----\\nRetrying...\\n----')\n",
    "        return None # Permanent error"
   ]
  },
  {
   "cell_type": "code",
   "execution_count": 19,
   "id": "d614f2fb-2d9d-4e2b-9175-f603677aefbc",
   "metadata": {
    "tags": []
   },
   "outputs": [
    {
     "name": "stdout",
     "output_type": "stream",
     "text": [
      " 2025年のゴールデンウィークは、暦通りだと5月3日（土）から5月6日（火）までの4連休です。\n",
      "\n",
      "しかし、4月28日（月）と4月30日（水）から5月2日（金）の平日3日間を休みにすると、最大11連休になります。\n",
      "\n"
     ]
    }
   ],
   "source": [
    "remote_client = RemoteApp(remote_agent, 'user00')\n",
    "\n",
    "query = '''\n",
    "今年のゴールデンウィークは、何連休でしょうか？\n",
    "'''\n",
    "_ = remote_client.stream(query)"
   ]
  },
  {
   "cell_type": "code",
   "execution_count": 20,
   "id": "c8856714-e948-4d0c-b7c5-47a41d1ecfe3",
   "metadata": {
    "tags": []
   },
   "outputs": [
    {
     "name": "stdout",
     "output_type": "stream",
     "text": [
      " 2026年のゴールデンウィークは、5月2日（土）から5月6日（水）までの5連休です。4月30日（木）と5月1日（金）の2日間を休むと、4月29日（水）から5月6日（水）まで最大8連休になります。\n",
      "\n"
     ]
    }
   ],
   "source": [
    "query = '''\n",
    "来年はどうなりますか？\n",
    "'''\n",
    "_ = remote_client.stream(query)"
   ]
  },
  {
   "cell_type": "markdown",
   "id": "100af7ef-31da-4685-9983-39586cd3c2cf",
   "metadata": {
    "tags": []
   },
   "source": [
    "セッション情報を参照する際は、`VertexAiSessionService` を使用します。"
   ]
  },
  {
   "cell_type": "code",
   "execution_count": 21,
   "id": "c2a7a06e-3c28-4962-8e0f-6068d895b897",
   "metadata": {
    "tags": []
   },
   "outputs": [
    {
     "data": {
      "text/plain": [
       "('1643154157013565440', 'user00', '3578844927469027328')"
      ]
     },
     "execution_count": 21,
     "metadata": {},
     "output_type": "execute_result"
    }
   ],
   "source": [
    "app_name = remote_client._session['appName']\n",
    "user_id = remote_client._session['userId']\n",
    "session_id = remote_client._session['id']\n",
    "\n",
    "app_name, user_id, session_id"
   ]
  },
  {
   "cell_type": "code",
   "execution_count": 22,
   "id": "702e04e8-469d-409f-a3de-9847f624bd7a",
   "metadata": {
    "tags": []
   },
   "outputs": [
    {
     "data": {
      "text/plain": [
       "Session(id='3578844927469027328', app_name='1643154157013565440', user_id='user00', state={}, events=[Event(content=Content(parts=[Part(video_metadata=None, thought=None, inline_data=None, file_data=None, thought_signature=None, code_execution_result=None, executable_code=None, function_call=None, function_response=None, text='\\n今年のゴールデンウィークは、何連休でしょうか？\\n')], role='user'), grounding_metadata=None, partial=None, turn_complete=None, error_code=None, error_message=None, interrupted=None, custom_metadata=None, usage_metadata=None, invocation_id='e-5e09b04e-08dc-4149-b057-faeabdb0bf47', author='user', actions=EventActions(skip_summarization=None, state_delta={}, artifact_delta={}, transfer_to_agent=None, escalate=None, requested_auth_configs={}), long_running_tool_ids=None, branch=None, id='7383100183992598528', timestamp=1749248256.937505), Event(content=Content(parts=[Part(video_metadata=None, thought=None, inline_data=None, file_data=None, thought_signature=None, code_execution_result=None, executable_code=None, function_call=None, function_response=None, text=' 2025年のゴールデンウィークは、暦通りだと5月3日（土）から5月6日（火）までの4連休です。\\n\\nしかし、4月28日（月）と4月30日（水）から5月2日（金）の平日3日間を休みにすると、最大11連休になります。\\n')], role='model'), grounding_metadata=GroundingMetadata(grounding_chunks=[GroundingChunk(retrieved_context=None, web=GroundingChunkWeb(domain='hayamihyou.com', title='hayamihyou.com', uri='https://vertexaisearch.cloud.google.com/grounding-api-redirect/AbF9wXHKTnR8CqYLSF6MI2fMEhxlsoCDA6lh7zsgzjcIpAdIsNc3G3tViOarZ9AmZodJIy5wKKvsWDLu3aMPAHYJalIcl7DTW5Ccj0nAkSvNkBWqSvLoSARw9rrZTpFHHDePTQFQN2gQjEpxNN30-sRS9Q==')), GroundingChunk(retrieved_context=None, web=GroundingChunkWeb(domain='baitoru.com', title='baitoru.com', uri='https://vertexaisearch.cloud.google.com/grounding-api-redirect/AbF9wXHZqRM3Exk6d8qqtAe31vUcO8NAZUfBAC3i-mDg-kK_C7yIrNb0oQ3azjLM1Wi-eS6eMbzUZ83c1jNkqEjYIImm_8PzmFktp0AToWL6UroIvMNkFOIEtzCku3PpxU2jUVtuECgP_WUacP-tRrqGiw==')), GroundingChunk(retrieved_context=None, web=GroundingChunkWeb(domain='iko-yo.net', title='iko-yo.net', uri='https://vertexaisearch.cloud.google.com/grounding-api-redirect/AbF9wXEy621t8Z3q07VwxD2uJCrmu6gME_p5-MpuxVUnRLpiF9MYDLVg8TUAjh5ZnIxqYrk2I6o49XPG3mFhxuB42HdLYoNNaO5osrbQNVGk0WqPjBEHug_Upo81YZYeiey6-j7-aQ==')), GroundingChunk(retrieved_context=None, web=GroundingChunkWeb(domain='family-life.work', title='family-life.work', uri='https://vertexaisearch.cloud.google.com/grounding-api-redirect/AbF9wXH2yE6q36kpZzvOjDnTSw29ZTMX28WXbGmTph-21oweA2TyAlGSFrUOPIMMPW5Y3bdTlUwt8DsWRDIOFOnr2f7ZH62LFpbZn82wxOAjMi2Oi6hdHDlDh_GPiHanfuJjLfC4PBFH3AUsbwivWEo='))], grounding_supports=[GroundingSupport(confidence_scores=[0.9838127, 0.9422766, 0.8450002, 0.8673773], grounding_chunk_indices=[0, 1, 2, 3], segment=Segment(end_index=124, part_index=None, start_index=1, text='2025年のゴールデンウィークは、暦通りだと5月3日（土）から5月6日（火）までの4連休です。')), GroundingSupport(confidence_scores=[0.9835022], grounding_chunk_indices=[2], segment=Segment(end_index=272, part_index=None, start_index=126, text='しかし、4月28日（月）と4月30日（水）から5月2日（金）の平日3日間を休みにすると、最大11連休になります。'))], retrieval_metadata=RetrievalMetadata(google_search_dynamic_retrieval_score=None), retrieval_queries=None, search_entry_point=SearchEntryPoint(rendered_content='<style>\\n.container {\\n  align-items: center;\\n  border-radius: 8px;\\n  display: flex;\\n  font-family: Google Sans, Roboto, sans-serif;\\n  font-size: 14px;\\n  line-height: 20px;\\n  padding: 8px 12px;\\n}\\n.chip {\\n  display: inline-block;\\n  border: solid 1px;\\n  border-radius: 16px;\\n  min-width: 14px;\\n  padding: 5px 16px;\\n  text-align: center;\\n  user-select: none;\\n  margin: 0 8px;\\n  -webkit-tap-highlight-color: transparent;\\n}\\n.carousel {\\n  overflow: auto;\\n  scrollbar-width: none;\\n  white-space: nowrap;\\n  margin-right: -12px;\\n}\\n.headline {\\n  display: flex;\\n  margin-right: 4px;\\n}\\n.gradient-container {\\n  position: relative;\\n}\\n.gradient {\\n  position: absolute;\\n  transform: translate(3px, -9px);\\n  height: 36px;\\n  width: 9px;\\n}\\n@media (prefers-color-scheme: light) {\\n  .container {\\n    background-color: #fafafa;\\n    box-shadow: 0 0 0 1px #0000000f;\\n  }\\n  .headline-label {\\n    color: #1f1f1f;\\n  }\\n  .chip {\\n    background-color: #ffffff;\\n    border-color: #d2d2d2;\\n    color: #5e5e5e;\\n    text-decoration: none;\\n  }\\n  .chip:hover {\\n    background-color: #f2f2f2;\\n  }\\n  .chip:focus {\\n    background-color: #f2f2f2;\\n  }\\n  .chip:active {\\n    background-color: #d8d8d8;\\n    border-color: #b6b6b6;\\n  }\\n  .logo-dark {\\n    display: none;\\n  }\\n  .gradient {\\n    background: linear-gradient(90deg, #fafafa 15%, #fafafa00 100%);\\n  }\\n}\\n@media (prefers-color-scheme: dark) {\\n  .container {\\n    background-color: #1f1f1f;\\n    box-shadow: 0 0 0 1px #ffffff26;\\n  }\\n  .headline-label {\\n    color: #fff;\\n  }\\n  .chip {\\n    background-color: #2c2c2c;\\n    border-color: #3c4043;\\n    color: #fff;\\n    text-decoration: none;\\n  }\\n  .chip:hover {\\n    background-color: #353536;\\n  }\\n  .chip:focus {\\n    background-color: #353536;\\n  }\\n  .chip:active {\\n    background-color: #464849;\\n    border-color: #53575b;\\n  }\\n  .logo-light {\\n    display: none;\\n  }\\n  .gradient {\\n    background: linear-gradient(90deg, #1f1f1f 15%, #1f1f1f00 100%);\\n  }\\n}\\n</style>\\n<div class=\"container\">\\n  <div class=\"headline\">\\n    <svg class=\"logo-light\" width=\"18\" height=\"18\" viewBox=\"9 9 35 35\" fill=\"none\" xmlns=\"http://www.w3.org/2000/svg\">\\n      <path fill-rule=\"evenodd\" clip-rule=\"evenodd\" d=\"M42.8622 27.0064C42.8622 25.7839 42.7525 24.6084 42.5487 23.4799H26.3109V30.1568H35.5897C35.1821 32.3041 33.9596 34.1222 32.1258 35.3448V39.6864H37.7213C40.9814 36.677 42.8622 32.2571 42.8622 27.0064V27.0064Z\" fill=\"#4285F4\"/>\\n      <path fill-rule=\"evenodd\" clip-rule=\"evenodd\" d=\"M26.3109 43.8555C30.9659 43.8555 34.8687 42.3195 37.7213 39.6863L32.1258 35.3447C30.5898 36.3792 28.6306 37.0061 26.3109 37.0061C21.8282 37.0061 18.0195 33.9811 16.6559 29.906H10.9194V34.3573C13.7563 39.9841 19.5712 43.8555 26.3109 43.8555V43.8555Z\" fill=\"#34A853\"/>\\n      <path fill-rule=\"evenodd\" clip-rule=\"evenodd\" d=\"M16.6559 29.8904C16.3111 28.8559 16.1074 27.7588 16.1074 26.6146C16.1074 25.4704 16.3111 24.3733 16.6559 23.3388V18.8875H10.9194C9.74388 21.2072 9.06992 23.8247 9.06992 26.6146C9.06992 29.4045 9.74388 32.022 10.9194 34.3417L15.3864 30.8621L16.6559 29.8904V29.8904Z\" fill=\"#FBBC05\"/>\\n      <path fill-rule=\"evenodd\" clip-rule=\"evenodd\" d=\"M26.3109 16.2386C28.85 16.2386 31.107 17.1164 32.9095 18.8091L37.8466 13.8719C34.853 11.082 30.9659 9.3736 26.3109 9.3736C19.5712 9.3736 13.7563 13.245 10.9194 18.8875L16.6559 23.3388C18.0195 19.2636 21.8282 16.2386 26.3109 16.2386V16.2386Z\" fill=\"#EA4335\"/>\\n    </svg>\\n    <svg class=\"logo-dark\" width=\"18\" height=\"18\" viewBox=\"0 0 48 48\" xmlns=\"http://www.w3.org/2000/svg\">\\n      <circle cx=\"24\" cy=\"23\" fill=\"#FFF\" r=\"22\"/>\\n      <path d=\"M33.76 34.26c2.75-2.56 4.49-6.37 4.49-11.26 0-.89-.08-1.84-.29-3H24.01v5.99h8.03c-.4 2.02-1.5 3.56-3.07 4.56v.75l3.91 2.97h.88z\" fill=\"#4285F4\"/>\\n      <path d=\"M15.58 25.77A8.845 8.845 0 0 0 24 31.86c1.92 0 3.62-.46 4.97-1.31l4.79 3.71C31.14 36.7 27.65 38 24 38c-5.93 0-11.01-3.4-13.45-8.36l.17-1.01 4.06-2.85h.8z\" fill=\"#34A853\"/>\\n      <path d=\"M15.59 20.21a8.864 8.864 0 0 0 0 5.58l-5.03 3.86c-.98-2-1.53-4.25-1.53-6.64 0-2.39.55-4.64 1.53-6.64l1-.22 3.81 2.98.22 1.08z\" fill=\"#FBBC05\"/>\\n      <path d=\"M24 14.14c2.11 0 4.02.75 5.52 1.98l4.36-4.36C31.22 9.43 27.81 8 24 8c-5.93 0-11.01 3.4-13.45 8.36l5.03 3.85A8.86 8.86 0 0 1 24 14.14z\" fill=\"#EA4335\"/>\\n    </svg>\\n    <div class=\"gradient-container\"><div class=\"gradient\"></div></div>\\n  </div>\\n  <div class=\"carousel\">\\n    <a class=\"chip\" href=\"https://vertexaisearch.cloud.google.com/grounding-api-redirect/AbF9wXEaxj7NGHt2TVsRGdxN2TG9a5neYiGGbEhjlcy54K_cWG6F92yv8u3svWY2ehNsLnbJe4Kj4WFTK1tn1BIcYVD27OKNGGOk138KzQCSFygiRyoNS-EVn8W17UtNg5l8hJ3QPeHGhRL-23KzJZiPFjK0zmTY4jkR0CYf0LjCq47_sZdDPy-E1qebOHPAYHU8lOw2hzsG0Rla5O3Znyf4ms32_xHZwxrX07D32kVwWLwlKRt7C50vUFlvuzhr6euTOmaavI0NSJkMxmW83IhFfXKy0fW207-ZeuNZ5H95QseKOadEHDE-Oidg_VllaUNAJZ50eNA4Dg==\">2025年 ゴールデンウィーク 期間</a>\\n    <a class=\"chip\" href=\"https://vertexaisearch.cloud.google.com/grounding-api-redirect/AbF9wXH7x9ncZ9ZmLCM1oFxhQG2mE3EHde98Q04wWKUCU9x0LdZZIr1Yr0k0W3Hvhvk7af8FDt5jxZyL2sHHzcnsbej6qXNWbJgU6zKX2dg72YIImhzZ5RaYgmAc5ghksdNOS3DrDOyEXcy2NvV250vHX76th_d5WVvy9xrQTo9y_kkLxBmlSdDnlSaOJAzHffJ0ZuRvc0ROQejsU8aH-_iUTOqjO82W1oHMoJgL3dqZpoDt4oC2xjCEO4vE8Q69hHTHMmcGpiIUGCnFYlyDry5DdQxZXB1OtRVcxYFvrQ4dEZlGfmx-w1SRzN7o_sEAhvyguEVWgQs-Y_AMGcwFRUkYgw==\">2025年 ゴールデンウィーク 何連休</a>\\n  </div>\\n</div>\\n', sdk_blob=None), web_search_queries=['2025年 ゴールデンウィーク 何連休', '2025年 ゴールデンウィーク 期間']), partial=None, turn_complete=None, error_code=None, error_message=None, interrupted=None, custom_metadata=None, usage_metadata=None, invocation_id='e-5e09b04e-08dc-4149-b057-faeabdb0bf47', author='search_agent', actions=EventActions(skip_summarization=None, state_delta={}, artifact_delta={}, transfer_to_agent=None, escalate=None, requested_auth_configs={}), long_running_tool_ids=None, branch=None, id='8292827308721438720', timestamp=1749248257.144144), Event(content=Content(parts=[Part(video_metadata=None, thought=None, inline_data=None, file_data=None, thought_signature=None, code_execution_result=None, executable_code=None, function_call=None, function_response=None, text='\\n来年はどうなりますか？\\n')], role='user'), grounding_metadata=None, partial=None, turn_complete=None, error_code=None, error_message=None, interrupted=None, custom_metadata=None, usage_metadata=None, invocation_id='e-a443442e-f5c8-4a9f-abee-7c24d67dc390', author='user', actions=EventActions(skip_summarization=None, state_delta={}, artifact_delta={}, transfer_to_agent=None, escalate=None, requested_auth_configs={}), long_running_tool_ids=None, branch=None, id='4338666835890143232', timestamp=1749248259.468261), Event(content=Content(parts=[Part(video_metadata=None, thought=None, inline_data=None, file_data=None, thought_signature=None, code_execution_result=None, executable_code=None, function_call=None, function_response=None, text=' 2026年のゴールデンウィークは、5月2日（土）から5月6日（水）までの5連休です。4月30日（木）と5月1日（金）の2日間を休むと、4月29日（水）から5月6日（水）まで最大8連休になります。\\n')], role='model'), grounding_metadata=GroundingMetadata(grounding_chunks=[GroundingChunk(retrieved_context=None, web=GroundingChunkWeb(domain='cao.go.jp', title='cao.go.jp', uri='https://vertexaisearch.cloud.google.com/grounding-api-redirect/AbF9wXEiAUMhVi8mCNgmLjE7MCzdP4uxqNaruPWroV1rmYE8tfub1CO_DDHRGZXl4deioDGXtUT6wIHwaRCNLTyn6A92TXGd7SAEV4MGHFLRQNpEGBXPnnCpJn0f19G2qYRn1CvvcHnUHuORmSr5qQUPcVk=')), GroundingChunk(retrieved_context=None, web=GroundingChunkWeb(domain='9rando.info', title='9rando.info', uri='https://vertexaisearch.cloud.google.com/grounding-api-redirect/AbF9wXGdz-iUlX9Kqh0v8q_iG4YB7uimEM9Hae-xXpLBlQgwrZ3tduTp0HCBE8hbKab5GShZSxxRhWS2cfFUwrqFgbKTOswUf8qfTJhoL3Lm5tb_JH9lRbH4a1bUvl399GTWC5nT')), GroundingChunk(retrieved_context=None, web=GroundingChunkWeb(domain='his-j.com', title='his-j.com', uri='https://vertexaisearch.cloud.google.com/grounding-api-redirect/AbF9wXGKylQVZ2XpyP4pMa-Rtqg90-9fuK2zH36Oy7MpoeNMGVf6uOQkI20dcRVHHpTjYNVoi25aZCYf8ll5zJ2IFAcGpUx05WATHlCvA1y8iJxg4rbPDqLU1_arhesV4ABBybT5xJ21Dm_wjTUe42AXkXv3vX6LDU7V5UqfqgS4o4VUHQ=='))], grounding_supports=[GroundingSupport(confidence_scores=[0.65278715, 0.95660466, 0.62899536], grounding_chunk_indices=[0, 1, 2], segment=Segment(end_index=250, part_index=None, start_index=1, text='2026年のゴールデンウィークは、5月2日（土）から5月6日（水）までの5連休です。4月30日（木）と5月1日（金）の2日間を休むと、4月29日（水）から5月6日（水）まで最大8連休になります。'))], retrieval_metadata=RetrievalMetadata(google_search_dynamic_retrieval_score=None), retrieval_queries=None, search_entry_point=SearchEntryPoint(rendered_content='<style>\\n.container {\\n  align-items: center;\\n  border-radius: 8px;\\n  display: flex;\\n  font-family: Google Sans, Roboto, sans-serif;\\n  font-size: 14px;\\n  line-height: 20px;\\n  padding: 8px 12px;\\n}\\n.chip {\\n  display: inline-block;\\n  border: solid 1px;\\n  border-radius: 16px;\\n  min-width: 14px;\\n  padding: 5px 16px;\\n  text-align: center;\\n  user-select: none;\\n  margin: 0 8px;\\n  -webkit-tap-highlight-color: transparent;\\n}\\n.carousel {\\n  overflow: auto;\\n  scrollbar-width: none;\\n  white-space: nowrap;\\n  margin-right: -12px;\\n}\\n.headline {\\n  display: flex;\\n  margin-right: 4px;\\n}\\n.gradient-container {\\n  position: relative;\\n}\\n.gradient {\\n  position: absolute;\\n  transform: translate(3px, -9px);\\n  height: 36px;\\n  width: 9px;\\n}\\n@media (prefers-color-scheme: light) {\\n  .container {\\n    background-color: #fafafa;\\n    box-shadow: 0 0 0 1px #0000000f;\\n  }\\n  .headline-label {\\n    color: #1f1f1f;\\n  }\\n  .chip {\\n    background-color: #ffffff;\\n    border-color: #d2d2d2;\\n    color: #5e5e5e;\\n    text-decoration: none;\\n  }\\n  .chip:hover {\\n    background-color: #f2f2f2;\\n  }\\n  .chip:focus {\\n    background-color: #f2f2f2;\\n  }\\n  .chip:active {\\n    background-color: #d8d8d8;\\n    border-color: #b6b6b6;\\n  }\\n  .logo-dark {\\n    display: none;\\n  }\\n  .gradient {\\n    background: linear-gradient(90deg, #fafafa 15%, #fafafa00 100%);\\n  }\\n}\\n@media (prefers-color-scheme: dark) {\\n  .container {\\n    background-color: #1f1f1f;\\n    box-shadow: 0 0 0 1px #ffffff26;\\n  }\\n  .headline-label {\\n    color: #fff;\\n  }\\n  .chip {\\n    background-color: #2c2c2c;\\n    border-color: #3c4043;\\n    color: #fff;\\n    text-decoration: none;\\n  }\\n  .chip:hover {\\n    background-color: #353536;\\n  }\\n  .chip:focus {\\n    background-color: #353536;\\n  }\\n  .chip:active {\\n    background-color: #464849;\\n    border-color: #53575b;\\n  }\\n  .logo-light {\\n    display: none;\\n  }\\n  .gradient {\\n    background: linear-gradient(90deg, #1f1f1f 15%, #1f1f1f00 100%);\\n  }\\n}\\n</style>\\n<div class=\"container\">\\n  <div class=\"headline\">\\n    <svg class=\"logo-light\" width=\"18\" height=\"18\" viewBox=\"9 9 35 35\" fill=\"none\" xmlns=\"http://www.w3.org/2000/svg\">\\n      <path fill-rule=\"evenodd\" clip-rule=\"evenodd\" d=\"M42.8622 27.0064C42.8622 25.7839 42.7525 24.6084 42.5487 23.4799H26.3109V30.1568H35.5897C35.1821 32.3041 33.9596 34.1222 32.1258 35.3448V39.6864H37.7213C40.9814 36.677 42.8622 32.2571 42.8622 27.0064V27.0064Z\" fill=\"#4285F4\"/>\\n      <path fill-rule=\"evenodd\" clip-rule=\"evenodd\" d=\"M26.3109 43.8555C30.9659 43.8555 34.8687 42.3195 37.7213 39.6863L32.1258 35.3447C30.5898 36.3792 28.6306 37.0061 26.3109 37.0061C21.8282 37.0061 18.0195 33.9811 16.6559 29.906H10.9194V34.3573C13.7563 39.9841 19.5712 43.8555 26.3109 43.8555V43.8555Z\" fill=\"#34A853\"/>\\n      <path fill-rule=\"evenodd\" clip-rule=\"evenodd\" d=\"M16.6559 29.8904C16.3111 28.8559 16.1074 27.7588 16.1074 26.6146C16.1074 25.4704 16.3111 24.3733 16.6559 23.3388V18.8875H10.9194C9.74388 21.2072 9.06992 23.8247 9.06992 26.6146C9.06992 29.4045 9.74388 32.022 10.9194 34.3417L15.3864 30.8621L16.6559 29.8904V29.8904Z\" fill=\"#FBBC05\"/>\\n      <path fill-rule=\"evenodd\" clip-rule=\"evenodd\" d=\"M26.3109 16.2386C28.85 16.2386 31.107 17.1164 32.9095 18.8091L37.8466 13.8719C34.853 11.082 30.9659 9.3736 26.3109 9.3736C19.5712 9.3736 13.7563 13.245 10.9194 18.8875L16.6559 23.3388C18.0195 19.2636 21.8282 16.2386 26.3109 16.2386V16.2386Z\" fill=\"#EA4335\"/>\\n    </svg>\\n    <svg class=\"logo-dark\" width=\"18\" height=\"18\" viewBox=\"0 0 48 48\" xmlns=\"http://www.w3.org/2000/svg\">\\n      <circle cx=\"24\" cy=\"23\" fill=\"#FFF\" r=\"22\"/>\\n      <path d=\"M33.76 34.26c2.75-2.56 4.49-6.37 4.49-11.26 0-.89-.08-1.84-.29-3H24.01v5.99h8.03c-.4 2.02-1.5 3.56-3.07 4.56v.75l3.91 2.97h.88z\" fill=\"#4285F4\"/>\\n      <path d=\"M15.58 25.77A8.845 8.845 0 0 0 24 31.86c1.92 0 3.62-.46 4.97-1.31l4.79 3.71C31.14 36.7 27.65 38 24 38c-5.93 0-11.01-3.4-13.45-8.36l.17-1.01 4.06-2.85h.8z\" fill=\"#34A853\"/>\\n      <path d=\"M15.59 20.21a8.864 8.864 0 0 0 0 5.58l-5.03 3.86c-.98-2-1.53-4.25-1.53-6.64 0-2.39.55-4.64 1.53-6.64l1-.22 3.81 2.98.22 1.08z\" fill=\"#FBBC05\"/>\\n      <path d=\"M24 14.14c2.11 0 4.02.75 5.52 1.98l4.36-4.36C31.22 9.43 27.81 8 24 8c-5.93 0-11.01 3.4-13.45 8.36l5.03 3.85A8.86 8.86 0 0 1 24 14.14z\" fill=\"#EA4335\"/>\\n    </svg>\\n    <div class=\"gradient-container\"><div class=\"gradient\"></div></div>\\n  </div>\\n  <div class=\"carousel\">\\n    <a class=\"chip\" href=\"https://vertexaisearch.cloud.google.com/grounding-api-redirect/AbF9wXEmPrnFCEDC672Kwy-1Ba2qzfCafnuQVp2HH5tOhB-VItcc33tOGExd5dPIsVPoda86YZ7gprZyNXA8513U7U3YtTvlL80q0p8Qq3Pj8GG36TNBRcOc5xoz0H-NTgK-5XyuOBMh0ZqDRZOK5biyrWhP33SGFL3OhZ9tBybTixhgeQl0F-tpeaoyQ3yDHEd_9iSAH0ZIyG3uqVrm2XUSXdLJlURBzLBzHNMXEnIk\">2026 年の祝日</a>\\n    <a class=\"chip\" href=\"https://vertexaisearch.cloud.google.com/grounding-api-redirect/AbF9wXGH7yiSVKDss88mOSHz5pEBekjirWm2c5cJ_WQcNL0XnPS6sm5cup6ntu0h5FelCYP_iAxwi22YSVDd1uiaX_BQ41DoJ-t7yn4MfVDVaUU-xqa9DHOVlE0VIsgWpnJI_coCuxCtgVhz7qnPBqzWhQg-jGlyyATo_yCqj6jqySGcRREm_o3yg--S007tgqB93fnjigQD3L6TJRhNf81seo4lMret6j3cDW1Q3RUv88zEciVqC7dvsRaI6iW7DE7JAUCoBHZRcJQ8l5zVw3W2iP5H-zfuRv0erM3zOw==\">2026 ゴールデンウィーク</a>\\n    <a class=\"chip\" href=\"https://vertexaisearch.cloud.google.com/grounding-api-redirect/AbF9wXEzInt_lOKSYIUwMcrH8wXNd010PFRsAbpyrvne6vZMjGjXPR7Q9Hrneyusf8Wm_6I71UhO0fJRA7skCX7siTxjiBe3c0TnQiUgxjNK-wBO1QZMx7n8V0xOCQu7WdrFDr95b-OSZHfKyK9z6Yieiy5qU2r7C1ofdmmNFiHZzcilfKtPyPLLpOFrZ2WL4eXWfhnqQbffTJe3EiN7J6tBAxuEF9RTHeed4ijkbqlfxwB8rxivKr2TKq172KLv1aJOluV-J-SoPc684BIPIb8tLddAR7fR2yEG_pcELeYCNr9DTO2IqxnVgd6OceSdfq0=\">2026 ゴールデンウィーク 休み</a>\\n  </div>\\n</div>\\n', sdk_blob=None), web_search_queries=['2026 年の祝日', '2026 ゴールデンウィーク 休み', '2026 ゴールデンウィーク']), partial=None, turn_complete=None, error_code=None, error_message=None, interrupted=None, custom_metadata=None, usage_metadata=None, invocation_id='e-a443442e-f5c8-4a9f-abee-7c24d67dc390', author='search_agent', actions=EventActions(skip_summarization=None, state_delta={}, artifact_delta={}, transfer_to_agent=None, escalate=None, requested_auth_configs={}), long_running_tool_ids=None, branch=None, id='600679145172631552', timestamp=1749248259.663275)], last_update_time=1749248262.685012)"
      ]
     },
     "execution_count": 22,
     "metadata": {},
     "output_type": "execute_result"
    }
   ],
   "source": [
    "from google.adk.sessions import VertexAiSessionService\n",
    "\n",
    "session_service = VertexAiSessionService(\n",
    "    project = PROJECT_ID,\n",
    "    location = LOCATION,\n",
    ")\n",
    "\n",
    "session = await session_service.get_session(\n",
    "    app_name=app_name,\n",
    "    user_id=user_id,\n",
    "    session_id=session_id,\n",
    ")\n",
    "\n",
    "session"
   ]
  },
  {
   "cell_type": "code",
   "execution_count": 23,
   "id": "f5ade0df-17fa-48a8-b705-b5ccea3295d4",
   "metadata": {
    "tags": []
   },
   "outputs": [
    {
     "name": "stdout",
     "output_type": "stream",
     "text": [
      "2025-06-06 22:17:36.937505 user\n",
      "2025-06-06 22:17:37.144144 search_agent\n",
      "2025-06-06 22:17:39.468261 user\n",
      "2025-06-06 22:17:39.663275 search_agent\n"
     ]
    }
   ],
   "source": [
    "for event in session.events:\n",
    "    print(format_timestamp(event.timestamp), event.author)"
   ]
  },
  {
   "cell_type": "code",
   "execution_count": 25,
   "id": "61851b85-34ec-49b1-9c52-3b600a0853de",
   "metadata": {
    "tags": []
   },
   "outputs": [
    {
     "name": "stdout",
     "output_type": "stream",
     "text": [
      "['2025年 ゴールデンウィーク 何連休', '2025年 ゴールデンウィーク 期間']\n"
     ]
    },
    {
     "data": {
      "text/html": [
       "<style>\n",
       ".container {\n",
       "  align-items: center;\n",
       "  border-radius: 8px;\n",
       "  display: flex;\n",
       "  font-family: Google Sans, Roboto, sans-serif;\n",
       "  font-size: 14px;\n",
       "  line-height: 20px;\n",
       "  padding: 8px 12px;\n",
       "}\n",
       ".chip {\n",
       "  display: inline-block;\n",
       "  border: solid 1px;\n",
       "  border-radius: 16px;\n",
       "  min-width: 14px;\n",
       "  padding: 5px 16px;\n",
       "  text-align: center;\n",
       "  user-select: none;\n",
       "  margin: 0 8px;\n",
       "  -webkit-tap-highlight-color: transparent;\n",
       "}\n",
       ".carousel {\n",
       "  overflow: auto;\n",
       "  scrollbar-width: none;\n",
       "  white-space: nowrap;\n",
       "  margin-right: -12px;\n",
       "}\n",
       ".headline {\n",
       "  display: flex;\n",
       "  margin-right: 4px;\n",
       "}\n",
       ".gradient-container {\n",
       "  position: relative;\n",
       "}\n",
       ".gradient {\n",
       "  position: absolute;\n",
       "  transform: translate(3px, -9px);\n",
       "  height: 36px;\n",
       "  width: 9px;\n",
       "}\n",
       "@media (prefers-color-scheme: light) {\n",
       "  .container {\n",
       "    background-color: #fafafa;\n",
       "    box-shadow: 0 0 0 1px #0000000f;\n",
       "  }\n",
       "  .headline-label {\n",
       "    color: #1f1f1f;\n",
       "  }\n",
       "  .chip {\n",
       "    background-color: #ffffff;\n",
       "    border-color: #d2d2d2;\n",
       "    color: #5e5e5e;\n",
       "    text-decoration: none;\n",
       "  }\n",
       "  .chip:hover {\n",
       "    background-color: #f2f2f2;\n",
       "  }\n",
       "  .chip:focus {\n",
       "    background-color: #f2f2f2;\n",
       "  }\n",
       "  .chip:active {\n",
       "    background-color: #d8d8d8;\n",
       "    border-color: #b6b6b6;\n",
       "  }\n",
       "  .logo-dark {\n",
       "    display: none;\n",
       "  }\n",
       "  .gradient {\n",
       "    background: linear-gradient(90deg, #fafafa 15%, #fafafa00 100%);\n",
       "  }\n",
       "}\n",
       "@media (prefers-color-scheme: dark) {\n",
       "  .container {\n",
       "    background-color: #1f1f1f;\n",
       "    box-shadow: 0 0 0 1px #ffffff26;\n",
       "  }\n",
       "  .headline-label {\n",
       "    color: #fff;\n",
       "  }\n",
       "  .chip {\n",
       "    background-color: #2c2c2c;\n",
       "    border-color: #3c4043;\n",
       "    color: #fff;\n",
       "    text-decoration: none;\n",
       "  }\n",
       "  .chip:hover {\n",
       "    background-color: #353536;\n",
       "  }\n",
       "  .chip:focus {\n",
       "    background-color: #353536;\n",
       "  }\n",
       "  .chip:active {\n",
       "    background-color: #464849;\n",
       "    border-color: #53575b;\n",
       "  }\n",
       "  .logo-light {\n",
       "    display: none;\n",
       "  }\n",
       "  .gradient {\n",
       "    background: linear-gradient(90deg, #1f1f1f 15%, #1f1f1f00 100%);\n",
       "  }\n",
       "}\n",
       "</style>\n",
       "<div class=\"container\">\n",
       "  <div class=\"headline\">\n",
       "    <svg class=\"logo-light\" width=\"18\" height=\"18\" viewBox=\"9 9 35 35\" fill=\"none\" xmlns=\"http://www.w3.org/2000/svg\">\n",
       "      <path fill-rule=\"evenodd\" clip-rule=\"evenodd\" d=\"M42.8622 27.0064C42.8622 25.7839 42.7525 24.6084 42.5487 23.4799H26.3109V30.1568H35.5897C35.1821 32.3041 33.9596 34.1222 32.1258 35.3448V39.6864H37.7213C40.9814 36.677 42.8622 32.2571 42.8622 27.0064V27.0064Z\" fill=\"#4285F4\"/>\n",
       "      <path fill-rule=\"evenodd\" clip-rule=\"evenodd\" d=\"M26.3109 43.8555C30.9659 43.8555 34.8687 42.3195 37.7213 39.6863L32.1258 35.3447C30.5898 36.3792 28.6306 37.0061 26.3109 37.0061C21.8282 37.0061 18.0195 33.9811 16.6559 29.906H10.9194V34.3573C13.7563 39.9841 19.5712 43.8555 26.3109 43.8555V43.8555Z\" fill=\"#34A853\"/>\n",
       "      <path fill-rule=\"evenodd\" clip-rule=\"evenodd\" d=\"M16.6559 29.8904C16.3111 28.8559 16.1074 27.7588 16.1074 26.6146C16.1074 25.4704 16.3111 24.3733 16.6559 23.3388V18.8875H10.9194C9.74388 21.2072 9.06992 23.8247 9.06992 26.6146C9.06992 29.4045 9.74388 32.022 10.9194 34.3417L15.3864 30.8621L16.6559 29.8904V29.8904Z\" fill=\"#FBBC05\"/>\n",
       "      <path fill-rule=\"evenodd\" clip-rule=\"evenodd\" d=\"M26.3109 16.2386C28.85 16.2386 31.107 17.1164 32.9095 18.8091L37.8466 13.8719C34.853 11.082 30.9659 9.3736 26.3109 9.3736C19.5712 9.3736 13.7563 13.245 10.9194 18.8875L16.6559 23.3388C18.0195 19.2636 21.8282 16.2386 26.3109 16.2386V16.2386Z\" fill=\"#EA4335\"/>\n",
       "    </svg>\n",
       "    <svg class=\"logo-dark\" width=\"18\" height=\"18\" viewBox=\"0 0 48 48\" xmlns=\"http://www.w3.org/2000/svg\">\n",
       "      <circle cx=\"24\" cy=\"23\" fill=\"#FFF\" r=\"22\"/>\n",
       "      <path d=\"M33.76 34.26c2.75-2.56 4.49-6.37 4.49-11.26 0-.89-.08-1.84-.29-3H24.01v5.99h8.03c-.4 2.02-1.5 3.56-3.07 4.56v.75l3.91 2.97h.88z\" fill=\"#4285F4\"/>\n",
       "      <path d=\"M15.58 25.77A8.845 8.845 0 0 0 24 31.86c1.92 0 3.62-.46 4.97-1.31l4.79 3.71C31.14 36.7 27.65 38 24 38c-5.93 0-11.01-3.4-13.45-8.36l.17-1.01 4.06-2.85h.8z\" fill=\"#34A853\"/>\n",
       "      <path d=\"M15.59 20.21a8.864 8.864 0 0 0 0 5.58l-5.03 3.86c-.98-2-1.53-4.25-1.53-6.64 0-2.39.55-4.64 1.53-6.64l1-.22 3.81 2.98.22 1.08z\" fill=\"#FBBC05\"/>\n",
       "      <path d=\"M24 14.14c2.11 0 4.02.75 5.52 1.98l4.36-4.36C31.22 9.43 27.81 8 24 8c-5.93 0-11.01 3.4-13.45 8.36l5.03 3.85A8.86 8.86 0 0 1 24 14.14z\" fill=\"#EA4335\"/>\n",
       "    </svg>\n",
       "    <div class=\"gradient-container\"><div class=\"gradient\"></div></div>\n",
       "  </div>\n",
       "  <div class=\"carousel\">\n",
       "    <a class=\"chip\" href=\"https://vertexaisearch.cloud.google.com/grounding-api-redirect/AbF9wXEaxj7NGHt2TVsRGdxN2TG9a5neYiGGbEhjlcy54K_cWG6F92yv8u3svWY2ehNsLnbJe4Kj4WFTK1tn1BIcYVD27OKNGGOk138KzQCSFygiRyoNS-EVn8W17UtNg5l8hJ3QPeHGhRL-23KzJZiPFjK0zmTY4jkR0CYf0LjCq47_sZdDPy-E1qebOHPAYHU8lOw2hzsG0Rla5O3Znyf4ms32_xHZwxrX07D32kVwWLwlKRt7C50vUFlvuzhr6euTOmaavI0NSJkMxmW83IhFfXKy0fW207-ZeuNZ5H95QseKOadEHDE-Oidg_VllaUNAJZ50eNA4Dg==\">2025年 ゴールデンウィーク 期間</a>\n",
       "    <a class=\"chip\" href=\"https://vertexaisearch.cloud.google.com/grounding-api-redirect/AbF9wXH7x9ncZ9ZmLCM1oFxhQG2mE3EHde98Q04wWKUCU9x0LdZZIr1Yr0k0W3Hvhvk7af8FDt5jxZyL2sHHzcnsbej6qXNWbJgU6zKX2dg72YIImhzZ5RaYgmAc5ghksdNOS3DrDOyEXcy2NvV250vHX76th_d5WVvy9xrQTo9y_kkLxBmlSdDnlSaOJAzHffJ0ZuRvc0ROQejsU8aH-_iUTOqjO82W1oHMoJgL3dqZpoDt4oC2xjCEO4vE8Q69hHTHMmcGpiIUGCnFYlyDry5DdQxZXB1OtRVcxYFvrQ4dEZlGfmx-w1SRzN7o_sEAhvyguEVWgQs-Y_AMGcwFRUkYgw==\">2025年 ゴールデンウィーク 何連休</a>\n",
       "  </div>\n",
       "</div>\n"
      ],
      "text/plain": [
       "<IPython.core.display.HTML object>"
      ]
     },
     "metadata": {},
     "output_type": "display_data"
    }
   ],
   "source": [
    "search_queries = session.events[1].grounding_metadata.web_search_queries\n",
    "entry_point_html = session.events[1].grounding_metadata.search_entry_point.rendered_content\n",
    "\n",
    "print(search_queries)\n",
    "display(HTML(entry_point_html))"
   ]
  },
  {
   "cell_type": "code",
   "execution_count": 26,
   "id": "620f7d15-e27b-40b1-8dae-5e4005146468",
   "metadata": {
    "tags": []
   },
   "outputs": [
    {
     "name": "stdout",
     "output_type": "stream",
     "text": [
      "['2026 年の祝日', '2026 ゴールデンウィーク 休み', '2026 ゴールデンウィーク']\n"
     ]
    },
    {
     "data": {
      "text/html": [
       "<style>\n",
       ".container {\n",
       "  align-items: center;\n",
       "  border-radius: 8px;\n",
       "  display: flex;\n",
       "  font-family: Google Sans, Roboto, sans-serif;\n",
       "  font-size: 14px;\n",
       "  line-height: 20px;\n",
       "  padding: 8px 12px;\n",
       "}\n",
       ".chip {\n",
       "  display: inline-block;\n",
       "  border: solid 1px;\n",
       "  border-radius: 16px;\n",
       "  min-width: 14px;\n",
       "  padding: 5px 16px;\n",
       "  text-align: center;\n",
       "  user-select: none;\n",
       "  margin: 0 8px;\n",
       "  -webkit-tap-highlight-color: transparent;\n",
       "}\n",
       ".carousel {\n",
       "  overflow: auto;\n",
       "  scrollbar-width: none;\n",
       "  white-space: nowrap;\n",
       "  margin-right: -12px;\n",
       "}\n",
       ".headline {\n",
       "  display: flex;\n",
       "  margin-right: 4px;\n",
       "}\n",
       ".gradient-container {\n",
       "  position: relative;\n",
       "}\n",
       ".gradient {\n",
       "  position: absolute;\n",
       "  transform: translate(3px, -9px);\n",
       "  height: 36px;\n",
       "  width: 9px;\n",
       "}\n",
       "@media (prefers-color-scheme: light) {\n",
       "  .container {\n",
       "    background-color: #fafafa;\n",
       "    box-shadow: 0 0 0 1px #0000000f;\n",
       "  }\n",
       "  .headline-label {\n",
       "    color: #1f1f1f;\n",
       "  }\n",
       "  .chip {\n",
       "    background-color: #ffffff;\n",
       "    border-color: #d2d2d2;\n",
       "    color: #5e5e5e;\n",
       "    text-decoration: none;\n",
       "  }\n",
       "  .chip:hover {\n",
       "    background-color: #f2f2f2;\n",
       "  }\n",
       "  .chip:focus {\n",
       "    background-color: #f2f2f2;\n",
       "  }\n",
       "  .chip:active {\n",
       "    background-color: #d8d8d8;\n",
       "    border-color: #b6b6b6;\n",
       "  }\n",
       "  .logo-dark {\n",
       "    display: none;\n",
       "  }\n",
       "  .gradient {\n",
       "    background: linear-gradient(90deg, #fafafa 15%, #fafafa00 100%);\n",
       "  }\n",
       "}\n",
       "@media (prefers-color-scheme: dark) {\n",
       "  .container {\n",
       "    background-color: #1f1f1f;\n",
       "    box-shadow: 0 0 0 1px #ffffff26;\n",
       "  }\n",
       "  .headline-label {\n",
       "    color: #fff;\n",
       "  }\n",
       "  .chip {\n",
       "    background-color: #2c2c2c;\n",
       "    border-color: #3c4043;\n",
       "    color: #fff;\n",
       "    text-decoration: none;\n",
       "  }\n",
       "  .chip:hover {\n",
       "    background-color: #353536;\n",
       "  }\n",
       "  .chip:focus {\n",
       "    background-color: #353536;\n",
       "  }\n",
       "  .chip:active {\n",
       "    background-color: #464849;\n",
       "    border-color: #53575b;\n",
       "  }\n",
       "  .logo-light {\n",
       "    display: none;\n",
       "  }\n",
       "  .gradient {\n",
       "    background: linear-gradient(90deg, #1f1f1f 15%, #1f1f1f00 100%);\n",
       "  }\n",
       "}\n",
       "</style>\n",
       "<div class=\"container\">\n",
       "  <div class=\"headline\">\n",
       "    <svg class=\"logo-light\" width=\"18\" height=\"18\" viewBox=\"9 9 35 35\" fill=\"none\" xmlns=\"http://www.w3.org/2000/svg\">\n",
       "      <path fill-rule=\"evenodd\" clip-rule=\"evenodd\" d=\"M42.8622 27.0064C42.8622 25.7839 42.7525 24.6084 42.5487 23.4799H26.3109V30.1568H35.5897C35.1821 32.3041 33.9596 34.1222 32.1258 35.3448V39.6864H37.7213C40.9814 36.677 42.8622 32.2571 42.8622 27.0064V27.0064Z\" fill=\"#4285F4\"/>\n",
       "      <path fill-rule=\"evenodd\" clip-rule=\"evenodd\" d=\"M26.3109 43.8555C30.9659 43.8555 34.8687 42.3195 37.7213 39.6863L32.1258 35.3447C30.5898 36.3792 28.6306 37.0061 26.3109 37.0061C21.8282 37.0061 18.0195 33.9811 16.6559 29.906H10.9194V34.3573C13.7563 39.9841 19.5712 43.8555 26.3109 43.8555V43.8555Z\" fill=\"#34A853\"/>\n",
       "      <path fill-rule=\"evenodd\" clip-rule=\"evenodd\" d=\"M16.6559 29.8904C16.3111 28.8559 16.1074 27.7588 16.1074 26.6146C16.1074 25.4704 16.3111 24.3733 16.6559 23.3388V18.8875H10.9194C9.74388 21.2072 9.06992 23.8247 9.06992 26.6146C9.06992 29.4045 9.74388 32.022 10.9194 34.3417L15.3864 30.8621L16.6559 29.8904V29.8904Z\" fill=\"#FBBC05\"/>\n",
       "      <path fill-rule=\"evenodd\" clip-rule=\"evenodd\" d=\"M26.3109 16.2386C28.85 16.2386 31.107 17.1164 32.9095 18.8091L37.8466 13.8719C34.853 11.082 30.9659 9.3736 26.3109 9.3736C19.5712 9.3736 13.7563 13.245 10.9194 18.8875L16.6559 23.3388C18.0195 19.2636 21.8282 16.2386 26.3109 16.2386V16.2386Z\" fill=\"#EA4335\"/>\n",
       "    </svg>\n",
       "    <svg class=\"logo-dark\" width=\"18\" height=\"18\" viewBox=\"0 0 48 48\" xmlns=\"http://www.w3.org/2000/svg\">\n",
       "      <circle cx=\"24\" cy=\"23\" fill=\"#FFF\" r=\"22\"/>\n",
       "      <path d=\"M33.76 34.26c2.75-2.56 4.49-6.37 4.49-11.26 0-.89-.08-1.84-.29-3H24.01v5.99h8.03c-.4 2.02-1.5 3.56-3.07 4.56v.75l3.91 2.97h.88z\" fill=\"#4285F4\"/>\n",
       "      <path d=\"M15.58 25.77A8.845 8.845 0 0 0 24 31.86c1.92 0 3.62-.46 4.97-1.31l4.79 3.71C31.14 36.7 27.65 38 24 38c-5.93 0-11.01-3.4-13.45-8.36l.17-1.01 4.06-2.85h.8z\" fill=\"#34A853\"/>\n",
       "      <path d=\"M15.59 20.21a8.864 8.864 0 0 0 0 5.58l-5.03 3.86c-.98-2-1.53-4.25-1.53-6.64 0-2.39.55-4.64 1.53-6.64l1-.22 3.81 2.98.22 1.08z\" fill=\"#FBBC05\"/>\n",
       "      <path d=\"M24 14.14c2.11 0 4.02.75 5.52 1.98l4.36-4.36C31.22 9.43 27.81 8 24 8c-5.93 0-11.01 3.4-13.45 8.36l5.03 3.85A8.86 8.86 0 0 1 24 14.14z\" fill=\"#EA4335\"/>\n",
       "    </svg>\n",
       "    <div class=\"gradient-container\"><div class=\"gradient\"></div></div>\n",
       "  </div>\n",
       "  <div class=\"carousel\">\n",
       "    <a class=\"chip\" href=\"https://vertexaisearch.cloud.google.com/grounding-api-redirect/AbF9wXEmPrnFCEDC672Kwy-1Ba2qzfCafnuQVp2HH5tOhB-VItcc33tOGExd5dPIsVPoda86YZ7gprZyNXA8513U7U3YtTvlL80q0p8Qq3Pj8GG36TNBRcOc5xoz0H-NTgK-5XyuOBMh0ZqDRZOK5biyrWhP33SGFL3OhZ9tBybTixhgeQl0F-tpeaoyQ3yDHEd_9iSAH0ZIyG3uqVrm2XUSXdLJlURBzLBzHNMXEnIk\">2026 年の祝日</a>\n",
       "    <a class=\"chip\" href=\"https://vertexaisearch.cloud.google.com/grounding-api-redirect/AbF9wXGH7yiSVKDss88mOSHz5pEBekjirWm2c5cJ_WQcNL0XnPS6sm5cup6ntu0h5FelCYP_iAxwi22YSVDd1uiaX_BQ41DoJ-t7yn4MfVDVaUU-xqa9DHOVlE0VIsgWpnJI_coCuxCtgVhz7qnPBqzWhQg-jGlyyATo_yCqj6jqySGcRREm_o3yg--S007tgqB93fnjigQD3L6TJRhNf81seo4lMret6j3cDW1Q3RUv88zEciVqC7dvsRaI6iW7DE7JAUCoBHZRcJQ8l5zVw3W2iP5H-zfuRv0erM3zOw==\">2026 ゴールデンウィーク</a>\n",
       "    <a class=\"chip\" href=\"https://vertexaisearch.cloud.google.com/grounding-api-redirect/AbF9wXEzInt_lOKSYIUwMcrH8wXNd010PFRsAbpyrvne6vZMjGjXPR7Q9Hrneyusf8Wm_6I71UhO0fJRA7skCX7siTxjiBe3c0TnQiUgxjNK-wBO1QZMx7n8V0xOCQu7WdrFDr95b-OSZHfKyK9z6Yieiy5qU2r7C1ofdmmNFiHZzcilfKtPyPLLpOFrZ2WL4eXWfhnqQbffTJe3EiN7J6tBAxuEF9RTHeed4ijkbqlfxwB8rxivKr2TKq172KLv1aJOluV-J-SoPc684BIPIb8tLddAR7fR2yEG_pcELeYCNr9DTO2IqxnVgd6OceSdfq0=\">2026 ゴールデンウィーク 休み</a>\n",
       "  </div>\n",
       "</div>\n"
      ],
      "text/plain": [
       "<IPython.core.display.HTML object>"
      ]
     },
     "metadata": {},
     "output_type": "display_data"
    }
   ],
   "source": [
    "search_queries = session.events[3].grounding_metadata.web_search_queries\n",
    "entry_point_html = session.events[3].grounding_metadata.search_entry_point.rendered_content\n",
    "\n",
    "print(search_queries)\n",
    "display(HTML(entry_point_html))"
   ]
  },
  {
   "cell_type": "markdown",
   "id": "a29d7333-a93c-4aa7-b1c5-c04e3b49dc12",
   "metadata": {
    "tags": []
   },
   "source": [
    "## 後片付け"
   ]
  },
  {
   "cell_type": "markdown",
   "id": "0532da30-86e5-4e65-a766-4e2ff497c0d8",
   "metadata": {},
   "source": [
    "デプロイしたエージェントを削除します。"
   ]
  },
  {
   "cell_type": "code",
   "execution_count": 27,
   "id": "662cff41-1860-47e9-ae44-4e092ebc2659",
   "metadata": {
    "tags": []
   },
   "outputs": [
    {
     "name": "stdout",
     "output_type": "stream",
     "text": [
      "Delete Agent Engine backing LRO: projects/879055303739/locations/us-central1/operations/3668167980799229952\n",
      "Agent Engine deleted. Resource name: projects/879055303739/locations/us-central1/reasoningEngines/1643154157013565440\n"
     ]
    }
   ],
   "source": [
    "remote_agent.delete(force=True)"
   ]
  },
  {
   "cell_type": "markdown",
   "id": "f50a91bc-d0cd-4cc0-a112-26ab1ee10d14",
   "metadata": {
    "tags": []
   },
   "source": [
    "デプロイ済みのエージェントをまとめて削除する場合は、次を実行します。"
   ]
  },
  {
   "cell_type": "code",
   "execution_count": null,
   "id": "bea2da56-1078-4524-a439-39baf7f27b8a",
   "metadata": {
    "tags": []
   },
   "outputs": [],
   "source": [
    "for agent in agent_engines.list():\n",
    "    print(f'{agent.display_name}, {agent.gca_resource.name}')\n",
    "    agent.delete(force=True)"
   ]
  }
 ],
 "metadata": {
  "environment": {
   "kernel": "conda-base-py",
   "name": "workbench-notebooks.m129",
   "type": "gcloud",
   "uri": "us-docker.pkg.dev/deeplearning-platform-release/gcr.io/workbench-notebooks:m129"
  },
  "kernelspec": {
   "display_name": "Python 3 (ipykernel)",
   "language": "python",
   "name": "conda-base-py"
  },
  "language_info": {
   "codemirror_mode": {
    "name": "ipython",
    "version": 3
   },
   "file_extension": ".py",
   "mimetype": "text/x-python",
   "name": "python",
   "nbconvert_exporter": "python",
   "pygments_lexer": "ipython3",
   "version": "3.10.16"
  }
 },
 "nbformat": 4,
 "nbformat_minor": 5
}
