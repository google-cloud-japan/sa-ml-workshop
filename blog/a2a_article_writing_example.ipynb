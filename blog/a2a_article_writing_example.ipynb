{
 "cells": [
  {
   "cell_type": "markdown",
   "id": "53a85079-e9ea-4035-a661-b80113584d15",
   "metadata": {},
   "source": [
    "# A2A リモートエージェント対応のマルチエージェントシステム"
   ]
  },
  {
   "cell_type": "markdown",
   "id": "f42e97b6-0dbc-4758-9452-de507785fb1d",
   "metadata": {
    "tags": []
   },
   "source": [
    "## 環境準備"
   ]
  },
  {
   "cell_type": "code",
   "execution_count": null,
   "id": "9fbf86e1-76cb-4206-874b-46e7c18ba80c",
   "metadata": {
    "tags": []
   },
   "outputs": [],
   "source": [
    "%pip install --user \\\n",
    "    google-adk==1.11.0 \\\n",
    "    a2a-sdk==0.3.1"
   ]
  },
  {
   "cell_type": "code",
   "execution_count": 2,
   "id": "bcb57a7d-f0e8-4150-a32d-aed585096c7d",
   "metadata": {
    "tags": []
   },
   "outputs": [],
   "source": [
    "import IPython\n",
    "app = IPython.Application.instance()\n",
    "_ = app.kernel.do_shutdown(True)"
   ]
  },
  {
   "cell_type": "code",
   "execution_count": 1,
   "id": "25d8f0c5-f98e-460a-b7bf-9bd3e30904d2",
   "metadata": {
    "tags": []
   },
   "outputs": [
    {
     "name": "stderr",
     "output_type": "stream",
     "text": [
      "/opt/conda/lib/python3.10/site-packages/pydantic/_internal/_fields.py:198: UserWarning: Field name \"config_type\" in \"SequentialAgent\" shadows an attribute in parent \"BaseAgent\"\n",
      "  warnings.warn(\n"
     ]
    }
   ],
   "source": [
    "import copy, json, os, uuid\n",
    "import vertexai\n",
    "from vertexai import agent_engines\n",
    "\n",
    "from google.genai.types import Part, Content\n",
    "from google.adk.agents.llm_agent import LlmAgent\n",
    "from google.adk.artifacts import InMemoryArtifactService\n",
    "from google.adk.memory.in_memory_memory_service import InMemoryMemoryService\n",
    "from google.adk.sessions import InMemorySessionService\n",
    "from google.adk.runners import Runner\n",
    "\n",
    "from google.adk.agents.callback_context import CallbackContext\n",
    "from google.adk.models import LlmResponse, LlmRequest\n",
    "from google.adk.agents.sequential_agent import SequentialAgent\n",
    "\n",
    "[PROJECT_ID] = !gcloud config list --format 'value(core.project)'\n",
    "[PROJECT_NUMBER] = !gcloud projects describe {PROJECT_ID} --format='value(projectNumber)'\n",
    "LOCATION = 'us-central1'\n",
    "\n",
    "vertexai.init(project=PROJECT_ID, location=LOCATION,\n",
    "              staging_bucket=f'gs://{PROJECT_ID}')\n",
    "\n",
    "os.environ['GOOGLE_CLOUD_PROJECT'] = PROJECT_ID\n",
    "os.environ['GOOGLE_CLOUD_LOCATION'] = LOCATION\n",
    "os.environ['GOOGLE_GENAI_USE_VERTEXAI'] = 'True'"
   ]
  },
  {
   "cell_type": "code",
   "execution_count": 2,
   "id": "df3b1571-ef22-4484-aab3-a72d3b1cc4ca",
   "metadata": {
    "tags": []
   },
   "outputs": [],
   "source": [
    "class LocalApp:\n",
    "    def __init__(self, agent, app_name='default_app', user_id='default_user'):\n",
    "        self._agent = agent\n",
    "        self._app_name = app_name\n",
    "        self._user_id = user_id\n",
    "        self._runner = Runner(\n",
    "            app_name=self._app_name,\n",
    "            agent=self._agent,\n",
    "            artifact_service=InMemoryArtifactService(),\n",
    "            session_service=InMemorySessionService(),\n",
    "            memory_service=InMemoryMemoryService(),\n",
    "        )\n",
    "        self._session = None\n",
    "        \n",
    "    async def stream(self, query):\n",
    "        if not self._session:\n",
    "            self._session = await self._runner.session_service.create_session(\n",
    "                app_name=self._app_name,\n",
    "                user_id=self._user_id,\n",
    "                session_id=uuid.uuid4().hex,\n",
    "            )\n",
    "        content = Content(role='user', parts=[Part(text=query)])\n",
    "        async_events = self._runner.run_async(\n",
    "            user_id=self._user_id,\n",
    "            session_id=self._session.id,\n",
    "            new_message=content,\n",
    "        )\n",
    "        result = []\n",
    "        async for event in async_events:\n",
    "            if DEBUG:\n",
    "                print(f'====\\n{event}\\n====')\n",
    "            if (event.content and event.content.parts):\n",
    "                response = '\\n'.join([p.text for p in event.content.parts if p.text])\n",
    "                if response:\n",
    "                    print(response)\n",
    "                    result.append(response)\n",
    "        return result"
   ]
  },
  {
   "cell_type": "markdown",
   "id": "36eadfa9-fa08-43ff-a829-6637884a5066",
   "metadata": {
    "tags": []
   },
   "source": [
    "## リモートエージェントの定義と Agent Engine へのデプロイ"
   ]
  },
  {
   "cell_type": "code",
   "execution_count": 3,
   "id": "d687bf4c-453e-4e4a-9ad7-5e60dd6af688",
   "metadata": {
    "tags": []
   },
   "outputs": [],
   "source": [
    "instruction = '''\n",
    "あなたの役割は、記事の執筆に必要な情報を収集して調査レポートにまとめる事です。\n",
    "指定されたテーマの記事を執筆する際に参考となるトピックを５項目程度のリストにまとめます。\n",
    "後段のエージェントがこのリストに基づいて、調査レポートを作成します。\n",
    "\n",
    "* 出力形式\n",
    "日本語で出力。\n",
    "'''\n",
    "\n",
    "research_agent1 = LlmAgent(\n",
    "    name='research_agent1',\n",
    "    model='gemini-2.5-flash',\n",
    "    description='記事の執筆に必要な情報を収集してレポートにまとめるエージェント（テーマ選定）',\n",
    "    instruction=instruction,\n",
    ")"
   ]
  },
  {
   "cell_type": "code",
   "execution_count": 4,
   "id": "4bc88445-c1c3-46fb-8429-72d1b80a8f43",
   "metadata": {
    "tags": []
   },
   "outputs": [],
   "source": [
    "instruction = '''\n",
    "あなたの役割は、記事の執筆に必要な情報を収集して調査レポートにまとめる事です。\n",
    "前段のエージェントは、５項目程度の調査対象トピックを指定します。\n",
    "\n",
    "* 出力形式\n",
    "日本語で出力。\n",
    "調査レポートは、トピックごとに客観的情報をまとめます。各トピックについて、５文以上の長さで記述すること。\n",
    "'''\n",
    "\n",
    "research_agent2 = LlmAgent(\n",
    "    name='research_agent2',\n",
    "    model='gemini-2.5-flash',\n",
    "    description='記事の執筆に必要な情報を収集してレポートにまとめるエージェント（レポート作成）',\n",
    "    instruction=instruction,\n",
    ")"
   ]
  },
  {
   "cell_type": "code",
   "execution_count": 5,
   "id": "2abbec1a-9e48-4495-b2cb-de3763901fe5",
   "metadata": {
    "tags": []
   },
   "outputs": [],
   "source": [
    "instruction = '''\n",
    "あなたの役割は、特定のテーマに関する気軽な読み物記事を書くことです。\n",
    "記事の「テーマ」と、その内容に関連する「調査レポート」が与えられるので、\n",
    "調査レポートに記載の客観的事実に基づいて、信頼性のある読み物記事を書いてください。\n",
    "\n",
    "レビュアーによる修正ポイントが指摘された際は、直前に書いた記事を指摘に従って書き直してください。\n",
    "\n",
    "**出力条件**\n",
    "- トピックに関してある程度の基礎知識がある読者を前提として、数分で気軽に読める内容にしてください。\n",
    "- 比較的カジュアルで語りかける口調の文章にします。\n",
    "- 思考過程は出力せずに、最終結果だけを出力します。\n",
    "- 記事タイトルは付けないで、次の構成で出力します。各セクションタイトルは、内容に合わせてアレンジしてください。\n",
    "0. 導入：セクションタイトルを付けないで、この記事を読みたくなる導入を１〜２文にまとめます。\n",
    "1. 概要：トピックの全体像をまとめて簡単に説明します。\n",
    "2. 最新情報：特に注目したい新しい情報を取り上げます。\n",
    "3. 実践：トピックに関して、読者自身がやってみるとよさそうな事を１つ紹介します。\n",
    "4. まとめ\n",
    "\n",
    "- 各セクションのタイトルはマークダウンヘッダ ## 付けます。必要に応じて箇条書きのマークダウンを使用します。\n",
    "- それ以外のマークダウンによる装飾は行いません。\n",
    "'''\n",
    "\n",
    "writer_agent = LlmAgent(\n",
    "    name='writer_agent',\n",
    "    model='gemini-2.5-flash',\n",
    "    description='特定のテーマに関する読み物記事を書くエージェント',\n",
    "    instruction=instruction,\n",
    ")"
   ]
  },
  {
   "cell_type": "code",
   "execution_count": 6,
   "id": "61580c9b-6e64-415e-ba67-0e69d34aaaab",
   "metadata": {
    "tags": []
   },
   "outputs": [],
   "source": [
    "instruction = f'''\n",
    "あなたの役割は、読み物記事をレビューして、記事の条件にあった内容にするための改善コメントを与える事です。\n",
    "\n",
    "* 記事の条件\n",
    "- 記事は、はじめに４０文字程度のタイトルがあること。\n",
    "　今日から役立つ生活情報があって「すぐに読まなきゃ」と読者が感じるタイトルにすること。\n",
    "　タイトルはマークダウンヘッダ # をつけること。\n",
    "- タイトルの直後に「なぜいまこのテーマを取り上げるのか」をまとめた導入を加えて、読者にこの記事を読む動機づけを与えます。\n",
    "- 各セクションのサブタイトルには、絵文字を用いて親しみやすさを出すこと。\n",
    "- 読者が今日から実践できる具体例が３つ以上紹介されていること。\n",
    "\n",
    "* 出力形式\n",
    "- 日本語で出力。\n",
    "- はじめに、記事の良い点を説明します。\n",
    "- 次に、修正ポイントを箇条書きで出力します。\n",
    "'''\n",
    "\n",
    "review_agent = LlmAgent(\n",
    "    name='review_agent',\n",
    "    model='gemini-2.5-flash',\n",
    "    description='読み物記事をレビューするエージェント',\n",
    "    instruction=instruction,\n",
    ")"
   ]
  },
  {
   "cell_type": "code",
   "execution_count": null,
   "id": "89656174-6adb-41b1-9506-89256fb71acf",
   "metadata": {
    "tags": []
   },
   "outputs": [],
   "source": [
    "agents = {\n",
    "    'research_agent1': research_agent1,\n",
    "    'research_agent2': research_agent2,\n",
    "    'writer_agent': writer_agent,\n",
    "    'review_agent': review_agent,\n",
    "}\n",
    "\n",
    "deployed_agents = [agent.display_name for agent in agent_engines.list()]\n",
    "\n",
    "for agent_name in agents.keys():\n",
    "    if not agent_name in deployed_agents:\n",
    "        remote_agent = agent_engines.create(\n",
    "            agent_engine=agents[agent_name],\n",
    "            display_name=f'{agent_name}',\n",
    "            requirements=['google-adk==1.11.0'],\n",
    "        )\n",
    "    else:\n",
    "        resource_name = [\n",
    "            agent.name for agent in agent_engines.list()\n",
    "            if agent.display_name == agent_name\n",
    "        ][0]\n",
    "        remote_agent = agent_engines.update(\n",
    "            resource_name=resource_name,\n",
    "            agent_engine=agents[agent_name],\n",
    "            display_name=f'{agent_name}',\n",
    "            requirements=['google-adk==1.11.0'],\n",
    "        )"
   ]
  },
  {
   "cell_type": "code",
   "execution_count": 9,
   "id": "2d7ae003-b457-47dc-b4ee-e840f3e795c1",
   "metadata": {
    "tags": []
   },
   "outputs": [
    {
     "name": "stdout",
     "output_type": "stream",
     "text": [
      "research_agent1: 7073316631157407744\n",
      "research_agent2: 8099011446291038208\n",
      "writer_agent: 974316835790913536\n",
      "review_agent: 374212185443794944\n"
     ]
    }
   ],
   "source": [
    "agent_list = list(agent_engines.list())\n",
    "for agent_name in agents.keys():\n",
    "    resource_name = [\n",
    "        agent.name for agent in agent_list\n",
    "        if agent.display_name == agent_name\n",
    "    ][0]\n",
    "    print(f'{agent_name}: {resource_name}')"
   ]
  },
  {
   "cell_type": "markdown",
   "id": "20eec756-bfc8-4e70-a7e6-5967603770e2",
   "metadata": {
    "tags": []
   },
   "source": [
    "## A2A サーバーのデプロイ"
   ]
  },
  {
   "cell_type": "code",
   "execution_count": 10,
   "id": "d7a7f0ca-4c31-4acd-9fc1-89849df8dd24",
   "metadata": {
    "tags": []
   },
   "outputs": [
    {
     "name": "stdout",
     "output_type": "stream",
     "text": [
      "Create request issued for: [cloud-run-source-deploy]\n",
      "Waiting for operation [projects/etsuji-handson-01/locations/us-central1/operati\n",
      "ons/9cdd852d-4a96-4189-9e38-07b0a0af5e88] to complete...done.                  \n",
      "Created repository [cloud-run-source-deploy].\n"
     ]
    }
   ],
   "source": [
    "REPO_NAME='cloud-run-source-deploy'\n",
    "REPO=f'{LOCATION}-docker.pkg.dev/{PROJECT_ID}/{REPO_NAME}'\n",
    "!gcloud artifacts repositories create {REPO_NAME} \\\n",
    "     --repository-format docker --location {LOCATION}"
   ]
  },
  {
   "cell_type": "code",
   "execution_count": 11,
   "id": "60438eb7-165e-4649-a67c-edf276dd27c9",
   "metadata": {
    "tags": []
   },
   "outputs": [],
   "source": [
    "%%bash\n",
    "cat <<EOF >main.py\n",
    "import json, os\n",
    "import vertexai\n",
    "from vertexai import agent_engines\n",
    "\n",
    "from google.adk.events import Event\n",
    "from google.adk.sessions import VertexAiSessionService\n",
    "\n",
    "from a2a.server.agent_execution import AgentExecutor\n",
    "from a2a.server.tasks import TaskUpdater, InMemoryTaskStore\n",
    "from a2a.types import (\n",
    "    Task, TextPart, UnsupportedOperationError,\n",
    "    AgentCapabilities, AgentCard, AgentSkill,\n",
    ")\n",
    "from a2a.utils.errors import ServerError\n",
    "from a2a.server.apps import A2AStarletteApplication\n",
    "from a2a.server.request_handlers import DefaultRequestHandler\n",
    "\n",
    "PROJECT_ID = os.environ['PROJECT_ID']\n",
    "LOCATION = os.environ['REGION']\n",
    "AGENT_ID = os.environ['AGENT_ID']\n",
    "SERVICE_URL = os.environ['SERVICE_URL']\n",
    "\n",
    "vertexai.init(project=PROJECT_ID, location=LOCATION)\n",
    "SESSION_SERVICE = VertexAiSessionService(\n",
    "    project = PROJECT_ID,\n",
    "    location = LOCATION,\n",
    ")\n",
    "\n",
    "class AdkAgent:\n",
    "    SUPPORTED_CONTENT_TYPES = ['text', 'text/plain']\n",
    "\n",
    "    def __init__(self, remote_agent):\n",
    "        self._remote_agent = remote_agent\n",
    "\n",
    "    async def stream(self, updater, user_input):\n",
    "        # Create a new session and restore past events.\n",
    "        session = self._remote_agent.create_session(\n",
    "            user_id='default_user'\n",
    "        )\n",
    "        app_name = session['appName']\n",
    "        user_id = session['userId']\n",
    "        session_id = session['id']\n",
    "        session = await SESSION_SERVICE.get_session(\n",
    "            app_name=app_name,\n",
    "            user_id=user_id,\n",
    "            session_id=session_id,\n",
    "        )\n",
    "        past_events = [\n",
    "            Event(**event) for event in json.loads(user_input)\n",
    "        ]\n",
    "        for event in past_events:\n",
    "            await SESSION_SERVICE.append_event(session, event)\n",
    "        \n",
    "        # Send query to remote agent.\n",
    "        events = self._remote_agent.stream_query(\n",
    "            user_id=user_id,\n",
    "            session_id=session_id,\n",
    "            message='',\n",
    "        )\n",
    "        text_parts = []        \n",
    "        for event in events:\n",
    "            if text_parts: # not a last part\n",
    "                updater.new_agent_message(text_parts)\n",
    "            text_parts = []\n",
    "            if 'content' in event and 'parts' in event['content']:\n",
    "                for part in event['content']['parts']:\n",
    "                    if 'text' in part:\n",
    "                        text_parts.append(TextPart(text=part['text']))\n",
    "        # treat last part as an artifact\n",
    "        await updater.add_artifact(text_parts)\n",
    "        remote_agent.delete_session(\n",
    "            user_id=user_id,\n",
    "            session_id=session_id,\n",
    "        )\n",
    "\n",
    "\n",
    "class AdkAgentExecutor(AgentExecutor):\n",
    "    def __init__(self, adk_agent: AdkAgent):\n",
    "        self.adk_agent = adk_agent\n",
    "\n",
    "    async def cancel(self, request, event_queue):\n",
    "        raise ServerError(\n",
    "            error=UnsupportedOperationError('Cancel operation is not supported.')\n",
    "        )\n",
    "        \n",
    "    async def execute(self, context, event_queue):\n",
    "        updater = TaskUpdater(\n",
    "            event_queue,\n",
    "            context.task_id,\n",
    "            context.context_id\n",
    "        )\n",
    "        if not context.current_task:\n",
    "            await updater.submit()\n",
    "        await updater.start_work()\n",
    "\n",
    "        user_input = context.get_user_input()\n",
    "        await self.adk_agent.stream(updater, user_input)\n",
    "        await updater.complete()\n",
    "\n",
    "\n",
    "def create_agent_card(\n",
    "    base_url, supported_content_types, agent_name, agent_description):\n",
    "    \n",
    "    capabilities = AgentCapabilities(streaming=True)\n",
    "    skill = AgentSkill(\n",
    "        id=f\"{agent_name.lower().replace(' ', '_')}_skill\",\n",
    "        name=f'{agent_name} Skill',\n",
    "        description=agent_description,\n",
    "        tags=[tag.strip() for tag in agent_name.lower().split()],\n",
    "        examples=[f'Interact with {agent_name}'],\n",
    "    )\n",
    "\n",
    "    return AgentCard(\n",
    "        name=agent_name,\n",
    "        description=agent_description,\n",
    "        url=base_url,\n",
    "        version='1.0.0',\n",
    "        defaultInputModes=supported_content_types,\n",
    "        defaultOutputModes=supported_content_types,\n",
    "        capabilities=capabilities,\n",
    "        skills=[skill],\n",
    "    )\n",
    "\n",
    "\n",
    "remote_agent = agent_engines.get(AGENT_ID)\n",
    "adk_agent = AdkAgent(remote_agent=remote_agent)\n",
    "\n",
    "agent_card = create_agent_card(\n",
    "    base_url=SERVICE_URL,\n",
    "    supported_content_types=AdkAgent.SUPPORTED_CONTENT_TYPES,\n",
    "    agent_name=remote_agent.name,\n",
    "    agent_description=remote_agent.name,\n",
    ")\n",
    "    \n",
    "request_handler = DefaultRequestHandler(\n",
    "    agent_executor=AdkAgentExecutor(adk_agent),\n",
    "    task_store=InMemoryTaskStore(),\n",
    ")\n",
    "\n",
    "server_app_builder = A2AStarletteApplication(\n",
    "    agent_card=agent_card, http_handler=request_handler\n",
    ")\n",
    "\n",
    "app = server_app_builder.build()\n",
    "EOF\n",
    "\n",
    "cat <<EOF >Dockerfile\n",
    "FROM python:3.11-slim\n",
    "WORKDIR /app\n",
    "ENV PYTHONDONTWRITEBYTECODE 1\n",
    "ENV PYTHONUNBUFFERED 1\n",
    "COPY requirements.txt .\n",
    "RUN pip install --no-cache-dir -r requirements.txt\n",
    "COPY . .\n",
    "CMD [\"uvicorn\", \"main:app\", \"--host\", \"0.0.0.0\", \"--port\", \"8080\"]\n",
    "EOF\n",
    "\n",
    "cat <<EOF >requirements.txt\n",
    "uvicorn\n",
    "starlette\n",
    "google-adk==1.11.0\n",
    "google-cloud-aiplatform==1.108.0\n",
    "a2a-sdk==0.3.1\n",
    "EOF"
   ]
  },
  {
   "cell_type": "code",
   "execution_count": null,
   "id": "df014303-1544-44a2-ab4b-8ccd1a30b42f",
   "metadata": {
    "tags": []
   },
   "outputs": [],
   "source": [
    "agents = [\n",
    "    'research_agent1',\n",
    "    'research_agent2',\n",
    "    'writer_agent',\n",
    "    'review_agent',\n",
    "]\n",
    "\n",
    "deployed_agents = {\n",
    "    agent.display_name: agent.name for agent in agent_engines.list()\n",
    "}\n",
    "\n",
    "for agent_name in agents:\n",
    "    AGENT_ID = deployed_agents[agent_name]\n",
    "    print(f'## {agent_name}: {AGENT_ID}')\n",
    "\n",
    "    SERVICE_NAME=f'a2a-server-{agent_name}'.replace('_', '-')\n",
    "    SERVICE_URL=f'https://{SERVICE_NAME}-{PROJECT_NUMBER}.{LOCATION}.run.app'\n",
    "\n",
    "    !mkdir -p {agent_name}\n",
    "    !cp main.py requirements.txt Dockerfile {agent_name}/\n",
    "    !cd {agent_name} && gcloud builds submit --tag {REPO}/{SERVICE_NAME}\n",
    "    !gcloud run deploy {SERVICE_NAME} \\\n",
    "       --image {REPO}/{SERVICE_NAME} \\\n",
    "       --platform managed \\\n",
    "       --region {LOCATION} \\\n",
    "       --no-allow-unauthenticated \\\n",
    "       --update-env-vars \"\\\n",
    "PROJECT_ID={PROJECT_ID},REGION={LOCATION},AGENT_ID={AGENT_ID},\\\n",
    "SERVICE_URL={SERVICE_URL}\" 2>&1 | cat"
   ]
  },
  {
   "cell_type": "markdown",
   "id": "24004153-5bba-45af-a326-89ffb8a870aa",
   "metadata": {
    "tags": []
   },
   "source": [
    "## プロキシーエージェントの作成"
   ]
  },
  {
   "cell_type": "code",
   "execution_count": 13,
   "id": "f06bf102-4a77-420a-b887-e1d8270799d4",
   "metadata": {
    "tags": []
   },
   "outputs": [],
   "source": [
    "import httpx\n",
    "from a2a.client import A2ACardResolver, A2AClient\n",
    "from a2a.types import MessageSendParams, SendStreamingMessageRequest\n",
    "import google.auth.transport.requests\n",
    "import google.oauth2.id_token \n",
    "\n",
    "\n",
    "async def a2a_remote_call(query, a2a_server_url):\n",
    "    auth_req = google.auth.transport.requests.Request()\n",
    "    id_token = google.oauth2.id_token.fetch_id_token(auth_req, a2a_server_url)\n",
    "    headers = {\n",
    "        'Authorization': f'Bearer {id_token}',\n",
    "        'Content-Type': 'application/json'\n",
    "    }\n",
    "    payload = {\n",
    "        'message': {\n",
    "            'role': 'user',\n",
    "            'parts': [{'kind': 'text', 'text': query}],\n",
    "            'messageId': uuid.uuid4().hex,\n",
    "        },\n",
    "    }\n",
    "    request = SendStreamingMessageRequest(\n",
    "        id=uuid.uuid4().hex,\n",
    "        params=MessageSendParams(**payload),\n",
    "    )\n",
    "\n",
    "    async with httpx.AsyncClient(headers=headers, timeout=100) as httpx_client:\n",
    "        agent_card = await A2ACardResolver(\n",
    "            base_url=a2a_server_url, httpx_client=httpx_client\n",
    "        ).get_agent_card()\n",
    "        client = A2AClient(httpx_client, agent_card, url=a2a_server_url)\n",
    "        stream_response = client.send_message_streaming(request)\n",
    "        result = []\n",
    "        async for chunk in stream_response:\n",
    "            chunk = json.loads(chunk.root.model_dump_json(exclude_none=True))\n",
    "            if chunk['result']['kind'] == 'artifact-update':\n",
    "                text_messages = []\n",
    "                for part in chunk['result']['artifact']['parts']:\n",
    "                    if 'text' in part:\n",
    "                        text_messages.append(part['text'])\n",
    "                result.append(Part(text='\\n'.join(text_messages)))\n",
    "    \n",
    "    return result\n",
    "\n",
    "\n",
    "def get_call_a2a_agent(agent_name):\n",
    "    service_name=f'a2a-server-{agent_name}'.replace('_', '-')\n",
    "    a2a_server_url=f'https://{service_name}-{PROJECT_NUMBER}.{LOCATION}.run.app'\n",
    "\n",
    "    async def call_a2a_agent(\n",
    "        callback_context: CallbackContext, llm_request: LlmRequest\n",
    "    ) -> Content:\n",
    "        \n",
    "        # Convert past events into JSON serializable format.\n",
    "        events = callback_context._invocation_context.session.events\n",
    "        events = [event.model_dump() for event in events]\n",
    "        for event in events:\n",
    "            for key, item in event.items():\n",
    "                if isinstance(item, set):\n",
    "                    event[key] = list(item)\n",
    "\n",
    "        parts = await a2a_remote_call(json.dumps(events), a2a_server_url)\n",
    "        return LlmResponse(\n",
    "            content=Content(role='model', parts=parts) \n",
    "        )\n",
    "    return call_a2a_agent"
   ]
  },
  {
   "cell_type": "code",
   "execution_count": 14,
   "id": "1913eaa5-1244-43a6-aa6c-f0ac02621c32",
   "metadata": {
    "tags": []
   },
   "outputs": [],
   "source": [
    "research_agent1 = LlmAgent(\n",
    "    name='research_agent1',\n",
    "    model='gemini-2.5-flash', # not used\n",
    "    description='記事の執筆に必要な情報を収集してレポートにまとめるエージェント（テーマ選定）',\n",
    "    before_model_callback=get_call_a2a_agent('research_agent1'),\n",
    ")\n",
    "\n",
    "research_agent2 = LlmAgent(\n",
    "    name='research_agent2',\n",
    "    model='gemini-2.5-flash', # not used\n",
    "    description='記事の執筆に必要な情報を収集してレポートにまとめるエージェント（レポート作成）',\n",
    "    before_model_callback=get_call_a2a_agent('research_agent2'),\n",
    ")\n",
    "\n",
    "writer_agent = LlmAgent(\n",
    "    name='writer_agent',\n",
    "    model='gemini-2.5-flash', # not used\n",
    "    description='特定のテーマに関する読み物記事を書くエージェント',\n",
    "    before_model_callback=get_call_a2a_agent('writer_agent'),\n",
    ")\n",
    "\n",
    "review_agent = LlmAgent(\n",
    "    name='review_agent',\n",
    "    model='gemini-2.5-flash', # not used\n",
    "    description='読み物記事をレビューするエージェント',\n",
    "    before_model_callback=get_call_a2a_agent('review_agent'),\n",
    ")"
   ]
  },
  {
   "cell_type": "markdown",
   "id": "46952105-bdde-4801-bfdf-11be28b2d80e",
   "metadata": {
    "tags": []
   },
   "source": [
    "## 業務フローエージェントの定義"
   ]
  },
  {
   "cell_type": "code",
   "execution_count": 15,
   "id": "ae6aec43-0138-4bfa-a1bd-1a38b02c60c9",
   "metadata": {
    "tags": []
   },
   "outputs": [],
   "source": [
    "def get_print_agent(text):\n",
    "    def before_model_callback(\n",
    "        callback_context: CallbackContext, llm_request: LlmRequest\n",
    "    ) -> LlmResponse:\n",
    "        return LlmResponse(\n",
    "            content=Content(\n",
    "                role='model', parts=[Part(text=text)],\n",
    "            )\n",
    "        )\n",
    "    return LlmAgent(\n",
    "        name='print_agent',\n",
    "        model='gemini-2.0-flash', # not used\n",
    "        description='',\n",
    "        instruction = '',\n",
    "        before_model_callback=before_model_callback,\n",
    "    )\n",
    "\n",
    "research_agent = SequentialAgent(\n",
    "    name='research_agent',\n",
    "    sub_agents=[\n",
    "        get_print_agent('\\n---\\n## リサーチエージェントが調査レポートを作成します。\\n---\\n'),\n",
    "        get_print_agent('\\n## 調査対象のトピックを選定します。\\n'),\n",
    "        copy.deepcopy(research_agent1),\n",
    "        get_print_agent('\\n## 選定したトピックに基づいて、調査レポートを作成します。\\n'),\n",
    "        copy.deepcopy(research_agent2),\n",
    "        get_print_agent('\\n#### 調査レポートが準備できました。記事の作成に取り掛かってもよいでしょうか？\\n'),\n",
    "    ],\n",
    "    description='記事の執筆に必要な情報を収集してレポートにまとめるエージェント',\n",
    ")\n",
    "\n",
    "write_and_review_agent = SequentialAgent(\n",
    "    name='write_and_review_agent',\n",
    "    sub_agents=[\n",
    "        get_print_agent('\\n---\\n## ライターエージェントが記事を執筆します。\\n---\\n'),\n",
    "        copy.deepcopy(writer_agent),\n",
    "        get_print_agent('\\n---\\n## レビューエージェントが記事をレビューします。\\n---\\n'),\n",
    "        copy.deepcopy(review_agent),\n",
    "       get_print_agent('\\n#### レビューに基づいて記事の修正を依頼しますか？\\n'),\n",
    "    ],\n",
    "    description='記事を作成、レビューする。',\n",
    ")\n",
    "\n",
    "root_agent = LlmAgent(\n",
    "    name='article_generation_flow',\n",
    "    model='gemini-2.0-flash',\n",
    "    instruction = '''\n",
    "何ができるか聞かれた場合は、以下の処理をすることをわかりやすくフレンドリーな文章にまとめて返答してください。\n",
    "\n",
    "- ユーザーが指定したテーマの記事を作成する業務フローを実行する。\n",
    "- はじめに、テーマに関する調査レポートを作成する。\n",
    "- その後、ライターエージェントとレビューエージェントが協力して、編集方針に則した記事を作成する。\n",
    "\n",
    "ユーザーが記事のテーマを指定した場合は、次のフローを実行します。\n",
    "\n",
    "1. そのテーマの記事の作成に取り掛かる旨を伝えて、research_agent に転送して、調査レポートを依頼します。\n",
    "2. ユーザー記事の作成を支持したら、write_and_review_agent に転送して、記事の作成とレビューを依頼します。\n",
    "3. ユーザーが記事の修正を希望する場合は、write_and_review_agent に転送します。\n",
    "\n",
    "**条件**\n",
    "research_agent のニックネームは、リサーチエージェント\n",
    "write_and_review_agent のネックネームは、ライターエージェントとレビューエージェント\n",
    "\n",
    "''',\n",
    "    sub_agents=[\n",
    "        copy.deepcopy(research_agent),\n",
    "        copy.deepcopy(write_and_review_agent),\n",
    "    ],\n",
    "    description='記事を作成する業務フローを実行するエージェント'\n",
    ")"
   ]
  },
  {
   "cell_type": "markdown",
   "id": "2fe9eee4-34b6-44ca-ad63-7fe2cfe2bf2b",
   "metadata": {
    "tags": []
   },
   "source": [
    "## 実行例"
   ]
  },
  {
   "cell_type": "code",
   "execution_count": 20,
   "id": "ec4fdef7-f1d8-4c5c-8c81-83733d026622",
   "metadata": {
    "tags": []
   },
   "outputs": [
    {
     "name": "stdout",
     "output_type": "stream",
     "text": [
      "こんにちは！記事作成でお手伝いできます。\n",
      "\n",
      "ご指定いただいたテーマについて、まずはリサーチエージェントが調査レポートを作成します。その後、ライターエージェントとレビューエージェントが協力して、編集方針に沿った記事を作成いたします。\n",
      "\n"
     ]
    }
   ],
   "source": [
    "client = LocalApp(root_agent)\n",
    "DEBUG = False\n",
    "\n",
    "query = '''\n",
    "こんにちは。何ができますか？\n",
    "'''\n",
    "result = await client.stream(query)"
   ]
  },
  {
   "cell_type": "code",
   "execution_count": 21,
   "id": "9328b3fb-2f42-455c-a216-e88051b4cf9c",
   "metadata": {
    "tags": []
   },
   "outputs": [
    {
     "name": "stderr",
     "output_type": "stream",
     "text": [
      "Warning: there are non-text parts in the response: ['function_call'], returning concatenated text result from text parts. Check the full candidates.content.parts accessor to get the full model response.\n",
      "/var/tmp/ipykernel_3955/1007989797.py:31: DeprecationWarning: A2AClient is deprecated and will be removed in a future version. Use ClientFactory to create a client with a JSON-RPC transport.\n",
      "  client = A2AClient(httpx_client, agent_card, url=a2a_server_url)\n"
     ]
    },
    {
     "name": "stdout",
     "output_type": "stream",
     "text": [
      "承知いたしました。「夏の節電対策」の記事作成に取り掛かります。まずはリサーチエージェントに調査レポートを依頼します。\n",
      "\n",
      "\n",
      "---\n",
      "## リサーチエージェントが調査レポートを作成します。\n",
      "---\n",
      "\n",
      "\n",
      "## 調査対象のトピックを選定します。\n",
      "\n",
      "「夏の節電対策」に関する調査レポート作成のため、以下の5つのトピックについて調査を行います。\n",
      "\n",
      "---\n",
      "### 調査対象のトピックリスト\n",
      "\n",
      "1.  **夏の節電の重要性とメリット**:\n",
      "    *   なぜ夏の節電が必要なのか（電力需給ひっ迫、電気料金高騰、環境負荷など）。\n",
      "    *   節電によって得られる具体的なメリット（電気代節約、CO2排出量削減など）。\n",
      "2.  **エアコンの効率的な利用術**:\n",
      "    *   設定温度の目安と効果的な使い方。\n",
      "    *   フィルター清掃の重要性。\n",
      "    *   室外機周辺の環境整備。\n",
      "    *   扇風機やサーキュレーターとの併用。\n",
      "    *   自動運転モードの活用。\n",
      "3.  **エアコン以外の家電の節電対策**:\n",
      "    *   冷蔵庫の効率的な使い方。\n",
      "    *   照明（LED化、こまめな消灯）。\n",
      "    *   テレビやパソコンなどの待機電力削減。\n",
      "    *   その他、消費電力の大きい家電製品（温水洗浄便座、炊飯器など）の節電ポイント。\n",
      "4.  **電気を使わない！生活習慣・住まいの節電術**:\n",
      "    *   日差し対策（遮光カーテン、すだれ、グリーンカーテン）。\n",
      "    *   換気と空気の流れを良くする工夫。\n",
      "    *   打ち水効果。\n",
      "    *   涼しい服装や寝具の選び方。\n",
      "    *   身体を冷やす食品や方法。\n",
      "5.  **節電と熱中症対策の両立**:\n",
      "    *   無理のない節電の範囲と注意点。\n",
      "    *   熱中症警戒アラート発表時の対応。\n",
      "    *   高齢者や乳幼児、持病を持つ人への配慮。\n",
      "    *   適切にエアコンを使用しつつ、無理なく節電を意識するポイント。\n",
      "\n",
      "---\n",
      "\n",
      "## 選定したトピックに基づいて、調査レポートを作成します。\n",
      "\n",
      "## 夏の節電対策に関する調査レポート\n",
      "\n",
      "### 1. 夏の節電の重要性とメリット\n",
      "\n",
      "夏の節電は、電力需給の安定化、家計負担の軽減、環境負荷の低減という複数の側面から極めて重要です。特に夏はエアコンの使用により電力需要が急増し、電力供給がひっ迫するリスクが高まります。近年は燃料費の高騰などにより電気料金が上昇傾向にあるため、節電は家庭の電気代を直接的に削減する有効な手段となります。さらに、火力発電に依存する電力供給はCO2排出量を増加させるため、節電は地球温暖化対策にも貢献し、持続可能な社会の実現に寄与します。個人が節電に取り組むことは、電力不足による大規模停電のリスクを低減し、社会全体のインフラを支えることにも繋がります。これらの理由から、夏の節電は単なる個人の努力に留まらず、社会的な意義を持つ取り組みと言えます。\n",
      "\n",
      "### 2. エアコンの効率的な利用術\n",
      "\n",
      "エアコンを効率的に利用することは、夏の節電において最も大きな効果が期待できます。環境省が推奨する冷房設定温度は28℃が目安ですが、体感温度に合わせて無理のない範囲で調整することが重要です。一般的に、設定温度を1℃上げるだけで約10%の節電効果があると言われています。また、2週間に1度を目安にエアコンのフィルターを清掃することで、約5～10%の節電につながり、冷房能力の低下も防げます。室外機周辺に物を置かずに風通しを良くしたり、直射日光を避ける日よけを設置することも、放熱効率を高め、消費電力を抑える上で有効です。扇風機やサーキュレーターを併用することで、冷気を効率よく循環させ、設定温度を下げすぎずに快適な室温を保つことができます。多くのエアコンに搭載されている「自動運転モード」は、室温を検知して最適な風量と温度で運転するため、無駄な電力消費を抑え、効率的な節電に繋がります。\n",
      "\n",
      "### 3. エアコン以外の家電の節電対策\n",
      "\n",
      "エアコン以外の家電製品も、使い方次第で大きな節電効果をもたらします。冷蔵庫は年間を通して稼働するため、食品を詰め込みすぎず、庫内の冷気の循環を妨げないようにすることが重要です。また、扉の開閉回数を減らし、開けている時間を短くすることも節電に繋がります。照明においては、消費電力の少ないLED照明への交換や、不要な照明をこまめに消す、昼間は自然光を最大限活用するといった基本的な習慣が大切です。テレビやパソコンなどの待機電力は意外に大きく、使わない時は主電源を切ったり、コンセントからプラグを抜いたり、スイッチ付きのOAタップを利用することで節電が可能です。温水洗浄便座は、夏場は便座暖房機能や温水機能をオフにすることで大幅な節電が見込めます。さらに、炊飯器の保温機能は消費電力が大きいため、必要以上に長時間保温せず、食べきれない分は冷凍保存するなどの工夫も有効です。\n",
      "\n",
      "### 4. 電気を使わない！生活習慣・住まいの節電術\n",
      "\n",
      "電気を使わずに涼しく過ごすための生活習慣や住まいの工夫も、夏の節電には不可欠です。まず、窓からの日差し対策として、遮光カーテンやブラインド、すだれ、よしずなどを活用し、直射日光が室内に入るのを防ぐことが効果的です。特に窓の外側に設置すると、室内温度の上昇をより抑制できます。朝晩の涼しい時間帯に窓を開けて換気を行い、室内の熱気を排出することも室温を下げるために重要です。打ち水は気化熱の原理を利用し、地面や周囲の温度を下げる昔ながらの方法で、特に夕方に行うと涼しさを感じやすくなります。服装や寝具においても、吸湿性や速乾性に優れた素材（綿、麻など）や接触冷感素材を選ぶことで、体感温度を下げ快適に過ごせます。また、キュウリやナス、スイカなど、体を内側から冷やす効果のある夏野菜や果物を積極的に摂取することも、暑さを和らげる助けとなります。\n",
      "\n",
      "### 5. 節電と熱中症対策の両立\n",
      "\n",
      "夏の節電は重要ですが、熱中症のリスクが高まる時期には、無理な我慢は絶対に避けるべきです。特に高齢者、乳幼児、持病を持つ人は体温調節機能が低下しているため、命を守る上でエアコンの適切な使用が不可欠です。環境省や気象庁が熱中症警戒アラートを発表した場合は、節電よりも命を最優先し、躊躇なくエアコンを使用するなど、涼しい環境を確保する行動をとる必要があります。エアコンの設定温度は28℃を目安としつつも、体調に合わせて無理なく調整し、扇風機やサーキュレーターとの併用で効率を高めることが賢明です。冷房を完全に止めるのではなく、効率的な使い方を心がけながら快適な室温を維持することが、熱中症予防と節電の両立に繋がります。また、室温に関わらず、こまめな水分補給は熱中症対策の基本であり、喉が渇いていなくても定期的に水分を摂るように心がけることが重要です。\n",
      "\n",
      "#### 調査レポートが準備できました。記事の作成に取り掛かってもよいでしょうか？\n",
      "\n"
     ]
    }
   ],
   "source": [
    "query = '''\n",
    "「夏の節電対策」をテーマに記事を作成してください。\n",
    "'''\n",
    "result = await client.stream(query)"
   ]
  },
  {
   "cell_type": "code",
   "execution_count": 22,
   "id": "502b059f-1af8-479b-9a91-8d31e8b3ad4a",
   "metadata": {
    "tags": []
   },
   "outputs": [
    {
     "name": "stderr",
     "output_type": "stream",
     "text": [
      "Warning: there are non-text parts in the response: ['function_call'], returning concatenated text result from text parts. Check the full candidates.content.parts accessor to get the full model response.\n"
     ]
    },
    {
     "name": "stdout",
     "output_type": "stream",
     "text": [
      "承知いたしました。記事の作成とレビューをライターエージェントとレビューエージェントに依頼します。\n",
      "\n",
      "\n",
      "---\n",
      "## ライターエージェントが記事を執筆します。\n",
      "---\n",
      "\n"
     ]
    },
    {
     "name": "stderr",
     "output_type": "stream",
     "text": [
      "/var/tmp/ipykernel_3955/1007989797.py:31: DeprecationWarning: A2AClient is deprecated and will be removed in a future version. Use ClientFactory to create a client with a JSON-RPC transport.\n",
      "  client = A2AClient(httpx_client, agent_card, url=a2a_server_url)\n"
     ]
    },
    {
     "name": "stdout",
     "output_type": "stream",
     "text": [
      "暑い夏、エアコンをつけたいけれど電気代も気になるし、電力不足も心配…。そんな悩みを抱えているあなたに、賢く快適に夏を乗り切るための節電術をご紹介します！\n",
      "\n",
      "## 夏の節電、なぜ大切なの？\n",
      "夏の節電は、私たちの暮らしと地球のために、とっても大切なことなんです。\n",
      "\n",
      "まず、夏はエアコンを使う家庭が増えるため、電力の需要がグンと高まります。電力会社にとっては、電力の供給が需要に追いつかなくなる「電力ひっ迫」のリスクが高まる時期。もしそうなると、大規模な停電につながる可能性もゼロではありません。\n",
      "さらに、最近の電気料金の高騰は家計に大きな負担ですよね。節電は、ズバリ「電気代の節約」に直結します。\n",
      "そして、環境への配慮も忘れてはいけません。私たちが使う電気の多くは、CO2を排出する火力発電で作られています。節電は、地球温暖化の原因となるCO2の排出量を減らすことにもつながるんです。\n",
      "このように、夏の節電は、私たちの生活を安定させ、お財布にも優しく、地球環境も守る、一石三鳥の賢い選択なんですね。\n",
      "\n",
      "## 知っておきたい！今年の節電トレンド\n",
      "今年の夏、特に注目したいのは「無理なく、賢く」というキーワードです。\n",
      "\n",
      "以前は「節電のためなら我慢！」といった風潮もありましたが、今は「熱中症リスクを避けつつ、快適に節電する」ことが重要視されています。\n",
      "特に注目は、**エアコンの「自動運転モード」**の活用です。最新のエアコンにはこの機能がほとんど搭載されており、室温を感知して最適な風量と温度で運転してくれるので、無駄な電力消費を抑えながら快適な室温をキープできます。自分で頻繁に設定を変えるよりも、賢く効率的に節電できるんですよ。\n",
      "また、**熱中症警戒アラート**が発表された際には、無理な節電は絶対にNG。命を守ることを最優先に、躊躇なくエアコンを使い、涼しい環境を確保することが求められています。\n",
      "「我慢の節電」ではなく、「賢い節電」で、この夏を乗り切りましょう！\n",
      "\n",
      "## まずはここから！今すぐできるワンポイント実践\n",
      "「節電って何から始めればいいんだろう？」と思っているあなたに、すぐにできて効果も期待できる簡単な実践方法をご紹介します。\n",
      "それは、**「エアコンのフィルターを掃除する」**ことです！\n",
      "「え、そんなこと？」と思うかもしれませんが、エアコンのフィルターにホコリがたまると、空気の通りが悪くなり、余計な電力を使ってしまいます。2週間に1度を目安にフィルターを掃除するだけで、冷房効率がアップし、なんと約5～10%も節電できると言われているんですよ。\n",
      "掃除は簡単。フィルターを外して掃除機でホコリを吸い取るか、水洗いして陰干しするだけです。ぜひ、今日から始めてみてくださいね。\n",
      "\n",
      "## 快適に、賢く、夏を乗り切ろう！\n",
      "今年の夏も、暑い日が続きそうです。\n",
      "電力ひっ迫、電気代高騰、そして熱中症リスク…。さまざまな心配事がある中で、夏の節電は私たちの暮らしに欠かせないテーマとなっています。\n",
      "今回ご紹介したように、エアコンの賢い使い方から、身近な家電製品の工夫、そして電気を使わない昔ながらの知恵まで、節電方法はたくさんあります。\n",
      "大切なのは、無理なく、自分のライフスタイルに合った方法を見つけること。特に、体調を崩さないよう、熱中症対策との両立を最優先に考えましょう。\n",
      "ちょっとした工夫で、快適さと節電を両立させ、健やかにこの夏を乗り切りましょうね！\n",
      "\n",
      "---\n",
      "## レビューエージェントが記事をレビューします。\n",
      "---\n",
      "\n",
      "記事のレビューです。\n",
      "\n",
      "### 記事の良い点\n",
      "\n",
      "*   読者の共感を呼ぶ書き出しで、エアコンと電気代・電力不足という夏の悩みに寄り添っています。\n",
      "*   節電の重要性（電力ひっ迫、家計負担、環境負荷）が分かりやすく説明されており、読者が節電に取り組む意義を理解しやすいです。\n",
      "*   「無理なく、賢く」という今年の節電のトレンドや、熱中症対策との両立の重要性に触れている点が、読者の安全への配慮が感じられ好印象です。\n",
      "*   エアコンのフィルター掃除という、すぐに実践できて効果も期待できる具体的なアドバイスが提示されています。\n",
      "\n",
      "### 修正ポイント\n",
      "\n",
      "以下の点を修正していただくことで、記事の条件に沿った、より読者に響く記事になるでしょう。\n",
      "\n",
      "*   **タイトルの修正**\n",
      "    *   現在、記事の冒頭にある文章が導入の役割を担っていますが、はじめに**`#`ヘッダー**を付けた40文字程度のタイトルを新しく設定してください。読者が「すぐに読まなきゃ」と感じるような、具体的なメリットや課題解決を示唆する内容にすると良いでしょう。（例：`# 【夏の電気代が激減！】今日からできる！賢く快適な節電術`など）\n",
      "*   **導入の明確化**\n",
      "    *   新しいタイトルの直後に、「なぜいまこのテーマを取り上げるのか」をまとめた導入文を明確に配置してください。現在の記事冒頭の「暑い夏、エアコンをつけたいけれど…」の部分などを再構成して活用できます。\n",
      "*   **サブタイトルへの絵文字追加**\n",
      "    *   各セクションのサブタイトル（例：`## 夏の節電、なぜ大切なの？`）に、親しみやすさを出すために絵文字を加えてください。（例：`## 夏の節電、なぜ大切なの？🤔`、`## 知っておきたい！今年の節電トレンド💡`など）\n",
      "*   **実践例の強化と多様化**\n",
      "    *   読者が今日から実践できる具体的な節電例を、**3つ以上明確に紹介**してください。現状ではエアコンのフィルター掃除と自動運転モードの活用が主な実践例ですが、リサーチレポートにあった他の節電方法（例：冷蔵庫の使い方、待機電力の削減、日差し対策、扇風機との併用など）を具体的に盛り込むことで、読者の選択肢が増え、より役立つ記事になります。特に、「まずはここから！今すぐできるワンポイント実践」のセクションを充実させるか、複数の実践例を提示するセクションを設けることをお勧めします。\n",
      "\n",
      "#### レビューに基づいて記事の修正を依頼しますか？\n",
      "\n"
     ]
    }
   ],
   "source": [
    "query = '''\n",
    "はい。お願いします。\n",
    "'''\n",
    "result = await client.stream(query)"
   ]
  },
  {
   "cell_type": "code",
   "execution_count": 23,
   "id": "6e5a4754-a30f-4e06-8743-a67e72807ad2",
   "metadata": {
    "tags": []
   },
   "outputs": [
    {
     "name": "stderr",
     "output_type": "stream",
     "text": [
      "Warning: there are non-text parts in the response: ['function_call'], returning concatenated text result from text parts. Check the full candidates.content.parts accessor to get the full model response.\n",
      "/var/tmp/ipykernel_3955/1007989797.py:31: DeprecationWarning: A2AClient is deprecated and will be removed in a future version. Use ClientFactory to create a client with a JSON-RPC transport.\n",
      "  client = A2AClient(httpx_client, agent_card, url=a2a_server_url)\n"
     ]
    },
    {
     "name": "stdout",
     "output_type": "stream",
     "text": [
      "承知いたしました。レビューに基づいて記事の修正をライターエージェントにお願いします。\n",
      "\n",
      "\n",
      "---\n",
      "## ライターエージェントが記事を執筆します。\n",
      "---\n",
      "\n",
      "# 【電気代も暑さも撃退！】この夏こそ始める、賢すぎる節電術💡\n",
      "\n",
      "暑い夏、エアコンをつけたいけれど電気代も気になるし、電力不足も心配…。そんな悩みを抱えているあなたに、賢く快適に夏を乗り切るための節電術をご紹介します！\n",
      "\n",
      "## 夏の節電、なぜ大切なの？🤔\n",
      "夏の節電は、私たちの暮らしと地球のために、とっても大切なことなんです。\n",
      "\n",
      "まず、夏はエアコンを使う家庭が増えるため、電力の需要がグンと高まります。電力会社にとっては、電力の供給が需要に追いつかなくなる「電力ひっ迫」のリスクが高まる時期。もしそうなると、大規模な停電につながる可能性もゼロではありません。\n",
      "さらに、最近の電気料金の高騰は家計に大きな負担ですよね。節電は、ズバリ「電気代の節約」に直結します。\n",
      "そして、環境への配慮も忘れてはいけません。私たちが使う電気の多くは、CO2を排出する火力発電で作られています。節電は、地球温暖化の原因となるCO2の排出量を減らすことにもつながるんです。\n",
      "このように、夏の節電は、私たちの生活を安定させ、お財布にも優しく、地球環境も守る、一石三鳥の賢い選択なんですね。\n",
      "\n",
      "## 知っておきたい！今年の節電トレンド💡\n",
      "今年の夏、特に注目したいのは「無理なく、賢く」というキーワードです。\n",
      "\n",
      "以前は「節電のためなら我慢！」といった風潮もありましたが、今は「熱中症リスクを避けつつ、快適に節電する」ことが重要視されています。\n",
      "特に注目は、**エアコンの「自動運転モード」**の活用です。最新のエアコンにはこの機能がほとんど搭載されており、室温を感知して最適な風量と温度で運転してくれるので、無駄な電力消費を抑えながら快適な室温をキープできます。自分で頻繁に設定を変えるよりも、賢く効率的に節電できるんですよ。\n",
      "また、**熱中症警戒アラート**が発表された際には、無理な節電は絶対にNG。命を守ることを最優先に、躊躇なくエアコンを使い、涼しい環境を確保することが求められています。\n",
      "「我慢の節電」ではなく、「賢い節電」で、この夏を乗り切りましょう！\n",
      "\n",
      "## 今すぐできる！賢い節電術 3選✨\n",
      "\n",
      "「節電って何から始めればいいんだろう？」と思っているあなたに、すぐにできて効果も期待できる簡単な実践方法を3つご紹介します！\n",
      "\n",
      "### 1. エアコンのフィルター掃除を習慣に！\n",
      "「え、そんなこと？」と思うかもしれませんが、エアコンのフィルターにホコリがたまると、空気の通りが悪くなり、余計な電力を使ってしまいます。2週間に1度を目安にフィルターを掃除するだけで、冷房効率がアップし、なんと約5～10%も節電できると言われているんですよ。掃除は簡単。フィルターを外して掃除機でホコリを吸い取るか、水洗いして陰干しするだけです。ぜひ、今日から始めてみてくださいね。\n",
      "\n",
      "### 2. 扇風機やサーキュレーターとエアコンを併用！\n",
      "エアコンの設定温度を少し高めにしても、扇風機やサーキュレーターを併用することで、冷たい空気が部屋全体に効率よく行き渡り、体感温度が下がります。エアコンの設定温度を1℃上げるだけで、約10%の節電になると言われていますから、ぜひ試してみてください。冷たい空気は下にたまる性質があるので、扇風機は天井に向けて風を送ると、空気を循環させやすくなりますよ。\n",
      "\n",
      "### 3. 家電の待機電力をカット！\n",
      "意外と見落としがちなのが、テレビやパソコン、充電器などの「待機電力」。使っていない時でもコンセントに繋がっているだけで、少しずつ電気を消費しています。これらの待機電力は、家庭の消費電力の約5%〜10%を占めるとも言われています。使わない時は主電源を切ったり、コンセントからプラグを抜いたりするのが一番ですが、毎回抜き差しするのは面倒ですよね。そこで便利なのが、スイッチ付きのOAタップです。これならスイッチひとつで簡単に待機電力をカットできますよ。\n",
      "\n",
      "## 快適に、賢く、夏を乗り切ろう！🌻\n",
      "今年の夏も、暑い日が続きそうです。\n",
      "電力ひっ迫、電気代高騰、そして熱中症リスク…。さまざまな心配事がある中で、夏の節電は私たちの暮らしに欠かせないテーマとなっています。\n",
      "今回ご紹介したように、エアコンの賢い使い方から、身近な家電製品の工夫、そして電気を使わない昔ながらの知恵まで、節電方法はたくさんあります。\n",
      "大切なのは、無理なく、自分のライフスタイルに合った方法を見つけること。特に、体調を崩さないよう、熱中症対策との両立を最優先に考えましょう。\n",
      "ちょっとした工夫で、快適さと節電を両立させ、健やかにこの夏を乗り切りましょうね！\n",
      "\n",
      "---\n",
      "## レビューエージェントが記事をレビューします。\n",
      "---\n",
      "\n",
      "記事のレビューです。\n",
      "\n",
      "### 記事の良い点\n",
      "\n",
      "*   **タイトルと導入の改善**: 前回のフィードバックを反映し、インパクトがあり読者の行動を促すタイトルに修正され、その直後に「なぜこのテーマを取り上げるのか」を明確にした導入が配置されました。読者が「すぐに読まなきゃ」と感じる構成になっています。\n",
      "*   **絵文字の活用**: 各サブタイトルに絵文字が効果的に使われており、親しみやすさと視覚的な魅力を高めています。\n",
      "*   **具体的な実践例の充実**: 読者が今日から実践できる具体的な節電術が3つ（エアコンのフィルター掃除、扇風機・サーキュレーターとの併用、家電の待機電力カット）明確に提示されています。それぞれの節電効果や具体的な方法も分かりやすく説明されており、実践しやすさが向上しました。\n",
      "*   **読者への配慮**: 熱中症対策との両立や「無理なく、賢く」という今年のトレンドが繰り返し述べられており、読者の健康と安全への配慮が感じられます。\n",
      "\n",
      "### 修正点\n",
      "\n",
      "現時点では、記事のすべての条件が満たされており、修正を必要とする点はありません。非常に質の高い記事に仕上がっています。\n",
      "\n",
      "#### レビューに基づいて記事の修正を依頼しますか？\n",
      "\n"
     ]
    }
   ],
   "source": [
    "query = '''\n",
    "はい。お願いします。\n",
    "'''\n",
    "result = await client.stream(query)"
   ]
  },
  {
   "cell_type": "code",
   "execution_count": 24,
   "id": "37b244d2-cec9-4bb2-96d9-831cdbf890b1",
   "metadata": {
    "tags": []
   },
   "outputs": [
    {
     "name": "stdout",
     "output_type": "stream",
     "text": [
      "# 【電気代も暑さも撃退！】この夏こそ始める、賢すぎる節電術💡\n",
      "\n",
      "暑い夏、エアコンをつけたいけれど電気代も気になるし、電力不足も心配…。そんな悩みを抱えているあなたに、賢く快適に夏を乗り切るための節電術をご紹介します！\n",
      "\n",
      "## 夏の節電、なぜ大切なの？🤔\n",
      "夏の節電は、私たちの暮らしと地球のために、とっても大切なことなんです。\n",
      "\n",
      "まず、夏はエアコンを使う家庭が増えるため、電力の需要がグンと高まります。電力会社にとっては、電力の供給が需要に追いつかなくなる「電力ひっ迫」のリスクが高まる時期。もしそうなると、大規模な停電につながる可能性もゼロではありません。\n",
      "さらに、最近の電気料金の高騰は家計に大きな負担ですよね。節電は、ズバリ「電気代の節約」に直結します。\n",
      "そして、環境への配慮も忘れてはいけません。私たちが使う電気の多くは、CO2を排出する火力発電で作られています。節電は、地球温暖化の原因となるCO2の排出量を減らすことにもつながるんです。\n",
      "このように、夏の節電は、私たちの生活を安定させ、お財布にも優しく、地球環境も守る、一石三鳥の賢い選択なんですね。\n",
      "\n",
      "## 知っておきたい！今年の節電トレンド💡\n",
      "今年の夏、特に注目したいのは「無理なく、賢く」というキーワードです。\n",
      "\n",
      "以前は「節電のためなら我慢！」といった風潮もありましたが、今は「熱中症リスクを避けつつ、快適に節電する」ことが重要視されています。\n",
      "特に注目は、**エアコンの「自動運転モード」**の活用です。最新のエアコンにはこの機能がほとんど搭載されており、室温を感知して最適な風量と温度で運転してくれるので、無駄な電力消費を抑えながら快適な室温をキープできます。自分で頻繁に設定を変えるよりも、賢く効率的に節電できるんですよ。\n",
      "また、**熱中症警戒アラート**が発表された際には、無理な節電は絶対にNG。命を守ることを最優先に、躊躇なくエアコンを使い、涼しい環境を確保することが求められています。\n",
      "「我慢の節電」ではなく、「賢い節電」で、この夏を乗り切りましょう！\n",
      "\n",
      "## 今すぐできる！賢い節電術 3選✨\n",
      "\n",
      "「節電って何から始めればいいんだろう？」と思っているあなたに、すぐにできて効果も期待できる簡単な実践方法を3つご紹介します！\n",
      "\n",
      "### 1. エアコンのフィルター掃除を習慣に！\n",
      "「え、そんなこと？」と思うかもしれませんが、エアコンのフィルターにホコリがたまると、空気の通りが悪くなり、余計な電力を使ってしまいます。2週間に1度を目安にフィルターを掃除するだけで、冷房効率がアップし、なんと約5～10%も節電できると言われているんですよ。掃除は簡単。フィルターを外して掃除機でホコリを吸い取るか、水洗いして陰干しするだけです。ぜひ、今日から始めてみてくださいね。\n",
      "\n",
      "### 2. 扇風機やサーキュレーターとエアコンを併用！\n",
      "エアコンの設定温度を少し高めにしても、扇風機やサーキュレーターを併用することで、冷たい空気が部屋全体に効率よく行き渡り、体感温度が下がります。エアコンの設定温度を1℃上げるだけで、約10%の節電になると言われていますから、ぜひ試してみてください。冷たい空気は下にたまる性質があるので、扇風機は天井に向けて風を送ると、空気を循環させやすくなりますよ。\n",
      "\n",
      "### 3. 家電の待機電力をカット！\n",
      "意外と見落としがちなのが、テレビやパソコン、充電器などの「待機電力」。使っていない時でもコンセントに繋がっているだけで、少しずつ電気を消費しています。これらの待機電力は、家庭の消費電力の約5%〜10%を占めるとも言われています。使わない時は主電源を切ったり、コンセントからプラグを抜いたりするのが一番ですが、毎回抜き差しするのは面倒ですよね。そこで便利なのが、スイッチ付きのOAタップです。これならスイッチひとつで簡単に待機電力をカットできますよ。\n",
      "\n",
      "## 快適に、賢く、夏を乗り切ろう！🌻\n",
      "今年の夏も、暑い日が続きそうです。\n",
      "電力ひっ迫、電気代高騰、そして熱中症リスク…。さまざまな心配事がある中で、夏の節電は私たちの暮らしに欠かせないテーマとなっています。\n",
      "今回ご紹介したように、エアコンの賢い使い方から、身近な家電製品の工夫、そして電気を使わない昔ながらの知恵まで、節電方法はたくさんあります。\n",
      "大切なのは、無理なく、自分のライフスタイルに合った方法を見つけること。特に、体調を崩さないよう、熱中症対策との両立を最優先に考えましょう。\n",
      "ちょっとした工夫で、快適さと節電を両立させ、健やかにこの夏を乗り切りましょうね！\n",
      "\n"
     ]
    }
   ],
   "source": [
    "query = '''\n",
    "これで完成です。完成した記事をもう一度表示して。\n",
    "'''\n",
    "result = await client.stream(query)"
   ]
  }
 ],
 "metadata": {
  "environment": {
   "kernel": "conda-base-py",
   "name": "workbench-notebooks.m131",
   "type": "gcloud",
   "uri": "us-docker.pkg.dev/deeplearning-platform-release/gcr.io/workbench-notebooks:m131"
  },
  "kernelspec": {
   "display_name": "Python 3 (ipykernel) (Local) (Local)",
   "language": "python",
   "name": "conda-base-py"
  },
  "language_info": {
   "codemirror_mode": {
    "name": "ipython",
    "version": 3
   },
   "file_extension": ".py",
   "mimetype": "text/x-python",
   "name": "python",
   "nbconvert_exporter": "python",
   "pygments_lexer": "ipython3",
   "version": "3.10.18"
  }
 },
 "nbformat": 4,
 "nbformat_minor": 5
}
