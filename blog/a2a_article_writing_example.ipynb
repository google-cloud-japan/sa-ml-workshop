{
 "cells": [
  {
   "cell_type": "markdown",
   "id": "53a85079-e9ea-4035-a661-b80113584d15",
   "metadata": {},
   "source": [
    "# A2A リモートエージェント対応のマルチエージェントシステム"
   ]
  },
  {
   "cell_type": "markdown",
   "id": "f42e97b6-0dbc-4758-9452-de507785fb1d",
   "metadata": {
    "jp-MarkdownHeadingCollapsed": true,
    "tags": []
   },
   "source": [
    "## 環境準備"
   ]
  },
  {
   "cell_type": "code",
   "execution_count": null,
   "id": "9fbf86e1-76cb-4206-874b-46e7c18ba80c",
   "metadata": {
    "tags": []
   },
   "outputs": [],
   "source": [
    "%pip install --user \\\n",
    "    google-adk==1.11.0 \\\n",
    "    a2a-sdk==0.3.1"
   ]
  },
  {
   "cell_type": "code",
   "execution_count": 18,
   "id": "bcb57a7d-f0e8-4150-a32d-aed585096c7d",
   "metadata": {
    "tags": []
   },
   "outputs": [],
   "source": [
    "import IPython\n",
    "app = IPython.Application.instance()\n",
    "_ = app.kernel.do_shutdown(True)"
   ]
  },
  {
   "cell_type": "code",
   "execution_count": 1,
   "id": "25d8f0c5-f98e-460a-b7bf-9bd3e30904d2",
   "metadata": {
    "tags": []
   },
   "outputs": [
    {
     "name": "stderr",
     "output_type": "stream",
     "text": [
      "/opt/conda/lib/python3.10/site-packages/pydantic/_internal/_fields.py:198: UserWarning: Field name \"config_type\" in \"SequentialAgent\" shadows an attribute in parent \"BaseAgent\"\n",
      "  warnings.warn(\n"
     ]
    }
   ],
   "source": [
    "import copy, json, os, uuid\n",
    "import vertexai\n",
    "from vertexai import agent_engines\n",
    "\n",
    "from google.genai.types import Part, Content\n",
    "from google.adk.agents.llm_agent import LlmAgent\n",
    "from google.adk.artifacts import InMemoryArtifactService\n",
    "from google.adk.memory.in_memory_memory_service import InMemoryMemoryService\n",
    "from google.adk.sessions import InMemorySessionService\n",
    "from google.adk.runners import Runner\n",
    "\n",
    "from google.adk.agents.callback_context import CallbackContext\n",
    "from google.adk.models import LlmResponse, LlmRequest\n",
    "from google.adk.agents.sequential_agent import SequentialAgent\n",
    "\n",
    "[PROJECT_ID] = !gcloud config list --format 'value(core.project)'\n",
    "[PROJECT_NUMBER] = !gcloud projects describe {PROJECT_ID} --format='value(projectNumber)'\n",
    "LOCATION = 'us-central1'\n",
    "\n",
    "vertexai.init(project=PROJECT_ID, location=LOCATION,\n",
    "              staging_bucket=f'gs://{PROJECT_ID}')\n",
    "\n",
    "os.environ['GOOGLE_CLOUD_PROJECT'] = PROJECT_ID\n",
    "os.environ['GOOGLE_CLOUD_LOCATION'] = LOCATION\n",
    "os.environ['GOOGLE_GENAI_USE_VERTEXAI'] = 'True'"
   ]
  },
  {
   "cell_type": "code",
   "execution_count": 2,
   "id": "df3b1571-ef22-4484-aab3-a72d3b1cc4ca",
   "metadata": {
    "tags": []
   },
   "outputs": [],
   "source": [
    "class LocalApp:\n",
    "    def __init__(self, agent, app_name='default_app', user_id='default_user'):\n",
    "        self._agent = agent\n",
    "        self._app_name = app_name\n",
    "        self._user_id = user_id\n",
    "        self._runner = Runner(\n",
    "            app_name=self._app_name,\n",
    "            agent=self._agent,\n",
    "            artifact_service=InMemoryArtifactService(),\n",
    "            session_service=InMemorySessionService(),\n",
    "            memory_service=InMemoryMemoryService(),\n",
    "        )\n",
    "        self._session = None\n",
    "        \n",
    "    async def stream(self, query):\n",
    "        if not self._session:\n",
    "            self._session = await self._runner.session_service.create_session(\n",
    "                app_name=self._app_name,\n",
    "                user_id=self._user_id,\n",
    "                session_id=uuid.uuid4().hex,\n",
    "            )\n",
    "        content = Content(role='user', parts=[Part(text=query)])\n",
    "        async_events = self._runner.run_async(\n",
    "            user_id=self._user_id,\n",
    "            session_id=self._session.id,\n",
    "            new_message=content,\n",
    "        )\n",
    "        result = []\n",
    "        async for event in async_events:\n",
    "            if DEBUG:\n",
    "                print(f'====\\n{event}\\n====')\n",
    "            if (event.content and event.content.parts):\n",
    "                response = '\\n'.join([p.text for p in event.content.parts if p.text])\n",
    "                if response:\n",
    "                    print(response)\n",
    "                    result.append(response)\n",
    "        return result"
   ]
  },
  {
   "cell_type": "markdown",
   "id": "36eadfa9-fa08-43ff-a829-6637884a5066",
   "metadata": {
    "jp-MarkdownHeadingCollapsed": true,
    "tags": []
   },
   "source": [
    "## リモートエージェントの定義と Agent Engine へのデプロイ"
   ]
  },
  {
   "cell_type": "code",
   "execution_count": 4,
   "id": "d687bf4c-453e-4e4a-9ad7-5e60dd6af688",
   "metadata": {
    "tags": []
   },
   "outputs": [],
   "source": [
    "instruction = '''\n",
    "あなたの役割は、記事の執筆に必要な情報を収集して調査レポートにまとめる事です。\n",
    "指定されたテーマの記事を執筆する際に参考となるトピックを５項目程度のリストにまとめます。\n",
    "後段のエージェントがこのリストに基づいて、調査レポートを作成します。\n",
    "\n",
    "* 出力形式\n",
    "日本語で出力。\n",
    "'''\n",
    "\n",
    "research_agent1 = LlmAgent(\n",
    "    name='research_agent1',\n",
    "    model='gemini-2.5-flash',\n",
    "    description='記事の執筆に必要な情報を収集してレポートにまとめるエージェント（テーマ選定）',\n",
    "    instruction=instruction,\n",
    ")"
   ]
  },
  {
   "cell_type": "code",
   "execution_count": 5,
   "id": "4bc88445-c1c3-46fb-8429-72d1b80a8f43",
   "metadata": {
    "tags": []
   },
   "outputs": [],
   "source": [
    "instruction = '''\n",
    "あなたの役割は、記事の執筆に必要な情報を収集して調査レポートにまとめる事です。\n",
    "前段のエージェントは、５項目程度の調査対象トピックを指定します。\n",
    "\n",
    "* 出力形式\n",
    "日本語で出力。\n",
    "調査レポートは、トピックごとに客観的情報をまとめます。各トピックについて、５文以上の長さで記述すること。\n",
    "'''\n",
    "\n",
    "research_agent2 = LlmAgent(\n",
    "    name='research_agent2',\n",
    "    model='gemini-2.5-flash',\n",
    "    description='記事の執筆に必要な情報を収集してレポートにまとめるエージェント（レポート作成）',\n",
    "    instruction=instruction,\n",
    ")"
   ]
  },
  {
   "cell_type": "code",
   "execution_count": 6,
   "id": "2abbec1a-9e48-4495-b2cb-de3763901fe5",
   "metadata": {
    "tags": []
   },
   "outputs": [],
   "source": [
    "instruction = '''\n",
    "あなたの役割は、特定のテーマに関する気軽な読み物記事を書くことです。\n",
    "記事の「テーマ」と、その内容に関連する「調査レポート」が与えられるので、\n",
    "調査レポートに記載の客観的事実に基づいて、信頼性のある読み物記事を書いてください。\n",
    "\n",
    "レビュアーによる修正ポイントが指摘された際は、直前に書いた記事を指摘に従って書き直してください。\n",
    "\n",
    "**出力条件**\n",
    "- トピックに関してある程度の基礎知識がある読者を前提として、数分で気軽に読める内容にしてください。\n",
    "- 比較的カジュアルで語りかける口調の文章にします。\n",
    "- 思考過程は出力せずに、最終結果だけを出力します。\n",
    "- 記事タイトルは付けないで、次の構成で出力します。各セクションタイトルは、内容に合わせてアレンジしてください。\n",
    "0. 導入：セクションタイトルを付けないで、この記事を読みたくなる導入を１〜２文にまとめます。\n",
    "1. 概要：トピックの全体像をまとめて簡単に説明します。\n",
    "2. 最新情報：特に注目したい新しい情報を取り上げます。\n",
    "3. 実践：トピックに関して、読者自身がやってみるとよさそうな事を１つ紹介します。\n",
    "4. まとめ\n",
    "\n",
    "- 各セクションのタイトルはマークダウンヘッダ ## 付けます。必要に応じて箇条書きのマークダウンを使用します。\n",
    "- それ以外のマークダウンによる装飾は行いません。\n",
    "'''\n",
    "\n",
    "writer_agent = LlmAgent(\n",
    "    name='writer_agent',\n",
    "    model='gemini-2.5-flash',\n",
    "    description='特定のテーマに関する読み物記事を書くエージェント',\n",
    "    instruction=instruction,\n",
    ")"
   ]
  },
  {
   "cell_type": "code",
   "execution_count": 7,
   "id": "61580c9b-6e64-415e-ba67-0e69d34aaaab",
   "metadata": {
    "tags": []
   },
   "outputs": [],
   "source": [
    "instruction = f'''\n",
    "あなたの役割は、読み物記事をレビューして、記事の条件にあった内容にするための改善コメントを与える事です。\n",
    "\n",
    "* 記事の条件\n",
    "- 記事は、はじめに４０文字程度のタイトルがあること。\n",
    "　今日から役立つ生活情報があって「すぐに読まなきゃ」と読者が感じるタイトルにすること。\n",
    "　タイトルはマークダウンヘッダ # をつけること。\n",
    "- タイトルの直後に「なぜいまこのテーマを取り上げるのか」をまとめた導入を加えて、読者にこの記事を読む動機づけを与えます。\n",
    "- 各セクションのサブタイトルには、絵文字を用いて親しみやすさを出すこと。\n",
    "- 読者が今日から実践できる具体例が３つ以上紹介されていること。\n",
    "\n",
    "* 出力形式\n",
    "- 日本語で出力。\n",
    "- はじめに、記事の良い点を説明します。\n",
    "- 次に、修正ポイントを箇条書きで出力します。\n",
    "'''\n",
    "\n",
    "review_agent = LlmAgent(\n",
    "    name='review_agent',\n",
    "    model='gemini-2.5-flash',\n",
    "    description='読み物記事をレビューするエージェント',\n",
    "    instruction=instruction,\n",
    ")"
   ]
  },
  {
   "cell_type": "code",
   "execution_count": null,
   "id": "89656174-6adb-41b1-9506-89256fb71acf",
   "metadata": {
    "tags": []
   },
   "outputs": [],
   "source": [
    "agents = {\n",
    "    'research_agent1': research_agent1,\n",
    "    'research_agent2': research_agent2,\n",
    "    'writer_agent': writer_agent,\n",
    "    'review_agent': review_agent,\n",
    "}\n",
    "\n",
    "deployed_agents = [agent.display_name for agent in agent_engines.list()]\n",
    "\n",
    "for agent_name in agents.keys():\n",
    "    if not agent_name in deployed_agents:\n",
    "        remote_agent = agent_engines.create(\n",
    "            agent_engine=agents[agent_name],\n",
    "            display_name=f'{agent_name}',\n",
    "            requirements=['google-adk==1.11.0'],\n",
    "        )\n",
    "    else:\n",
    "        resource_name = [\n",
    "            agent.name for agent in agent_engines.list()\n",
    "            if agent.display_name == agent_name\n",
    "        ][0]\n",
    "        remote_agent = agent_engines.update(\n",
    "            resource_name=resource_name,\n",
    "            agent_engine=agents[agent_name],\n",
    "            display_name=f'{agent_name}',\n",
    "            requirements=['google-adk==1.11.0'],\n",
    "        )"
   ]
  },
  {
   "cell_type": "code",
   "execution_count": 11,
   "id": "2d7ae003-b457-47dc-b4ee-e840f3e795c1",
   "metadata": {
    "tags": []
   },
   "outputs": [
    {
     "name": "stdout",
     "output_type": "stream",
     "text": [
      "research_agent1: 3354750713832931328\n",
      "research_agent2: 4183413045269102592\n",
      "writer_agent: 180557401466863616\n",
      "review_agent: 4784643595523063808\n"
     ]
    }
   ],
   "source": [
    "agent_list = list(agent_engines.list())\n",
    "for agent_name in agents.keys():\n",
    "    resource_name = [\n",
    "        agent.name for agent in agent_list\n",
    "        if agent.display_name == agent_name\n",
    "    ][0]\n",
    "    print(f'{agent_name}: {resource_name}')"
   ]
  },
  {
   "cell_type": "markdown",
   "id": "20eec756-bfc8-4e70-a7e6-5967603770e2",
   "metadata": {
    "jp-MarkdownHeadingCollapsed": true,
    "tags": []
   },
   "source": [
    "## A2A サーバーのデプロイ"
   ]
  },
  {
   "cell_type": "code",
   "execution_count": 13,
   "id": "d7a7f0ca-4c31-4acd-9fc1-89849df8dd24",
   "metadata": {
    "tags": []
   },
   "outputs": [
    {
     "name": "stdout",
     "output_type": "stream",
     "text": [
      "Create request issued for: [cloud-run-source-deploy]\n",
      "Waiting for operation [projects/etsuji-a2a-agents/locations/us-central1/operati\n",
      "ons/d92efbeb-faa4-4597-9350-ffe7af5eb8d8] to complete...done.                  \n",
      "Created repository [cloud-run-source-deploy].\n"
     ]
    }
   ],
   "source": [
    "REPO_NAME='cloud-run-source-deploy'\n",
    "REPO=f'{LOCATION}-docker.pkg.dev/{PROJECT_ID}/{REPO_NAME}'\n",
    "!gcloud artifacts repositories create {REPO_NAME} \\\n",
    "     --repository-format docker --location {LOCATION}"
   ]
  },
  {
   "cell_type": "code",
   "execution_count": 14,
   "id": "60438eb7-165e-4649-a67c-edf276dd27c9",
   "metadata": {
    "tags": []
   },
   "outputs": [],
   "source": [
    "%%bash\n",
    "cat <<EOF >main.py\n",
    "import os\n",
    "import vertexai\n",
    "from vertexai import agent_engines\n",
    "\n",
    "from a2a.server.agent_execution import AgentExecutor\n",
    "from a2a.server.tasks import TaskUpdater, InMemoryTaskStore\n",
    "from a2a.types import (\n",
    "    Task, TextPart, UnsupportedOperationError,\n",
    "    AgentCapabilities, AgentCard, AgentSkill,\n",
    ")\n",
    "from a2a.utils.errors import ServerError\n",
    "from a2a.server.apps import A2AStarletteApplication\n",
    "from a2a.server.request_handlers import DefaultRequestHandler\n",
    "\n",
    "PROJECT_ID = os.environ['PROJECT_ID']\n",
    "LOCATION = os.environ['REGION']\n",
    "AGENT_ID = os.environ['AGENT_ID']\n",
    "SERVICE_URL = os.environ['SERVICE_URL']\n",
    "\n",
    "vertexai.init(project=PROJECT_ID, location=LOCATION)\n",
    "\n",
    "\n",
    "class AdkAgent:\n",
    "    SUPPORTED_CONTENT_TYPES = ['text', 'text/plain']\n",
    "\n",
    "    def __init__(self, remote_agent):\n",
    "        self._remote_agent = remote_agent\n",
    "\n",
    "    async def stream(self, updater, query):\n",
    "        session = self._remote_agent.create_session(\n",
    "            user_id='default_user'\n",
    "        )\n",
    "        events = self._remote_agent.stream_query(\n",
    "            user_id='default_user',\n",
    "            session_id=session['id'],\n",
    "            message=query,\n",
    "        )\n",
    "        text_parts = []        \n",
    "        for event in events:\n",
    "            if text_parts: # not a last part\n",
    "                updater.new_agent_message(text_parts)\n",
    "            text_parts = []\n",
    "            if 'content' in event and 'parts' in event['content']:\n",
    "                for part in event['content']['parts']:\n",
    "                    if 'text' in part:\n",
    "                        text_parts.append(TextPart(text=part['text']))\n",
    "        # treat last part as an artifact\n",
    "        await updater.add_artifact(text_parts)\n",
    "        remote_agent.delete_session(\n",
    "            user_id='default_user',\n",
    "            session_id=session['id']\n",
    "        )\n",
    "\n",
    "\n",
    "class AdkAgentExecutor(AgentExecutor):\n",
    "    def __init__(self, adk_agent: AdkAgent):\n",
    "        self.adk_agent = adk_agent\n",
    "\n",
    "    async def cancel(self, request, event_queue):\n",
    "        raise ServerError(\n",
    "            error=UnsupportedOperationError('Cancel operation is not supported.')\n",
    "        )\n",
    "        \n",
    "    async def execute(self, context, event_queue):\n",
    "        updater = TaskUpdater(\n",
    "            event_queue,\n",
    "            context.task_id,\n",
    "            context.context_id\n",
    "        )\n",
    "        if not context.current_task:\n",
    "            await updater.submit()\n",
    "        await updater.start_work()\n",
    "\n",
    "        query = context.get_user_input()\n",
    "        await self.adk_agent.stream(updater, query)\n",
    "        await updater.complete()\n",
    "\n",
    "\n",
    "def create_agent_card(\n",
    "    base_url, supported_content_types, agent_name, agent_description):\n",
    "    \n",
    "    capabilities = AgentCapabilities(streaming=True)\n",
    "    skill = AgentSkill(\n",
    "        id=f\"{agent_name.lower().replace(' ', '_')}_skill\",\n",
    "        name=f'{agent_name} Skill',\n",
    "        description=agent_description,\n",
    "        tags=[tag.strip() for tag in agent_name.lower().split()],\n",
    "        examples=[f'Interact with {agent_name}'],\n",
    "    )\n",
    "\n",
    "    return AgentCard(\n",
    "        name=agent_name,\n",
    "        description=agent_description,\n",
    "        url=base_url,\n",
    "        version='1.0.0',\n",
    "        defaultInputModes=supported_content_types,\n",
    "        defaultOutputModes=supported_content_types,\n",
    "        capabilities=capabilities,\n",
    "        skills=[skill],\n",
    "    )\n",
    "\n",
    "\n",
    "remote_agent = agent_engines.get(AGENT_ID)\n",
    "adk_agent = AdkAgent(remote_agent=remote_agent)\n",
    "\n",
    "agent_card = create_agent_card(\n",
    "    base_url=SERVICE_URL,\n",
    "    supported_content_types=AdkAgent.SUPPORTED_CONTENT_TYPES,\n",
    "    agent_name=remote_agent.name,\n",
    "    agent_description=remote_agent.name,\n",
    ")\n",
    "    \n",
    "request_handler = DefaultRequestHandler(\n",
    "    agent_executor=AdkAgentExecutor(adk_agent),\n",
    "    task_store=InMemoryTaskStore(),\n",
    ")\n",
    "\n",
    "server_app_builder = A2AStarletteApplication(\n",
    "    agent_card=agent_card, http_handler=request_handler\n",
    ")\n",
    "\n",
    "app = server_app_builder.build()\n",
    "EOF\n",
    "\n",
    "cat <<EOF >Dockerfile\n",
    "FROM python:3.11-slim\n",
    "WORKDIR /app\n",
    "ENV PYTHONDONTWRITEBYTECODE 1\n",
    "ENV PYTHONUNBUFFERED 1\n",
    "COPY requirements.txt .\n",
    "RUN pip install --no-cache-dir -r requirements.txt\n",
    "COPY . .\n",
    "CMD [\"uvicorn\", \"main:app\", \"--host\", \"0.0.0.0\", \"--port\", \"8080\"]\n",
    "EOF\n",
    "\n",
    "cat <<EOF >requirements.txt\n",
    "uvicorn\n",
    "starlette\n",
    "google-adk==1.11.0\n",
    "google-cloud-aiplatform==1.108.0\n",
    "a2a-sdk==0.3.1\n",
    "EOF"
   ]
  },
  {
   "cell_type": "code",
   "execution_count": null,
   "id": "df014303-1544-44a2-ab4b-8ccd1a30b42f",
   "metadata": {
    "tags": []
   },
   "outputs": [],
   "source": [
    "agents = [\n",
    "    'research_agent1',\n",
    "    'research_agent2',\n",
    "    'writer_agent',\n",
    "    'review_agent',\n",
    "]\n",
    "\n",
    "deployed_agents = {\n",
    "    agent.display_name: agent.name for agent in agent_engines.list()\n",
    "}\n",
    "\n",
    "for agent_name in agents:\n",
    "    AGENT_ID = deployed_agents[agent_name]\n",
    "    print(f'## {agent_name}: {AGENT_ID}')\n",
    "\n",
    "    SERVICE_NAME=f'a2a-server-{agent_name}'.replace('_', '-')\n",
    "    SERVICE_URL=f'https://{SERVICE_NAME}-{PROJECT_NUMBER}.{LOCATION}.run.app'\n",
    "\n",
    "    !mkdir -p {agent_name}\n",
    "    !cp main.py requirements.txt Dockerfile {agent_name}/\n",
    "    !cd {agent_name} && gcloud builds submit --tag {REPO}/{SERVICE_NAME}\n",
    "    !gcloud run deploy {SERVICE_NAME} \\\n",
    "       --image {REPO}/{SERVICE_NAME} \\\n",
    "       --platform managed \\\n",
    "       --region {LOCATION} \\\n",
    "       --no-allow-unauthenticated \\\n",
    "       --update-env-vars \"\\\n",
    "PROJECT_ID={PROJECT_ID},REGION={LOCATION},AGENT_ID={AGENT_ID},\\\n",
    "SERVICE_URL={SERVICE_URL}\" 2>&1 | cat"
   ]
  },
  {
   "cell_type": "markdown",
   "id": "24004153-5bba-45af-a326-89ffb8a870aa",
   "metadata": {
    "jp-MarkdownHeadingCollapsed": true,
    "tags": []
   },
   "source": [
    "## プロキシーエージェントの作成"
   ]
  },
  {
   "cell_type": "code",
   "execution_count": 61,
   "id": "f06bf102-4a77-420a-b887-e1d8270799d4",
   "metadata": {
    "tags": []
   },
   "outputs": [],
   "source": [
    "import httpx\n",
    "from a2a.client import A2ACardResolver, A2AClient\n",
    "from a2a.types import MessageSendParams, SendStreamingMessageRequest\n",
    "import google.auth.transport.requests\n",
    "import google.oauth2.id_token \n",
    "\n",
    "\n",
    "async def a2a_remote_call(query, a2a_server_url):\n",
    "    auth_req = google.auth.transport.requests.Request()\n",
    "    id_token = google.oauth2.id_token.fetch_id_token(auth_req, a2a_server_url)\n",
    "    headers = {\n",
    "        'Authorization': f'Bearer {id_token}',\n",
    "        'Content-Type': 'application/json'\n",
    "    }\n",
    "    payload = {\n",
    "        'message': {\n",
    "            'role': 'user',\n",
    "            'parts': [{'kind': 'text', 'text': query}],\n",
    "            'messageId': uuid.uuid4().hex,\n",
    "        },\n",
    "    }\n",
    "    request = SendStreamingMessageRequest(\n",
    "        id=uuid.uuid4().hex,\n",
    "        params=MessageSendParams(**payload),\n",
    "    )\n",
    "\n",
    "    async with httpx.AsyncClient(headers=headers, timeout=100) as httpx_client:\n",
    "        agent_card = await A2ACardResolver(\n",
    "            base_url=a2a_server_url, httpx_client=httpx_client\n",
    "        ).get_agent_card()\n",
    "        #card = await card_resolver.get_agent_card()\n",
    "        client = A2AClient(httpx_client, agent_card, url=a2a_server_url)\n",
    "        stream_response = client.send_message_streaming(request)\n",
    "        result = []\n",
    "        async for chunk in stream_response:\n",
    "            chunk = json.loads(chunk.root.model_dump_json(exclude_none=True))\n",
    "            if chunk['result']['kind'] == 'artifact-update':\n",
    "                text_messages = []\n",
    "                for part in chunk['result']['artifact']['parts']:\n",
    "                    if 'text' in part:\n",
    "                        text_messages.append(part['text'])\n",
    "                result.append(Part(text='\\n'.join(text_messages)))\n",
    "    \n",
    "    return result\n",
    "\n",
    "\n",
    "def get_call_a2a_agent(agent_name):\n",
    "    service_name=f'a2a-server-{agent_name}'.replace('_', '-')\n",
    "    a2a_server_url=f'https://{service_name}-{PROJECT_NUMBER}.{LOCATION}.run.app'\n",
    "\n",
    "    async def call_a2a_agent(\n",
    "        callback_context: CallbackContext, llm_request: LlmRequest\n",
    "    ) -> Content:\n",
    "        contents = [content.model_dump() for content in llm_request.contents]\n",
    "        parts = await a2a_remote_call(json.dumps(contents), a2a_server_url)\n",
    "        return LlmResponse(\n",
    "            content=Content(role='model', parts=parts) \n",
    "        )\n",
    "    return call_a2a_agent"
   ]
  },
  {
   "cell_type": "code",
   "execution_count": 62,
   "id": "1913eaa5-1244-43a6-aa6c-f0ac02621c32",
   "metadata": {
    "tags": []
   },
   "outputs": [],
   "source": [
    "research_agent1 = LlmAgent(\n",
    "    name='research_agent1',\n",
    "    model='gemini-2.5-flash', # not used\n",
    "    description='記事の執筆に必要な情報を収集してレポートにまとめるエージェント（テーマ選定）',\n",
    "    before_model_callback=get_call_a2a_agent('research_agent1'),\n",
    ")\n",
    "\n",
    "research_agent2 = LlmAgent(\n",
    "    name='research_agent2',\n",
    "    model='gemini-2.5-flash',\n",
    "    description='記事の執筆に必要な情報を収集してレポートにまとめるエージェント（レポート作成）',\n",
    "    before_model_callback=get_call_a2a_agent('research_agent2'),\n",
    ")\n",
    "\n",
    "writer_agent = LlmAgent(\n",
    "    name='writer_agent',\n",
    "    model='gemini-2.5-flash',\n",
    "    description='特定のテーマに関する読み物記事を書くエージェント',\n",
    "    before_model_callback=get_call_a2a_agent('writer_agent'),\n",
    ")\n",
    "\n",
    "review_agent = LlmAgent(\n",
    "    name='review_agent',\n",
    "    model='gemini-2.5-flash',\n",
    "    description='読み物記事をレビューするエージェント',\n",
    "    before_model_callback=get_call_a2a_agent('review_agent'),\n",
    ")"
   ]
  },
  {
   "cell_type": "markdown",
   "id": "46952105-bdde-4801-bfdf-11be28b2d80e",
   "metadata": {
    "jp-MarkdownHeadingCollapsed": true,
    "tags": []
   },
   "source": [
    "## 業務フローエージェントの定義"
   ]
  },
  {
   "cell_type": "code",
   "execution_count": 63,
   "id": "ae6aec43-0138-4bfa-a1bd-1a38b02c60c9",
   "metadata": {
    "tags": []
   },
   "outputs": [],
   "source": [
    "def get_print_agent(text):\n",
    "    def before_model_callback(\n",
    "        callback_context: CallbackContext, llm_request: LlmRequest\n",
    "    ) -> LlmResponse:\n",
    "        return LlmResponse(\n",
    "            content=Content(\n",
    "                role='model', parts=[Part(text=text)],\n",
    "            )\n",
    "        )\n",
    "    return LlmAgent(\n",
    "        name='print_agent',\n",
    "        model='gemini-2.0-flash', # not used\n",
    "        description='',\n",
    "        instruction = '',\n",
    "        before_model_callback=before_model_callback,\n",
    "    )\n",
    "\n",
    "research_agent = SequentialAgent(\n",
    "    name='research_agent',\n",
    "    sub_agents=[\n",
    "        get_print_agent('\\n---\\n## リサーチエージェントが調査レポートを作成します。\\n---\\n'),\n",
    "        get_print_agent('\\n## 調査対象のトピックを選定します。\\n'),\n",
    "        copy.deepcopy(research_agent1),\n",
    "        get_print_agent('\\n## 選定したトピックに基づいて、調査レポートを作成します。\\n'),\n",
    "        copy.deepcopy(research_agent2),\n",
    "        get_print_agent('\\n#### 調査レポートが準備できました。記事の作成に取り掛かってもよいでしょうか？\\n'),\n",
    "    ],\n",
    "    description='記事の執筆に必要な情報を収集してレポートにまとめるエージェント',\n",
    ")\n",
    "\n",
    "write_and_review_agent = SequentialAgent(\n",
    "    name='write_and_review_agent',\n",
    "    sub_agents=[\n",
    "        get_print_agent('\\n---\\n## ライターエージェントが記事を執筆します。\\n---\\n'),\n",
    "        copy.deepcopy(writer_agent),\n",
    "        get_print_agent('\\n---\\n## レビューエージェントが記事をレビューします。\\n---\\n'),\n",
    "        copy.deepcopy(review_agent),\n",
    "       get_print_agent('\\n#### レビューに基づいて記事の修正を依頼しますか？\\n'),\n",
    "    ],\n",
    "    description='記事を作成、レビューする。',\n",
    ")\n",
    "\n",
    "root_agent = LlmAgent(\n",
    "    name='article_generation_flow',\n",
    "    model='gemini-2.0-flash',\n",
    "    instruction = '''\n",
    "何ができるか聞かれた場合は、以下の処理をすることをわかりやすくフレンドリーな文章にまとめて返答してください。\n",
    "\n",
    "- ユーザーが指定したテーマの記事を作成する業務フローを実行する。\n",
    "- はじめに、テーマに関する調査レポートを作成する。\n",
    "- その後、ライターエージェントとレビューエージェントが協力して、編集方針に則した記事を作成する。\n",
    "\n",
    "ユーザーが記事のテーマを指定した場合は、次のフローを実行します。\n",
    "\n",
    "1. そのテーマの記事の作成に取り掛かる旨を伝えて、research_agent に転送して、調査レポートを依頼します。\n",
    "2. ユーザー記事の作成を支持したら、write_and_review_agent に転送して、記事の作成とレビューを依頼します。\n",
    "3. ユーザーが記事の修正を希望する場合は、write_and_review_agent に転送します。\n",
    "\n",
    "**条件**\n",
    "research_agent のニックネームは、リサーチエージェント\n",
    "write_and_review_agent のネックネームは、ライターエージェントとレビューエージェント\n",
    "\n",
    "''',\n",
    "    sub_agents=[\n",
    "        copy.deepcopy(research_agent),\n",
    "        copy.deepcopy(write_and_review_agent),\n",
    "    ],\n",
    "    description='記事を作成する業務フローを実行するエージェント'\n",
    ")"
   ]
  },
  {
   "cell_type": "markdown",
   "id": "2fe9eee4-34b6-44ca-ad63-7fe2cfe2bf2b",
   "metadata": {
    "jp-MarkdownHeadingCollapsed": true,
    "tags": []
   },
   "source": [
    "## 実行例"
   ]
  },
  {
   "cell_type": "code",
   "execution_count": 64,
   "id": "ec4fdef7-f1d8-4c5c-8c81-83733d026622",
   "metadata": {
    "tags": []
   },
   "outputs": [
    {
     "name": "stdout",
     "output_type": "stream",
     "text": [
      "こんにちは！私は、あなたが指定したテーマに関する記事を作成するお手伝いをします。\n",
      "\n",
      "具体的には、まずリサーチエージェントがテーマに関する調査レポートを作成します。その後、ライターエージェントとレビューエージェントが協力して、編集方針に沿った記事を作成します。\n",
      "\n",
      "記事のテーマを指定していただければ、すぐに作成に取り掛かります。ご希望のテーマがあれば教えてください！\n",
      "\n"
     ]
    }
   ],
   "source": [
    "client = LocalApp(root_agent)\n",
    "DEBUG = False\n",
    "\n",
    "query = '''\n",
    "こんにちは。何ができますか？\n",
    "'''\n",
    "result = await client.stream(query)"
   ]
  },
  {
   "cell_type": "code",
   "execution_count": 65,
   "id": "9328b3fb-2f42-455c-a216-e88051b4cf9c",
   "metadata": {
    "tags": []
   },
   "outputs": [
    {
     "name": "stderr",
     "output_type": "stream",
     "text": [
      "Warning: there are non-text parts in the response: ['function_call'], returning concatenated text result from text parts. Check the full candidates.content.parts accessor to get the full model response.\n",
      "/var/tmp/ipykernel_21611/3628848799.py:32: DeprecationWarning: A2AClient is deprecated and will be removed in a future version. Use ClientFactory to create a client with a JSON-RPC transport.\n",
      "  client = A2AClient(httpx_client, agent_card, url=a2a_server_url)\n"
     ]
    },
    {
     "name": "stdout",
     "output_type": "stream",
     "text": [
      "かしこまりました。「夏の節電対策」をテーマにした記事の作成ですね。\n",
      "\n",
      "まず、リサーチエージェントに調査レポートを依頼します。\n",
      "\n",
      "\n",
      "---\n",
      "## リサーチエージェントが調査レポートを作成します。\n",
      "---\n",
      "\n",
      "\n",
      "## 調査対象のトピックを選定します。\n",
      "\n",
      "「夏の節電対策」に関する記事作成のための調査レポートトピック案を以下にまとめました。\n",
      "\n",
      "---\n",
      "## 調査レポート：夏の節電対策\n",
      "\n",
      "### 記事作成のためのトピックリスト\n",
      "\n",
      "1.  **エアコンを賢く使う節電術**\n",
      "    *   適切な設定温度と湿度の目安\n",
      "    *   扇風機やサーキュレーターとの併用効果\n",
      "    *   自動運転モードやタイマー機能の活用\n",
      "    *   フィルター清掃や室外機の管理\n",
      "2.  **その他の家電製品における節電ポイント**\n",
      "    *   冷蔵庫：設置場所、開閉回数、詰め込み過ぎの防止\n",
      "    *   照明：LEDへの切り替え、不要な消灯\n",
      "    *   テレビ・PC：省エネモード、画面の明るさ調整、こまめな電源オフ\n",
      "    *   温水洗浄便座、炊飯器、ポットなど待機電力の削減\n",
      "3.  **住まいの構造と環境を活かした節電対策**\n",
      "    *   窓の遮熱・断熱対策：遮光カーテン、ブラインド、すだれ、グリーンカーテンの活用\n",
      "    *   日中の換気と夜間の外気利用\n",
      "    *   屋根や壁の断熱・遮熱効果\n",
      "4.  **電力プランの見直しとスマート技術の活用**\n",
      "    *   時間帯別料金プランの活用（ピークシフト）\n",
      "    *   スマートメーターやHEMS（家庭用エネルギー管理システム）による電力の見える化と制御\n",
      "    *   スマート家電連携による自動節電\n",
      "5.  **健康と快適さを両立させる無理のない節電方法**\n",
      "    *   熱中症予防を考慮した節電の進め方\n",
      "    *   クールビズや涼しい服装の工夫\n",
      "    *   体を冷やすアイテム（冷感グッズ、保冷剤など）の利用\n",
      "    *   入浴や食事による体温調整\n",
      "\n",
      "---\n",
      "\n",
      "## 選定したトピックに基づいて、調査レポートを作成します。\n",
      "\n",
      "はい、承知いたしました。\n",
      "「夏の節電対策」に関する調査レポートを作成します。\n",
      "\n",
      "---\n",
      "\n",
      "## 調査レポート：夏の節電対策\n",
      "\n",
      "### 1. エアコンを賢く使う節電術\n",
      "\n",
      "エアコンの適切な使用は、夏の節電対策において最も効果的な方法の一つです。環境省では、室温28℃を目安にエアコンを設定することを推奨しており、冷やしすぎを防ぐことが重要です。扇風機やサーキュレーターを併用することで、冷たい空気を室内に循環させ、設定温度を上げても涼しさを保つことができます。これにより、エアコン単体での使用に比べて、消費電力を大幅に削減することが可能です。また、自動運転モードやタイマー機能を活用することで、無駄な運転を避け、効率的な冷房運転を実現できます。定期的なフィルター清掃は、エアコンの効率を維持するために不可欠であり、フィルターが目詰まりしていると余計な電力を消費してしまいます。さらに、室外機の周囲に物を置かず、風通しを良くすることも、冷却効率を向上させる上で有効な手段です。\n",
      "\n",
      "### 2. その他の家電製品における節電ポイント\n",
      "\n",
      "エアコン以外の家電製品も、日々の使い方を見直すことで節電に貢献できます。冷蔵庫は、設置場所を壁から離して放熱スペースを確保し、扉の開閉回数を減らすことが節電につながります。庫内に食品を詰め込みすぎると冷気の循環が悪くなり、余計な電力を消費するため、7割程度を目安に収納することが望ましいです。照明器具については、白熱電球からLED照明への切り替えは消費電力を大幅に削減し、長寿命であるため経済的です。不必要な照明はこまめに消し、日中の明るい時間帯は自然光を最大限に活用しましょう。テレビやパソコンは、省エネモードの活用や画面の明るさ調整が有効であり、使用しない時は主電源から切ることで待機電力の削減が図れます。温水洗浄便座や炊飯器、電気ポットなど、待機電力が大きい家電製品は、使用時以外はコンセントから抜く、あるいは節電モードを活用することで、見えない電力消費を抑えることができます。\n",
      "\n",
      "### 3. 住まいの構造と環境を活かした節電対策\n",
      "\n",
      "住まいの構造や周囲の環境を活用することも、根本的な節電に繋がります。窓からの日差しは室温上昇の大きな原因となるため、遮光カーテンやブラインド、すだれなどを活用して日差しを遮ることが効果的です。特に、夏は日差しが強い午前中に窓からの熱流入が大きいため、朝のうちに閉めておくのが良いでしょう。日中の換気は、室内にこもった熱気を排出し、新鮮な空気を取り入れるために重要ですが、気温が上昇する時間帯は避け、比較的涼しい朝夕に行うのが理想的です。夜間は外気温が下がるため、窓を開けて外気を取り入れることで、室内の熱を逃がし、エアコンの使用を控えることができます。また、屋根や壁の断熱性能を高めるリフォームは初期投資が必要ですが、長期的に見て大幅な省エネ効果が期待できます。庭に木を植えたり、壁面緑化を行うグリーンカーテンも、日差しを和らげ、周囲の温度上昇を抑制する効果があります。\n",
      "\n",
      "### 4. 電力プランの見直しとスマート技術の活用\n",
      "\n",
      "電力会社の料金プランを見直すことは、電気代そのものを削減する直接的な節電対策となります。多くの電力会社では、時間帯によって料金が変動するプランを提供しており、電気料金が割安になる夜間に洗濯機や食洗機などの家電を使用する「ピークシフト」は有効な手段です。スマートメーターの導入により、リアルタイムでの電力使用量を把握できるため、自身の消費行動を可視化し、節電意識を高めることができます。HEMS（家庭用エネルギー管理システム）を導入することで、家全体の電力使用状況を一元的に管理し、家電製品の運転を最適化して自動で節電することも可能です。また、スマート家電はインターネットに接続し、スマートフォンなどから遠隔操作できるため、消し忘れの防止や、帰宅前にエアコンを稼働させるなど、快適性と節電を両立させることができます。これらの技術を活用することで、効率的かつ無理なく家庭のエネルギー消費を最適化することが期待されます。\n",
      "\n",
      "### 5. 健康と快適さを両立させる無理のない節電方法\n",
      "\n",
      "節電は重要ですが、熱中症のリスクを高めるような無理な節電は避けるべきです。暑い夏に無理をしてエアコンを我慢することは、健康を損なう原因となるため、健康と快適さを最優先に考える必要があります。クールビズを実践し、涼しい服装を心がけることで、体感温度を下げる効果があります。これにより、エアコンの設定温度を上げやすくなり、節電につながります。また、冷却グッズ（冷感タオル、保冷剤、冷却スプレーなど）を上手に活用することで、一時的に体を冷やし、暑さによる不快感を軽減することができます。入浴はシャワーで済ませるだけでなく、ぬるめの湯船に浸かることで体温を適切に調整し、就寝前のクールダウンにも繋がります。食事においては、体を冷やす効果のある夏野菜や水分を多く含む食品を積極的に摂ることで、体の内側から涼しさを感じることができ、水分補給をこまめに行うことは熱中症予防の基本となります。無理のない範囲で快適に過ごせる節電方法を取り入れることが、持続可能な夏の過ごし方と言えるでしょう。\n",
      "\n",
      "---\n",
      "\n",
      "#### 調査レポートが準備できました。記事の作成に取り掛かってもよいでしょうか？\n",
      "\n"
     ]
    }
   ],
   "source": [
    "query = '''\n",
    "「夏の節電対策」をテーマに記事を作成してください。\n",
    "'''\n",
    "result = await client.stream(query)"
   ]
  },
  {
   "cell_type": "code",
   "execution_count": 66,
   "id": "502b059f-1af8-479b-9a91-8d31e8b3ad4a",
   "metadata": {
    "tags": []
   },
   "outputs": [
    {
     "name": "stderr",
     "output_type": "stream",
     "text": [
      "Warning: there are non-text parts in the response: ['function_call'], returning concatenated text result from text parts. Check the full candidates.content.parts accessor to get the full model response.\n"
     ]
    },
    {
     "name": "stdout",
     "output_type": "stream",
     "text": [
      "記事の作成を指示します。\n",
      "\n",
      "\n",
      "---\n",
      "## ライターエージェントが記事を執筆します。\n",
      "---\n",
      "\n"
     ]
    },
    {
     "name": "stderr",
     "output_type": "stream",
     "text": [
      "/var/tmp/ipykernel_21611/3628848799.py:32: DeprecationWarning: A2AClient is deprecated and will be removed in a future version. Use ClientFactory to create a client with a JSON-RPC transport.\n",
      "  client = A2AClient(httpx_client, agent_card, url=a2a_server_url)\n"
     ]
    },
    {
     "name": "stdout",
     "output_type": "stream",
     "text": [
      "暑い夏がやってきましたね！電気代が気になるけど、快適に過ごしたい…そんなあなたに、無理なくできる夏の節電対策をご紹介します。\n",
      "\n",
      "## 夏の節電ってどんなこと？\n",
      "\n",
      "夏の節電は、ただガマンするだけじゃありません。エアコンなどの家電を賢く使うのはもちろん、住まいの環境を工夫したり、最新のテクノロジーを活用したりと、様々なアプローチがあります。大切なのは、健康や快適さを犠牲にせず、効率的に電気を使うこと。室温や湿度を適切に保ちつつ、無駄な電力消費を抑えることで、家計にも地球にも優しい夏を過ごすことができますよ。\n",
      "\n",
      "## 最新の節電トレンドを見てみよう！\n",
      "\n",
      "最近特に注目されているのが、電力プランの見直しとスマート技術の活用です。\n",
      "*   多くの電力会社が提供している「時間帯別料金プラン」を利用して、電気代が割安になる夜間に洗濯機や食洗機を使う「ピークシフト」は、賢い節電術として広まっています。\n",
      "*   スマートメーターやHEMS（家庭用エネルギー管理システム）を導入すれば、リアルタイムで電力使用量を「見える化」し、自分の消費行動を把握できます。これにより、より意識的に節電に取り組んだり、HEMSが自動で家電の運転を最適化してくれたりもします。\n",
      "*   スマート家電とインターネットを連携させれば、スマートフォンから外出先でエアコンの電源を切ったり、帰宅前に部屋を冷やしておいたりと、快適さと節電を両立させることが可能になっています。\n",
      "\n",
      "## 今日からできる！実践してみよう！\n",
      "\n",
      "今日からでもすぐに試せる実践的な節電対策として、ぜひ「エアコンと扇風機（またはサーキュレーター）の合わせ技」を試してみませんか？\n",
      "\n",
      "環境省も推奨しているように、エアコンの設定温度は28℃を目安にしましょう。これに加えて、扇風機やサーキュレーターを使って室内の空気を循環させると、冷たい空気が部屋全体に行き渡りやすくなり、体感温度が下がります。エアコン単独で設定温度を下げ続けるよりも、ぐっと電気代を抑えながら涼しさをキープできますよ！エアコンのフィルター掃除をこまめに行うことも、効率を保つ上で非常に重要です。\n",
      "\n",
      "## まとめ\n",
      "\n",
      "夏の節電は、家計に優しいだけでなく、地球温暖化対策にも貢献できる持続可能なライフスタイルに繋がります。無理なく、賢く、そして快適に夏を乗り切るために、今回ご紹介した方法の中から、ぜひご自身に合った節電対策を見つけて実践してみてくださいね。\n",
      "\n",
      "---\n",
      "## レビューエージェントが記事をレビューします。\n",
      "---\n",
      "\n",
      "記事を拝見しました。夏の節電というテーマで、読者が知りたい具体的な情報が盛り込まれており、大変興味深い内容です。\n",
      "\n",
      "### 記事の良い点\n",
      "\n",
      "*   **具体的な節電方法の紹介:** エアコンと扇風機の組み合わせ、ピークシフト、スマートホーム連携など、多岐にわたる節電方法が具体的に解説されており、読者が実践しやすい内容です。\n",
      "*   **最新トレンドへの言及:** スマートメーターやHEMSといった最新技術にも触れられており、情報としての鮮度が高いです。\n",
      "*   **読者の悩みに寄り添う姿勢:** 電気代の節約だけでなく、「快適に過ごす」という視点も重視されており、読者が無理なく節電に取り組めるような配慮が感じられます。\n",
      "\n",
      "### 修正ポイント\n",
      "\n",
      "以下の点を修正することで、記事の条件に沿った、より魅力的な記事になります。\n",
      "\n",
      "*   **タイトル（マークダウンヘッダと文字数）:**\n",
      "    *   現在、記事の先頭に記載されている「暑い夏がやってきましたね！電気代が気になるけど、快適に過ごしたい…そんなあなたに、無理なくできる夏の節電対策をご紹介します。」は、タイトルとしては長すぎます（58文字）。条件にある「はじめに４０文字程度のタイトルがあること」を満たしていません。\n",
      "    *   また、タイトルにはマークダウンヘッダ `#` が付いていません。\n",
      "    *   例: `# 【電気代急上昇】夏を快適に乗り切る！今日からできる神節電術5選` (39文字)\n",
      "*   **導入の独立性:**\n",
      "    *   現在の記事では、タイトル部分が導入の役割も兼ねているように見受けられます。タイトルの直後に、「なぜいまこのテーマを取り上げるのか」をまとめた独立した導入文を加えてください。これにより、読者は記事を読む動機付けをより明確に感じることができます。\n",
      "    *   例: 「近年、電気代の高騰が家計を圧迫し、夏の快適な生活にも影響を与えています。しかし、無理なく賢く節電する方法を知っていれば、厳しい夏も快適に乗り越えられます。この記事では、今日から実践できる効果的な節電術を具体的にご紹介します。」\n",
      "*   **サブタイトルへの絵文字の追加:**\n",
      "    *   各セクションのサブタイトルに絵文字が使用されていません。親しみやすさを出すために、絵文字を加えてください。\n",
      "    *   例:\n",
      "        *   `## 夏の節電ってどんなこと？` → `## 夏の節電ってどんなこと？💡`\n",
      "        *   `## 最新の節電トレンドを見てみよう！` → `## 最新の節電トレンドを見てみよう！📈`\n",
      "        *   `## 今日からできる！実践してみよう！` → `## 今日からできる！実践してみよう！✨`\n",
      "*   **実践例の整理:**\n",
      "    *   「今日からできる！実践してみよう！」のセクションで、実践例が1つ（エアコンと扇風機の組み合わせ）のみに絞られているように見えます。条件では「読者が今日から実践できる具体例が３つ以上紹介されていること」とありますので、このセクションで、前述の「最新の節電トレンド」で紹介されている内容も含め、具体的な実践例を3つ以上明確に提示してください。読者がすぐに取り組めるよう、箇条書きなどで分かりやすく示すと良いでしょう。\n",
      "\n",
      "#### レビューに基づいて記事の修正を依頼しますか？\n",
      "\n"
     ]
    }
   ],
   "source": [
    "query = '''\n",
    "はい。お願いします。\n",
    "'''\n",
    "result = await client.stream(query)"
   ]
  },
  {
   "cell_type": "code",
   "execution_count": 67,
   "id": "6e5a4754-a30f-4e06-8743-a67e72807ad2",
   "metadata": {
    "tags": []
   },
   "outputs": [
    {
     "name": "stderr",
     "output_type": "stream",
     "text": [
      "Warning: there are non-text parts in the response: ['function_call'], returning concatenated text result from text parts. Check the full candidates.content.parts accessor to get the full model response.\n",
      "/var/tmp/ipykernel_21611/3628848799.py:32: DeprecationWarning: A2AClient is deprecated and will be removed in a future version. Use ClientFactory to create a client with a JSON-RPC transport.\n",
      "  client = A2AClient(httpx_client, agent_card, url=a2a_server_url)\n"
     ]
    },
    {
     "name": "stdout",
     "output_type": "stream",
     "text": [
      "ライターエージェントとレビューエージェントに記事の修正を依頼します。\n",
      "\n",
      "\n",
      "---\n",
      "## ライターエージェントが記事を執筆します。\n",
      "---\n",
      "\n",
      "暑い夏がやってきましたね！電気代が気になるけれど、快適に過ごしたい…そんなあなたに、無理なくできる夏の節電対策をご紹介します。\n",
      "\n",
      "## 夏の節電ってどんなこと？💡\n",
      "\n",
      "夏の節電は、ただ暑さを我慢するだけではありません。エアコンなどの家電を賢く使う工夫はもちろん、住まいの環境を整えたり、最新のテクノロジーを活用したりと、様々なアプローチがあります。大切なのは、健康や快適さを犠牲にせず、効率的に電気を使うこと。室温や湿度を適切に保ちながら、無駄な電力消費を抑えることで、家計にも地球にも優しい夏を過ごすことができるんです。\n",
      "\n",
      "## 最新の節電トレンドを見てみよう！📈\n",
      "\n",
      "最近特に注目されているのが、電力プランの見直しとスマート技術の活用です。\n",
      "\n",
      "*   **時間帯別料金プランの活用（ピークシフト）**\n",
      "    多くの電力会社が提供している「時間帯別料金プラン」を利用して、電気代が割安になる夜間に洗濯機や食洗機を使う「ピークシフト」が賢い節電術として広まっています。\n",
      "*   **「見える化」と「自動化」で意識改革！**\n",
      "    スマートメーターの導入で、リアルタイムで電力使用量を確認できるようになり、自分の消費行動を「見える化」できます。さらにHEMS（家庭用エネルギー管理システム）を導入すれば、家全体の電力使用状況を一元的に管理し、家電の運転を最適化して自動で節電することも可能になります。\n",
      "*   **スマホ連携で快適＆節電**\n",
      "    スマート家電とインターネットを連携させれば、外出先からエアコンの電源を切ったり、帰宅前に部屋を涼しくしておいたりと、快適さと節電を両立できるようになります。消し忘れ防止にも役立ちますね。\n",
      "\n",
      "## 今日からできる！実践してみよう！✨\n",
      "\n",
      "さあ、今日からすぐに試せる具体的な節電術をいくつかご紹介します！\n",
      "\n",
      "*   **エアコンと扇風機（またはサーキュレーター）の合わせ技**\n",
      "    環境省も推奨しているように、エアコンの設定温度は28℃を目安にしましょう。これに加えて、扇風機やサーキュレーターを使って室内の空気を循環させると、冷たい空気が部屋全体に行き渡り、体感温度が下がります。エアコン単独で設定温度を下げ続けるよりも、ぐっと電気代を抑えながら涼しく過ごせますよ！エアコンのフィルター掃除をこまめに行うことも、効率を保つ上で非常に重要です。\n",
      "*   **冷蔵庫の使い方を見直そう**\n",
      "    冷蔵庫は壁から少し離して設置し、放熱スペースを確保しましょう。また、扉の開閉回数を減らし、食品を詰め込みすぎないことがポイント。庫内がスカスカだと冷気が逃げやすく、逆にぎゅうぎゅうだと冷気の循環が悪くなります。庫内は7割程度を目安に収納すると、効率よく冷やせます。\n",
      "*   **使わない家電はコンセントから抜こう**\n",
      "    テレビやパソコン、温水洗浄便座、炊飯器、電気ポットなど、多くの家電製品は、使っていない間も「待機電力」を消費しています。使わない時はコンセントから抜く、または節電タップを活用することで、見えない電気の消費を抑えられます。\n",
      "\n",
      "## まとめ\n",
      "\n",
      "夏の節電は、家計に優しいだけでなく、地球温暖化対策にも貢献できる持続可能なライフスタイルへとつながります。無理なく、賢く、そして快適に夏を乗り切るために、今回ご紹介した方法の中から、ぜひご自身に合った節電対策を見つけて実践してみてくださいね。\n",
      "\n",
      "---\n",
      "## レビューエージェントが記事をレビューします。\n",
      "---\n",
      "\n",
      "記事を拝見しました。夏の節電というテーマで、読者が知りたい具体的な情報が網羅されており、大変興味深い内容です。\n",
      "\n",
      "### 記事の良い点\n",
      "\n",
      "*   **具体的な節電方法の紹介:** エアコンと扇風機の組み合わせ、冷蔵庫の使い方、待機電力の削減など、多岐にわたる実践的な節電方法が具体的に解説されており、読者がすぐに試せる点が素晴らしいです。\n",
      "*   **最新トレンドへの言及:** スマートメーターやHEMS、スマート家電連携といった最新の節電技術にも触れられており、情報としての鮮度が高いです。\n",
      "*   **読者への配慮:** 電気代節約だけでなく、「健康や快適さを犠牲にしない」という視点が盛り込まれており、無理なく節電に取り組めるよう配慮されています。読者の悩みやニーズに寄り添う姿勢が感じられます。\n",
      "\n",
      "### 修正ポイント\n",
      "\n",
      "以下の点を修正することで、記事の条件に沿った、より魅力的で分かりやすい記事になります。\n",
      "\n",
      "*   **タイトル（マークダウンヘッダと文字数）:**\n",
      "    *   現在の導入部分がタイトルとして機能していますが、記事の条件にある「はじめに４０文字程度のタイトルがあること」を満たしていません（58文字）。\n",
      "    *   タイトルにはマークダウンヘッダ `#` をつける必要があります。\n",
      "    *   例: `# 【電気代高騰】夏を快適に乗り切る！今日からできる神節電術5選` （37文字）\n",
      "\n",
      "*   **導入の独立性:**\n",
      "    *   タイトルの直後に「なぜいまこのテーマを取り上げるのか」をまとめた独立した導入を加えてください。現状はタイトルと導入が一体化しているように見えます。\n",
      "    *   読者にこの記事を読む明確な動機づけを与えるため、「なぜ今、節電が重要なのか（電気代高騰、環境問題など）」を明記し、この記事を読むことで得られるメリット（快適さ、家計への貢献など）を強調しましょう。\n",
      "\n",
      "*   **サブタイトルへの絵文字追加:**\n",
      "    *   「まとめ」セクションのサブタイトルには絵文字が使用されていません。絵文字を追加して、記事全体で親しみやすいトーンを統一しましょう。\n",
      "    *   例: `## まとめ` → `## まとめ💡` または `## まとめ📝`\n",
      "\n",
      "*   **実践例の整理（読者の行動喚起）:**\n",
      "    *   「今日からできる！実践してみよう！」のセクションで、読者が「今日から実践できる」具体例を3つ以上、箇条書きなどで分かりやすく提示しましょう。現状は3つの具体例が提示されていますが、各項目にキャッチーな小見出しをつけるなどして、読者がより行動しやすくなるように工夫すると良いでしょう。\n",
      "\n",
      "これらの修正を加えることで、より読者の心に響き、役立つ記事になるはずです。\n",
      "\n",
      "#### レビューに基づいて記事の修正を依頼しますか？\n",
      "\n"
     ]
    }
   ],
   "source": [
    "query = '''\n",
    "はい。お願いします。\n",
    "'''\n",
    "result = await client.stream(query)"
   ]
  },
  {
   "cell_type": "code",
   "execution_count": 68,
   "id": "3b5601ad-17e7-47f6-bb55-2de5ddd92326",
   "metadata": {
    "tags": []
   },
   "outputs": [
    {
     "name": "stderr",
     "output_type": "stream",
     "text": [
      "Warning: there are non-text parts in the response: ['function_call'], returning concatenated text result from text parts. Check the full candidates.content.parts accessor to get the full model response.\n",
      "/var/tmp/ipykernel_21611/3628848799.py:32: DeprecationWarning: A2AClient is deprecated and will be removed in a future version. Use ClientFactory to create a client with a JSON-RPC transport.\n",
      "  client = A2AClient(httpx_client, agent_card, url=a2a_server_url)\n"
     ]
    },
    {
     "name": "stdout",
     "output_type": "stream",
     "text": [
      "承知いたしました。ライターエージェントとレビューエージェントに記事の修正を依頼します。\n",
      "\n",
      "\n",
      "---\n",
      "## ライターエージェントが記事を執筆します。\n",
      "---\n",
      "\n",
      "# 【電気代高騰】夏を快適に乗り切る！今日からできる神節電術5選\n",
      "\n",
      "近年、電気代の高騰が家計を圧迫し、夏の快適な生活にも影響を与えています。しかし、無理なく賢く節電する方法を知っていれば、厳しい夏も快適に乗り越えられます。この記事では、今日から実践できる効果的な節電術を具体的にご紹介します。\n",
      "\n",
      "## 夏の節電ってどんなこと？💡\n",
      "\n",
      "夏の節電は、ただ暑さを我慢することだけではありません。エアコンなどの家電製品を賢く使うのはもちろん、住まいの環境を工夫したり、最新のテクノロジーを活用したりと、様々なアプローチがあります。大切なのは、健康や快適さを犠牲にせず、効率的に電気を使うこと。室温や湿度を適切に保ちながら、無駄な電力消費を抑えることで、お財布にも地球にも優しい夏を過ごすことができるんです。\n",
      "\n",
      "## 最新の節電トレンドを見てみよう！📈\n",
      "\n",
      "最近特に注目されているのが、電力プランの見直しやスマート技術の活用です。\n",
      "\n",
      "*   **時間帯別料金プランの活用（ピークシフト）**\n",
      "    多くの電力会社が提供している「時間帯別料金プラン」を利用して、電気代が割安になる夜間に洗濯機や食洗機を使う「ピークシフト」は、賢い節電術として広まっています。\n",
      "*   **「見える化」と「自動化」で意識改革！**\n",
      "    スマートメーターの導入で、リアルタイムの電力使用量を確認できるようになり、自分の消費行動を「見える化」できます。さらに、HEMS（家庭用エネルギー管理システム）を導入すれば、家全体の電力使用状況を一元管理し、家電の運転を最適化して自動で節電することも可能になります。\n",
      "*   **スマホ連携で快適＆節電**\n",
      "    スマート家電とインターネットを連携させれば、外出先からスマートフォンのアプリでエアコンの電源を切ったり、帰宅前に部屋を冷やしておいたりといった操作が可能です。消し忘れ防止にも役立ち、快適さと節電を両立できますよ。\n",
      "\n",
      "## 今日からできる！実践してみよう！✨\n",
      "\n",
      "さあ、今日からすぐに試せる具体的な節電術をいくつかご紹介します！\n",
      "\n",
      "*   **エアコンと扇風機の合わせ技で体感温度を下げよう！**\n",
      "    環境省も推奨しているように、エアコンの設定温度は28℃を目安にしましょう。これに加えて、扇風機やサーキュレーターを使って室内の空気を循環させると、冷たい空気が部屋全体に行き渡り、体感温度が下がります。エアコン単独で設定温度を下げ続けるよりも、ぐっと電気代を抑えながら涼しく過ごせますよ！エアコンのフィルター掃除をこまめに行うことも、効率を保つ上で非常に重要です。\n",
      "*   **冷蔵庫の使い方を見直そう！**\n",
      "    冷蔵庫は壁から少し離して設置し、放熱スペースを確保しましょう。また、ドアの開閉回数を減らし、食品を詰め込みすぎないことがポイント。庫内がスカスカだと冷気が逃げやすく、ぎゅうぎゅうだと冷気の循環が悪くなります。庫内は7割程度を目安に収納すると、効率よく冷やせます。\n",
      "*   **使わない家電はコンセントから抜こう！**\n",
      "    テレビやパソコン、温水洗浄便座、炊飯器、電気ポットなど、多くの家電製品は使っていない間も「待機電力」を消費しています。使わない時はコンセントから抜くか、節電タップを活用することで、目に見えない電気の消費を抑えられます。\n",
      "\n",
      "## まとめ💡\n",
      "\n",
      "夏の節電は、家計に優しいだけでなく、地球温暖化対策にも貢献できる持続可能なライフスタイルへと繋がります。無理なく、賢く、そして快適に夏を乗り切るために、今回ご紹介した方法の中から、ぜひご自身に合った節電対策を見つけて実践してみてくださいね。\n",
      "\n",
      "---\n",
      "## レビューエージェントが記事をレビューします。\n",
      "---\n",
      "\n",
      "記事を拝見しました。夏の節電というテーマで、読者が知りたがる具体的で役立つ情報が網羅されており、大変興味深い内容です。\n",
      "\n",
      "### 記事の良い点\n",
      "\n",
      "*   **具体的な節電方法の網羅性:** エアコンの使い方から家電製品、さらには住まいの構造やスマート技術の活用まで、多岐にわたる節電方法が具体的に紹介されており、読者が実践しやすい内容になっています。\n",
      "*   **最新トレンドへの言及:** スマートメーターやHEMS、スマート家電といった最新技術にも触れられており、情報としての鮮度が高いです。\n",
      "*   **読者の悩みに寄り添う姿勢:** 「電気代は気になるけど、快適に過ごしたい」という読者の気持ちに配慮し、「健康や快適さを犠牲にしない」節電方法が強調されており、読者が安心して読み進められます。\n",
      "*   **実践への促し:** 「今日からできる！実践してみよう！」というセクションで具体的な行動を促しており、読者の行動変容につながりやすい構成です。\n",
      "*   **親しみやすいサブタイトル:** 絵文字が効果的に使われており、記事全体に親しみやすさを与えています。\n",
      "\n",
      "### 修正ポイント\n",
      "\n",
      "今回の記事は、いただいた条件をすべて満たしており、修正の必要はありません。大変素晴らしい記事です。\n",
      "\n",
      "#### レビューに基づいて記事の修正を依頼しますか？\n",
      "\n"
     ]
    }
   ],
   "source": [
    "query = '''\n",
    "はい。お願いします。\n",
    "'''\n",
    "result = await client.stream(query)"
   ]
  },
  {
   "cell_type": "code",
   "execution_count": 69,
   "id": "37b244d2-cec9-4bb2-96d9-831cdbf890b1",
   "metadata": {
    "tags": []
   },
   "outputs": [
    {
     "name": "stdout",
     "output_type": "stream",
     "text": [
      "# 【電気代高騰】夏を快適に乗り切る！今日からできる神節電術5選\n",
      "\n",
      "近年、電気代の高騰が家計を圧迫し、夏の快適な生活にも影響を与えています。しかし、無理なく賢く節電する方法を知っていれば、厳しい夏も快適に乗り越えられます。この記事では、今日から実践できる効果的な節電術を具体的にご紹介します。\n",
      "\n",
      "## 夏の節電ってどんなこと？💡\n",
      "\n",
      "夏の節電は、ただ暑さを我慢することだけではありません。エアコンなどの家電製品を賢く使うのはもちろん、住まいの環境を工夫したり、最新のテクノロジーを活用したりと、様々なアプローチがあります。大切なのは、健康や快適さを犠牲にせず、効率的に電気を使うこと。室温や湿度を適切に保ちながら、無駄な電力消費を抑えることで、お財布にも地球にも優しい夏を過ごすことができるんです。\n",
      "\n",
      "## 最新の節電トレンドを見てみよう！📈\n",
      "\n",
      "最近特に注目されているのが、電力プランの見直しやスマート技術の活用です。\n",
      "\n",
      "*   **時間帯別料金プランの活用（ピークシフト）**\n",
      "    多くの電力会社が提供している「時間帯別料金プラン」を利用して、電気代が割安になる夜間に洗濯機や食洗機を使う「ピークシフト」は、賢い節電術として広まっています。\n",
      "*   **「見える化」と「自動化」で意識改革！**\n",
      "    スマートメーターの導入で、リアルタイムの電力使用量を確認できるようになり、自分の消費行動を「見える化」できます。さらに、HEMS（家庭用エネルギー管理システム）を導入すれば、家全体の電力使用状況を一元管理し、家電の運転を最適化して自動で節電することも可能になります。\n",
      "*   **スマホ連携で快適＆節電**\n",
      "    スマート家電とインターネットを連携させれば、外出先からスマートフォンのアプリでエアコンの電源を切ったり、帰宅前に部屋を冷やしておいたりといった操作が可能です。消し忘れ防止にも役立ち、快適さと節電を両立できますよ。\n",
      "\n",
      "## 今日からできる！実践してみよう！✨\n",
      "\n",
      "さあ、今日からすぐに試せる具体的な節電術をいくつかご紹介します！\n",
      "\n",
      "*   **エアコンと扇風機の合わせ技で体感温度を下げよう！**\n",
      "    環境省も推奨しているように、エアコンの設定温度は28℃を目安にしましょう。これに加えて、扇風機やサーキュレーターを使って室内の空気を循環させると、冷たい空気が部屋全体に行き渡り、体感温度が下がります。エアコン単独で設定温度を下げ続けるよりも、ぐっと電気代を抑えながら涼しく過ごせますよ！エアコンのフィルター掃除をこまめに行うことも、効率を保つ上で非常に重要です。\n",
      "*   **冷蔵庫の使い方を見直そう！**\n",
      "    冷蔵庫は壁から少し離して設置し、放熱スペースを確保しましょう。また、ドアの開閉回数を減らし、食品を詰め込みすぎないことがポイント。庫内がスカスカだと冷気が逃げやすく、ぎゅうぎゅうだと冷気の循環が悪くなります。庫内は7割程度を目安に収納すると、効率よく冷やせます。\n",
      "*   **使わない家電はコンセントから抜こう！**\n",
      "    テレビやパソコン、温水洗浄便座、炊飯器、電気ポットなど、多くの家電製品は使っていない間も「待機電力」を消費しています。使わない時はコンセントから抜くか、節電タップを活用することで、目に見えない電気の消費を抑えられます。\n",
      "\n",
      "## まとめ💡\n",
      "\n",
      "夏の節電は、家計に優しいだけでなく、地球温暖化対策にも貢献できる持続可能なライフスタイルへと繋がります。無理なく、賢く、そして快適に夏を乗り切るために、今回ご紹介した方法の中から、ぜひご自身に合った節電対策を見つけて実践してみてくださいね。\n",
      "\n"
     ]
    }
   ],
   "source": [
    "query = '''\n",
    "これで完成です。完成した記事をもう一度表示して。\n",
    "'''\n",
    "result = await client.stream(query)"
   ]
  }
 ],
 "metadata": {
  "environment": {
   "kernel": "conda-base-py",
   "name": "workbench-notebooks.m131",
   "type": "gcloud",
   "uri": "us-docker.pkg.dev/deeplearning-platform-release/gcr.io/workbench-notebooks:m131"
  },
  "kernelspec": {
   "display_name": "Python 3 (ipykernel) (Local) (Local)",
   "language": "python",
   "name": "conda-base-py"
  },
  "language_info": {
   "codemirror_mode": {
    "name": "ipython",
    "version": 3
   },
   "file_extension": ".py",
   "mimetype": "text/x-python",
   "name": "python",
   "nbconvert_exporter": "python",
   "pygments_lexer": "ipython3",
   "version": "3.10.18"
  }
 },
 "nbformat": 4,
 "nbformat_minor": 5
}
