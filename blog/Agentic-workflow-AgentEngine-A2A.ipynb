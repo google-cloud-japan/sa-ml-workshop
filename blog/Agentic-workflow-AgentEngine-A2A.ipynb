{
 "cells": [
  {
   "cell_type": "markdown",
   "id": "a5579285-e698-4ed2-b1f1-5d4fb4f6f123",
   "metadata": {},
   "source": [
    "# Agentic workflow with Agent Engine A2A integration example\n",
    "\n",
    "This notebook shows an example of an agentic workflow using remote A2A agents deployed on Agent Engine.\n",
    "\n",
    "See the following notebook for the workflow description.\n",
    "\n",
    "- [Multi-agent workflow example](https://github.com/google-cloud-japan/sa-ml-workshop/blob/main/blog/multi_agent_article_writing_example_en.ipynb)\n",
    "\n",
    "Before running the codes below, create a VertexAI workbench instance by following the **Create a Vertex AI workbench instance** section of the notebook above."
   ]
  },
  {
   "cell_type": "markdown",
   "id": "746c5c53-e95c-49e0-b17e-b889de2aa643",
   "metadata": {
    "tags": []
   },
   "source": [
    "## Preparation"
   ]
  },
  {
   "cell_type": "code",
   "execution_count": null,
   "id": "102076ec-8bf1-4087-8f6a-12e699c148ef",
   "metadata": {
    "tags": []
   },
   "outputs": [],
   "source": [
    "%pip install --user \\\n",
    "    google-adk==1.14.1 \\\n",
    "    google-genai==1.36.0 \\\n",
    "    google-cloud-aiplatform==1.113.0 \\\n",
    "    a2a-sdk==0.3.5"
   ]
  },
  {
   "cell_type": "code",
   "execution_count": 13,
   "id": "4837cab1-d72a-44ae-861a-8ae15424d4bd",
   "metadata": {
    "tags": []
   },
   "outputs": [],
   "source": [
    "import IPython\n",
    "app = IPython.Application.instance()\n",
    "_ = app.kernel.do_shutdown(True)"
   ]
  },
  {
   "cell_type": "code",
   "execution_count": 1,
   "id": "0f282560-2aa3-4896-80be-7046abf37456",
   "metadata": {
    "tags": []
   },
   "outputs": [],
   "source": [
    "import httpx, json, os, uuid\n",
    "from google.auth import default\n",
    "from google.auth.transport.requests import Request\n",
    "import vertexai\n",
    "\n",
    "# ADK\n",
    "from google.genai.types import Part, Content, HttpOptions\n",
    "from google.adk.agents.callback_context import CallbackContext\n",
    "from google.adk.agents.llm_agent import LlmAgent\n",
    "from google.adk.agents.remote_a2a_agent import RemoteA2aAgent\n",
    "from google.adk.agents.sequential_agent import SequentialAgent\n",
    "from google.adk.artifacts import InMemoryArtifactService\n",
    "from google.adk.auth.credential_service.in_memory_credential_service import InMemoryCredentialService\n",
    "from google.adk.memory.in_memory_memory_service import InMemoryMemoryService\n",
    "from google.adk.models import LlmResponse, LlmRequest\n",
    "from google.adk.runners import Runner\n",
    "from google.adk.sessions import InMemorySessionService, VertexAiSessionService\n",
    "\n",
    "# A2A\n",
    "from a2a.client import ClientConfig, ClientFactory\n",
    "from a2a.types import AgentCard, TransportProtocol\n",
    "from google.adk.a2a.executor.a2a_agent_executor import A2aAgentExecutor\n",
    "from google.adk.a2a.utils.agent_card_builder import AgentCardBuilder\n",
    "\n",
    "# Agent Engine\n",
    "from vertexai import agent_engines\n",
    "from vertexai.preview.reasoning_engines import A2aAgent\n",
    "from vertexai.preview.reasoning_engines.templates.a2a import create_agent_card\n",
    "\n",
    "\n",
    "[PROJECT_ID] = !gcloud config list --format 'value(core.project)'\n",
    "[PROJECT_NUMBER] = !gcloud projects describe {PROJECT_ID} --format='value(projectNumber)'\n",
    "LOCATION = 'us-central1'\n",
    "\n",
    "vertexai.init(project=PROJECT_ID, location=LOCATION,\n",
    "              staging_bucket=f'gs://{PROJECT_ID}')\n",
    "\n",
    "os.environ['GOOGLE_CLOUD_PROJECT'] = PROJECT_ID\n",
    "os.environ['GOOGLE_CLOUD_LOCATION'] = LOCATION\n",
    "os.environ['GOOGLE_GENAI_USE_VERTEXAI'] = 'True'"
   ]
  },
  {
   "cell_type": "markdown",
   "id": "b58299a3-735c-4811-a91e-be49a8fdfa9a",
   "metadata": {
    "tags": []
   },
   "source": [
    "Local application class to execute the root agent."
   ]
  },
  {
   "cell_type": "code",
   "execution_count": 2,
   "id": "18625f5e-151a-4a5d-a578-caf42cca6eb3",
   "metadata": {
    "tags": []
   },
   "outputs": [],
   "source": [
    "class LocalApp:\n",
    "    def __init__(self, agent, app_name='default_app', user_id='default_user'):\n",
    "        self._agent = agent\n",
    "        self._app_name = app_name\n",
    "        self._user_id = user_id\n",
    "        self._runner = Runner(\n",
    "            app_name=self._app_name,\n",
    "            agent=self._agent,\n",
    "            artifact_service=InMemoryArtifactService(),\n",
    "            session_service=InMemorySessionService(),\n",
    "            memory_service=InMemoryMemoryService(),\n",
    "        )\n",
    "        self._session = None\n",
    "        \n",
    "    async def stream(self, query):\n",
    "        if not self._session:\n",
    "            self._session = await self._runner.session_service.create_session(\n",
    "                app_name=self._app_name,\n",
    "                user_id=self._user_id,\n",
    "                session_id=uuid.uuid4().hex,\n",
    "            )\n",
    "        content = Content(role='user', parts=[Part(text=query)])\n",
    "        async_events = self._runner.run_async(\n",
    "            user_id=self._user_id,\n",
    "            session_id=self._session.id,\n",
    "            new_message=content,\n",
    "        )\n",
    "        result = []\n",
    "        async for event in async_events:\n",
    "            if (event.content and event.content.parts):\n",
    "                response = '\\n'.join([p.text for p in event.content.parts if p.text])\n",
    "                if response:\n",
    "                    print(response)\n",
    "                    result.append(response)\n",
    "        return result"
   ]
  },
  {
   "cell_type": "markdown",
   "id": "7de8f9d8-b4e6-4b69-a6e6-8aef0984934f",
   "metadata": {},
   "source": [
    "## Define agents to be deployed as remote A2A agents"
   ]
  },
  {
   "cell_type": "code",
   "execution_count": 3,
   "id": "79b229e9-fde1-4fe2-aaae-7634ac7e416b",
   "metadata": {
    "tags": []
   },
   "outputs": [],
   "source": [
    "instruction = '''\n",
    "Your role is to gather the necessary information for writing an article and compile it into a research report.\n",
    "You will create a list of about 5 topics to be used as a reference when writing an article on a specified theme.\n",
    "A subsequent agent will create the research report based on this list.\n",
    "\n",
    "* Output Format\n",
    "Output in English.\n",
    "'''\n",
    "\n",
    "research_agent1 = LlmAgent(\n",
    "    name='research_agent1',\n",
    "    model='gemini-2.5-flash',\n",
    "    description='''\n",
    "An agent that gathers the necessary information for writing an article\n",
    "and compiles it into a report (theme selection)\n",
    "    ''',\n",
    "    instruction=instruction,\n",
    ")"
   ]
  },
  {
   "cell_type": "code",
   "execution_count": 4,
   "id": "7f544c59-d3f1-48a6-b372-7c4ef189c966",
   "metadata": {
    "tags": []
   },
   "outputs": [],
   "source": [
    "instruction = '''\n",
    "Your role is to collect the necessary information to write an article and compile it into a research report.\n",
    "The preceding agent will specify about five research topics.\n",
    "\n",
    "* Output format\n",
    "Output in Enlgish.\n",
    "The research report should summarize objective information for each topic.\n",
    "Each topic must be described in five sentences or more.\n",
    "'''\n",
    "\n",
    "research_agent2 = LlmAgent(\n",
    "    name='research_agent2',\n",
    "    model='gemini-2.5-flash',\n",
    "    description='''\n",
    "An agent that collects the information necessary for writing an article\n",
    "and compiles it into a report (report creation)\n",
    "    ''',\n",
    "    instruction=instruction,\n",
    ")"
   ]
  },
  {
   "cell_type": "code",
   "execution_count": 5,
   "id": "ea41e586-3dc6-415a-ac3a-6884e1e4be23",
   "metadata": {
    "tags": []
   },
   "outputs": [],
   "source": [
    "instruction = '''\n",
    "Your role is to write a light, feature article on a specific topic.\n",
    "You will be given the article's \"theme\" and a \"research report\" related to its content.\n",
    "Based on the objective facts described in the research report, please write a reliable feature article.\n",
    "\n",
    "If a reviewer points out corrections, please rewrite the article you just wrote according to the feedback.\n",
    "\n",
    "* Output Conditions\n",
    "- Output in Enlgish.\n",
    "- The content should be something that can be casually read in a few minutes, assuming the reader has some basic knowledge of the topic.\n",
    "- Use a relatively casual and conversational tone.\n",
    "- Do not include an article title; use the following structure. Arrange each section title to fit the content.\n",
    "  0. Introduction: Without a section title, write a one- or two-sentence introduction that will make someone want to read the article.\n",
    "  1. Overview: Summarize and briefly explain the overall picture of the topic.\n",
    "  2. Latest Information: Feature new information that is particularly noteworthy.\n",
    "  3. Practical Application: Introduce one thing related to the topic that readers might want to try for themselves.\n",
    "  4. Conclusion\n",
    "\n",
    "- Use markdown ## headers for each section title. Use markdown for bullet points as needed.\n",
    "- Do not use any other markdown formatting.\n",
    "'''\n",
    "\n",
    "writer_agent = LlmAgent(\n",
    "    name='writer_agent',\n",
    "    model='gemini-2.5-flash',\n",
    "    description='An agent that writes feature articles on specific topics.',\n",
    "    instruction=instruction,\n",
    ")"
   ]
  },
  {
   "cell_type": "code",
   "execution_count": 6,
   "id": "0c14401c-47a8-4758-889d-44a0b6342b6b",
   "metadata": {
    "tags": []
   },
   "outputs": [],
   "source": [
    "instruction = f'''\n",
    "Your role is to review a feature article and provide comments for improvement to ensure its content meets the article's requirements.\n",
    "\n",
    "* Article Requirements\n",
    "- The article must begin with a title of less than about 10 words.\n",
    "  The title should contain useful life information that is applicable from today, making the reader feel they \"must read it now.\"\n",
    "  The title must use a markdown # header.\n",
    "- Immediately after the title, add an introduction that summarizes \"why this topic is being addressed now\" to motivate the reader.\n",
    "- Use emojis in each section's subtitle to create a friendly feel.\n",
    "- It must introduce at least three concrete examples that the reader can put into practice starting today.\n",
    "\n",
    "* Output Format\n",
    "- Output in English.\n",
    "- First, explain the good points of the article.\n",
    "- Next, list the points for correction in a bulleted format.\n",
    "'''\n",
    "\n",
    "review_agent = LlmAgent(\n",
    "    name='review_agent',\n",
    "    model='gemini-2.5-flash',\n",
    "    description='An agent that reviews feature articles.',\n",
    "    instruction=instruction,\n",
    ")"
   ]
  },
  {
   "cell_type": "markdown",
   "id": "64d8899e-8748-4524-91f8-91b811afcc69",
   "metadata": {},
   "source": [
    "## Deploy agents on Agent Engine"
   ]
  },
  {
   "cell_type": "code",
   "execution_count": 7,
   "id": "d3f90868-2a46-4da3-9c58-e3f3beed71ad",
   "metadata": {
    "tags": []
   },
   "outputs": [],
   "source": [
    "# Wrapper class of VertexAiSessionService that's compatible with InMemorySessionService\n",
    "class MyVertexAiSessionService(VertexAiSessionService):\n",
    "\n",
    "    async def create_session(self, app_name, user_id, state={}, session_id=None):\n",
    "        # Ignore session_id\n",
    "        session = await super().create_session(\n",
    "            app_name=app_name,\n",
    "            user_id=user_id,\n",
    "            state=state,\n",
    "        )\n",
    "        return session\n",
    "\n",
    "    async def get_session(self, app_name, user_id, session_id):\n",
    "        # Return None if session non exists.\n",
    "        try:\n",
    "            session = await super().get_session(\n",
    "                app_name=app_name,\n",
    "                user_id=user_id,\n",
    "                session_id=session_id,\n",
    "            )\n",
    "            return session\n",
    "        except:\n",
    "            return None\n",
    "\n",
    "\n",
    "def get_create_runner_class(agent, resource_name):\n",
    "    async def create_runner():\n",
    "        return Runner(\n",
    "            # Use resource_name as app_name for VertexAiSessionService.\n",
    "            app_name=resource_name or agent.name,\n",
    "            agent=agent,\n",
    "            artifact_service=InMemoryArtifactService(),\n",
    "            session_service=MyVertexAiSessionService(),\n",
    "            memory_service=InMemoryMemoryService(),\n",
    "            credential_service=InMemoryCredentialService(),\n",
    "        )\n",
    "    return create_runner\n",
    "\n",
    "\n",
    "def get_agent_executor_class(agent, resource_name):\n",
    "    def agent_executor_builder():\n",
    "        return A2aAgentExecutor(\n",
    "            runner=get_create_runner_class(agent, resource_name),\n",
    "        )       \n",
    "    return agent_executor_builder\n",
    "\n",
    "\n",
    "async def get_agent_card(agent):\n",
    "    builder = AgentCardBuilder(agent=agent)\n",
    "    adk_agent_card = await builder.build()\n",
    "    return create_agent_card(\n",
    "        agent_name=adk_agent_card.name,\n",
    "        description=adk_agent_card.description,\n",
    "        skills=adk_agent_card.skills\n",
    "    )"
   ]
  },
  {
   "cell_type": "code",
   "execution_count": 8,
   "id": "08a3274f-854b-48c3-ba36-cc1d725c8e31",
   "metadata": {
    "tags": []
   },
   "outputs": [],
   "source": [
    "def get_agent_resource(agent_name):\n",
    "    for agent in agent_engines.list():\n",
    "        if agent.display_name == agent_name:\n",
    "            return agent.resource_name\n",
    "    return None"
   ]
  },
  {
   "cell_type": "code",
   "execution_count": 11,
   "id": "10bdedd6-8493-446d-8492-892c8b0074b3",
   "metadata": {
    "tags": []
   },
   "outputs": [
    {
     "name": "stderr",
     "output_type": "stream",
     "text": [
      "/var/tmp/ipykernel_8184/1771281126.py:49: UserWarning: [EXPERIMENTAL] AgentCardBuilder: ADK Implementation for A2A support (A2aAgentExecutor, RemoteA2aAgent and corresponding supporting components etc.) is in experimental mode and is subjected to breaking changes. A2A protocol and SDK arethemselves not experimental. Once it's stable enough the experimental mode will be removed. Your feedback is welcome.\n",
      "  builder = AgentCardBuilder(agent=agent)\n",
      "WARNING:vertexai_genai.agentengines:The following requirements are missing: {'pydantic', 'cloudpickle'}\n",
      "WARNING:vertexai_genai.agentengines:The following requirements are missing: {'pydantic', 'cloudpickle'}\n",
      "WARNING:vertexai_genai.agentengines:The following requirements are missing: {'pydantic', 'cloudpickle'}\n",
      "WARNING:vertexai_genai.agentengines:The following requirements are missing: {'pydantic', 'cloudpickle'}\n",
      "WARNING:vertexai_genai.agentengines:The following requirements are missing: {'pydantic', 'cloudpickle'}\n",
      "WARNING:vertexai_genai.agentengines:The following requirements are missing: {'pydantic', 'cloudpickle'}\n",
      "WARNING:vertexai_genai.agentengines:The following requirements are missing: {'pydantic', 'cloudpickle'}\n",
      "WARNING:vertexai_genai.agentengines:The following requirements are missing: {'pydantic', 'cloudpickle'}\n"
     ]
    }
   ],
   "source": [
    "agents = {\n",
    "    'research_agent1_a2a': research_agent1,\n",
    "    'research_agent2_a2a': research_agent2,\n",
    "    'writer_agent_a2a': writer_agent,\n",
    "    'review_agent_a2a': review_agent,\n",
    "}\n",
    "\n",
    "client = vertexai.Client(\n",
    "    project=PROJECT_ID,\n",
    "    location=LOCATION,\n",
    "    http_options=HttpOptions(\n",
    "        api_version='v1beta1', base_url=f'https://{LOCATION}-aiplatform.googleapis.com/'\n",
    "    ),\n",
    ")\n",
    "\n",
    "for agent_name, agent in agents.items():    \n",
    "    a2a_agent = A2aAgent(\n",
    "        agent_card=await get_agent_card(agent),\n",
    "        agent_executor_builder=get_agent_executor_class(agent, None)\n",
    "    )\n",
    "    config={\n",
    "        'display_name': agent_name,\n",
    "        'description': a2a_agent.agent_card.description,\n",
    "        'requirements': [\n",
    "            'google-adk==1.14.1',\n",
    "            'google-genai==1.36.0',\n",
    "            'google-cloud-aiplatform==1.113.0',\n",
    "            'a2a-sdk==0.3.5'\n",
    "        ],\n",
    "        'http_options': {\n",
    "            'base_url': f'https://{LOCATION}-aiplatform.googleapis.com',\n",
    "            'api_version': 'v1beta1',\n",
    "        },\n",
    "        'staging_bucket': f'gs://{PROJECT_ID}',\n",
    "    }\n",
    "\n",
    "    resource_name = get_agent_resource(agent_name)\n",
    "    if not resource_name:\n",
    "        # Deploy dummy agent to assign Agent Engine resource name\n",
    "        remote_a2a_agent = client.agent_engines.create(\n",
    "            agent=a2a_agent,\n",
    "            config=config,\n",
    "        )\n",
    "    \n",
    "    # Redeploy with Agent Engine resource name for VertexAiSessionService\n",
    "    resource_name = get_agent_resource(agent_name)\n",
    "    a2a_agent = A2aAgent(\n",
    "        agent_card=await get_agent_card(agent),\n",
    "        agent_executor_builder=get_agent_executor_class(agent, resource_name)\n",
    "    )\n",
    "    remote_a2a_agent = client.agent_engines.update(\n",
    "        name=resource_name,\n",
    "        agent=a2a_agent,\n",
    "        config=config,\n",
    "    )"
   ]
  },
  {
   "cell_type": "markdown",
   "id": "3313a036-88c3-4a40-899c-7c60f162592a",
   "metadata": {},
   "source": [
    "## Define RemoteA2aAgent instances and Root agent"
   ]
  },
  {
   "cell_type": "code",
   "execution_count": 3,
   "id": "c20ced9e-2918-4964-82f3-352bb8de7282",
   "metadata": {
    "tags": []
   },
   "outputs": [
    {
     "name": "stderr",
     "output_type": "stream",
     "text": [
      "/var/tmp/ipykernel_71356/4262954498.py:38: UserWarning: [EXPERIMENTAL] RemoteA2aAgent: ADK Implementation for A2A support (A2aAgentExecutor, RemoteA2aAgent and corresponding supporting components etc.) is in experimental mode and is subjected to breaking changes. A2A protocol and SDK arethemselves not experimental. Once it's stable enough the experimental mode will be removed. Your feedback is welcome.\n",
      "  research_agent1_remoteA2a = RemoteA2aAgent(\n",
      "/var/tmp/ipykernel_71356/4262954498.py:50: UserWarning: [EXPERIMENTAL] RemoteA2aAgent: ADK Implementation for A2A support (A2aAgentExecutor, RemoteA2aAgent and corresponding supporting components etc.) is in experimental mode and is subjected to breaking changes. A2A protocol and SDK arethemselves not experimental. Once it's stable enough the experimental mode will be removed. Your feedback is welcome.\n",
      "  research_agent2_remoteA2a = RemoteA2aAgent(\n",
      "/var/tmp/ipykernel_71356/4262954498.py:62: UserWarning: [EXPERIMENTAL] RemoteA2aAgent: ADK Implementation for A2A support (A2aAgentExecutor, RemoteA2aAgent and corresponding supporting components etc.) is in experimental mode and is subjected to breaking changes. A2A protocol and SDK arethemselves not experimental. Once it's stable enough the experimental mode will be removed. Your feedback is welcome.\n",
      "  writer_agent_remoteA2a = RemoteA2aAgent(\n",
      "/var/tmp/ipykernel_71356/4262954498.py:71: UserWarning: [EXPERIMENTAL] RemoteA2aAgent: ADK Implementation for A2A support (A2aAgentExecutor, RemoteA2aAgent and corresponding supporting components etc.) is in experimental mode and is subjected to breaking changes. A2A protocol and SDK arethemselves not experimental. Once it's stable enough the experimental mode will be removed. Your feedback is welcome.\n",
      "  review_agent_remoteA2a = RemoteA2aAgent(\n"
     ]
    }
   ],
   "source": [
    "def get_agent_resource(agent_name):\n",
    "    for agent in agent_engines.list():\n",
    "        if agent.display_name == agent_name:\n",
    "            return agent.resource_name\n",
    "    return None\n",
    "\n",
    "\n",
    "class GoogleAuthRefresh(httpx.Auth):\n",
    "    def __init__(self, scopes):\n",
    "        self.credentials, _ = default(scopes=scopes)\n",
    "        self.transport_request = Request()\n",
    "        self.credentials.refresh(self.transport_request)\n",
    "\n",
    "    def auth_flow(self, request):\n",
    "        if not self.credentials.valid:\n",
    "            self.credentials.refresh(self.transport_request)\n",
    "        \n",
    "        request.headers['Authorization'] = f'Bearer {self.credentials.token}'\n",
    "        yield request\n",
    "\n",
    "\n",
    "factory = ClientFactory(\n",
    "    ClientConfig(\n",
    "        supported_transports=[TransportProtocol.http_json],\n",
    "        use_client_preference=True,\n",
    "        httpx_client=httpx.AsyncClient(\n",
    "            timeout=60,\n",
    "            headers={\n",
    "                'Content-Type': 'application/json',\n",
    "            },\n",
    "            auth=GoogleAuthRefresh(scopes=['https://www.googleapis.com/auth/cloud-platform']) \n",
    "        ),\n",
    "    )\n",
    ")\n",
    "\n",
    "resource_name = get_agent_resource('research_agent1_a2a')\n",
    "a2a_url = f'https://{LOCATION}-aiplatform.googleapis.com/v1beta1/{resource_name}/a2a'\n",
    "research_agent1_remoteA2a = RemoteA2aAgent(\n",
    "    name='research_agent1',\n",
    "    description='''\n",
    "An agent that gathers the necessary information for writing an article\n",
    "and compiles it into a report (theme selection)\n",
    "    ''',\n",
    "    agent_card=f'{a2a_url}/v1/card',\n",
    "    a2a_client_factory=factory,\n",
    ")\n",
    "\n",
    "resource_name = get_agent_resource('research_agent2_a2a')\n",
    "a2a_url = f'https://{LOCATION}-aiplatform.googleapis.com/v1beta1/{resource_name}/a2a'\n",
    "research_agent2_remoteA2a = RemoteA2aAgent(\n",
    "    name='research_agent2',\n",
    "    description='''\n",
    "An agent that collects the information necessary for writing an article\n",
    "and compiles it into a report (report creation)\n",
    "    ''',\n",
    "    agent_card=f'{a2a_url}/v1/card',\n",
    "    a2a_client_factory=factory,\n",
    ")\n",
    "\n",
    "resource_name = get_agent_resource('writer_agent_a2a')\n",
    "a2a_url = f'https://{LOCATION}-aiplatform.googleapis.com/v1beta1/{resource_name}/a2a'\n",
    "writer_agent_remoteA2a = RemoteA2aAgent(\n",
    "    name='writer_agent',\n",
    "    description='An agent that writes feature articles on specific topics.',\n",
    "    agent_card=f'{a2a_url}/v1/card',\n",
    "    a2a_client_factory=factory,\n",
    ")\n",
    "\n",
    "resource_name = get_agent_resource('review_agent_a2a')\n",
    "a2a_url = f'https://{LOCATION}-aiplatform.googleapis.com/v1beta1/{resource_name}/a2a'\n",
    "review_agent_remoteA2a = RemoteA2aAgent(\n",
    "    name='review_agent',\n",
    "    description='An agent that reviews feature articles.',\n",
    "    agent_card=f'{a2a_url}/v1/card',\n",
    "    a2a_client_factory=factory,\n",
    ")"
   ]
  },
  {
   "cell_type": "code",
   "execution_count": 4,
   "id": "acd6ab9a-6564-46ba-82c6-bf4bbfc9f829",
   "metadata": {
    "tags": []
   },
   "outputs": [],
   "source": [
    "def get_print_agent(text):\n",
    "    def before_model_callback(\n",
    "        callback_context: CallbackContext, llm_request: LlmRequest\n",
    "    ) -> LlmResponse:\n",
    "        return LlmResponse(\n",
    "            content=Content(\n",
    "                role='model', parts=[Part(text=text)],\n",
    "            )\n",
    "        )\n",
    "        \n",
    "    return LlmAgent(\n",
    "        name='print_agent',\n",
    "        model='gemini-2.0-flash', # not used\n",
    "        description='',\n",
    "        instruction = '',\n",
    "        before_model_callback=before_model_callback,\n",
    "    )\n",
    "\n",
    "research_agent = SequentialAgent(\n",
    "    name='research_agent',\n",
    "    sub_agents=[\n",
    "        get_print_agent('\\n---\\n## The research agent will create a research report.\\n---\\n'),\n",
    "        get_print_agent('\\n## Selecting the topics for investigation.\\n'),\n",
    "        research_agent1_remoteA2a,\n",
    "        get_print_agent('\\n## Creating the research report based on the selected topics.\\n'),\n",
    "        research_agent2_remoteA2a,\n",
    "        get_print_agent('\\n#### The research report is ready. Shall we proceed with writing the article?\\n'),\n",
    "    ],\n",
    "    description='An agent that collects the information necessary for writing an article and compiles it into a report.',\n",
    ")\n",
    "\n",
    "write_and_review_agent = SequentialAgent(\n",
    "    name='write_and_review_agent',\n",
    "    sub_agents=[\n",
    "        get_print_agent('\\n---\\n## The writer agent will now write the article.\\n---\\n'),\n",
    "        writer_agent_remoteA2a,\n",
    "        get_print_agent('\\n---\\n## The review agent will now review the article.\\n---\\n'),\n",
    "        review_agent_remoteA2a,\n",
    "        get_print_agent('\\n#### Would you like to request a revision of the article based on the review?\\n'),\n",
    "    ],\n",
    "    description='Create and review an article.',\n",
    ")\n",
    "\n",
    "root_agent = LlmAgent(\n",
    "    name='article_generation_flow',\n",
    "    model='gemini-2.0-flash',\n",
    "    instruction = '''\n",
    "If asked what you can do, please respond with a clear and friendly summary of the following process:\n",
    "\n",
    "- Execute a workflow to create an article on a theme specified by the user.\n",
    "- First, create a research report on the theme.\n",
    "- After that, the writer and review agents will collaborate to create an article that adheres to the editorial policy.\n",
    "\n",
    "If the user specifies a theme for the article, execute the following flow:\n",
    "\n",
    "1. Announce that you will begin creating an article on that theme and forward the task to research_agent to request a research report.\n",
    "2. If the user confirms the creation of the article, forward the task to write_and_review_agent to request the article's creation and review.\n",
    "3. If the user wishes to revise the article, forward the task to write_and_review_agent.\n",
    "\n",
    "**Conditions**\n",
    "The nickname for research_agent is \"the Research Agent\".\n",
    "The nickname for write_and_review_agent is \"the Writer and Review Agents\".\n",
    "\n",
    "## IMPORTANT ##\n",
    "MAKE SURE THAT YOU ALWAYS CALL THE APPROPREATE SUBAGENT research_agent or write_and_review_agent WHEN NECESSARY.\n",
    "''',\n",
    "    sub_agents=[\n",
    "        research_agent,\n",
    "        write_and_review_agent,\n",
    "    ],\n",
    "    description='An agent that executes the workflow for creating an article.'\n",
    ")"
   ]
  },
  {
   "cell_type": "markdown",
   "id": "57a7e6c0-5d41-485e-9709-b0b784184eda",
   "metadata": {},
   "source": [
    "## Executon example"
   ]
  },
  {
   "cell_type": "code",
   "execution_count": 15,
   "id": "1a6eea83-86ae-4710-835d-c586cd34008b",
   "metadata": {
    "tags": []
   },
   "outputs": [
    {
     "name": "stdout",
     "output_type": "stream",
     "text": [
      "I can execute a workflow to create an article on a theme specified by you. First, I'll ask the Research Agent to create a research report on the theme. After that, the Writer and Review Agents will collaborate to create an article that adheres to the editorial policy.\n",
      "\n"
     ]
    }
   ],
   "source": [
    "client = LocalApp(root_agent)\n",
    "\n",
    "query = '''\n",
    "Hello, what can you do?\n",
    "'''\n",
    "result = await client.stream(query)"
   ]
  },
  {
   "cell_type": "code",
   "execution_count": 16,
   "id": "688c642d-8364-46a3-a9b9-e56ed9b9849f",
   "metadata": {
    "tags": []
   },
   "outputs": [
    {
     "name": "stderr",
     "output_type": "stream",
     "text": [
      "Warning: there are non-text parts in the response: ['function_call'], returning concatenated text result from text parts. Check the full candidates.content.parts accessor to get the full model response.\n",
      "/home/jupyter/.local/lib/python3.10/site-packages/google/adk/agents/remote_a2a_agent.py:382: UserWarning: [EXPERIMENTAL] convert_genai_part_to_a2a_part: ADK Implementation for A2A support (A2aAgentExecutor, RemoteA2aAgent and corresponding supporting components etc.) is in experimental mode and is subjected to breaking changes. A2A protocol and SDK arethemselves not experimental. Once it's stable enough the experimental mode will be removed. Your feedback is welcome.\n",
      "  converted_part = self._genai_part_converter(part)\n"
     ]
    },
    {
     "name": "stdout",
     "output_type": "stream",
     "text": [
      "Okay, I will begin creating an article on the theme \"Spicy Arrangements of Local Cuisine to Get Through the Summer.\" I will now forward the task to the Research Agent to request a research report.\n",
      "\n",
      "\n",
      "---\n",
      "## The research agent will create a research report.\n",
      "---\n",
      "\n",
      "\n",
      "## Selecting the topics for investigation.\n",
      "\n"
     ]
    },
    {
     "name": "stderr",
     "output_type": "stream",
     "text": [
      "/home/jupyter/.local/lib/python3.10/site-packages/google/adk/a2a/converters/event_converter.py:210: UserWarning: [EXPERIMENTAL] convert_a2a_message_to_event: ADK Implementation for A2A support (A2aAgentExecutor, RemoteA2aAgent and corresponding supporting components etc.) is in experimental mode and is subjected to breaking changes. A2A protocol and SDK arethemselves not experimental. Once it's stable enough the experimental mode will be removed. Your feedback is welcome.\n",
      "  return convert_a2a_message_to_event(\n",
      "/home/jupyter/.local/lib/python3.10/site-packages/google/adk/a2a/converters/event_converter.py:280: UserWarning: [EXPERIMENTAL] convert_a2a_part_to_genai_part: ADK Implementation for A2A support (A2aAgentExecutor, RemoteA2aAgent and corresponding supporting components etc.) is in experimental mode and is subjected to breaking changes. A2A protocol and SDK arethemselves not experimental. Once it's stable enough the experimental mode will be removed. Your feedback is welcome.\n",
      "  part = part_converter(a2a_part)\n"
     ]
    },
    {
     "name": "stdout",
     "output_type": "stream",
     "text": [
      "Here is the research report outlining topics for the article \"Spicy Arrangements of Local Cuisine to Get Through the Summer\":\n",
      "\n",
      "---\n",
      "\n",
      "**Research Report: Spicy Arrangements of Local Cuisine to Get Through the Summer**\n",
      "\n",
      "**Theme:** Spicy Arrangements of Local Cuisine to Get Through the Summer\n",
      "\n",
      "**Objective:** To gather information for an article that explores how various local cuisines utilize spicy elements to cope with hot weather, offering both cultural insights and practical ideas.\n",
      "\n",
      "**Proposed Topics for Investigation:**\n",
      "\n",
      "1.  **The Cultural and Physiological Rationale Behind Summer Spiciness:**\n",
      "    *   Explore why many cultures traditionally consume spicy food during hot summer months.\n",
      "    *   Discuss the physiological effects (e.g., inducing sweat for natural cooling, stimulating appetite in heat, boosting metabolism).\n",
      "    *   Highlight historical and cultural perspectives on this seemingly counter-intuitive practice.\n",
      "\n",
      "2.  **Global Examples of Iconic Spicy Summer Local Dishes:**\n",
      "    *   Showcase diverse examples of local dishes from around the world that are renowned for their spiciness and are traditionally enjoyed in summer.\n",
      "    *   Examples could include: Korean Naengmyeon (cold spicy noodles), Thai Som Tum (spicy green papaya salad), Mexican Aguachile or Ceviche (spicy seafood preparations), Indian Raita (spicy yogurt dip served with curries), or specific regional Sichuan dishes.\n",
      "    *   Briefly describe each dish, its key spicy components, and how it contributes to summer enjoyment.\n",
      "\n",
      "3.  **Key Spicy Ingredients and Their Versatile Role in Summer Cuisine:**\n",
      "    *   Focus on specific chili peppers (e.g., serrano, bird's eye, gochugaru, habanero) and other pungent ingredients (e.g., ginger, horseradish, mustard) that are commonly used in summer local dishes.\n",
      "    *   Explain their distinct flavor profiles, heat levels, and how they are incorporated (fresh, dried, pickled) to add a \"spicy arrangement\" without making the dish heavy.\n",
      "\n",
      "4.  **Techniques for Balancing Heat with Refreshment in Summer Spicy Dishes:**\n",
      "    *   Investigate culinary methods and ingredient pairings that ensure spicy dishes are enjoyable and refreshing, rather than overwhelming, during hot weather.\n",
      "    *   Discuss the use of cooling elements like cucumber, mint, cilantro, citrus juices, vinegar, and dairy (yogurt, buttermilk) to temper and complement the heat.\n",
      "    *   Explore cooking techniques that keep dishes light and suitable for summer, such as quick stir-fries, fresh salads, and cold preparations.\n",
      "\n",
      "5.  **Creative DIY Spicy Condiments and Marinades for Summer Local Flavors:**\n",
      "    *   Provide ideas and simple concepts for making homemade spicy additions that can elevate everyday local ingredients or meals.\n",
      "    *   Examples could include quick-pickled chilies, fresh salsas, chili oils, spicy herb marinades, or infused vinegars.\n",
      "    *   Focus on how these \"spicy arrangements\" can be easily incorporated into home cooking to add a vibrant, summery kick to local produce and proteins.\n",
      "\n",
      "---\n",
      "\n",
      "## Creating the research report based on the selected topics.\n",
      "\n",
      "**Research Report: Spicy Arrangements of Local Cuisine to Get Through the Summer**\n",
      "\n",
      "---\n",
      "\n",
      "### 1. The Cultural and Physiological Rationale Behind Summer Spiciness\n",
      "\n",
      "Many cultures around the world have long embraced spicy foods during hot summer months, a practice that might seem counterintuitive at first glance. The primary physiological reason for this tradition is the concept of \"cooling by sweating.\" When consuming spicy foods, capsaicin, the active compound in chili peppers, triggers thermoreceptors in the mouth, leading the body to believe it is overheating. This sensation prompts the body to sweat, and as sweat evaporates from the skin, it dissipates heat, effectively lowering core body temperature and providing a natural cooling sensation. Beyond just cooling, spicy foods can also stimulate appetite, which often wanes in extreme heat, and boost metabolism, contributing to a feeling of lightness. Historically, some cultures also believed spicy ingredients had antimicrobial properties, helping to preserve food and prevent spoilage in warm climates before refrigeration was common. This deep-rooted practice is a testament to adaptive culinary wisdom passed down through generations.\n",
      "\n",
      "### 2. Global Examples of Iconic Spicy Summer Local Dishes\n",
      "\n",
      "Around the globe, numerous local dishes ingeniously incorporate spiciness to combat summer heat, offering both flavor and refreshment. In Korea, *Naengmyeon*, a dish of icy cold buckwheat noodles often served in a tangy, spicy broth with a dollop of gochujang (chili paste), is a quintessential summer offering that cools and invigorates. Thailand's *Som Tum*, a vibrant green papaya salad, combines the fiery kick of bird's eye chilies with lime, fish sauce, and peanuts, creating a refreshing yet intensely flavored experience perfect for hot weather. Mexican cuisine offers *Aguachile* or *Ceviche*, where fresh seafood is \"cooked\" in citrus juices and generously spiced with serrano or jalapeño peppers, providing a light, zesty, and spicy dish ideal for warm climates. In India, while many curries are spicy, *Raita*, a cooling yogurt-based condiment often spiced with cumin, mint, or green chilies, is frequently served alongside hotter dishes to balance the palate and aid digestion during summer. Additionally, various regional Chinese dishes, particularly from Sichuan, like cold spicy noodles or mouth-watering chicken (Kou Shui Ji), demonstrate how heat and numbing spices can be balanced with refreshing elements to stimulate appetite in humid conditions.\n",
      "\n",
      "### 3. Key Spicy Ingredients and Their Versatile Role in Summer Cuisine\n",
      "\n",
      "A diverse array of spicy ingredients forms the backbone of summer local cuisines, each contributing unique flavor profiles and heat levels. Chili peppers are paramount, with varieties like the bright, grassy serrano and potent bird's eye chilies offering sharp heat often found in fresh salsas and salads. Gochugaru, a Korean chili powder, provides a vibrant red color and a complex, smoky heat to dishes like kimchi and cold noodle preparations. For those seeking extreme heat, habanero peppers deliver a fruity yet fiery punch, commonly used in Caribbean and Latin American marinades and sauces. Beyond chilies, other pungent ingredients like fresh ginger lend a warming, aromatic spice often used in Asian stir-fries and cooling drinks, providing a different kind of metabolic stimulation. Horseradish, with its sharp, pungent bite, and mustard, offering a tangy heat, are utilized in European and American summer dishes, such as relishes and potato salads, to add zest and cut through richness. These ingredients are incorporated in various forms—freshly chopped, dried and ground, or pickled—to achieve the desired level of \"spicy arrangement\" without making the dish feel heavy, making them indispensable for summer enjoyment.\n",
      "\n",
      "### 4. Techniques for Balancing Heat with Refreshment in Summer Spicy Dishes\n",
      "\n",
      "To ensure spicy dishes are enjoyable and truly refreshing during hot weather, culinary techniques focus on balancing intense heat with cooling elements. A fundamental approach involves incorporating fresh, vibrant ingredients that temper the capsaicin's burn while adding textural and flavor complexity. Cooling agents such as crisp cucumber, aromatic mint, and fresh cilantro are frequently added to spicy salads and main courses, providing a palate-cleansing effect. The acidity from citrus juices like lime and lemon, or vinegars, is crucial; these not only brighten flavors but also help to cut through the heat and stimulate saliva production, enhancing the refreshing sensation. Dairy products like yogurt, buttermilk, or sour cream are excellent for soothing the palate and are often incorporated into sauces, dips, or as accompaniments to fiery dishes, as the casein in dairy binds with capsaicin. Furthermore, cooking methods prioritize lightness: quick stir-fries, no-cook fresh salads, and cold preparations (like gazpacho or cold noodle dishes) minimize the time spent in a hot kitchen and result in dishes that are easy to digest and invigorating rather than heavy.\n",
      "\n",
      "### 5. Creative DIY Spicy Condiments and Marinades for Summer Local Flavors\n",
      "\n",
      "Crafting homemade spicy condiments and marinades is an excellent way to effortlessly infuse local summer ingredients with vibrant \"spicy arrangements.\" Quick-pickled chilies, such as jalapeños or serranos, offer a tangy heat that can elevate sandwiches, tacos, or grilled meats, and are simple to make with vinegar, sugar, and salt. Fresh salsas, made with ripe tomatoes, onions, cilantro, and a choice of chilies, are versatile and can accompany almost any summer meal, providing a burst of fresh, spicy flavor. Homemade chili oils, infused with dried chilies, garlic, and spices, can be drizzled over salads, noodles, or grilled vegetables for an instant flavor boost and a customizable heat level. Spicy herb marinades, blending fresh herbs like mint and cilantro with chilies, garlic, and citrus, are perfect for tenderizing and flavoring local poultry, fish, or plant-based proteins before grilling. Infused vinegars, perhaps with chilies and peppercorns, can add a zesty, spicy kick to salad dressings or a finishing flourish to cooked dishes. These DIY options empower home cooks to control the intensity and flavor profile, making it easy to integrate exciting, summery spice into their culinary repertoire.\n",
      "\n",
      "#### The research report is ready. Shall we proceed with writing the article?\n",
      "\n"
     ]
    }
   ],
   "source": [
    "query = '''\n",
    "Create an article with the theme \"Spicy Arrangements of Local Cuisine\n",
    "to Get Through the Summer.\"\n",
    "'''\n",
    "result = await client.stream(query)"
   ]
  },
  {
   "cell_type": "code",
   "execution_count": 17,
   "id": "181ee359-d0e1-4d18-b2e9-471d03619c5d",
   "metadata": {
    "tags": []
   },
   "outputs": [
    {
     "name": "stderr",
     "output_type": "stream",
     "text": [
      "Warning: there are non-text parts in the response: ['function_call'], returning concatenated text result from text parts. Check the full candidates.content.parts accessor to get the full model response.\n",
      "/home/jupyter/.local/lib/python3.10/site-packages/google/adk/agents/remote_a2a_agent.py:382: UserWarning: [EXPERIMENTAL] convert_genai_part_to_a2a_part: ADK Implementation for A2A support (A2aAgentExecutor, RemoteA2aAgent and corresponding supporting components etc.) is in experimental mode and is subjected to breaking changes. A2A protocol and SDK arethemselves not experimental. Once it's stable enough the experimental mode will be removed. Your feedback is welcome.\n",
      "  converted_part = self._genai_part_converter(part)\n"
     ]
    },
    {
     "name": "stdout",
     "output_type": "stream",
     "text": [
      "Okay, I will forward the task to the Writer and Review Agents to create the article.\n",
      "\n",
      "\n",
      "---\n",
      "## The writer agent will now write the article.\n",
      "---\n",
      "\n"
     ]
    },
    {
     "name": "stderr",
     "output_type": "stream",
     "text": [
      "/home/jupyter/.local/lib/python3.10/site-packages/google/adk/a2a/converters/event_converter.py:210: UserWarning: [EXPERIMENTAL] convert_a2a_message_to_event: ADK Implementation for A2A support (A2aAgentExecutor, RemoteA2aAgent and corresponding supporting components etc.) is in experimental mode and is subjected to breaking changes. A2A protocol and SDK arethemselves not experimental. Once it's stable enough the experimental mode will be removed. Your feedback is welcome.\n",
      "  return convert_a2a_message_to_event(\n",
      "/home/jupyter/.local/lib/python3.10/site-packages/google/adk/a2a/converters/event_converter.py:280: UserWarning: [EXPERIMENTAL] convert_a2a_part_to_genai_part: ADK Implementation for A2A support (A2aAgentExecutor, RemoteA2aAgent and corresponding supporting components etc.) is in experimental mode and is subjected to breaking changes. A2A protocol and SDK arethemselves not experimental. Once it's stable enough the experimental mode will be removed. Your feedback is welcome.\n",
      "  part = part_converter(a2a_part)\n"
     ]
    },
    {
     "name": "stdout",
     "output_type": "stream",
     "text": [
      "When the summer sun beats down, reaching for a fiery dish might seem counterintuitive, but cultures worldwide have perfected the art of heating up to cool down. Get ready to discover why a little spice is just what you need to beat the heat!\n",
      "\n",
      "## Overview\n",
      "\n",
      "Ever wonder why so many hot countries crave spicy food when it's sweltering outside? It's not just about tradition; there's some cool science behind it! Eating spicy foods containing capsaicin (that's the stuff that makes chilies hot) tricks your body into thinking it's overheating. What does your body do? It sweats! As that sweat evaporates, it helps to naturally cool you down. Plus, when the heat zaps your appetite, a zesty, spicy dish can be just the ticket to get your taste buds going again. It's a clever trick humanity has perfected over centuries to stay refreshed and energized even on the warmest days.\n",
      "\n",
      "## Global Spice Smarts\n",
      "\n",
      "From Seoul to Bangkok, and all the way to Mexico City, local cuisines offer incredible examples of how to wield spice for summer relief. In Korea, locals flock to *Naengmyeon*, icy cold buckwheat noodles often swimming in a tangy, spicy broth. It's an instant chill-out with a kick! Over in Thailand, the vibrant *Som Tum*, a green papaya salad, marries the searing heat of bird's eye chilies with refreshing lime and crisp vegetables, making for an electrifyingly cool meal. And let's not forget Mexico's *Aguachile* or *Ceviche*, where fresh seafood is \"cooked\" in citrus juices and brought to life with fiery serrano or jalapeño peppers. These dishes showcase a mastery of balancing intense heat with refreshing elements like citrus, herbs, and cold temperatures, proving that spice isn't just about burn, but about brilliant flavor and bodily comfort. Ingredients like the complex gochugaru in Korea, the sharp serrano in Mexico, or the aromatic ginger found across Asia, each play a vital role in crafting these perfectly balanced summer sensations.\n",
      "\n",
      "## Spice Up Your Summer Kitchen\n",
      "\n",
      "Want to bring some of that global summer spice wisdom into your own kitchen? You don't need to be a gourmet chef! A fantastic way to start is by making your own quick-pickled chilies or a fresh, vibrant salsa.\n",
      "*   **Quick-Pickled Chilies:** Grab some sliced jalapeños or serranos, pack them into a jar, and cover with a hot mixture of vinegar, water, sugar, and salt. Let them cool and refrigerate. These tangy, spicy gems are perfect on tacos, sandwiches, or grilled anything!\n",
      "*   **Fresh Summer Salsa:** Dice up ripe tomatoes, red onion, cilantro, and your favorite chili (like a jalapeño or a milder poblano). Squeeze in some fresh lime juice, a pinch of salt, and mix. This versatile condiment adds a burst of fresh, spicy flavor to grilled fish, chicken, or just a bowl of chips.\n",
      "\n",
      "The key is to balance that delightful heat with cooling elements. Think crisp cucumber, aromatic mint, a generous squeeze of lime, or even a dollop of yogurt or sour cream to temper the fire. These simple additions can transform your summer meals from ordinary to extraordinary, infusing them with exciting, refreshing spice.\n",
      "\n",
      "## Conclusion\n",
      "\n",
      "So, next time the mercury rises, don't shy away from the chili. Embrace the ancient wisdom of cultures that have long understood the power of a little heat to find true refreshment. Whether you're trying a global classic or whipping up your own spicy creation, a \"spicy arrangement\" might just be your new favorite way to conquer the summer swelter. It's a delicious journey into culinary cool!\n",
      "\n",
      "---\n",
      "## The review agent will now review the article.\n",
      "---\n",
      "\n",
      "Here are the good points of the article, followed by points for correction:\n",
      "\n",
      "### Good Points:\n",
      "\n",
      "*   **Engaging Opening:** The article starts with an intriguing premise, immediately grabbing the reader's attention by challenging a common perception about spicy food in summer.\n",
      "*   **Clear Explanation:** The \"Overview\" section effectively explains the physiological benefits of consuming spicy food in hot weather, making the concept understandable and logical.\n",
      "*   **Global Examples:** The \"Global Spice Smarts\" section provides diverse and well-described examples of international dishes, enriching the article with cultural context and demonstrating the widespread application of this culinary wisdom.\n",
      "*   **Actionable Examples:** The \"Spice Up Your Summer Kitchen\" section offers two practical, easy-to-follow recipes (quick-pickled chilies and fresh salsa) that readers can genuinely try at home today, fulfilling the requirement for concrete, implementable advice.\n",
      "*   **Friendly Tone:** The language used is informal and encouraging, making the article enjoyable to read and relatable to a broad audience.\n",
      "\n",
      "### Points for Correction:\n",
      "\n",
      "*   **Title Format and Content:**\n",
      "    *   The current opening paragraph acts as an introduction but does not serve as a proper title.\n",
      "    *   **Correction:** The article needs a single-line title using a markdown `#` header. This title must be less than ~10 words, contain useful life information applicable today, and make the reader feel they \"must read it now.\"\n",
      "        *   *Example Correction:* Instead of \"When the summer sun beats down...\", use something like: `# Beat Summer Heat: Eat Spicy Today!`\n",
      "*   **Introduction Placement:**\n",
      "    *   The introductory paragraph (\"When the summer sun beats down...\") currently precedes the first section \"Overview\".\n",
      "    *   **Correction:** This paragraph should immediately follow the newly formatted title.\n",
      "*   **Emojis in Subtitles:**\n",
      "    *   None of the current section subtitles (`## Overview`, `## Global Spice Smarts`, `## Spice Up Your Summer Kitchen`, `## Conclusion`) include emojis.\n",
      "    *   **Correction:** Add a relevant emoji to each section's subtitle to create a friendly feel.\n",
      "        *   *Example Correction:* `## ☀️ Overview`, `## 🌶️ Global Spice Smarts`, `## 🔪 Spice Up Your Summer Kitchen`, `## ✅ Conclusion`\n",
      "*   **Third Concrete Example:**\n",
      "    *   While \"Quick-Pickled Chilies\" and \"Fresh Summer Salsa\" are excellent, distinct examples, the section then discusses general balancing elements. To more robustly meet the requirement of \"at least three concrete examples that the reader can put into practice starting today,\" consider adding a third, distinct, actionable recipe or DIY condiment.\n",
      "    *   **Correction:** Introduce a third, clear and actionable example in the \"Spice Up Your Summer Kitchen\" section, such as a simple spicy herb marinade for grilling, a quick chili oil, or a spiced yogurt dip (like a simple raita).\n",
      "\n",
      "#### Would you like to request a revision of the article based on the review?\n",
      "\n"
     ]
    }
   ],
   "source": [
    "query = '''\n",
    "Yes, go ahead.\n",
    "'''\n",
    "result = await client.stream(query)"
   ]
  },
  {
   "cell_type": "code",
   "execution_count": 18,
   "id": "876a0dee-375b-4153-8505-b2e154ee8678",
   "metadata": {
    "tags": []
   },
   "outputs": [
    {
     "name": "stderr",
     "output_type": "stream",
     "text": [
      "Warning: there are non-text parts in the response: ['function_call'], returning concatenated text result from text parts. Check the full candidates.content.parts accessor to get the full model response.\n",
      "/home/jupyter/.local/lib/python3.10/site-packages/google/adk/agents/remote_a2a_agent.py:382: UserWarning: [EXPERIMENTAL] convert_genai_part_to_a2a_part: ADK Implementation for A2A support (A2aAgentExecutor, RemoteA2aAgent and corresponding supporting components etc.) is in experimental mode and is subjected to breaking changes. A2A protocol and SDK arethemselves not experimental. Once it's stable enough the experimental mode will be removed. Your feedback is welcome.\n",
      "  converted_part = self._genai_part_converter(part)\n"
     ]
    },
    {
     "name": "stdout",
     "output_type": "stream",
     "text": [
      "Okay, I will forward the task to the Writer and Review Agents to revise the article based on the review.\n",
      "\n",
      "\n",
      "---\n",
      "## The writer agent will now write the article.\n",
      "---\n",
      "\n"
     ]
    },
    {
     "name": "stderr",
     "output_type": "stream",
     "text": [
      "/home/jupyter/.local/lib/python3.10/site-packages/google/adk/a2a/converters/event_converter.py:210: UserWarning: [EXPERIMENTAL] convert_a2a_message_to_event: ADK Implementation for A2A support (A2aAgentExecutor, RemoteA2aAgent and corresponding supporting components etc.) is in experimental mode and is subjected to breaking changes. A2A protocol and SDK arethemselves not experimental. Once it's stable enough the experimental mode will be removed. Your feedback is welcome.\n",
      "  return convert_a2a_message_to_event(\n",
      "/home/jupyter/.local/lib/python3.10/site-packages/google/adk/a2a/converters/event_converter.py:280: UserWarning: [EXPERIMENTAL] convert_a2a_part_to_genai_part: ADK Implementation for A2A support (A2aAgentExecutor, RemoteA2aAgent and corresponding supporting components etc.) is in experimental mode and is subjected to breaking changes. A2A protocol and SDK arethemselves not experimental. Once it's stable enough the experimental mode will be removed. Your feedback is welcome.\n",
      "  part = part_converter(a2a_part)\n"
     ]
    },
    {
     "name": "stdout",
     "output_type": "stream",
     "text": [
      "# Beat Summer Heat: Eat Spicy Today!\n",
      "\n",
      "When the summer sun beats down, what’s your first instinct? Probably a scoop of ice cream or a tall, cold drink, right? But what if I told you that turning up the heat in your kitchen could actually help you beat the heat outside? It sounds counterintuitive, but many cultures around the world have known this secret for centuries.\n",
      "\n",
      "## ☀️ Overview\n",
      "\n",
      "Eating spicy food might make you sweat, and that's precisely the point! When you consume capsaicin, the compound that gives chili peppers their kick, it triggers heat receptors in your mouth and throughout your body. This sends a signal to your brain that your body temperature is rising, even if it's not. Your body then responds by activating its natural cooling system: sweating. As that sweat evaporates from your skin, it takes heat with it, leaving you feeling cooler and more refreshed. It's like having your own internal air conditioner!\n",
      "\n",
      "## 🌶️ Global Spice Smarts\n",
      "\n",
      "You'll find this culinary wisdom woven into the traditions of many hot-weather countries. Think of the fiery curries of Thailand and India, the vibrant salsas and chile-laden dishes of Mexico, or the zesty stews of Ethiopia. These aren't just about flavor; they're ingenious strategies for staying comfortable when temperatures soar. From a spicy tom yum soup in Bangkok to a scorching vindaloo in Goa, these dishes prove that sometimes, fighting fire with fire (or, rather, heat with heat) is the most delicious way to stay cool.\n",
      "\n",
      "## 🔪 Spice Up Your Summer Kitchen\n",
      "\n",
      "Ready to put this spicy secret to the test? Here are a few simple ways to incorporate a little heat into your summer meals. They're quick, easy, and sure to add a refreshing kick!\n",
      "\n",
      "*   **Quick-Pickled Chilies:** Thinly slice your favorite chilies (jalapeños, serranos, or even mild banana peppers). Pack them into a jar. Heat equal parts water and white vinegar with a pinch of salt and sugar until dissolved. Pour over the chilies, seal, and refrigerate. They'll be ready in a few hours and are perfect on tacos, sandwiches, or salads.\n",
      "*   **Fresh Summer Salsa:** Dice ripe tomatoes, red onion, cilantro, and a jalapeño (or serrano for more heat). Squeeze in some lime juice, add a pinch of salt, and mix well. This vibrant salsa is fantastic with grilled chicken, fish, or just with tortilla chips.\n",
      "*   **Spiced Yogurt Dip:** Mix plain Greek yogurt with finely minced garlic, grated cucumber (squeezed dry), a sprinkle of cumin, a pinch of red chili flakes, and fresh mint. Add a squeeze of lemon juice and salt to taste. This cooling, spicy dip is excellent with grilled meats, raw veggies, or as a spread for wraps.\n",
      "\n",
      "## ✅ Conclusion\n",
      "\n",
      "So, next time the mercury rises, don't shy away from the chili flakes or that extra jalapeño. Embrace the heat! Eating spicy food is not just a flavorful adventure; it's a smart, science-backed way to keep cool and enjoy your summer to the fullest. Give it a try, and you might just discover your new favorite summer tradition!\n",
      "\n",
      "---\n",
      "## The review agent will now review the article.\n",
      "---\n",
      "\n",
      "Here's a review of the feature article:\n",
      "\n",
      "### Good Points of the Article\n",
      "\n",
      "1.  **Highly Effective Title:** The title \"# Beat Summer Heat: Eat Spicy Today!\" is concise (6 words, well under the 10-word limit), immediately actionable, and creates a sense of urgency with \"Eat Spicy Today!\", perfectly aligning with the requirement for \"useful life information applicable from today\" and making the reader feel they \"must read it now.\" It also correctly uses a markdown # header.\n",
      "2.  **Strong and Relevant Introduction:** The introduction effectively sets the stage by challenging a common perception and clearly articulates \"why this topic is being addressed now\" by directly linking to the summer season and motivating the reader to learn a counter-intuitive cooling method.\n",
      "3.  **Engaging Subtitle Emojis:** Each section's subtitle (`☀️ Overview`, `🌶️ Global Spice Smarts`, `🔪 Spice Up Your Summer Kitchen`, `✅ Conclusion`) incorporates relevant emojis, successfully contributing to a friendly and inviting tone, as required.\n",
      "4.  **Clear Scientific Explanation:** The \"Overview\" section provides a concise and understandable explanation of *how* spicy food helps cool the body, grounding the advice in scientific principles.\n",
      "5.  **Culturally Contextualized:** The \"Global Spice Smarts\" section adds depth and credibility by highlighting the worldwide traditional wisdom behind this practice in various hot-weather countries.\n",
      "6.  **Practical and Actionable Examples:** The article provides three distinct and concrete examples (\"Quick-Pickled Chilies,\" \"Fresh Summer Salsa,\" \"Spiced Yogurt Dip\") with clear, easy-to-follow instructions, enabling readers to put them into practice starting today.\n",
      "7.  **Strong Conclusion:** The conclusion effectively summarizes the main takeaway and encourages readers to try the advice, reinforcing the article's core message.\n",
      "\n",
      "### Points for Correction\n",
      "\n",
      "1.  **Introduction - Sharpening the \"Now\" Hook (Minor refinement):** While the introduction clearly links to summer, consider beginning with a slightly more direct acknowledgement of the *immediate* discomfort or urgency readers might feel *today*. For example, starting with \"As the summer sun relentlessly beats down *today*, what’s your first instinct?\" or a similar phrase could subtly amplify the \"must read it now\" aspect of the article's initial hook.\n",
      "2.  **Example Descriptions - Reinforcing Immediacy (Minor enhancement):** For each example, briefly highlighting how quickly it can be prepared or enjoyed could further emphasize the \"starting today\" aspect for the reader. For instance, for \"Quick-Pickled Chilies,\" after mentioning \"ready in a few hours,\" you could add, \"perfect for dinner tonight!\" or similar phrasing for the other recipes to explicitly link to immediate application.\n",
      "3.  **Consistency in Subtitle Wording (Stylistic):** The subtitle \"🌶️ Global Spice Smarts\" is a good playful title. However, for slight stylistic consistency with the more direct and descriptive \"☀️ Overview\" and \"🔪 Spice Up Your Summer Kitchen,\" a slightly more descriptive title like \"🌶️ Global Spicy Cooling Traditions\" or \"🌶️ Worldwide Spicy Wisdom\" could be considered. This is purely a stylistic preference and doesn't detract from the current title's effectiveness.\n",
      "\n",
      "#### Would you like to request a revision of the article based on the review?\n",
      "\n"
     ]
    }
   ],
   "source": [
    "query = '''\n",
    "Yes, go ahead.\n",
    "'''\n",
    "result = await client.stream(query)"
   ]
  },
  {
   "cell_type": "code",
   "execution_count": 19,
   "id": "0b6abf63-59d4-40a1-941d-67bd5a59ef7b",
   "metadata": {
    "tags": []
   },
   "outputs": [
    {
     "name": "stdout",
     "output_type": "stream",
     "text": [
      "# Beat Summer Heat: Eat Spicy Today!\n",
      "\n",
      "As the summer sun relentlessly beats down today, what’s your first instinct? Probably a scoop of ice cream or a tall, cold drink, right? But what if I told you that turning up the heat in your kitchen could actually help you beat the heat outside? It sounds counterintuitive, but many cultures around the world have known this secret for centuries.\n",
      "\n",
      "## ☀️ Overview\n",
      "\n",
      "Eating spicy food might make you sweat, and that's precisely the point! When you consume capsaicin, the compound that gives chili peppers their kick, it triggers heat receptors in your mouth and throughout your body. This sends a signal to your brain that your body temperature is rising, even if it's not. Your body then responds by activating its natural cooling system: sweating. As that sweat evaporates from your skin, it takes heat with it, leaving you feeling cooler and more refreshed. It's like having your own internal air conditioner!\n",
      "\n",
      "## 🌶️ Global Spice Smarts\n",
      "\n",
      "You'll find this culinary wisdom woven into the traditions of many hot-weather countries. Think of the fiery curries of Thailand and India, the vibrant salsas and chile-laden dishes of Mexico, or the zesty stews of Ethiopia. These aren't just about flavor; they're ingenious strategies for staying comfortable when temperatures soar. From a spicy tom yum soup in Bangkok to a scorching vindaloo in Goa, these dishes prove that sometimes, fighting fire with fire (or, rather, heat with heat) is the most delicious way to stay cool.\n",
      "\n",
      "## 🔪 Spice Up Your Summer Kitchen\n",
      "\n",
      "Ready to put this spicy secret to the test? Here are a few simple ways to incorporate a little heat into your summer meals. They're quick, easy, and sure to add a refreshing kick!\n",
      "\n",
      "*   **Quick-Pickled Chilies:** Thinly slice your favorite chilies (jalapeños, serranos, or even mild banana peppers). Pack them into a jar. Heat equal parts water and white vinegar with a pinch of salt and sugar until dissolved. Pour over the chilies, seal, and refrigerate. They'll be ready in a few hours, perfect for dinner tonight!\n",
      "*   **Fresh Summer Salsa:** Dice ripe tomatoes, red onion, cilantro, and a jalapeño (or serrano for more heat). Squeeze in some lime juice, add a pinch of salt, and mix well. This vibrant salsa is fantastic with grilled chicken, fish, or just with tortilla chips – ready in minutes!\n",
      "*   **Spiced Yogurt Dip:** Mix plain Greek yogurt with finely minced garlic, grated cucumber (squeezed dry), a sprinkle of cumin, a pinch of red chili flakes, and fresh mint. Add a squeeze of lemon juice and salt to taste. This cooling, spicy dip is excellent with grilled meats, raw veggies, or as a spread for wraps - enjoy immediately!\n",
      "\n",
      "## ✅ Conclusion\n",
      "\n",
      "So, next time the mercury rises, don't shy away from the chili flakes or that extra jalapeño. Embrace the heat! Eating spicy food is not just a flavorful adventure; it's a smart, science-backed way to keep cool and enjoy your summer to the fullest. Give it a try, and you might just discover your new favorite summer tradition!\n",
      "\n"
     ]
    }
   ],
   "source": [
    "query = f'''\n",
    "Good job, show the entire article again.\n",
    "'''\n",
    "result = await client.stream(query)"
   ]
  },
  {
   "cell_type": "markdown",
   "id": "c02629b8-4761-4a05-824a-58745041026c",
   "metadata": {
    "tags": []
   },
   "source": [
    "## Deploying the root agent on Agent Engine"
   ]
  },
  {
   "cell_type": "markdown",
   "id": "ebc65600-7525-406d-ab8f-980c603b0d9e",
   "metadata": {},
   "source": [
    "Execute the following command from Cloud Shell to assign `aiplatform.user` role to the Reasoning Engine service account so that the root agent can call remote agents.\n",
    "\n",
    "```\n",
    "PROJECT_ID=$(gcloud config list --format 'value(core.project)')\n",
    "PROJECT_NUMBER=$(gcloud projects describe $PROJECT_ID --format='value(projectNumber)')\n",
    "gcloud projects add-iam-policy-binding $PROJECT_ID \\\n",
    "    --member=\"serviceAccount:service-${PROJECT_NUMBER}@gcp-sa-aiplatform-re.iam.gserviceaccount.com\" \\\n",
    "    --role='roles/aiplatform.user'\n",
    "```"
   ]
  },
  {
   "cell_type": "markdown",
   "id": "ccc9b04a-89ad-4c3e-9b25-f8dfb5694e94",
   "metadata": {},
   "source": [
    "Currently, deploying the root agent with `RemoteA2aAgent` as its subagents needs some workarounds to keep the root agent instance serializable.\n",
    "\n",
    "We define a wrapper class for `ClientFactory` and `RemoteA2aAgent` as below."
   ]
  },
  {
   "cell_type": "code",
   "execution_count": null,
   "id": "5725d8a3-002e-4d6b-909e-6a4045fd85a7",
   "metadata": {
    "tags": []
   },
   "outputs": [],
   "source": [
    "def get_agent_resource(agent_name):\n",
    "    for agent in agent_engines.list():\n",
    "        if agent.display_name == agent_name:\n",
    "            return agent.resource_name\n",
    "    return None\n",
    "\n",
    "\n",
    "class GoogleAuthRefresh(httpx.Auth):\n",
    "    def __init__(self, scopes):\n",
    "        self.credentials, _ = default(scopes=scopes)\n",
    "        self.transport_request = Request()\n",
    "        self.credentials.refresh(self.transport_request)\n",
    "\n",
    "    def auth_flow(self, request):\n",
    "        if not self.credentials.valid:\n",
    "            self.credentials.refresh(self.transport_request)        \n",
    "        request.headers['Authorization'] = f'Bearer {self.credentials.token}'\n",
    "        yield request\n",
    "\n",
    "\n",
    "from a2a.client.transports.rest import RestTransport       \n",
    "class MyClientFactory(ClientFactory):\n",
    "    def create(self, card, consumers=None, interceptors=None):\n",
    "        if not self._config.httpx_client:\n",
    "            self._config.httpx_client=httpx.AsyncClient(\n",
    "                timeout=60,\n",
    "                headers={'Content-Type': 'application/json'},\n",
    "                auth=GoogleAuthRefresh(scopes=['https://www.googleapis.com/auth/cloud-platform']) \n",
    "            )\n",
    "            self._register_defaults(self._config.supported_transports)\n",
    "        return super().create(card, consumers, interceptors)\n",
    "\n",
    "\n",
    "class MyRemoteA2aAgent(RemoteA2aAgent):\n",
    "    async def _ensure_httpx_client(self) -> httpx.AsyncClient:\n",
    "        if not self._httpx_client:\n",
    "            self._httpx_client=httpx.AsyncClient(\n",
    "                timeout=60,\n",
    "                headers={'Content-Type': 'application/json'},\n",
    "                auth=GoogleAuthRefresh(scopes=['https://www.googleapis.com/auth/cloud-platform']) \n",
    "            )\n",
    "        return self._httpx_client\n",
    "\n",
    "\n",
    "factory = MyClientFactory(\n",
    "    ClientConfig(\n",
    "        supported_transports=[TransportProtocol.http_json],\n",
    "        use_client_preference=True,\n",
    "    )\n",
    ")"
   ]
  },
  {
   "cell_type": "markdown",
   "id": "2bab7159-be02-4108-a533-c2559de43a6c",
   "metadata": {},
   "source": [
    "Define RemoteA2aAgent instances with the wrapper classes, and the root agent."
   ]
  },
  {
   "cell_type": "code",
   "execution_count": 4,
   "id": "62bd82be-84e1-4335-b504-75a93444259c",
   "metadata": {
    "tags": []
   },
   "outputs": [],
   "source": [
    "resource_name = get_agent_resource('research_agent1_a2a')\n",
    "a2a_url = f'https://{LOCATION}-aiplatform.googleapis.com/v1beta1/{resource_name}/a2a'\n",
    "research_agent1_remoteA2a = MyRemoteA2aAgent(\n",
    "    name='research_agent1',\n",
    "    description='''\n",
    "An agent that gathers the necessary information for writing an article\n",
    "and compiles it into a report (theme selection)\n",
    "    ''',\n",
    "    agent_card=f'{a2a_url}/v1/card',\n",
    "    a2a_client_factory=factory,\n",
    ")\n",
    "\n",
    "resource_name = get_agent_resource('research_agent2_a2a')\n",
    "a2a_url = f'https://{LOCATION}-aiplatform.googleapis.com/v1beta1/{resource_name}/a2a'\n",
    "research_agent2_remoteA2a = MyRemoteA2aAgent(\n",
    "    name='research_agent2',\n",
    "    description='''\n",
    "An agent that collects the information necessary for writing an article\n",
    "and compiles it into a report (report creation)\n",
    "    ''',\n",
    "    agent_card=f'{a2a_url}/v1/card',\n",
    "    a2a_client_factory=factory,\n",
    ")\n",
    "\n",
    "resource_name = get_agent_resource('writer_agent_a2a')\n",
    "a2a_url = f'https://{LOCATION}-aiplatform.googleapis.com/v1beta1/{resource_name}/a2a'\n",
    "writer_agent_remoteA2a = MyRemoteA2aAgent(\n",
    "    name='writer_agent',\n",
    "    description='An agent that writes feature articles on specific topics.',\n",
    "    agent_card=f'{a2a_url}/v1/card',\n",
    "    a2a_client_factory=factory,\n",
    ")\n",
    "\n",
    "resource_name = get_agent_resource('review_agent_a2a')\n",
    "a2a_url = f'https://{LOCATION}-aiplatform.googleapis.com/v1beta1/{resource_name}/a2a'\n",
    "review_agent_remoteA2a = MyRemoteA2aAgent(\n",
    "    name='review_agent',\n",
    "    description='An agent that reviews feature articles.',\n",
    "    agent_card=f'{a2a_url}/v1/card',\n",
    "    a2a_client_factory=factory,\n",
    ")\n",
    "\n",
    "def get_print_agent(text):\n",
    "    def before_model_callback(\n",
    "        callback_context: CallbackContext, llm_request: LlmRequest\n",
    "    ) -> LlmResponse:\n",
    "        return LlmResponse(\n",
    "            content=Content(\n",
    "                role='model', parts=[Part(text=text)],\n",
    "            )\n",
    "        )\n",
    "        \n",
    "    return LlmAgent(\n",
    "        name='print_agent',\n",
    "        model='gemini-2.0-flash', # not used\n",
    "        description='',\n",
    "        instruction = '',\n",
    "        before_model_callback=before_model_callback,\n",
    "    )\n",
    "\n",
    "research_agent = SequentialAgent(\n",
    "    name='research_agent',\n",
    "    sub_agents=[\n",
    "        get_print_agent('\\n---\\n## The research agent will create a research report.\\n---\\n'),\n",
    "        get_print_agent('\\n## Selecting the topics for investigation.\\n'),\n",
    "        research_agent1_remoteA2a,\n",
    "        get_print_agent('\\n## Creating the research report based on the selected topics.\\n'),\n",
    "        research_agent2_remoteA2a,\n",
    "        get_print_agent('\\n#### The research report is ready. Shall we proceed with writing the article?\\n'),\n",
    "    ],\n",
    "    description='An agent that collects the information necessary for writing an article and compiles it into a report.',\n",
    ")\n",
    "\n",
    "write_and_review_agent = SequentialAgent(\n",
    "    name='write_and_review_agent',\n",
    "    sub_agents=[\n",
    "        get_print_agent('\\n---\\n## The writer agent will now write the article.\\n---\\n'),\n",
    "        writer_agent_remoteA2a,\n",
    "        get_print_agent('\\n---\\n## The review agent will now review the article.\\n---\\n'),\n",
    "        review_agent_remoteA2a,\n",
    "        get_print_agent('\\n#### Would you like to request a revision of the article based on the review?\\n'),\n",
    "    ],\n",
    "    description='Create and review an article.',\n",
    ")\n",
    "\n",
    "root_agent = LlmAgent(\n",
    "    name='article_generation_flow',\n",
    "    model='gemini-2.0-flash',\n",
    "    instruction = '''\n",
    "If asked what you can do, please respond with a clear and friendly summary of the following process:\n",
    "\n",
    "- Execute a workflow to create an article on a theme specified by the user.\n",
    "- First, create a research report on the theme.\n",
    "- After that, the writer and review agents will collaborate to create an article that adheres to the editorial policy.\n",
    "\n",
    "If the user specifies a theme for the article, execute the following flow:\n",
    "\n",
    "1. Announce that you will begin creating an article on that theme and forward the task to research_agent to request a research report.\n",
    "2. If the user confirms the creation of the article, forward the task to write_and_review_agent to request the article's creation and review.\n",
    "3. If the user wishes to revise the article, forward the task to write_and_review_agent.\n",
    "\n",
    "**Conditions**\n",
    "The nickname for research_agent is \"the Research Agent\".\n",
    "The nickname for write_and_review_agent is \"the Writer and Review Agents\".\n",
    "\n",
    "## IMPORTANT ##\n",
    "MAKE SURE THAT YOU ALWAYS CALL THE APPROPREATE SUBAGENT research_agent or write_and_review_agent WHEN NECESSARY.\n",
    "\n",
    "''',\n",
    "    sub_agents=[\n",
    "        research_agent,\n",
    "        write_and_review_agent,\n",
    "    ],\n",
    "    description='An agent that executes the workflow for creating an article.'\n",
    ")"
   ]
  },
  {
   "cell_type": "markdown",
   "id": "af1c4153-220e-4917-95fa-72a140e0e1ab",
   "metadata": {
    "tags": []
   },
   "source": [
    "Deploy the root agent on Agent Engine."
   ]
  },
  {
   "cell_type": "code",
   "execution_count": 5,
   "id": "d1e2ab71-a290-4fed-b7a0-3457b69d586c",
   "metadata": {
    "tags": []
   },
   "outputs": [
    {
     "name": "stdout",
     "output_type": "stream",
     "text": [
      "Deploying google.adk.agents.Agent as an application.\n",
      "Identified the following requirements: {'cloudpickle': '3.1.1', 'pydantic': '2.11.9', 'google-cloud-aiplatform': '1.113.0'}\n",
      "The following requirements are missing: {'cloudpickle', 'pydantic'}\n",
      "The following requirements are appended: {'pydantic==2.11.9', 'cloudpickle==3.1.1'}\n",
      "The final list of requirements: ['google-adk==1.14.1', 'google-genai==1.36.0', 'google-cloud-aiplatform==1.113.0', 'a2a-sdk==0.3.5', 'pydantic==2.11.9', 'cloudpickle==3.1.1']\n",
      "Using bucket etsuji-15pro-poc\n",
      "Wrote to gs://etsuji-15pro-poc/agent_engine/agent_engine.pkl\n",
      "Writing to gs://etsuji-15pro-poc/agent_engine/requirements.txt\n",
      "Creating in-memory tarfile of extra_packages\n",
      "Writing to gs://etsuji-15pro-poc/agent_engine/dependencies.tar.gz\n",
      "failed to generate schema for async_add_session_to_memory: `async_add_session_to_memory` is not fully defined; you should define `Session`, then call `async_add_session_to_memory.model_rebuild()`.\n",
      "\n",
      "For further information visit https://errors.pydantic.dev/2.11/u/class-not-fully-defined\n",
      "Creating AgentEngine\n",
      "Create AgentEngine backing LRO: projects/879055303739/locations/us-central1/reasoningEngines/7117134368547536896/operations/8950817827476996096\n",
      "View progress and logs at https://console.cloud.google.com/logs/query?project=etsuji-15pro-poc\n",
      "AgentEngine created. Resource name: projects/879055303739/locations/us-central1/reasoningEngines/7117134368547536896\n",
      "To use this AgentEngine in another session:\n",
      "agent_engine = vertexai.agent_engines.get('projects/879055303739/locations/us-central1/reasoningEngines/7117134368547536896')\n"
     ]
    }
   ],
   "source": [
    "remote_agent = agent_engines.create(\n",
    "    agent_engine=root_agent,\n",
    "    display_name='article_generation_flow_agent',\n",
    "    requirements=[\n",
    "        'google-adk==1.14.1',\n",
    "        'google-genai==1.36.0',\n",
    "        'google-cloud-aiplatform==1.113.0',\n",
    "        'a2a-sdk==0.3.5'\n",
    "    ],\n",
    ")"
   ]
  },
  {
   "cell_type": "markdown",
   "id": "e7ecd94f-f086-45f7-8a07-693dc700a485",
   "metadata": {},
   "source": [
    "Local application class to execute the root agent on Agent Engine."
   ]
  },
  {
   "cell_type": "code",
   "execution_count": 6,
   "id": "7bc6ca6e-2039-416e-bf3e-7ebd84508751",
   "metadata": {
    "tags": []
   },
   "outputs": [],
   "source": [
    "class RemoteApp:\n",
    "    def __init__(self, remote_agent, user_id='default_user'):\n",
    "        self._remote_agent = remote_agent\n",
    "        self._user_id = user_id\n",
    "        self._session = None\n",
    "\n",
    "    async def _stream(self, query):\n",
    "        if not self._session:\n",
    "            self._session = await remote_agent.async_create_session(user_id=self._user_id)\n",
    "        events = self._remote_agent.async_stream_query(\n",
    "            user_id=self._user_id,\n",
    "            session_id=self._session['id'],\n",
    "            message=query,\n",
    "        )\n",
    "        result = []\n",
    "        async for event in events:\n",
    "            if ('content' in event and 'parts' in event['content']):\n",
    "                response = '\\n'.join(\n",
    "                    [p['text'] for p in event['content']['parts'] if 'text' in p]\n",
    "                )\n",
    "                print(response)\n",
    "                result.append(response)\n",
    "        return result\n",
    "\n",
    "    async def stream(self, query):\n",
    "        for _ in range(5):\n",
    "            result = await self._stream(query)\n",
    "            if result:\n",
    "                return result\n",
    "            time.sleep(3)\n",
    "        return 'Error: No response from Agent Engine.'"
   ]
  },
  {
   "cell_type": "markdown",
   "id": "6fa04141-a479-4c32-bd61-a3063f40635c",
   "metadata": {},
   "source": [
    "Execute the root agent on Agent Engine with the `RemoteApp` instance."
   ]
  },
  {
   "cell_type": "code",
   "execution_count": 7,
   "id": "d26ace8a-ebaa-432c-a818-0c999646f8e6",
   "metadata": {
    "tags": []
   },
   "outputs": [
    {
     "name": "stdout",
     "output_type": "stream",
     "text": [
      "I can execute a workflow to create an article on a theme you specify. First, I'll create a research report on the theme using the Research Agent. After that, the Writer and Review Agents will collaborate to create an article that adheres to the editorial policy.\n",
      "\n"
     ]
    }
   ],
   "source": [
    "client = RemoteApp(remote_agent)\n",
    "\n",
    "query = '''\n",
    "Hello, what can you do?\n",
    "'''\n",
    "result = await client.stream(query)"
   ]
  },
  {
   "cell_type": "code",
   "execution_count": 8,
   "id": "3a0d9b3a-c95d-475b-8980-4db33784e2c5",
   "metadata": {
    "tags": []
   },
   "outputs": [
    {
     "name": "stdout",
     "output_type": "stream",
     "text": [
      "Okay, I will begin creating an article on the theme \"Spicy Arrangements of Local Cuisine to Get Through the Summer.\" I will now forward the task to the Research Agent to request a research report.\n",
      "\n",
      "\n",
      "\n",
      "---\n",
      "## The research agent will create a research report.\n",
      "---\n",
      "\n",
      "\n",
      "## Selecting the topics for investigation.\n",
      "\n",
      "Here is a list of 5 topics for your research report on \"Spicy Arrangements of Local Cuisine to Get Through the Summer\":\n",
      "\n",
      "1.  **The Paradoxical Cool: How Spicy Foods Combat Summer Heat**:\n",
      "    *   Explore the physiological mechanisms (e.g., capsaicin stimulating thermoreceptors, inducing sweating, vasodilation) that contribute to a cooling sensation from spicy food.\n",
      "    *   Discuss cultural beliefs and historical context across different regions (e.g., Ayurvedic principles, traditional Chinese medicine) that advocate for consuming piquant dishes in hot climates.\n",
      "    *   Explain why certain \"spicy arrangements\" are specifically beneficial in summer, beyond just the heat.\n",
      "\n",
      "2.  **Global Heatwave Heroes: Iconic Local Spicy Summer Dishes**:\n",
      "    *   Showcase 3-4 distinct spicy local dishes from different culinary traditions that are traditionally consumed in summer.\n",
      "    *   Examples could include:\n",
      "        *   **Thai Som Tum (Green Papaya Salad)**: Highlighting its spicy, sour, sweet, and savory balance with fresh chilies, lime, and cooling vegetables.\n",
      "        *   **Korean Naengmyeon (Cold Buckwheat Noodles) with Gochujang**: Focusing on the refreshing cold broth contrasted with the spicy kick.\n",
      "        *   **Indian Chaat/Bhel Puri**: Emphasizing its blend of spicy, tangy, and crunchy textures for a refreshing snack.\n",
      "        *   **Mexican Ceviche with Habanero/Serrano**: Illustrating how fresh chilies enhance the acidity and \"cook\" the seafood, making it light and invigorating.\n",
      "    *   Detail the core \"spicy arrangement\" and cultural context for each dish.\n",
      "\n",
      "3.  **The Summer Spice Rack: Key Ingredients and Their Cooling Complementaries**:\n",
      "    *   Identify and describe the types of chilies (fresh vs. dried, varying heat levels, specific regional chilies) most commonly used in summer-friendly spicy dishes, and their flavor profiles.\n",
      "    *   Discuss other aromatic spices (e.g., ginger, garlic, black pepper, turmeric, cumin) that often accompany chilies in these arrangements, contributing to both flavor and perceived summer benefits.\n",
      "    *   Highlight complementary fresh ingredients such as herbs (mint, cilantro, basil), citrus (lime, lemon), and cooling vegetables (cucumber, tomato, various leafy greens) that balance and enhance the \"spicy arrangement\" for summer.\n",
      "\n",
      "4.  **Beyond the Burn: Mastering Flavor Balance in Summer Spicy Cuisine**:\n",
      "    *   Explain how local cuisines achieve complexity and refreshment in spicy summer dishes by skillfully balancing heat with other tastes: sour (citrus, vinegar, tamarind), sweet (palm sugar, fruit), salty (fish sauce, soy sauce), and umami.\n",
      "    *   Provide examples of specific culinary techniques or traditional flavor combinations that exemplify this balance, making the dishes appetizing and cooling rather than just overwhelmingly hot.\n",
      "    *   Discuss the role of texture and temperature (e.g., cold dishes with spicy elements) in creating a refreshing experience.\n",
      "\n",
      "5.  **Modern Adaptations: Bringing Global Spicy Summer Flavors to Your Kitchen**:\n",
      "    *   Offer practical advice for home cooks to recreate or adapt these \"spicy arrangements of local cuisine\" for their own summer cooking.\n",
      "    *   Include tips for adjusting spice levels, sourcing key ingredients, and making ingredient substitutions while maintaining the essence of the dish.\n",
      "    *   Suggest easy applications like spicy marinades for grilling, fresh chili-lime dressings for salads, homemade cooling beverages with a spicy kick, or quick stir-fries designed for summer.\n",
      "    *   Emphasize the health benefits (e.g., metabolism boost, improved circulation) often associated with these spicy summer dishes.\n",
      "\n",
      "## Creating the research report based on the selected topics.\n",
      "\n",
      "Here is the research report on \"Spicy Arrangements of Local Cuisine to Get Through the Summer\":\n",
      "\n",
      "### Research Report: Spicy Arrangements of Local Cuisine to Get Through the Summer\n",
      "\n",
      "---\n",
      "\n",
      "#### 1. The Paradoxical Cool: How Spicy Foods Combat Summer Heat\n",
      "\n",
      "Spicy foods, contrary to initial perception, can actually help the body cool down, a phenomenon often referred to as \"gustatory sweating.\" This effect is primarily due to capsaicin, the active compound found in chili peppers, which stimulates thermoreceptors in the mouth and throat. These receptors send signals to the brain, mimicking a sensation of heat, which in turn triggers the body's natural cooling mechanisms. Specifically, the body responds by increasing blood flow to the skin (vasodilation) and inducing perspiration, both of which are crucial for heat dissipation as sweat evaporates from the skin, taking heat with it. Many cultures, particularly in hot and humid regions, have historically embraced this principle, with traditional medicinal practices like Ayurveda and Traditional Chinese Medicine advocating for piquant dishes to balance internal heat and promote circulation. Thus, consuming appropriately spiced dishes in summer is not just a culinary preference but a physiologically sound strategy to enhance comfort and manage internal body temperature.\n",
      "\n",
      "#### 2. Global Heatwave Heroes: Iconic Local Spicy Summer Dishes\n",
      "\n",
      "Around the world, various local cuisines feature spicy dishes specifically designed for summer consumption, offering refreshment alongside a piquant kick. **Thai Som Tum (Green Papaya Salad)** is a quintessential example, balancing the fiery heat of fresh chilies with the sourness of lime, sweetness of palm sugar, and umami of fish sauce, all combined with crisp green papaya, making it incredibly refreshing. In Korea, **Naengmyeon (Cold Buckwheat Noodles)** often incorporates a spicy gochujang-based sauce, providing a stimulating contrast to its icy broth and chewy noodles, which is particularly invigorating on a hot day. India offers **Chaat and Bhel Puri**, vibrant street food snacks combining various textures like puffed rice, crispy puris, and fresh vegetables with tangy chutneys and liberal sprinklings of chili powder, offering a delightful and light spicy-sour refreshment. Lastly, **Mexican Ceviche**, often prepared with fresh seafood \"cooked\" in citrus juices and enhanced with sharp habanero or serrano chilies, provides a light, zesty, and spicy dish that is both invigorating and perfectly suited for warm weather. These dishes exemplify how cultures leverage spiciness to create complex, cooling, and satisfying summer meals.\n",
      "\n",
      "#### 3. The Summer Spice Rack: Key Ingredients and Their Cooling Complementaries\n",
      "\n",
      "The art of crafting summer-friendly spicy dishes involves a thoughtful selection of chilies and their complementary ingredients. For spiciness, fresh chilies like bird's eye chilies, jalapeños, serranos, or even milder Padrón peppers are frequently preferred over dried ones for their vibrant flavor and often lower, more manageable heat. These chilies are often paired with aromatic spices such as fresh ginger and garlic, which add pungency and perceived warmth, along with cooling spices like cumin and coriander, known for their digestive benefits and earthy notes. Crucially, these heat-inducing elements are balanced by a wealth of fresh, cooling ingredients. Herbs like mint, cilantro, and basil contribute refreshing aromas and flavors, while citrus fruits such as lime and lemon provide essential acidity that cuts through richness and brightens the palate. Furthermore, crisp vegetables like cucumber, tomatoes, and various leafy greens are integral for adding hydration, texture, and a direct cooling sensation, completing the \"spicy arrangement\" ideal for summer.\n",
      "\n",
      "#### 4. Beyond the Burn: Mastering Flavor Balance in Summer Spicy Cuisine\n",
      "\n",
      "Achieving culinary excellence in spicy summer dishes extends far beyond simply adding heat; it involves a sophisticated mastery of flavor balance. Local cuisines skillfully integrate the five basic tastes—sour, sweet, salty, bitter, and umami—to create a complex and harmonious profile that makes spicy dishes incredibly appealing and refreshing rather than overwhelming. Sourness, often derived from ingredients like lime, tamarind, or vinegar, is critical for cutting through the heat and enhancing freshness. Sweetness, from sources like palm sugar or fruit, provides a mellowing counterpoint, while saltiness (e.g., from fish sauce or soy sauce) deepens flavor and aids in hydration. Many dishes also incorporate umami-rich ingredients to add depth and savory satisfaction. Moreover, the role of texture and temperature is paramount; cold or chilled elements, such as those found in cold noodle soups or ceviches, intensify the refreshing experience, ensuring that the combined effect is an invigorating and palate-cleansing sensation, perfect for combating summer lethargy.\n",
      "\n",
      "#### 5. Modern Adaptations: Bringing Global Spicy Summer Flavors to Your Kitchen\n",
      "\n",
      "For home cooks, adapting global spicy summer flavors to the modern kitchen offers an exciting way to invigorate warm-weather menus. A key tip is to always adjust spice levels to personal preference, starting with a smaller amount of chili and adding more if desired, especially when dealing with potent fresh chilies. Sourcing key ingredients, such as specific chili varieties, fresh herbs, or unique souring agents like tamarind paste, is essential for authentic flavor, though suitable substitutions can often be made (e.g., rice vinegar for lime juice in a pinch for acidity). Easy applications include crafting vibrant spicy marinades for grilled meats or vegetables, whipping up fresh chili-lime dressings for summer salads, or even infusing water or iced tea with a subtle kick of ginger or mild chili for a refreshing beverage. These dishes are not only delicious but also offer potential health benefits, such as boosting metabolism, improving circulation, and encouraging fluid intake, making them an excellent choice for a healthier and more enjoyable summer.\n",
      "\n",
      "#### The research report is ready. Shall we proceed with writing the article?\n",
      "\n"
     ]
    }
   ],
   "source": [
    "query = '''\n",
    "Create an article with the theme \"Spicy Arrangements of Local Cuisine\n",
    "to Get Through the Summer.\"\n",
    "'''\n",
    "result = await client.stream(query)"
   ]
  }
 ],
 "metadata": {
  "environment": {
   "kernel": "conda-base-py",
   "name": "workbench-notebooks.m133",
   "type": "gcloud",
   "uri": "us-docker.pkg.dev/deeplearning-platform-release/gcr.io/workbench-notebooks:m133"
  },
  "kernelspec": {
   "display_name": "Python 3 (ipykernel)",
   "language": "python",
   "name": "conda-base-py"
  },
  "language_info": {
   "codemirror_mode": {
    "name": "ipython",
    "version": 3
   },
   "file_extension": ".py",
   "mimetype": "text/x-python",
   "name": "python",
   "nbconvert_exporter": "python",
   "pygments_lexer": "ipython3",
   "version": "3.10.18"
  }
 },
 "nbformat": 4,
 "nbformat_minor": 5
}
