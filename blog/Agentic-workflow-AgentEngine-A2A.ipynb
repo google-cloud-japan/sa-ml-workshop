{
 "cells": [
  {
   "cell_type": "markdown",
   "id": "a5579285-e698-4ed2-b1f1-5d4fb4f6f123",
   "metadata": {},
   "source": [
    "# Agentic workflow with Agent Engine A2A integration example\n",
    "\n",
    "This notebook shows an example of an agentic workflow using remote A2A agents deployed on Agent Engine.\n",
    "\n",
    "See the following notebook for the workflow description.\n",
    "\n",
    "- [Multi-agent workflow example](https://github.com/google-cloud-japan/sa-ml-workshop/blob/main/blog/multi_agent_article_writing_example_en.ipynb)"
   ]
  },
  {
   "cell_type": "markdown",
   "id": "746c5c53-e95c-49e0-b17e-b889de2aa643",
   "metadata": {
    "tags": []
   },
   "source": [
    "## Preparation"
   ]
  },
  {
   "cell_type": "code",
   "execution_count": null,
   "id": "102076ec-8bf1-4087-8f6a-12e699c148ef",
   "metadata": {
    "tags": []
   },
   "outputs": [],
   "source": [
    "%pip install --user \\\n",
    "    google-adk==1.14.1 \\\n",
    "    google-genai==1.36.0 \\\n",
    "    google-cloud-aiplatform==1.113.0 \\\n",
    "    a2a-sdk==0.3.5"
   ]
  },
  {
   "cell_type": "code",
   "execution_count": 13,
   "id": "4837cab1-d72a-44ae-861a-8ae15424d4bd",
   "metadata": {
    "tags": []
   },
   "outputs": [],
   "source": [
    "import IPython\n",
    "app = IPython.Application.instance()\n",
    "_ = app.kernel.do_shutdown(True)"
   ]
  },
  {
   "cell_type": "code",
   "execution_count": null,
   "id": "0f282560-2aa3-4896-80be-7046abf37456",
   "metadata": {
    "tags": []
   },
   "outputs": [],
   "source": [
    "import httpx, json, os, uuid\n",
    "from google.auth import default\n",
    "from google.auth.transport.requests import Request\n",
    "import vertexai\n",
    "\n",
    "# ADK\n",
    "from google.genai.types import Part, Content, HttpOptions\n",
    "from google.adk.agents.callback_context import CallbackContext\n",
    "from google.adk.agents.llm_agent import LlmAgent\n",
    "from google.adk.agents.remote_a2a_agent import RemoteA2aAgent\n",
    "from google.adk.agents.sequential_agent import SequentialAgent\n",
    "from google.adk.artifacts import InMemoryArtifactService\n",
    "from google.adk.auth.credential_service.in_memory_credential_service import InMemoryCredentialService\n",
    "from google.adk.memory.in_memory_memory_service import InMemoryMemoryService\n",
    "from google.adk.models import LlmResponse, LlmRequest\n",
    "from google.adk.runners import Runner\n",
    "from google.adk.sessions import InMemorySessionService, VertexAiSessionService\n",
    "\n",
    "# A2A\n",
    "from a2a.client import ClientConfig, ClientFactory\n",
    "from a2a.types import AgentCard, TransportProtocol\n",
    "from google.adk.a2a.executor.a2a_agent_executor import A2aAgentExecutor\n",
    "from google.adk.a2a.utils.agent_card_builder import AgentCardBuilder\n",
    "\n",
    "# Agent Engine\n",
    "from vertexai import agent_engines\n",
    "from vertexai.preview.reasoning_engines import A2aAgent\n",
    "from vertexai.preview.reasoning_engines.templates.a2a import create_agent_card\n",
    "\n",
    "\n",
    "[PROJECT_ID] = !gcloud config list --format 'value(core.project)'\n",
    "[PROJECT_NUMBER] = !gcloud projects describe {PROJECT_ID} --format='value(projectNumber)'\n",
    "LOCATION = 'us-central1'\n",
    "\n",
    "vertexai.init(project=PROJECT_ID, location=LOCATION)\n",
    "\n",
    "os.environ['GOOGLE_CLOUD_PROJECT'] = PROJECT_ID\n",
    "os.environ['GOOGLE_CLOUD_LOCATION'] = LOCATION\n",
    "os.environ['GOOGLE_GENAI_USE_VERTEXAI'] = 'True'"
   ]
  },
  {
   "cell_type": "markdown",
   "id": "b58299a3-735c-4811-a91e-be49a8fdfa9a",
   "metadata": {
    "tags": []
   },
   "source": [
    "Local application class to execute the root agent."
   ]
  },
  {
   "cell_type": "code",
   "execution_count": 2,
   "id": "18625f5e-151a-4a5d-a578-caf42cca6eb3",
   "metadata": {
    "tags": []
   },
   "outputs": [],
   "source": [
    "class LocalApp:\n",
    "    def __init__(self, agent, app_name='default_app', user_id='default_user'):\n",
    "        self._agent = agent\n",
    "        self._app_name = app_name\n",
    "        self._user_id = user_id\n",
    "        self._runner = Runner(\n",
    "            app_name=self._app_name,\n",
    "            agent=self._agent,\n",
    "            artifact_service=InMemoryArtifactService(),\n",
    "            session_service=InMemorySessionService(),\n",
    "            memory_service=InMemoryMemoryService(),\n",
    "        )\n",
    "        self._session = None\n",
    "        \n",
    "    async def stream(self, query):\n",
    "        if not self._session:\n",
    "            self._session = await self._runner.session_service.create_session(\n",
    "                app_name=self._app_name,\n",
    "                user_id=self._user_id,\n",
    "                session_id=uuid.uuid4().hex,\n",
    "            )\n",
    "        content = Content(role='user', parts=[Part(text=query)])\n",
    "        async_events = self._runner.run_async(\n",
    "            user_id=self._user_id,\n",
    "            session_id=self._session.id,\n",
    "            new_message=content,\n",
    "        )\n",
    "        result = []\n",
    "        async for event in async_events:\n",
    "            if (event.content and event.content.parts):\n",
    "                response = '\\n'.join([p.text for p in event.content.parts if p.text])\n",
    "                if response:\n",
    "                    print(response)\n",
    "                    result.append(response)\n",
    "        return result"
   ]
  },
  {
   "cell_type": "markdown",
   "id": "7de8f9d8-b4e6-4b69-a6e6-8aef0984934f",
   "metadata": {},
   "source": [
    "## Define agents to be deployed as remote A2A agents"
   ]
  },
  {
   "cell_type": "code",
   "execution_count": 3,
   "id": "79b229e9-fde1-4fe2-aaae-7634ac7e416b",
   "metadata": {
    "tags": []
   },
   "outputs": [],
   "source": [
    "instruction = '''\n",
    "Your role is to gather the necessary information for writing an article and compile it into a research report.\n",
    "You will create a list of about 5 topics to be used as a reference when writing an article on a specified theme.\n",
    "A subsequent agent will create the research report based on this list.\n",
    "\n",
    "* Output Format\n",
    "Output in English.\n",
    "'''\n",
    "\n",
    "research_agent1 = LlmAgent(\n",
    "    name='research_agent1',\n",
    "    model='gemini-2.5-flash',\n",
    "    description='''\n",
    "An agent that gathers the necessary information for writing an article\n",
    "and compiles it into a report (theme selection)\n",
    "    ''',\n",
    "    instruction=instruction,\n",
    ")"
   ]
  },
  {
   "cell_type": "code",
   "execution_count": 4,
   "id": "7f544c59-d3f1-48a6-b372-7c4ef189c966",
   "metadata": {
    "tags": []
   },
   "outputs": [],
   "source": [
    "instruction = '''\n",
    "Your role is to collect the necessary information to write an article and compile it into a research report.\n",
    "The preceding agent will specify about five research topics.\n",
    "\n",
    "* Output format\n",
    "Output in Enlgish.\n",
    "The research report should summarize objective information for each topic.\n",
    "Each topic must be described in five sentences or more.\n",
    "'''\n",
    "\n",
    "research_agent2 = LlmAgent(\n",
    "    name='research_agent2',\n",
    "    model='gemini-2.5-flash',\n",
    "    description='''\n",
    "An agent that collects the information necessary for writing an article\n",
    "and compiles it into a report (report creation)\n",
    "    ''',\n",
    "    instruction=instruction,\n",
    ")"
   ]
  },
  {
   "cell_type": "code",
   "execution_count": 5,
   "id": "ea41e586-3dc6-415a-ac3a-6884e1e4be23",
   "metadata": {
    "tags": []
   },
   "outputs": [],
   "source": [
    "instruction = '''\n",
    "Your role is to write a light, feature article on a specific topic.\n",
    "You will be given the article's \"theme\" and a \"research report\" related to its content.\n",
    "Based on the objective facts described in the research report, please write a reliable feature article.\n",
    "\n",
    "If a reviewer points out corrections, please rewrite the article you just wrote according to the feedback.\n",
    "\n",
    "* Output Conditions\n",
    "- Output in Enlgish.\n",
    "- The content should be something that can be casually read in a few minutes, assuming the reader has some basic knowledge of the topic.\n",
    "- Use a relatively casual and conversational tone.\n",
    "- Do not include an article title; use the following structure. Arrange each section title to fit the content.\n",
    "  0. Introduction: Without a section title, write a one- or two-sentence introduction that will make someone want to read the article.\n",
    "  1. Overview: Summarize and briefly explain the overall picture of the topic.\n",
    "  2. Latest Information: Feature new information that is particularly noteworthy.\n",
    "  3. Practical Application: Introduce one thing related to the topic that readers might want to try for themselves.\n",
    "  4. Conclusion\n",
    "\n",
    "- Use markdown ## headers for each section title. Use markdown for bullet points as needed.\n",
    "- Do not use any other markdown formatting.\n",
    "'''\n",
    "\n",
    "writer_agent = LlmAgent(\n",
    "    name='writer_agent',\n",
    "    model='gemini-2.5-flash',\n",
    "    description='An agent that writes feature articles on specific topics.',\n",
    "    instruction=instruction,\n",
    ")"
   ]
  },
  {
   "cell_type": "code",
   "execution_count": 6,
   "id": "0c14401c-47a8-4758-889d-44a0b6342b6b",
   "metadata": {
    "tags": []
   },
   "outputs": [],
   "source": [
    "instruction = f'''\n",
    "Your role is to review a feature article and provide comments for improvement to ensure its content meets the article's requirements.\n",
    "\n",
    "* Article Requirements\n",
    "- The article must begin with a title of less than about 10 words.\n",
    "  The title should contain useful life information that is applicable from today, making the reader feel they \"must read it now.\"\n",
    "  The title must use a markdown # header.\n",
    "- Immediately after the title, add an introduction that summarizes \"why this topic is being addressed now\" to motivate the reader.\n",
    "- Use emojis in each section's subtitle to create a friendly feel.\n",
    "- It must introduce at least three concrete examples that the reader can put into practice starting today.\n",
    "\n",
    "* Output Format\n",
    "- Output in English.\n",
    "- First, explain the good points of the article.\n",
    "- Next, list the points for correction in a bulleted format.\n",
    "'''\n",
    "\n",
    "review_agent = LlmAgent(\n",
    "    name='review_agent',\n",
    "    model='gemini-2.5-flash',\n",
    "    description='An agent that reviews feature articles.',\n",
    "    instruction=instruction,\n",
    ")"
   ]
  },
  {
   "cell_type": "markdown",
   "id": "64d8899e-8748-4524-91f8-91b811afcc69",
   "metadata": {},
   "source": [
    "## Deploy agents on Agent Engine"
   ]
  },
  {
   "cell_type": "code",
   "execution_count": 7,
   "id": "d3f90868-2a46-4da3-9c58-e3f3beed71ad",
   "metadata": {
    "tags": []
   },
   "outputs": [],
   "source": [
    "# Wrapper class of VertexAiSessionService that's compatible with InMemorySessionService\n",
    "class MyVertexAiSessionService(VertexAiSessionService):\n",
    "\n",
    "    async def create_session(self, app_name, user_id, state={}, session_id=None):\n",
    "        # Ignore session_id\n",
    "        session = await super().create_session(\n",
    "            app_name=app_name,\n",
    "            user_id=user_id,\n",
    "            state=state,\n",
    "        )\n",
    "        return session\n",
    "\n",
    "    async def get_session(self, app_name, user_id, session_id):\n",
    "        # Return None if session non exists.\n",
    "        try:\n",
    "            session = await super().get_session(\n",
    "                app_name=app_name,\n",
    "                user_id=user_id,\n",
    "                session_id=session_id,\n",
    "            )\n",
    "            return session\n",
    "        except:\n",
    "            return None\n",
    "\n",
    "\n",
    "def get_create_runner_class(agent, resource_name):\n",
    "    async def create_runner():\n",
    "        return Runner(\n",
    "            # Use resource_name as app_name for VertexAiSessionService.\n",
    "            app_name=resource_name or agent.name,\n",
    "            agent=agent,\n",
    "            artifact_service=InMemoryArtifactService(),\n",
    "            session_service=MyVertexAiSessionService(),\n",
    "            memory_service=InMemoryMemoryService(),\n",
    "            credential_service=InMemoryCredentialService(),\n",
    "        )\n",
    "    return create_runner\n",
    "\n",
    "\n",
    "def get_agent_executor_class(agent, resource_name):\n",
    "    def agent_executor_builder():\n",
    "        return A2aAgentExecutor(\n",
    "            runner=get_create_runner_class(agent, resource_name),\n",
    "        )       \n",
    "    return agent_executor_builder\n",
    "\n",
    "\n",
    "async def get_agent_card(agent):\n",
    "    builder = AgentCardBuilder(agent=agent)\n",
    "    adk_agent_card = await builder.build()\n",
    "    return create_agent_card(\n",
    "        agent_name=adk_agent_card.name,\n",
    "        description=adk_agent_card.description,\n",
    "        skills=adk_agent_card.skills\n",
    "    )"
   ]
  },
  {
   "cell_type": "code",
   "execution_count": 8,
   "id": "08a3274f-854b-48c3-ba36-cc1d725c8e31",
   "metadata": {
    "tags": []
   },
   "outputs": [],
   "source": [
    "def get_agent_resource(agent_name):\n",
    "    for agent in agent_engines.list():\n",
    "        if agent.display_name == agent_name:\n",
    "            return agent.resource_name\n",
    "    return None"
   ]
  },
  {
   "cell_type": "code",
   "execution_count": 11,
   "id": "10bdedd6-8493-446d-8492-892c8b0074b3",
   "metadata": {
    "tags": []
   },
   "outputs": [
    {
     "name": "stderr",
     "output_type": "stream",
     "text": [
      "/var/tmp/ipykernel_8184/1771281126.py:49: UserWarning: [EXPERIMENTAL] AgentCardBuilder: ADK Implementation for A2A support (A2aAgentExecutor, RemoteA2aAgent and corresponding supporting components etc.) is in experimental mode and is subjected to breaking changes. A2A protocol and SDK arethemselves not experimental. Once it's stable enough the experimental mode will be removed. Your feedback is welcome.\n",
      "  builder = AgentCardBuilder(agent=agent)\n",
      "WARNING:vertexai_genai.agentengines:The following requirements are missing: {'pydantic', 'cloudpickle'}\n",
      "WARNING:vertexai_genai.agentengines:The following requirements are missing: {'pydantic', 'cloudpickle'}\n",
      "WARNING:vertexai_genai.agentengines:The following requirements are missing: {'pydantic', 'cloudpickle'}\n",
      "WARNING:vertexai_genai.agentengines:The following requirements are missing: {'pydantic', 'cloudpickle'}\n",
      "WARNING:vertexai_genai.agentengines:The following requirements are missing: {'pydantic', 'cloudpickle'}\n",
      "WARNING:vertexai_genai.agentengines:The following requirements are missing: {'pydantic', 'cloudpickle'}\n",
      "WARNING:vertexai_genai.agentengines:The following requirements are missing: {'pydantic', 'cloudpickle'}\n",
      "WARNING:vertexai_genai.agentengines:The following requirements are missing: {'pydantic', 'cloudpickle'}\n"
     ]
    }
   ],
   "source": [
    "agents = {\n",
    "    'research_agent1_a2a': research_agent1,\n",
    "    'research_agent2_a2a': research_agent2,\n",
    "    'writer_agent_a2a': writer_agent,\n",
    "    'review_agent_a2a': review_agent,\n",
    "}\n",
    "\n",
    "client = vertexai.Client(\n",
    "    project=PROJECT_ID,\n",
    "    location=LOCATION,\n",
    "    http_options=HttpOptions(\n",
    "        api_version='v1beta1', base_url=f'https://{LOCATION}-aiplatform.googleapis.com/'\n",
    "    ),\n",
    ")\n",
    "\n",
    "for agent_name, agent in agents.items():    \n",
    "    a2a_agent = A2aAgent(\n",
    "        agent_card=await get_agent_card(agent),\n",
    "        agent_executor_builder=get_agent_executor_class(agent, None)\n",
    "    )\n",
    "    config={\n",
    "        'display_name': agent_name,\n",
    "        'description': a2a_agent.agent_card.description,\n",
    "        'requirements': [\n",
    "            'google-adk==1.14.1',\n",
    "            'google-genai==1.36.0',\n",
    "            'google-cloud-aiplatform==1.113.0',\n",
    "            'a2a-sdk==0.3.5'\n",
    "        ],\n",
    "        'http_options': {\n",
    "            'base_url': f'https://{LOCATION}-aiplatform.googleapis.com',\n",
    "            'api_version': 'v1beta1',\n",
    "        },\n",
    "        'staging_bucket': f'gs://{PROJECT_ID}',\n",
    "    }\n",
    "\n",
    "    resource_name = get_agent_resource(agent_name)\n",
    "    if not resource_name:\n",
    "        # Deploy dummy agent to assign Agent Engine resource name\n",
    "        remote_a2a_agent = client.agent_engines.create(\n",
    "            agent=a2a_agent,\n",
    "            config=config,\n",
    "        )\n",
    "    \n",
    "    # Redeploy with Agent Engine resource name for VertexAiSessionService\n",
    "    resource_name = get_agent_resource(agent_name)\n",
    "    a2a_agent = A2aAgent(\n",
    "        agent_card=await get_agent_card(agent),\n",
    "        agent_executor_builder=get_agent_executor_class(agent, resource_name)\n",
    "    )\n",
    "    remote_a2a_agent = client.agent_engines.update(\n",
    "        name=resource_name,\n",
    "        agent=a2a_agent,\n",
    "        config=config,\n",
    "    )"
   ]
  },
  {
   "cell_type": "markdown",
   "id": "3313a036-88c3-4a40-899c-7c60f162592a",
   "metadata": {},
   "source": [
    "## Define RemoteA2aAgent instances and Root agent"
   ]
  },
  {
   "cell_type": "code",
   "execution_count": 16,
   "id": "c20ced9e-2918-4964-82f3-352bb8de7282",
   "metadata": {
    "tags": []
   },
   "outputs": [
    {
     "name": "stderr",
     "output_type": "stream",
     "text": [
      "/var/tmp/ipykernel_8184/2951793560.py:19: UserWarning: [EXPERIMENTAL] RemoteA2aAgent: ADK Implementation for A2A support (A2aAgentExecutor, RemoteA2aAgent and corresponding supporting components etc.) is in experimental mode and is subjected to breaking changes. A2A protocol and SDK arethemselves not experimental. Once it's stable enough the experimental mode will be removed. Your feedback is welcome.\n",
      "  research_agent1_remoteA2a = RemoteA2aAgent(\n",
      "/var/tmp/ipykernel_8184/2951793560.py:31: UserWarning: [EXPERIMENTAL] RemoteA2aAgent: ADK Implementation for A2A support (A2aAgentExecutor, RemoteA2aAgent and corresponding supporting components etc.) is in experimental mode and is subjected to breaking changes. A2A protocol and SDK arethemselves not experimental. Once it's stable enough the experimental mode will be removed. Your feedback is welcome.\n",
      "  research_agent2_remoteA2a = RemoteA2aAgent(\n",
      "/var/tmp/ipykernel_8184/2951793560.py:43: UserWarning: [EXPERIMENTAL] RemoteA2aAgent: ADK Implementation for A2A support (A2aAgentExecutor, RemoteA2aAgent and corresponding supporting components etc.) is in experimental mode and is subjected to breaking changes. A2A protocol and SDK arethemselves not experimental. Once it's stable enough the experimental mode will be removed. Your feedback is welcome.\n",
      "  writer_agent_remoteA2a = RemoteA2aAgent(\n",
      "/var/tmp/ipykernel_8184/2951793560.py:52: UserWarning: [EXPERIMENTAL] RemoteA2aAgent: ADK Implementation for A2A support (A2aAgentExecutor, RemoteA2aAgent and corresponding supporting components etc.) is in experimental mode and is subjected to breaking changes. A2A protocol and SDK arethemselves not experimental. Once it's stable enough the experimental mode will be removed. Your feedback is welcome.\n",
      "  review_agent_remoteA2a = RemoteA2aAgent(\n"
     ]
    }
   ],
   "source": [
    "credentials, _ = default(scopes=['https://www.googleapis.com/auth/cloud-platform'])\n",
    "credentials.refresh(Request())\n",
    "factory = ClientFactory(\n",
    "    ClientConfig(\n",
    "        supported_transports=[TransportProtocol.http_json],\n",
    "        use_client_preference=True,\n",
    "        httpx_client=httpx.AsyncClient(\n",
    "            timeout=60, # This is important.\n",
    "            headers={\n",
    "                'Authorization': f'Bearer {credentials.token}',\n",
    "                'Content-Type': 'application/json',\n",
    "            }\n",
    "        ),\n",
    "    )\n",
    ")\n",
    "\n",
    "resource_name = get_agent_resource('research_agent1_a2a')\n",
    "a2a_url = f'https://{LOCATION}-aiplatform.googleapis.com/v1beta1/{resource_name}/a2a'\n",
    "research_agent1_remoteA2a = RemoteA2aAgent(\n",
    "    name='research_agent1',\n",
    "    description='''\n",
    "An agent that gathers the necessary information for writing an article\n",
    "and compiles it into a report (theme selection)\n",
    "    ''',\n",
    "    agent_card=f'{a2a_url}/v1/card',\n",
    "    a2a_client_factory=factory,\n",
    ")\n",
    "\n",
    "resource_name = get_agent_resource('research_agent2_a2a')\n",
    "a2a_url = f'https://{LOCATION}-aiplatform.googleapis.com/v1beta1/{resource_name}/a2a'\n",
    "research_agent2_remoteA2a = RemoteA2aAgent(\n",
    "    name='research_agent2',\n",
    "    description='''\n",
    "An agent that collects the information necessary for writing an article\n",
    "and compiles it into a report (report creation)\n",
    "    ''',\n",
    "    agent_card=f'{a2a_url}/v1/card',\n",
    "    a2a_client_factory=factory,\n",
    ")\n",
    "\n",
    "resource_name = get_agent_resource('writer_agent_a2a')\n",
    "a2a_url = f'https://{LOCATION}-aiplatform.googleapis.com/v1beta1/{resource_name}/a2a'\n",
    "writer_agent_remoteA2a = RemoteA2aAgent(\n",
    "    name='writer_agent',\n",
    "    description='An agent that writes feature articles on specific topics.',\n",
    "    agent_card=f'{a2a_url}/v1/card',\n",
    "    a2a_client_factory=factory,\n",
    ")\n",
    "\n",
    "resource_name = get_agent_resource('review_agent_a2a')\n",
    "a2a_url = f'https://{LOCATION}-aiplatform.googleapis.com/v1beta1/{resource_name}/a2a'\n",
    "review_agent_remoteA2a = RemoteA2aAgent(\n",
    "    name='review_agent',\n",
    "    description='An agent that reviews feature articles.',\n",
    "    agent_card=f'{a2a_url}/v1/card',\n",
    "    a2a_client_factory=factory,\n",
    ")"
   ]
  },
  {
   "cell_type": "code",
   "execution_count": 18,
   "id": "acd6ab9a-6564-46ba-82c6-bf4bbfc9f829",
   "metadata": {
    "tags": []
   },
   "outputs": [],
   "source": [
    "def get_print_agent(text):\n",
    "    def before_model_callback(\n",
    "        callback_context: CallbackContext, llm_request: LlmRequest\n",
    "    ) -> LlmResponse:\n",
    "        return LlmResponse(\n",
    "            content=Content(\n",
    "                role='model', parts=[Part(text=text)],\n",
    "            )\n",
    "        )\n",
    "        \n",
    "    return LlmAgent(\n",
    "        name='print_agent',\n",
    "        model='gemini-2.0-flash', # not used\n",
    "        description='',\n",
    "        instruction = '',\n",
    "        before_model_callback=before_model_callback,\n",
    "    )\n",
    "\n",
    "research_agent = SequentialAgent(\n",
    "    name='research_agent',\n",
    "    sub_agents=[\n",
    "        get_print_agent('\\n---\\n## The research agent will create a research report.\\n---\\n'),\n",
    "        get_print_agent('\\n## Selecting the topics for investigation.\\n'),\n",
    "        research_agent1_remoteA2a,\n",
    "        get_print_agent('\\n## Creating the research report based on the selected topics.\\n'),\n",
    "        research_agent2_remoteA2a,\n",
    "        get_print_agent('\\n#### The research report is ready. Shall we proceed with writing the article?\\n'),\n",
    "    ],\n",
    "    description='An agent that collects the information necessary for writing an article and compiles it into a report.',\n",
    ")\n",
    "\n",
    "write_and_review_agent = SequentialAgent(\n",
    "    name='write_and_review_agent',\n",
    "    sub_agents=[\n",
    "        get_print_agent('\\n---\\n## The writer agent will now write the article.\\n---\\n'),\n",
    "        writer_agent_remoteA2a,\n",
    "        get_print_agent('\\n---\\n## The review agent will now review the article.\\n---\\n'),\n",
    "        review_agent_remoteA2a,\n",
    "        get_print_agent('\\n#### Would you like to request a revision of the article based on the review?\\n'),\n",
    "    ],\n",
    "    description='Create and review an article.',\n",
    ")\n",
    "\n",
    "root_agent = LlmAgent(\n",
    "    name='article_generation_flow',\n",
    "    model='gemini-2.0-flash',\n",
    "    instruction = '''\n",
    "If asked what you can do, please respond with a clear and friendly summary of the following process:\n",
    "\n",
    "- Execute a workflow to create an article on a theme specified by the user.\n",
    "- First, create a research report on the theme.\n",
    "- After that, the writer and review agents will collaborate to create an article that adheres to the editorial policy.\n",
    "\n",
    "If the user specifies a theme for the article, execute the following flow:\n",
    "\n",
    "1. Announce that you will begin creating an article on that theme and forward the task to research_agent to request a research report.\n",
    "2. If the user confirms the creation of the article, forward the task to write_and_review_agent to request the article's creation and review.\n",
    "3. If the user wishes to revise the article, forward the task to write_and_review_agent.\n",
    "\n",
    "**Conditions**\n",
    "The nickname for research_agent is \"the Research Agent\".\n",
    "The nickname for write_and_review_agent is \"the Writer and Review Agents\".\n",
    "''',\n",
    "    sub_agents=[\n",
    "        research_agent,\n",
    "        write_and_review_agent,\n",
    "    ],\n",
    "    description='An agent that executes the workflow for creating an article.'\n",
    ")"
   ]
  },
  {
   "cell_type": "markdown",
   "id": "57a7e6c0-5d41-485e-9709-b0b784184eda",
   "metadata": {},
   "source": [
    "## Executon example"
   ]
  },
  {
   "cell_type": "code",
   "execution_count": 19,
   "id": "1a6eea83-86ae-4710-835d-c586cd34008b",
   "metadata": {
    "tags": []
   },
   "outputs": [
    {
     "name": "stdout",
     "output_type": "stream",
     "text": [
      "I can execute a workflow to create an article on a theme specified by you. First, I'll ask the Research Agent to create a research report on the theme. After that, the Writer and Review Agents will collaborate to create an article that adheres to the editorial policy.\n",
      "\n"
     ]
    }
   ],
   "source": [
    "client = LocalApp(root_agent)\n",
    "\n",
    "query = '''\n",
    "Hello, what can you do?\n",
    "'''\n",
    "result = await client.stream(query)"
   ]
  },
  {
   "cell_type": "code",
   "execution_count": 20,
   "id": "688c642d-8364-46a3-a9b9-e56ed9b9849f",
   "metadata": {
    "tags": []
   },
   "outputs": [
    {
     "name": "stdout",
     "output_type": "stream",
     "text": [
      "Okay, I will begin creating an article on the theme \"Spicy Arrangements of Local Cuisine to Get Through the Summer.\" I'll start by requesting a research report from the Research Agent.\n",
      "\n",
      "\n",
      "---\n",
      "## The research agent will create a research report.\n",
      "---\n",
      "\n",
      "\n",
      "## Selecting the topics for investigation.\n",
      "\n"
     ]
    },
    {
     "name": "stderr",
     "output_type": "stream",
     "text": [
      "WARNING:google_genai.types:Warning: there are non-text parts in the response: ['function_call'], returning concatenated text result from text parts. Check the full candidates.content.parts accessor to get the full model response.\n",
      "/home/jupyter/.local/lib/python3.10/site-packages/google/adk/agents/remote_a2a_agent.py:382: UserWarning: [EXPERIMENTAL] convert_genai_part_to_a2a_part: ADK Implementation for A2A support (A2aAgentExecutor, RemoteA2aAgent and corresponding supporting components etc.) is in experimental mode and is subjected to breaking changes. A2A protocol and SDK arethemselves not experimental. Once it's stable enough the experimental mode will be removed. Your feedback is welcome.\n",
      "  converted_part = self._genai_part_converter(part)\n",
      "/home/jupyter/.local/lib/python3.10/site-packages/google/adk/a2a/converters/event_converter.py:210: UserWarning: [EXPERIMENTAL] convert_a2a_message_to_event: ADK Implementation for A2A support (A2aAgentExecutor, RemoteA2aAgent and corresponding supporting components etc.) is in experimental mode and is subjected to breaking changes. A2A protocol and SDK arethemselves not experimental. Once it's stable enough the experimental mode will be removed. Your feedback is welcome.\n",
      "  return convert_a2a_message_to_event(\n",
      "/home/jupyter/.local/lib/python3.10/site-packages/google/adk/a2a/converters/event_converter.py:280: UserWarning: [EXPERIMENTAL] convert_a2a_part_to_genai_part: ADK Implementation for A2A support (A2aAgentExecutor, RemoteA2aAgent and corresponding supporting components etc.) is in experimental mode and is subjected to breaking changes. A2A protocol and SDK arethemselves not experimental. Once it's stable enough the experimental mode will be removed. Your feedback is welcome.\n",
      "  part = part_converter(a2a_part)\n"
     ]
    },
    {
     "name": "stdout",
     "output_type": "stream",
     "text": [
      "Here are about 5 topics for the research report on \"Spicy Arrangements of Local Cuisine to Get Through the Summer\":\n",
      "\n",
      "1.  **The Science and Cultural Rationale: Why Spicy Food Cools You Down in Summer.**\n",
      "    *   Focus: Explore the physiological effects of capsaicin (inducing sweating, perceived cooling) and the historical/cultural traditions in various hot regions that embrace spicy dishes during warmer months.\n",
      "2.  **Global Culinary Hotspots: Iconic Local Dishes and Their Summer Spicy Variations.**\n",
      "    *   Focus: Identify specific regions (e.g., Southeast Asia, Latin America, South Korea, Sichuan China) and present examples of their traditional local dishes that are either inherently spicy or are given specific spicy \"arrangements\" to be enjoyed during summer.\n",
      "3.  **Key Ingredients and Flavor Profiles: Crafting the Summer Spicy Experience.**\n",
      "    *   Focus: Investigate the common chili varieties (e.g., bird's eye, serrano, gochugaru) and other pungent ingredients (ginger, garlic, peppercorns) that define these summer spicy dishes. Discuss how their unique flavor profiles contribute to the overall experience.\n",
      "4.  **Beyond Heat: Balancing Flavors and Refreshing Elements in Summer Spicy Cuisine.**\n",
      "    *   Focus: Examine how spicy summer dishes often incorporate complementary ingredients like citrus, fresh herbs (mint, cilantro), cooling vegetables (cucumber), or tangy components (vinegar, fermentation) to create a harmonious and refreshing culinary experience despite the heat.\n",
      "5.  **Practical Spicy Arrangements: Tips and Techniques for Adapting Local Recipes for Summer.**\n",
      "    *   Focus: Provide actionable insights into how home cooks can \"arrange\" their favorite local dishes to be spicier and more suitable for summer. This could include suggestions for increasing chili content, making spicy condiments, or integrating spicy elements into cold preparations.\n",
      "\n",
      "## Creating the research report based on the selected topics.\n",
      "\n",
      "Here is the research report based on the provided topics:\n",
      "\n",
      "### Research Report: Spicy Arrangements of Local Cuisine to Get Through the Summer\n",
      "\n",
      "---\n",
      "\n",
      "#### 1. The Science and Cultural Rationale: Why Spicy Food Cools You Down in Summer.\n",
      "\n",
      "Consuming spicy food in warm weather has a physiological basis for inducing a cooling sensation. The capsaicin found in chilies activates heat receptors in the mouth, which in turn signals the brain that the body is overheating. This triggers a natural cooling mechanism: sweating. As sweat evaporates from the skin, it draws heat away from the body, leading to a perceived drop in temperature. Many cultures in historically hot regions, such as India, Mexico, Thailand, and Southeast Asia, have long incorporated spicy dishes into their daily diets, especially during warmer months. This tradition is not merely anecdotal but reflects an adaptive cultural practice honed over centuries to cope with high temperatures. The temporary discomfort of the heat from the spice is often outweighed by the subsequent relief and refreshment experienced as the body cools down.\n",
      "\n",
      "#### 2. Global Culinary Hotspots: Iconic Local Dishes and Their Summer Spicy Variations.\n",
      "\n",
      "Numerous global culinary hotspots are renowned for their spicy dishes that are particularly enjoyed during summer. In Thailand, dishes like Tom Yum soup, with its vibrant blend of chilies, lemongrass, and lime, are cherished for their refreshing heat. South Korea offers a plethora of spicy options, including cold spicy noodles (Bibim Guksu) and kimchi-based stews (Kimchi Jjigae), which are often consumed to invigorate the body in humid conditions. Sichuan province in China is famous for its \"mala\" (numbing and spicy) cuisine, exemplified by dishes like Mapo Tofu or Dan Dan noodles, which stimulate the palate and promote sweating. In Latin American countries, ceviche often incorporates ají peppers, providing a zesty, spicy kick that perfectly complements the cool, acidic seafood during hot periods. These examples highlight a universal approach to using spice to combat summer heat across diverse culinary traditions.\n",
      "\n",
      "#### 3. Key Ingredients and Flavor Profiles: Crafting the Summer Spicy Experience.\n",
      "\n",
      "The distinctiveness of summer spicy dishes largely stems from the selection of specific chili varieties and other pungent ingredients. Common chilies include the fiery Bird's Eye chilies prevalent in Southeast Asia, the grassy and bright serrano peppers used in Mexican cuisine, and the smoky, sweet gochugaru found in Korean cooking. Beyond chilies, ingredients like fresh ginger add a pungent warmth, while garlic provides aromatic depth and a subtle bite. Sichuan peppercorns, unique to Chinese cuisine, offer a distinct \"ma la\" sensation—a combination of citrusy aroma, heat, and a characteristic numbing tingle on the tongue. These ingredients are chosen not just for their heat, but also for their complex flavor profiles that enhance the overall culinary experience, creating a multi-layered sensation that is both invigorating and delicious.\n",
      "\n",
      "#### 4. Beyond Heat: Balancing Flavors and Refreshing Elements in Summer Spicy Cuisine.\n",
      "\n",
      "While heat is central, summer spicy dishes excel by incorporating a symphony of balancing and refreshing elements. Citrus fruits like lime and lemon are frequently used to provide a bright, acidic counterpoint that cuts through the spice and invigorates the palate. Fresh herbs such as mint, cilantro, and basil add aromatic freshness and a cooling sensation. Many dishes integrate crisp, cooling vegetables like cucumbers, radishes, or lettuce, which offer textural contrast and hydration. Tangy components, including various vinegars (rice vinegar, apple cider vinegar) or fermented ingredients like kimchi and pickled vegetables, introduce a pleasant sourness that complements the spiciness. This thoughtful combination of flavors ensures that the dishes remain harmoniously balanced, preventing the heat from becoming overwhelming and making them enjoyable even in stifling summer temperatures.\n",
      "\n",
      "#### 5. Practical Spicy Arrangements: Tips and Techniques for Adapting Local Recipes for Summer.\n",
      "\n",
      "For home cooks looking to adapt local dishes for summer, several practical \"spicy arrangements\" can be employed. One straightforward method is to simply increase the amount or potency of chili in a traditional recipe, using hotter varieties like habaneros or Scotch bonnets for an intensified kick. Creating spicy condiments, such as homemade chili oils, salsas, or hot sauces, allows for customizable heat levels to be added tableside. Integrating spicy elements into cold preparations is particularly effective for summer, such as making spicy cold noodle salads, adding chili to chilled cucumber soup, or infusing fruit salads with a hint of spice. Furthermore, pairing these spicy dishes with cooling components like fresh herbs, crisp vegetables, or refreshing beverages can enhance the overall summer dining experience. These techniques allow for creative culinary exploration while staying true to the spirit of local flavors.\n",
      "\n",
      "---\n",
      "\n",
      "#### The research report is ready. Shall we proceed with writing the article?\n",
      "\n"
     ]
    }
   ],
   "source": [
    "query = '''\n",
    "Create an article with the theme \"Spicy Arrangements of Local Cuisine\n",
    "to Get Through the Summer.\"\n",
    "'''\n",
    "result = await client.stream(query)"
   ]
  },
  {
   "cell_type": "code",
   "execution_count": 21,
   "id": "181ee359-d0e1-4d18-b2e9-471d03619c5d",
   "metadata": {
    "tags": []
   },
   "outputs": [
    {
     "name": "stdout",
     "output_type": "stream",
     "text": [
      "Great. I'll now forward the task to the Writer and Review Agents to create and review the article based on the research report.\n",
      "\n",
      "\n",
      "---\n",
      "## The writer agent will now write the article.\n",
      "---\n",
      "\n"
     ]
    },
    {
     "name": "stderr",
     "output_type": "stream",
     "text": [
      "WARNING:google_genai.types:Warning: there are non-text parts in the response: ['function_call'], returning concatenated text result from text parts. Check the full candidates.content.parts accessor to get the full model response.\n"
     ]
    },
    {
     "name": "stdout",
     "output_type": "stream",
     "text": [
      "Feeling the heat this summer? While your first instinct might be to reach for an ice-cold drink, what if we told you the secret to staying cool actually involves turning up the heat on your plate? Get ready to explore the wonderfully counter-intuitive world of spicy local cuisines designed to beat the summer swelter!\n",
      "\n",
      "## Overview\n",
      "\n",
      "It sounds a bit crazy, right? Eating spicy food when it's already scorching outside. But there's a fascinating science behind why this age-old tradition, practiced in many hot regions worldwide, actually works. When you bite into something spicy, the capsaicin in chilies activates receptors in your mouth, tricking your brain into thinking you're overheating. What happens next is your body's natural cooling system kicking in: you start to sweat! As that sweat evaporates from your skin, it carries heat away, leaving you feeling surprisingly cooler. This isn't just a quirky local custom; it's a physiological hack embraced by cultures from Thailand with their vibrant Tom Yum soup, to South Korea's invigorating cold spicy noodles (Bibim Guksu), Sichuan, China's numbing-and-spicy Mapo Tofu, and even Latin America's zesty, ají-spiced ceviche. These dishes aren't just hot; they're heritage, refined over centuries to make summer more bearable.\n",
      "\n",
      "## Latest Information\n",
      "\n",
      "The real artistry in these summer-friendly spicy dishes isn't just about cranking up the heat; it's about a masterful balance of flavors that results in a truly refreshing experience. Modern culinary approaches emphasize incorporating a symphony of ingredients to complement and cut through the spice. Think bright citrus like lime and lemon, which add a zesty tang, or fresh herbs such as mint, cilantro, and basil, which lend an aromatic, cooling whisper. Crisp, hydrating vegetables like cucumber and radishes are often included for texture and a refreshing bite. Even tangy elements like vinegars or fermented ingredients (hello, kimchi!) play a crucial role in harmonizing the heat, preventing it from overwhelming the palate. It's this thoughtful layering of flavors – from the fiery Bird's Eye chilies and earthy serranos to the unique numbing sensation of Sichuan peppercorns – that transforms a simple spicy dish into a nuanced, invigorating summer meal.\n",
      "\n",
      "## Practical Application\n",
      "\n",
      "Ready to spice up your summer culinary game? You don't need a passport to bring these cooling traditions to your kitchen. Here are a few practical \"spicy arrangements\" you can try with your favorite local recipes:\n",
      "\n",
      "*   **Boost the Heat:** Don't be shy! Increase the amount or potency of chilies in your everyday dishes. A dash more gochugaru in your stir-fry or a hotter pepper in your salsa can make a world of difference.\n",
      "*   **Homemade Spicy Condiments:** Whip up a batch of chili oil, a fresh salsa verde with jalapeños, or your own hot sauce. These allow everyone at the table to customize their heat level and add a kick to almost anything.\n",
      "*   **Embrace Cold Spice:** Think beyond hot dishes. Try adding a hint of chili to chilled cucumber soup, a cold noodle salad, or even fruit salads for an unexpected, refreshing twist. Imagine a watermelon salad with a sprinkle of chili flakes and mint!\n",
      "*   **Pair with Coolants:** Always remember the balancing act. Serve your spicy creations alongside fresh herbs, crisp salads, or cooling beverages like a lassi or iced tea to enhance the overall experience.\n",
      "\n",
      "## Conclusion\n",
      "\n",
      "So, next time the mercury rises, don't shy away from the chili pepper. Instead, embrace the heat to beat the heat! Experiment with incorporating some spicy arrangements into your local favorites. You might just discover that the most delicious way to stay cool this summer is by turning up the flavor dial.\n",
      "\n",
      "---\n",
      "## The review agent will now review the article.\n",
      "---\n",
      "\n",
      "Here are the comments for your feature article:\n",
      "\n",
      "### Good Points:\n",
      "\n",
      "*   **Engaging Introduction:** The opening paragraph effectively hooks the reader by presenting a counter-intuitive yet intriguing concept for dealing with summer heat, immediately establishing \"why this topic is being addressed now.\"\n",
      "*   **Clear Explanation of Science and Culture:** The article does an excellent job of explaining the physiological reasons (capsaicin, sweating) and cultural traditions behind consuming spicy food in hot weather, lending credibility and depth to the topic.\n",
      "*   **Global Examples:** It successfully highlights diverse culinary hotspots and their spicy dishes, enriching the reader's understanding of the global applicability of this concept.\n",
      "*   **Actionable Practical Applications:** The \"Practical Application\" section provides concrete, easy-to-understand examples that readers can immediately implement in their own kitchens, fulfilling the requirement for practical tips.\n",
      "*   **Well-Structured Content:** The article flows logically from scientific rationale to global examples, then to practical advice, making it easy to follow.\n",
      "\n",
      "### Points for Correction:\n",
      "\n",
      "*   **Missing Title:** The article completely lacks a proper title at the beginning. The current opening paragraph serves as an introduction but is not a title.\n",
      "    *   **Correction:** Add a title that is a markdown `#` header, less than about 10 words, contains useful life information applicable from today, and makes the reader feel they \"must read it now.\"\n",
      "        *   *Example Suggestion:* `# Beat Heat: Eat Spicy Now!` or `# Spicy Food Cools: Try Today!`\n",
      "*   **No Emojis in Subtitles:** None of the section subtitles (`## Overview`, `## Latest Information`, `## Practical Application`, `## Conclusion`) currently include emojis.\n",
      "    *   **Correction:** Add a relevant emoji to each section subtitle to create a friendly feel.\n",
      "        *   *Example Suggestion:* `## Overview 🌶️`, `## Latest Information ✨`, `## Practical Application 👩‍🍳`, `## Conclusion ✅`\n",
      "\n",
      "#### Would you like to request a revision of the article based on the review?\n",
      "\n"
     ]
    }
   ],
   "source": [
    "query = '''\n",
    "Yes, go ahead.\n",
    "'''\n",
    "result = await client.stream(query)"
   ]
  },
  {
   "cell_type": "code",
   "execution_count": 22,
   "id": "876a0dee-375b-4153-8505-b2e154ee8678",
   "metadata": {
    "tags": []
   },
   "outputs": [
    {
     "name": "stdout",
     "output_type": "stream",
     "text": [
      "Okay, I will forward the article and the review comments to the Writer and Review Agents for revision.\n",
      "\n",
      "\n",
      "---\n",
      "## The writer agent will now write the article.\n",
      "---\n",
      "\n"
     ]
    },
    {
     "name": "stderr",
     "output_type": "stream",
     "text": [
      "WARNING:google_genai.types:Warning: there are non-text parts in the response: ['function_call'], returning concatenated text result from text parts. Check the full candidates.content.parts accessor to get the full model response.\n"
     ]
    },
    {
     "name": "stdout",
     "output_type": "stream",
     "text": [
      "# Beat Heat: Eat Spicy Now!\n",
      "\n",
      "Ever wonder if fighting fire with fire actually works? When the summer heat hits, reaching for that fiery curry or a chili-laden taco might seem counter-intuitive, but science (and tradition!) says it could be your secret weapon against the sweltering temperatures.\n",
      "\n",
      "## Overview 🌶️\n",
      "It sounds crazy, but many cultures in hot climates embrace spicy dishes, and there's a good reason why. The active compound in chili peppers, capsaicin, doesn't actually raise your body temperature; instead, it tricks your brain into *thinking* it's hot. This sensation triggers your body's natural cooling mechanism: sweating. As sweat evaporates from your skin, it carries heat away, effectively cooling you down. So, while you might feel a momentary burn, the long-term effect is a refreshing drop in perceived temperature. It's a clever biological hack!\n",
      "\n",
      "## Latest Information ✨\n",
      "Recent studies continue to affirm the physiological benefits of capsaicin beyond just cooling. Research published in journals like *Temperature* often highlights how regular consumption of capsaicin can improve thermoregulation over time, making individuals more resilient to heat. Furthermore, chefs and food scientists are exploring new ways to balance the heat with other cooling ingredients, like mint or citrus, to enhance the overall refreshing experience without overwhelming the palate. Think of new hybrid dishes that combine traditional spicy elements with modern, fresh ingredients.\n",
      "\n",
      "## Practical Application 👩‍🍳\n",
      "Ready to turn up the heat to cool down? Here's how you can incorporate this spicy strategy into your summer routine:\n",
      "*   **Spice up your salads:** Add thinly sliced jalapeños, a sprinkle of red pepper flakes, or a chili-lime dressing to your usual greens.\n",
      "*   **Homemade spicy lemonade/iced tea:** Infuse your summer drinks with a subtle kick using a slice of ginger or a hint of chili syrup.\n",
      "*   **Experiment with global cuisines:** Explore Thai curries, Mexican salsas, Indian vindaloos, or even Korean kimchi. Many of these dishes are designed to be enjoyed in warm weather.\n",
      "*   **Start small:** If you're not used to spicy food, begin with milder peppers like poblano or Anaheim, and gradually increase the heat as your tolerance builds.\n",
      "\n",
      "## Conclusion ✅\n",
      "So, next time the mercury rises, don't shy away from that vibrant, chili-packed dish. Embracing the heat might just be the coolest thing you can do for yourself. It's a delicious tradition, scientifically backed, and a fun way to explore global flavors while staying comfortable. Enjoy the sizzle, and stay cool!\n",
      "\n",
      "---\n",
      "## The review agent will now review the article.\n",
      "---\n",
      "\n",
      "Good points of the article:\n",
      "\n",
      "*   The title is concise, attention-grabbing, and perfectly meets the length requirement while creating a sense of urgency.\n",
      "*   The introduction immediately sets the stage by explaining \"why this topic is being addressed now,\" effectively motivating the reader.\n",
      "*   Emojis are consistently used in all section subtitles, contributing to a friendly and inviting tone.\n",
      "*   The article provides more than three concrete, actionable examples that readers can easily implement starting today, such as \"Spice up your salads\" and \"Homemade spicy lemonade/iced tea.\"\n",
      "*   The explanation of the scientific principle (capsaicin, sweating) is clear and easy to understand, lending credibility to the advice.\n",
      "*   The overall structure is logical, flowing from an intriguing premise to scientific backing, practical applications, and a strong conclusion.\n",
      "\n",
      "Points for correction:\n",
      "\n",
      "*   The article successfully meets all specified requirements. No corrections are needed.\n",
      "\n",
      "#### Would you like to request a revision of the article based on the review?\n",
      "\n"
     ]
    }
   ],
   "source": [
    "query = '''\n",
    "Yes, go ahead.\n",
    "'''\n",
    "result = await client.stream(query)"
   ]
  },
  {
   "cell_type": "code",
   "execution_count": 23,
   "id": "1b464bc2-a041-44d3-83fc-bb2bfa416b88",
   "metadata": {
    "tags": []
   },
   "outputs": [
    {
     "name": "stdout",
     "output_type": "stream",
     "text": [
      "# Beat Heat: Eat Spicy Now!\n",
      "\n",
      "Ever wonder if fighting fire with fire actually works? When the summer heat hits, reaching for that fiery curry or a chili-laden taco might seem counter-intuitive, but science (and tradition!) says it could be your secret weapon against the sweltering temperatures.\n",
      "\n",
      "## Overview 🌶️\n",
      "It sounds crazy, but many cultures in hot climates embrace spicy dishes, and there's a good reason why. The active compound in chili peppers, capsaicin, doesn't actually raise your body temperature; instead, it tricks your brain into *thinking* it's hot. This sensation triggers your body's natural cooling mechanism: sweating. As sweat evaporates from your skin, it carries heat away, effectively cooling you down. So, while you might feel a momentary burn, the long-term effect is a refreshing drop in perceived temperature. It's a clever biological hack!\n",
      "\n",
      "## Latest Information ✨\n",
      "Recent studies continue to affirm the physiological benefits of capsaicin beyond just cooling. Research published in journals like *Temperature* often highlights how regular consumption of capsaicin can improve thermoregulation over time, making individuals more resilient to heat. Furthermore, chefs and food scientists are exploring new ways to balance the heat with other cooling ingredients, like mint or citrus, to enhance the overall refreshing experience without overwhelming the palate. Think of new hybrid dishes that combine traditional spicy elements with modern, fresh ingredients.\n",
      "\n",
      "## Practical Application 👩‍🍳\n",
      "Ready to turn up the heat to cool down? Here's how you can incorporate this spicy strategy into your summer routine:\n",
      "*   **Spice up your salads:** Add thinly sliced jalapeños, a sprinkle of red pepper flakes, or a chili-lime dressing to your usual greens.\n",
      "*   **Homemade spicy lemonade/iced tea:** Infuse your summer drinks with a subtle kick using a slice of ginger or a hint of chili syrup.\n",
      "*   **Experiment with global cuisines:** Explore Thai curries, Mexican salsas, Indian vindaloos, or even Korean kimchi. Many of these dishes are designed to be enjoyed in warm weather.\n",
      "*   **Start small:** If you're not used to spicy food, begin with milder peppers like poblano or Anaheim, and gradually increase the heat as your tolerance builds.\n",
      "\n",
      "## Conclusion ✅\n",
      "So, next time the mercury rises, don't shy away from that vibrant, chili-packed dish. Embracing the heat might just be the coolest thing you can do for yourself. It's a delicious tradition, scientifically backed, and a fun way to explore global flavors while staying comfortable. Enjoy the sizzle, and stay cool!\n",
      "\n"
     ]
    }
   ],
   "source": [
    "query = f'''\n",
    "Good job, show the entire article again.\n",
    "'''\n",
    "result = await client.stream(query)"
   ]
  }
 ],
 "metadata": {
  "environment": {
   "kernel": "conda-base-py",
   "name": "workbench-notebooks.m132",
   "type": "gcloud",
   "uri": "us-docker.pkg.dev/deeplearning-platform-release/gcr.io/workbench-notebooks:m132"
  },
  "kernelspec": {
   "display_name": "Python 3 (ipykernel)",
   "language": "python",
   "name": "conda-base-py"
  },
  "language_info": {
   "codemirror_mode": {
    "name": "ipython",
    "version": 3
   },
   "file_extension": ".py",
   "mimetype": "text/x-python",
   "name": "python",
   "nbconvert_exporter": "python",
   "pygments_lexer": "ipython3",
   "version": "3.10.18"
  }
 },
 "nbformat": 4,
 "nbformat_minor": 5
}
